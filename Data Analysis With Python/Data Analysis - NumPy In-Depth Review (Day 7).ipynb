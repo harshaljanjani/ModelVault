{
  "nbformat": 4,
  "nbformat_minor": 0,
  "metadata": {
    "colab": {
      "provenance": [],
      "authorship_tag": "ABX9TyM8oup990nAZX+Ov9jvZKYe",
      "include_colab_link": true
    },
    "kernelspec": {
      "name": "python3",
      "display_name": "Python 3"
    },
    "language_info": {
      "name": "python"
    }
  },
  "cells": [
    {
      "cell_type": "markdown",
      "metadata": {
        "id": "view-in-github",
        "colab_type": "text"
      },
      "source": [
        "<a href=\"https://colab.research.google.com/github/harshaljanjani/everything-ml/blob/main/Data%20Analysis%20With%20Python/Data%20Analysis%20-%20NumPy%20In-Depth%20Review%20(Day%207).ipynb\" target=\"_parent\"><img src=\"https://colab.research.google.com/assets/colab-badge.svg\" alt=\"Open In Colab\"/></a>"
      ]
    },
    {
      "cell_type": "markdown",
      "source": [
        "# **NumPy: Numeric Computing Library**\n",
        "\n",
        "## 1) NumPy: Low-Level Basis, Binary Numbers, Memory Footprint, Why NumPy Provides For Faster Computation Than Vanilla Python"
      ],
      "metadata": {
        "id": "E_n7DVrPBA_9"
      }
    },
    {
      "cell_type": "code",
      "execution_count": 3,
      "metadata": {
        "id": "PXRw13-R6ZYR"
      },
      "outputs": [],
      "source": [
        "import sys\n",
        "import numpy as np"
      ]
    },
    {
      "cell_type": "code",
      "source": [
        "a = np.array([1, 2, 3, 4])\n",
        "b = np.array([0, .5, 1, 1.5, 2])\n",
        "print(a[0], a[1])\n",
        "print(a[0:], a[1:3])\n",
        "print(b[0], b[2], b[-1])\n",
        "print(a[::2])\n",
        "print(b[[0, 2, -1]])"
      ],
      "metadata": {
        "colab": {
          "base_uri": "https://localhost:8080/"
        },
        "id": "SU0_amhkBvU9",
        "outputId": "df314e04-95be-401f-c4e3-93c6568b63da"
      },
      "execution_count": 4,
      "outputs": [
        {
          "output_type": "stream",
          "name": "stdout",
          "text": [
            "1 2\n",
            "[1 2 3 4] [2 3]\n",
            "0.0 1.0 2.0\n",
            "[1 3]\n",
            "[0. 1. 2.]\n"
          ]
        }
      ]
    },
    {
      "cell_type": "code",
      "source": [
        "A = np.array([\n",
        "    [1, 2, 3],\n",
        "    [4, 5, 6]\n",
        "])\n",
        "print(A.shape, A.ndim)\n",
        "print(A.size)\n",
        "print(A[0,2]) # Multi-Indexing"
      ],
      "metadata": {
        "colab": {
          "base_uri": "https://localhost:8080/"
        },
        "id": "P5om4fNmCGrx",
        "outputId": "96c5c8ea-0bd4-45ae-fe6e-181ff0435032"
      },
      "execution_count": 5,
      "outputs": [
        {
          "output_type": "stream",
          "name": "stdout",
          "text": [
            "(2, 3) 2\n",
            "6\n",
            "3\n"
          ]
        }
      ]
    },
    {
      "cell_type": "code",
      "source": [
        "# Three-Dimensional Array -> List Of List Of Lists\n",
        "B = np.array([\n",
        "    [[12, 11, 10],\n",
        "     [9, 8, 7]],\n",
        "    [[6, 5, 4],\n",
        "     [3, 2, 1]]\n",
        "    ])\n",
        "print(B.shape)\n",
        "print(B.ndim, B.size)"
      ],
      "metadata": {
        "colab": {
          "base_uri": "https://localhost:8080/"
        },
        "id": "7oY2AJQJClR9",
        "outputId": "677cad00-bd68-4ed9-93a0-2332c343cb92"
      },
      "execution_count": 6,
      "outputs": [
        {
          "output_type": "stream",
          "name": "stdout",
          "text": [
            "(2, 2, 3)\n",
            "3 12\n"
          ]
        }
      ]
    },
    {
      "cell_type": "code",
      "source": [
        "print(np.array([1, 2, 3, 4], dtype=np.float64))\n",
        "print(np.array([1, 2, 3, 4], dtype=np.int8))\n",
        "c = np.array(['a', 'b', 'c'])\n",
        "d = np.array([{'a': 1}, sys])\n",
        "print(d.dtype) \n",
        "print(c.dtype)\n",
        "\n",
        "# If The Shape Isn't Consistent, It Will Just Fall Back To Regular Python Objects\n",
        "C = np.array([\n",
        "    [[12, 11, 10],\n",
        "     [9, 8, 7]],\n",
        "    [[6, 5, 4]]\n",
        "], dtype = object)\n",
        "print(C.dtype, type(C))\n",
        "print(C.shape, C.size)\n",
        "print(type(C[0]))"
      ],
      "metadata": {
        "colab": {
          "base_uri": "https://localhost:8080/"
        },
        "id": "ci5ykiRCC2oN",
        "outputId": "7906ff0c-3bb0-4f52-ca24-ecf9dfbe694e"
      },
      "execution_count": 7,
      "outputs": [
        {
          "output_type": "stream",
          "name": "stdout",
          "text": [
            "[1. 2. 3. 4.]\n",
            "[1 2 3 4]\n",
            "object\n",
            "<U1\n",
            "object <class 'numpy.ndarray'>\n",
            "(2,) 2\n",
            "<class 'list'>\n"
          ]
        }
      ]
    },
    {
      "cell_type": "markdown",
      "source": [
        "## **Indexing and Slicing of N-Dimensional Matrices**"
      ],
      "metadata": {
        "id": "FfGyED17Ea6L"
      }
    },
    {
      "cell_type": "code",
      "source": [
        "# Square Matrix\n",
        "A = np.array([\n",
        "#    0. 1. 2\n",
        "    [1, 2, 3], # 0\n",
        "    [4, 5, 6], # 1\n",
        "    [7, 8, 9]  # 2\n",
        "])\n",
        "print(A[1, 0], A[0:2])\n",
        "print(A[:, :2], A[:2, :2])\n",
        "print(A[:2, 2:])\n",
        "# Element Re-Assignment\n",
        "A[1] = np.array([10, 10, 10])\n",
        "A[2] = 99 # All Elements Of Row 3 Are Assigned To 99\n",
        "print(A)"
      ],
      "metadata": {
        "colab": {
          "base_uri": "https://localhost:8080/"
        },
        "id": "4iyA2l3dF_qy",
        "outputId": "370841f3-edd9-4bf4-836c-92e035687e48"
      },
      "execution_count": 8,
      "outputs": [
        {
          "output_type": "stream",
          "name": "stdout",
          "text": [
            "4 [[1 2 3]\n",
            " [4 5 6]]\n",
            "[[1 2]\n",
            " [4 5]\n",
            " [7 8]] [[1 2]\n",
            " [4 5]]\n",
            "[[3]\n",
            " [6]]\n",
            "[[ 1  2  3]\n",
            " [10 10 10]\n",
            " [99 99 99]]\n"
          ]
        }
      ]
    },
    {
      "cell_type": "markdown",
      "source": [
        "## **Summary Statistical Observations**"
      ],
      "metadata": {
        "id": "wMJ7ViClMG__"
      }
    },
    {
      "cell_type": "code",
      "source": [
        "# One-Dimensional Array\n",
        "a = np.array([1, 2, 3, 4])\n",
        "print(a.sum())\n",
        "print(a.mean())\n",
        "print(a.std()) #stdev\n",
        "print(a.var()) #variance\n",
        "# Two-Dimensional Array\n",
        "A = np.array([\n",
        "    [1, 2, 3],\n",
        "    [4, 5, 6],\n",
        "    [7, 8, 9]\n",
        "])\n",
        "# Axis 0 Elements Example = [1,4,7] (Columns)\n",
        "# Axis 1 Elements Example = [1,2,3] (Rows)\n",
        "# Sum, Mean And Variance Across Columns and Rows\n",
        "print(A.sum(axis=0))\n",
        "print(A.sum(axis=1))\n",
        "print(A.mean(axis=0))\n",
        "print(A.mean(axis=1))\n",
        "print(A.std(axis=1))\n",
        "print(A.std(axis=0))"
      ],
      "metadata": {
        "colab": {
          "base_uri": "https://localhost:8080/"
        },
        "id": "1t9Zvkd9MR43",
        "outputId": "efd2228a-f53e-4211-f8c5-46804db022e2"
      },
      "execution_count": 9,
      "outputs": [
        {
          "output_type": "stream",
          "name": "stdout",
          "text": [
            "10\n",
            "2.5\n",
            "1.118033988749895\n",
            "1.25\n",
            "[12 15 18]\n",
            "[ 6 15 24]\n",
            "[4. 5. 6.]\n",
            "[2. 5. 8.]\n",
            "[0.81649658 0.81649658 0.81649658]\n",
            "[2.44948974 2.44948974 2.44948974]\n"
          ]
        }
      ]
    },
    {
      "cell_type": "markdown",
      "source": [
        "## **Broadcasting And Vectorized Operations (Self-Reminder: Extensively Used To Modify / Perform Arithmetic Operations On Boolean Arrays)**\n",
        "\n",
        "The term `broadcasting` describes how `NumPy` treats arrays with different shapes during arithmetic operations. Subject to certain constraints, the smaller array is `“broadcast”` across the larger array so that they have compatible shapes. Broadcasting provides a means of vectorizing array operations so that looping occurs in `C` instead of `Python`. It does this without making needless copies of data and usually leads to efficient algorithm implementations. There are, however, cases where broadcasting is a bad idea because it leads to `inefficient use of memory that slows computation`.\n",
        "\n",
        "**Source:** https://numpy.org/doc/stable/user/basics.broadcasting.html"
      ],
      "metadata": {
        "id": "tjKcNtG2NZ2G"
      }
    },
    {
      "cell_type": "code",
      "source": [
        "a = np.arange(4); # Typically useful function when dealing with array creation routines based on numerical ranges.\n",
        "print(a*10, a+10)\n",
        "a += 10\n",
        "print(a)\n",
        "a *= 10\n",
        "print(a, \"\\n\")\n",
        "\n",
        "# Element Wise Operations On Two Arrays\n",
        "b = np.array([10, 10, 10, 10])\n",
        "print(a + b)\n",
        "print(a * b)"
      ],
      "metadata": {
        "colab": {
          "base_uri": "https://localhost:8080/"
        },
        "id": "qsLnW1y0OV92",
        "outputId": "aab78cc3-a952-4287-9262-179eee71cdc2"
      },
      "execution_count": 10,
      "outputs": [
        {
          "output_type": "stream",
          "name": "stdout",
          "text": [
            "[ 0 10 20 30] [10 11 12 13]\n",
            "[10 11 12 13]\n",
            "[100 110 120 130] \n",
            "\n",
            "[110 120 130 140]\n",
            "[1000 1100 1200 1300]\n"
          ]
        }
      ]
    },
    {
      "cell_type": "markdown",
      "source": [
        "## **Boolean Arrays (Also Called Masks): Result Of Broadcasting Boolean Operations**"
      ],
      "metadata": {
        "id": "rktDqf0iQPP0"
      }
    },
    {
      "cell_type": "code",
      "source": [
        "a = np.arange(4)\n",
        "print(a)"
      ],
      "metadata": {
        "colab": {
          "base_uri": "https://localhost:8080/"
        },
        "id": "2xwiQmL_QcpF",
        "outputId": "cf4ac814-8c1c-4471-b997-2810efb7c96d"
      },
      "execution_count": 11,
      "outputs": [
        {
          "output_type": "stream",
          "name": "stdout",
          "text": [
            "[0 1 2 3]\n"
          ]
        }
      ]
    },
    {
      "cell_type": "code",
      "source": [
        "print(a[0], a[-1])\n",
        "print(a[[0, -1]])"
      ],
      "metadata": {
        "colab": {
          "base_uri": "https://localhost:8080/"
        },
        "id": "w7-npWdxQhhd",
        "outputId": "ce082e53-e3a5-48ce-c54d-e4b044baa07c"
      },
      "execution_count": 12,
      "outputs": [
        {
          "output_type": "stream",
          "name": "stdout",
          "text": [
            "0 3\n",
            "[0 3]\n"
          ]
        }
      ]
    },
    {
      "cell_type": "code",
      "source": [
        "a[[True, False, False, True]] # Selection Of Elements Based On Truth Values Of The Filter/Mask Array\n",
        "# Self-Reminder: Relate This Concept To Subnet Masks In Networking For IPV4 Addresses"
      ],
      "metadata": {
        "colab": {
          "base_uri": "https://localhost:8080/"
        },
        "id": "RteETGZfQuAP",
        "outputId": "ef08b78c-d2cc-4a76-dc8a-6a4075bc4601"
      },
      "execution_count": 13,
      "outputs": [
        {
          "output_type": "execute_result",
          "data": {
            "text/plain": [
              "array([0, 3])"
            ]
          },
          "metadata": {},
          "execution_count": 13
        }
      ]
    },
    {
      "cell_type": "code",
      "source": [
        "a >= 2 #Return Value Is A Mask"
      ],
      "metadata": {
        "colab": {
          "base_uri": "https://localhost:8080/"
        },
        "id": "f9V1b3UdRY5V",
        "outputId": "2ed212df-acdc-4ce8-9880-2ffcc90d54b8"
      },
      "execution_count": 14,
      "outputs": [
        {
          "output_type": "execute_result",
          "data": {
            "text/plain": [
              "array([False, False,  True,  True])"
            ]
          },
          "metadata": {},
          "execution_count": 14
        }
      ]
    },
    {
      "cell_type": "code",
      "source": [
        "#F ilter Elements Based On Conditions\n",
        "B = a[a > a.mean()]\n",
        "C = a[~(a > a.mean())]\n",
        "# Array 'C' Is The Negation Of Array 'B'\n",
        "print(B,C)\n",
        "# Examples Of Filtering Data Using Bit-Wise Operators\n",
        "print(a[(a == 0) | (a == 1)])\n",
        "print(a[(a <= 2) & (a % 2 == 0)])"
      ],
      "metadata": {
        "colab": {
          "base_uri": "https://localhost:8080/"
        },
        "id": "pz3R_cplRc47",
        "outputId": "9c4d636f-00e3-4dc0-ab5a-b8ba6a8d44d8"
      },
      "execution_count": 15,
      "outputs": [
        {
          "output_type": "stream",
          "name": "stdout",
          "text": [
            "[2 3] [0 1]\n",
            "[0 1]\n",
            "[0 2]\n"
          ]
        }
      ]
    },
    {
      "cell_type": "code",
      "source": [
        "A = np.random.randint(100, size=(3, 3))"
      ],
      "metadata": {
        "id": "YDx-mpg_SJVw"
      },
      "execution_count": 16,
      "outputs": []
    },
    {
      "cell_type": "code",
      "source": [
        "print(A)\n",
        "A[np.array([\n",
        "    [True, False, True],\n",
        "    [False, True, False],\n",
        "    [True, False, True]\n",
        "])] # Not Scalable Approach"
      ],
      "metadata": {
        "colab": {
          "base_uri": "https://localhost:8080/"
        },
        "id": "1AO_vRE_SLpE",
        "outputId": "0bf84710-870e-4147-f658-587fb0ea20a4"
      },
      "execution_count": 18,
      "outputs": [
        {
          "output_type": "stream",
          "name": "stdout",
          "text": [
            "[[88 37 78]\n",
            " [67 65 25]\n",
            " [42 65 26]]\n"
          ]
        },
        {
          "output_type": "execute_result",
          "data": {
            "text/plain": [
              "array([88, 78, 65, 42, 26])"
            ]
          },
          "metadata": {},
          "execution_count": 18
        }
      ]
    },
    {
      "cell_type": "code",
      "source": [
        "# Scalable Approaches\n",
        "print(A > 30) # Returns Mask Array Of Arrays\n",
        "print(A[A > 30]) # Returns Filtered Array Based On The Mask/Condition "
      ],
      "metadata": {
        "colab": {
          "base_uri": "https://localhost:8080/"
        },
        "id": "ae6nyN1m1LkM",
        "outputId": "63d97f54-8708-4b64-aa8e-28ef92022260"
      },
      "execution_count": 19,
      "outputs": [
        {
          "output_type": "stream",
          "name": "stdout",
          "text": [
            "[[ True  True  True]\n",
            " [ True  True False]\n",
            " [ True  True False]]\n",
            "[88 37 78 67 65 42 65]\n"
          ]
        }
      ]
    },
    {
      "cell_type": "markdown",
      "source": [
        "## **Linear Algebra** "
      ],
      "metadata": {
        "id": "Xa_mGXVw1Qxt"
      }
    },
    {
      "cell_type": "code",
      "source": [
        "A = np.array([\n",
        "    [1, 2, 3],\n",
        "    [4, 5, 6],\n",
        "    [7, 8, 9]\n",
        "])\n",
        "B = np.array([\n",
        "    [6, 5],\n",
        "    [4, 3],\n",
        "    [2, 1]\n",
        "])"
      ],
      "metadata": {
        "id": "j9g1zGEn18Rs"
      },
      "execution_count": 20,
      "outputs": []
    },
    {
      "cell_type": "code",
      "source": [
        "print(A.dot(B)) # Dot Product\n",
        "print(A @ B) # Dot Product / Matrix Multiplication \n",
        "print(B.T) # B Transpose\n",
        "print(B.T @ A) # B^T * A"
      ],
      "metadata": {
        "colab": {
          "base_uri": "https://localhost:8080/"
        },
        "id": "5zaFvDa52mlD",
        "outputId": "e6a0d242-f446-4503-c1af-71afef7ba5a4"
      },
      "execution_count": 21,
      "outputs": [
        {
          "output_type": "stream",
          "name": "stdout",
          "text": [
            "[[20 14]\n",
            " [56 41]\n",
            " [92 68]]\n",
            "[[20 14]\n",
            " [56 41]\n",
            " [92 68]]\n",
            "[[6 4 2]\n",
            " [5 3 1]]\n",
            "[[36 48 60]\n",
            " [24 33 42]]\n"
          ]
        }
      ]
    },
    {
      "cell_type": "markdown",
      "source": [
        "## **Size Of Objects In Memory**"
      ],
      "metadata": {
        "id": "q1TFmxHb3Ctq"
      }
    },
    {
      "cell_type": "code",
      "source": [
        "# An Integer In Python Is -> 24/28 Bytes\n",
        "print(sys.getsizeof(1))\n",
        "# A Long Integer In Python Is -> 72 Bytes\n",
        "print(sys.getsizeof(10**100), \"\\n\")\n",
        "# Numpy Integer Size Is Much Smaller\n",
        "print(np.dtype(int).itemsize)\n",
        "print(np.dtype(np.int8).itemsize)\n",
        "print(np.dtype(float).itemsize, \"\\n\")\n",
        "# Size Of Lists\n",
        "print(np.array([1]).nbytes) # An Array Of One Element In NumPy\n",
        "print(sys.getsizeof([1])) # One Element List"
      ],
      "metadata": {
        "colab": {
          "base_uri": "https://localhost:8080/"
        },
        "id": "7kfDrtrZ3ILC",
        "outputId": "3a582a85-26ab-4ce6-a4e7-beacb01fc337"
      },
      "execution_count": 24,
      "outputs": [
        {
          "output_type": "stream",
          "name": "stdout",
          "text": [
            "28\n",
            "72 \n",
            "\n",
            "8\n",
            "1\n",
            "8 \n",
            "\n",
            "8\n",
            "64\n"
          ]
        }
      ]
    },
    {
      "cell_type": "markdown",
      "source": [
        "## **Performance Testing / Time Complexity Analysis**"
      ],
      "metadata": {
        "id": "YZHg4UgY4CQc"
      }
    },
    {
      "cell_type": "code",
      "source": [
        "# Sum Of First 100000 Numbers\n",
        "l = list(range(100000))\n",
        "a = np.arange(100000)\n",
        "%time np.sum(a ** 2) # Operation In NumPy \n",
        "print(\"\\n\")\n",
        "%time sum([x ** 2 for x in l]) # Same Operation In Vanilla Python"
      ],
      "metadata": {
        "colab": {
          "base_uri": "https://localhost:8080/"
        },
        "id": "_8yjmiER4H7r",
        "outputId": "f7922f21-1ffd-4872-eb6d-92e9a5133754"
      },
      "execution_count": 35,
      "outputs": [
        {
          "output_type": "stream",
          "name": "stdout",
          "text": [
            "CPU times: user 427 µs, sys: 52 µs, total: 479 µs\n",
            "Wall time: 490 µs\n",
            "\n",
            "\n",
            "CPU times: user 27.8 ms, sys: 2.92 ms, total: 30.7 ms\n",
            "Wall time: 30.7 ms\n"
          ]
        },
        {
          "output_type": "execute_result",
          "data": {
            "text/plain": [
              "333328333350000"
            ]
          },
          "metadata": {},
          "execution_count": 35
        }
      ]
    },
    {
      "cell_type": "markdown",
      "source": [
        "## **NumPy Useful Functions List**"
      ],
      "metadata": {
        "id": "AG1dDG6X4ppT"
      }
    },
    {
      "cell_type": "code",
      "source": [
        "# random()\n",
        "print(np.random.random(size=2)*100) # * 100 To Generate Numbers Between 0 to 100\n",
        "print(np.random.normal(size=2))\n",
        "print(np.random.rand(2, 4)*100)"
      ],
      "metadata": {
        "colab": {
          "base_uri": "https://localhost:8080/"
        },
        "id": "Z3qgM8QA4uNT",
        "outputId": "38ea0fd9-5b68-4a0b-c298-2f565369f6e7"
      },
      "execution_count": 33,
      "outputs": [
        {
          "output_type": "stream",
          "name": "stdout",
          "text": [
            "[85.04515568  9.1475516 ]\n",
            "[1.37762927 1.82919128]\n",
            "[[62.14021412 23.22574133 77.29187455  8.94887569]\n",
            " [96.42623402 34.12753564 10.3169958  82.97871463]]\n"
          ]
        }
      ]
    },
    {
      "cell_type": "code",
      "source": [
        "# arange()\n",
        "print(np.arange(10))\n",
        "print(np.arange(5, 10))\n",
        "print(np.arange(0, 1, .1))"
      ],
      "metadata": {
        "colab": {
          "base_uri": "https://localhost:8080/"
        },
        "id": "ztj8xfeE5CfM",
        "outputId": "3277e73a-30f6-4224-d485-8eb6b178f75b"
      },
      "execution_count": 34,
      "outputs": [
        {
          "output_type": "stream",
          "name": "stdout",
          "text": [
            "[0 1 2 3 4 5 6 7 8 9]\n",
            "[5 6 7 8 9]\n",
            "[0.  0.1 0.2 0.3 0.4 0.5 0.6 0.7 0.8 0.9]\n"
          ]
        }
      ]
    },
    {
      "cell_type": "code",
      "source": [
        "# reshape\n",
        "print(np.arange(10).reshape(2, 5))\n",
        "print(np.arange(10).reshape(5, 2))"
      ],
      "metadata": {
        "colab": {
          "base_uri": "https://localhost:8080/"
        },
        "id": "goypi0ge6F6-",
        "outputId": "c191afd1-9a1c-4d54-e415-b1cf82727cf8"
      },
      "execution_count": 36,
      "outputs": [
        {
          "output_type": "stream",
          "name": "stdout",
          "text": [
            "[[0 1 2 3 4]\n",
            " [5 6 7 8 9]]\n",
            "[[0 1]\n",
            " [2 3]\n",
            " [4 5]\n",
            " [6 7]\n",
            " [8 9]]\n"
          ]
        }
      ]
    },
    {
      "cell_type": "markdown",
      "source": [
        "## **linspace()** `endpoint:` `bool, optional`\n",
        "If `True`, `stop` is the last sample. Otherwise, it is not included. Default value is `True`."
      ],
      "metadata": {
        "id": "b9O1-VTM6_fR"
      }
    },
    {
      "cell_type": "code",
      "source": [
        "# linspace()\n",
        "print(np.linspace(0, 1, 5)) # endpoint = True (by Default)\n",
        "print(np.linspace(0, 1, 20)) # endpoint = True (by Default)\n",
        "print(np.linspace(0, 1, 20, False)) # endpoint = False"
      ],
      "metadata": {
        "colab": {
          "base_uri": "https://localhost:8080/"
        },
        "id": "QMXj7qF_6YSA",
        "outputId": "fbf6b745-958f-4a42-e531-def837e3900d"
      },
      "execution_count": 38,
      "outputs": [
        {
          "output_type": "stream",
          "name": "stdout",
          "text": [
            "[0.   0.25 0.5  0.75 1.  ]\n",
            "[0.         0.05263158 0.10526316 0.15789474 0.21052632 0.26315789\n",
            " 0.31578947 0.36842105 0.42105263 0.47368421 0.52631579 0.57894737\n",
            " 0.63157895 0.68421053 0.73684211 0.78947368 0.84210526 0.89473684\n",
            " 0.94736842 1.        ]\n",
            "[0.   0.05 0.1  0.15 0.2  0.25 0.3  0.35 0.4  0.45 0.5  0.55 0.6  0.65\n",
            " 0.7  0.75 0.8  0.85 0.9  0.95]\n"
          ]
        }
      ]
    },
    {
      "cell_type": "code",
      "source": [
        "# zeroes(), ones() and empty()\n",
        "print(np.zeros(5))\n",
        "print(np.zeros((3, 3)))\n",
        "print(np.zeros((3, 3), dtype=np.int8))\n",
        "print(np.ones(5))\n",
        "print(np.ones((3, 3)))\n",
        "print(np.empty(5))\n",
        "print(np.empty((2, 2)))"
      ],
      "metadata": {
        "colab": {
          "base_uri": "https://localhost:8080/"
        },
        "id": "6mU8BVk67q4v",
        "outputId": "e3bba498-78f6-45d8-97e8-793f2a3a9c28"
      },
      "execution_count": 43,
      "outputs": [
        {
          "output_type": "stream",
          "name": "stdout",
          "text": [
            "[0. 0. 0. 0. 0.]\n",
            "[[0. 0. 0.]\n",
            " [0. 0. 0.]\n",
            " [0. 0. 0.]]\n",
            "[[0 0 0]\n",
            " [0 0 0]\n",
            " [0 0 0]]\n",
            "[1. 1. 1. 1. 1.]\n",
            "[[1. 1. 1.]\n",
            " [1. 1. 1.]\n",
            " [1. 1. 1.]]\n",
            "[1. 1. 1. 1. 1.]\n",
            "[[0.25 0.5 ]\n",
            " [0.75 1.  ]]\n"
          ]
        }
      ]
    },
    {
      "cell_type": "markdown",
      "source": [
        "## **identity() and eye():** `k(offset):` `int, optional`\n",
        "Index of the diagonal: `0` (the default) refers to the main diagonal, a `positive value` refers to an `upper diagonal`, and a `negative value` to a `lower diagonal`."
      ],
      "metadata": {
        "id": "ORKMx0Xf82BR"
      }
    },
    {
      "cell_type": "code",
      "source": [
        "# identity() and eye()\n",
        "print(np.identity(3))\n",
        "print(np.eye(3, 3))\n",
        "print(np.eye(8, 4))\n",
        "print(np.eye(8, 4, k = 1)) \n",
        "print(np.eye(8, 4, k = -3))"
      ],
      "metadata": {
        "colab": {
          "base_uri": "https://localhost:8080/"
        },
        "id": "Dce6yMWj8Pm7",
        "outputId": "6bd475f2-3ce8-4bf0-e282-219e8987a0f0"
      },
      "execution_count": 48,
      "outputs": [
        {
          "output_type": "stream",
          "name": "stdout",
          "text": [
            "[[1. 0. 0.]\n",
            " [0. 1. 0.]\n",
            " [0. 0. 1.]]\n",
            "[[1. 0. 0.]\n",
            " [0. 1. 0.]\n",
            " [0. 0. 1.]]\n",
            "[[1. 0. 0. 0.]\n",
            " [0. 1. 0. 0.]\n",
            " [0. 0. 1. 0.]\n",
            " [0. 0. 0. 1.]\n",
            " [0. 0. 0. 0.]\n",
            " [0. 0. 0. 0.]\n",
            " [0. 0. 0. 0.]\n",
            " [0. 0. 0. 0.]]\n",
            "[[0. 1. 0. 0.]\n",
            " [0. 0. 1. 0.]\n",
            " [0. 0. 0. 1.]\n",
            " [0. 0. 0. 0.]\n",
            " [0. 0. 0. 0.]\n",
            " [0. 0. 0. 0.]\n",
            " [0. 0. 0. 0.]\n",
            " [0. 0. 0. 0.]]\n",
            "[[0. 0. 0. 0.]\n",
            " [0. 0. 0. 0.]\n",
            " [0. 0. 0. 0.]\n",
            " [1. 0. 0. 0.]\n",
            " [0. 1. 0. 0.]\n",
            " [0. 0. 1. 0.]\n",
            " [0. 0. 0. 1.]\n",
            " [0. 0. 0. 0.]]\n"
          ]
        }
      ]
    }
  ]
}