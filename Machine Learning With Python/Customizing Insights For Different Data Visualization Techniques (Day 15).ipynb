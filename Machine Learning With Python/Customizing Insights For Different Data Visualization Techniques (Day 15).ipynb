{
  "nbformat": 4,
  "nbformat_minor": 0,
  "metadata": {
    "colab": {
      "provenance": [],
      "toc_visible": true
    },
    "kernelspec": {
      "name": "python3",
      "display_name": "Python 3"
    },
    "language_info": {
      "name": "python"
    }
  },
  "cells": [
    {
      "cell_type": "markdown",
      "source": [
        "# **Project 1: Prompt Engineering With OpenAI: Customizing Insights For Different Data Visualization Techniques**\n",
        "# **Project 2: Automating The Data Aggregation Process by using LLMs**\n",
        "---\n",
        "**Intern Name:** Harshal Janjani\n",
        "\n",
        "**Date:** 9th August 2023\n",
        "\n",
        "**Time:** 12:00 PM - 4:30 PM"
      ],
      "metadata": {
        "id": "kgcBU5ZO-q8m"
      }
    },
    {
      "cell_type": "markdown",
      "source": [
        "# **1. Data Preparation**"
      ],
      "metadata": {
        "id": "g1OwW9QC5-qm"
      }
    },
    {
      "cell_type": "markdown",
      "source": [
        "## **1.1. Importing Required Libraries**"
      ],
      "metadata": {
        "id": "626Ot5pt6UUL"
      }
    },
    {
      "cell_type": "code",
      "execution_count": null,
      "metadata": {
        "colab": {
          "base_uri": "https://localhost:8080/"
        },
        "id": "671YRj-IsJwf",
        "outputId": "d89471f9-4001-4f65-dcfc-20cc15001fc8"
      },
      "outputs": [
        {
          "output_type": "stream",
          "name": "stdout",
          "text": [
            "Collecting openai\n",
            "  Downloading openai-0.27.8-py3-none-any.whl (73 kB)\n",
            "\u001b[?25l     \u001b[90m━━━━━━━━━━━━━━━━━━━━━━━━━━━━━━━━━━━━━━━━\u001b[0m \u001b[32m0.0/73.6 kB\u001b[0m \u001b[31m?\u001b[0m eta \u001b[36m-:--:--\u001b[0m\r\u001b[2K     \u001b[91m━━━━━━━━━━━━━━━━━━━━━━━━━━━━━━━━━\u001b[0m\u001b[90m╺\u001b[0m\u001b[90m━━━━━━\u001b[0m \u001b[32m61.4/73.6 kB\u001b[0m \u001b[31m1.6 MB/s\u001b[0m eta \u001b[36m0:00:01\u001b[0m\r\u001b[2K     \u001b[90m━━━━━━━━━━━━━━━━━━━━━━━━━━━━━━━━━━━━━━━━\u001b[0m \u001b[32m73.6/73.6 kB\u001b[0m \u001b[31m1.1 MB/s\u001b[0m eta \u001b[36m0:00:00\u001b[0m\n",
            "\u001b[?25hRequirement already satisfied: requests>=2.20 in /usr/local/lib/python3.10/dist-packages (from openai) (2.31.0)\n",
            "Requirement already satisfied: tqdm in /usr/local/lib/python3.10/dist-packages (from openai) (4.65.0)\n",
            "Requirement already satisfied: aiohttp in /usr/local/lib/python3.10/dist-packages (from openai) (3.8.5)\n",
            "Requirement already satisfied: charset-normalizer<4,>=2 in /usr/local/lib/python3.10/dist-packages (from requests>=2.20->openai) (3.2.0)\n",
            "Requirement already satisfied: idna<4,>=2.5 in /usr/local/lib/python3.10/dist-packages (from requests>=2.20->openai) (3.4)\n",
            "Requirement already satisfied: urllib3<3,>=1.21.1 in /usr/local/lib/python3.10/dist-packages (from requests>=2.20->openai) (1.26.16)\n",
            "Requirement already satisfied: certifi>=2017.4.17 in /usr/local/lib/python3.10/dist-packages (from requests>=2.20->openai) (2023.7.22)\n",
            "Requirement already satisfied: attrs>=17.3.0 in /usr/local/lib/python3.10/dist-packages (from aiohttp->openai) (23.1.0)\n",
            "Requirement already satisfied: multidict<7.0,>=4.5 in /usr/local/lib/python3.10/dist-packages (from aiohttp->openai) (6.0.4)\n",
            "Requirement already satisfied: async-timeout<5.0,>=4.0.0a3 in /usr/local/lib/python3.10/dist-packages (from aiohttp->openai) (4.0.2)\n",
            "Requirement already satisfied: yarl<2.0,>=1.0 in /usr/local/lib/python3.10/dist-packages (from aiohttp->openai) (1.9.2)\n",
            "Requirement already satisfied: frozenlist>=1.1.1 in /usr/local/lib/python3.10/dist-packages (from aiohttp->openai) (1.4.0)\n",
            "Requirement already satisfied: aiosignal>=1.1.2 in /usr/local/lib/python3.10/dist-packages (from aiohttp->openai) (1.3.1)\n",
            "Installing collected packages: openai\n",
            "Successfully installed openai-0.27.8\n"
          ]
        }
      ],
      "source": [
        "!pip3 install openai"
      ]
    },
    {
      "cell_type": "markdown",
      "source": [
        "## **1.2. DISCLAIMER: Replace With Your Own API Key**"
      ],
      "metadata": {
        "id": "zqbKM_pZ6a59"
      }
    },
    {
      "cell_type": "code",
      "source": [
        "import openai\n",
        "import re\n",
        "# to increase security: add to ENV variables\n",
        "# import os\n",
        "# from dotenv import load_dotenv, find_dotenv\n",
        "# _ = load_dotenv(find_dotenv())\n",
        "# openai.api_key = os.get_env('OPENAI_API_KEY')\n",
        "openai.api_key = 'sk-*****************' # replace with your own OpenAI key"
      ],
      "metadata": {
        "id": "GhMxUM_Asm6C"
      },
      "execution_count": null,
      "outputs": []
    },
    {
      "cell_type": "markdown",
      "source": [
        "## **1.3. Response Wrapper Function (Specific to the \"gpt-turbo-3.5\" model)**"
      ],
      "metadata": {
        "id": "bzGRjJkr6Ltb"
      }
    },
    {
      "cell_type": "code",
      "source": [
        "# helper function (wrapper function for the response)\n",
        "def get_completion(prompt, model='gpt-3.5-turbo'):\n",
        "  messages = [{\"role\":\"user\", \"content\":prompt}]\n",
        "  response = openai.ChatCompletion.create(\n",
        "      model = model,\n",
        "      messages = messages,\n",
        "      temperature = 0, # this is the degree of randomness of the model's output\n",
        "  )\n",
        "  return response.choices[0].message[\"content\"]"
      ],
      "metadata": {
        "id": "Ro3XRdJ0svTo"
      },
      "execution_count": null,
      "outputs": []
    },
    {
      "cell_type": "markdown",
      "source": [
        "# **2. Automating The Aggregation Process**\n",
        "\n",
        "Example of the response given by ChatGPT is as follows:\n",
        "\n",
        "I understand your request. Based on your description, I will aggregate the given dataset against the \"Pclass\" feature. I'll automatically select the appropriate aggregation function, apply any necessary filtering and conditions, and handle missing data. Here is the **aggregated dataset** in CSV format:\n",
        "\n",
        "Pclass,Average_Age,Total_Survived\n",
        "1,38.5,4\n",
        "2,36.333333333333336,2\n",
        "3,24.88888888888889,3\"\n",
        "\n",
        "**Our task is to remove unnecessary data, and retain only the dataset in .csv format**"
      ],
      "metadata": {
        "id": "sOUUpl2K13Em"
      }
    },
    {
      "cell_type": "markdown",
      "source": [
        "## **2.1. Utility Parser 1 (Parses The Received Response To Retrieve Only The Aggregated CSV Dataset)**"
      ],
      "metadata": {
        "id": "_F9pUlqn4LN-"
      }
    },
    {
      "cell_type": "code",
      "source": [
        "def chatgpt_response_parser_for_aggregation(response):\n",
        "  # Split the response by newline character\n",
        "  response_lines = response.split('\\n')\n",
        "  # Initialize a flag to indicate whether the CSV dataset has started\n",
        "  csv_started = False\n",
        "  # Initialize an empty list to store the CSV lines\n",
        "  csv_lines = []\n",
        "  # Iterate through each line in the response\n",
        "  for line in response_lines:\n",
        "      if csv_started:\n",
        "          csv_lines.append(line)\n",
        "      elif line.strip() == \"Pclass,Average_Age,Total_Survived\":\n",
        "          csv_started = True\n",
        "  # Join the CSV lines to form the complete CSV dataset\n",
        "  csv_dataset = '\\n'.join(csv_lines)\n",
        "  return csv_dataset"
      ],
      "metadata": {
        "id": "4pRrSOSb18Fw"
      },
      "execution_count": null,
      "outputs": []
    },
    {
      "cell_type": "markdown",
      "source": [
        "## **2.2. Defining The Aggregation Function (Takes Two Inputs, The Original Unaggregated Dataset, And The Column To Aggregate Against)**"
      ],
      "metadata": {
        "id": "VBJEoB0T3KTQ"
      }
    },
    {
      "cell_type": "code",
      "source": [
        "def aggr_generator(csv_dataset, feature):\n",
        "  # passing it through the aggregated parser before sending it as input to the menu-driven microservice\n",
        "  prompt = f\"\"\"I have a comma delimited dataset, delimited by triple backticks.\n",
        "Perform one-hot encoding on the categorical variables.\n",
        "Next, I want you to perform feature selection on it, and calculate the mutual information of each field.\n",
        "I do not want you to give me code, or how you performed the calculations, or the steps involved.\n",
        "Your task is to aggregate the given dataset against the feature \"{feature}\", and give back the aggregated dataset in csv format.\n",
        "Follow the given steps to the tee:\n",
        "Automatically select the following parameters to perform the aggregation on the dataset, according to what provides for the broadest insight generation and data visualization:\n",
        "1) Aggregation Function\n",
        "2) Filtering And Conditions\n",
        "3) Missing Data Handling\n",
        "Dataset is as follows:\n",
        "{csv_dataset}\"\"\"\n",
        "  # debugging purposes\n",
        "  print(\"The generated prompt is as follows:\\n\")\n",
        "  print(prompt)\n",
        "  # uncomment these lines when the API key becomes available ->->\n",
        "  # final prompt sent to the model (commented for now, in absence of an API key that is not rate limited)\n",
        "  result = get_completion(prompt)\n",
        "  final_dataset = chatgpt_response_parser_for_aggregation(result)\n",
        "  return final_dataset"
      ],
      "metadata": {
        "id": "20KdgGbA2qHW"
      },
      "execution_count": null,
      "outputs": []
    },
    {
      "cell_type": "markdown",
      "source": [
        "## **2.3. Utility Parser 2 (Parses The Received Response Into A JSON Object)**"
      ],
      "metadata": {
        "id": "UVnZ3Wdyp3UF"
      }
    },
    {
      "cell_type": "code",
      "source": [
        "import json\n",
        "def chatgpt_response_parser_for_JSON(input_data):\n",
        "  insights = {}\n",
        "  pattern = re.compile(r'Insight \\d+: .+?(\\n\\n|$)', re.DOTALL)\n",
        "  matches = pattern.findall(input_data)\n",
        "  for match in matches:\n",
        "      lines = match.strip().split('\\n')\n",
        "      title = lines[0]\n",
        "      description = '\\n'.join(lines[1:])\n",
        "      insights[title] = description\n",
        "  # Store insights in a JSON file\n",
        "  with open('insights.json', 'w') as json_file:\n",
        "      json.dump(insights, json_file, indent=4)\n",
        "  return insights"
      ],
      "metadata": {
        "id": "KL2_FCcop3nT"
      },
      "execution_count": null,
      "outputs": []
    },
    {
      "cell_type": "markdown",
      "source": [
        "## **3.1. Driver Function Definition**\n",
        "\n",
        "### **3.1.1. Exemplar Inputs Are As Follows:**\n",
        "\n",
        "Enter a comma delimited dataset:\n",
        "\n",
        "PassengerId,Pclass,Name,Sex,Age,SibSp,Parch,Ticket,Fare,Cabin,Embarked,Survived\n",
        "1,3,\"Braund, Mr. Owen Harris\",male,22,1,0,A/5 21171,7.25,,S,0\n",
        "2,1,\"Cumings, Mrs. John Bradley (Florence Briggs Thayer)\",female,38,1,0,PC 17599,71.2833,C85,C,1\n",
        "3,3,\"Heikkinen, Miss. Laina\",female,26,0,0,STON/O2. 3101282,7.925,,S,1\n",
        "4,1,\"Futrelle, Mrs. Jacques Heath (Lily May Peel)\",female,35,1,0,113803,53.1,C123,S,1\n",
        "5,3,\"Allen, Mr. William Henry\",male,35,0,0,373450,8.05,,S,0\n",
        "6,3,\"Moran, Mr. James\",male,,0,0,330877,8.4583,,Q,0\n",
        "7,1,\"McCarthy, Mr. Timothy J\",male,54,0,0,17463,51.8625,E46,S,0\n",
        "\n",
        "Select a visualization technique:\n",
        "1. Bar Chart\n",
        "2. Line Chart\n",
        "3. Pie Chart\n",
        "4. Histogram\n",
        "5. Scatter Plot\n",
        "\n",
        "Bar Chart\n",
        "\n",
        "### **3.1.2. Output:**\n",
        "The generated prompt is as follows:\n",
        "\n",
        "I have a comma delimited dataset, delimited by triple backticks.\n",
        "Perform one-hot encoding on the categorical variables.\n",
        "Next, I want you to perform feature selection on it, and calculate the mutual information of each field.\n",
        "I do not want you to give me code, or how you performed the calculations. Your task is to generate the following insights for a Bar Chart visualization:\n",
        "    Insights: 1. Compare the quantities of different categories represented in the bar chart.\n",
        "        2 - Identify the category with the highest value.\n",
        "        3 - Detect any significant changes or trends over time if the bar chart represents temporal data.\n",
        "        4 - Analyze the distribution of values across the categories.\n",
        "        5 - Determine if any outliers or anomalies are present in the data.\n",
        "        \n",
        "Below is the dataset.\n",
        "```PassengerId,Pclass,Name,Sex,Age,SibSp,Parch,Ticket,Fare,Cabin,Embarked,Survived 1,3,\"Braund, Mr. Owen Harris\",male,22,1,0,A/5 21171,7.25,,S,0 2,1,\"Cumings, Mrs. John Bradley (Florence Briggs Thayer)\",female,38,1,0,PC 17599,71.2833,C85,C,1 3,3,\"Heikkinen, Miss. Laina\",female,26,0,0,STON/O2. 3101282,7.925,,S,1 4,1,\"Futrelle, Mrs. Jacques Heath (Lily May Peel)\",female,35,1,0,113803,53.1,C123,S,1 5,3,\"Allen, Mr. William Henry\",male,35,0,0,373450,8.05,,S,0 6,3,\"Moran, Mr. James\",male,,0,0,330877,8.4583,,Q,0 7,1,\"McCarthy, Mr. Timothy J\",male,54,0,0,17463,51.8625,E46,S,0 8,3,\"Palsson, Master. Gosta Leonard\",male,2,3,1,349909,21.075,,S,0 9,3,\"Johnson, Mrs. Oscar W (Elisabeth Vilhelmina Berg)\",female,27,0,2,347742,11.1333,,S,1 10,2,\"Nasser, Mrs. Nicholas (Adele Achem)\",female,14,1,0,237736,30.0708,,C,1 11,3,\"Sandstrom, Miss. Marguerite Rut\",female,4,1,1,PP 9549,16.7,G6,S,1 12,1,\"Bonnell, Miss. Elizabeth\",female,58,0,0,113783,26.55,C103,S,1 13,3,\"Saundercock, Mr. William Henry\",male,20,0,0,A/5. 2151,8.05,,S,0 14,3,\"Andersson, Mr. Anders Johan\",male,39,1,5,347082,31.275,,S,0 15,3,\"Vestrom, Miss. Hulda Amanda Adolfina\",female,14,0,0,350406,7.8542,,S,0 16,2,\"Hewlett, Mrs. (Mary D Kingcome) \",female,55,0,0,248706,16,,S,1 17,3,\"Rice, Master. Eugene\",male,2,4,1,382652,29.125,,Q,0 18,2,\"Williams, Mr. Charles Eugene\",male,,0,0,244373,13,,S,1 19,3,\"Vander Planke, Mrs. Julius (Emelia Maria Vandemoortele)\",female,31,1,0,345763,18,,S,0 20,3,\"Masselmani, Mrs. Fatima\",female,,0,0,2649,7.225,,C,1```\n",
        "\n",
        "Use the following format:\n",
        "Insight 1: <an extremely case-specific numerical analysis of the first insight with respect to the data visualization technique, and the specific dataset, no generic details>\n",
        "Insight 2: <an extremely case-specific numerical analysis of the second insight with respect to the data visualization technique, and the specific dataset, no generic details>\n",
        "Insight 3: <an extremely case-specific numerical analysis of the third insight with respect to the data visualization technique, and the specific dataset, no generic details>\n",
        "Insight 4: <an extremely case-specific numerical analysis of the fourth insight with respect to the data visualization technique, and the specific dataset, no generic details>\n",
        "Insight 5: <an extremely case-specific numerical analysis of the fifth insight with respect to the data visualization technique, and the specific dataset, no generic details>\n",
        "\n",
        "### **3.1.3. ChatGPT:**\n",
        "\n",
        "**Insight 1:** Comparison of Passenger Classes (Pclass)\n",
        "The Bar Chart reveals that the largest number of passengers belonged to Class 3. The quantity of passengers in Class 1 and Class 2 is notably lower in comparison. This suggests that third-class accommodations were more common among the Titanic passengers.\n",
        "\n",
        "**Insight 2:** Identifying the Most Common Port of Embarkation (Embarked)\n",
        "By examining the Bar Chart, we can see that the \"S\" category in the \"Embarked\" field has the highest count. This indicates that most passengers boarded the Titanic from Southampton, making it the most common port of embarkation.\n",
        "\n",
        "**Insight 3:** Detecting Trends in Age Distribution\n",
        "Since the dataset doesn't have explicit temporal data, we cannot observe trends over time through the Bar Chart. However, we can identify trends in age distribution. It appears that passengers in their early twenties make up a substantial portion, while older passengers (above 50) are comparatively fewer.\n",
        "\n",
        "**Insight 4:** Distribution of Sibling/Spouse Count (SibSp)\n",
        "The Bar Chart showcases that a significant number of passengers were traveling alone (SibSp=0) or with one sibling/spouse (SibSp=1). Fewer passengers were accompanied by more than one sibling/spouse. This distribution indicates that traveling alone or with a single companion was common.\n",
        "\n",
        "**Insight 5:** Identifying Fare Distribution Anomalies\n",
        "In the \"Fare\" field, the majority of passengers paid relatively low fares, with a few passengers paying significantly higher fares. These higher fare values could potentially be outliers or anomalies in the data, possibly indicating special circumstances for those passengers."
      ],
      "metadata": {
        "id": "shV5kLul_oZs"
      }
    },
    {
      "cell_type": "code",
      "source": [
        "# Menu-driven microservice\n",
        "def main():\n",
        "    # pre-processing on the dataset\n",
        "    print(\"Welcome to the Data Visualization Insights Microservice!\")\n",
        "    print(\"Enter a comma delimited dataset: \")\n",
        "    csv_dataset = input()\n",
        "    print(\"Do you want to aggregate your dataset?: \")\n",
        "    choice = input();\n",
        "    if(choice == \"Yes\"):\n",
        "      print(\"Enter the feature you want to aggregate against: \")\n",
        "      feature = input()\n",
        "      # before sending it to the model, aggregation is performed to reduce the number of rows\n",
        "      final_dataset = aggr_generator(csv_dataset, feature)\n",
        "    elif (choice == \"No\"):\n",
        "      final_dataset = csv_dataset\n",
        "\n",
        "    # based on the type of data visualization displayed to the user\n",
        "    # custom insights generation submodule\n",
        "    print(\"Select a visualization technique:\")\n",
        "    print(\"1. Bar Chart\")\n",
        "    print(\"2. Line Chart\")\n",
        "    print(\"3. Pie Chart\")\n",
        "    print(\"4. Histogram\")\n",
        "    print(\"5. Scatter Plot\")\n",
        "    choice = input(\"Enter the data visualization technique for which insights must be generated: \")\n",
        "    data_vis_prompt = \"\"\n",
        "    if choice == \"Line Chart\":\n",
        "        data_vis_prompt += \"generate the following insights for a Line Chart visualization:\\n    \"\n",
        "        data_vis_prompt += \"\"\"Insights: Observe the trend of the data over time.\n",
        "        2 - Identify any sudden spikes or drops in the values.\n",
        "        3 - Analyze the overall direction of the data (increasing, decreasing, or fluctuating).\n",
        "        4 - Detect any seasonal patterns or cyclic behavior.\n",
        "        5 - Determine if there are any periods of stability or volatility in the data.\n",
        "        \"\"\"\n",
        "    elif choice == \"Bar Chart\":\n",
        "        data_vis_prompt += \"generate the following insights for a Bar Chart visualization:\\n    \"\n",
        "        data_vis_prompt += \"\"\"Insights: 1. Compare the quantities of different categories represented in the bar chart.\n",
        "        2 - Identify the category with the highest value.\n",
        "        3 - Detect any significant changes or trends over time if the bar chart represents temporal data.\n",
        "        4 - Analyze the distribution of values across the categories.\n",
        "        5 - Determine if any outliers or anomalies are present in the data.\n",
        "        \"\"\"\n",
        "    elif choice == \"Pie Chart\":\n",
        "        data_vis_prompt += \"generate the following insights for a Pie Chart visualization:\\n    \"\n",
        "        data_vis_prompt += \"\"\"Insights: 1. Observe the proportions of different categories in the pie chart.\n",
        "         2 - Identify the largest and smallest categories based on their angles.\n",
        "         3 - Compare the relative sizes of different categories.\n",
        "         4 - Detect any significant disparities or imbalances in the data distribution.\n",
        "         5 - Highlight any category that stands out as a dominant contributor.\n",
        "         \"\"\"\n",
        "    elif choice == \"Histogram\":\n",
        "        data_vis_prompt += \"generate the following insights for a Histogram visualization:\\n    \"\n",
        "        data_vis_prompt += \"\"\"Insights: 1 - Analyze the frequency distribution of values across different bins.\n",
        "        2 - Identify the central tendency and spread of the data.\n",
        "        3 - Detect any modes or peaks in the histogram.\n",
        "        4 - Observe if the data is skewed to the left or right.\n",
        "        5 - Determine if there are any outliers or unusual data points.\n",
        "        \"\"\"\n",
        "    elif choice == \"Scatter Plot\":\n",
        "        data_vis_prompt += \"generate the following insights for a Scatter Plot visualization:\\n    \"\n",
        "        data_vis_prompt += \"\"\"Insights: 1. Analyze the relationship between the two variables\n",
        "        2 - Identify any patterns or trends in the scatter plot\n",
        "        3 - Detect any clusters or groupings of data points.\n",
        "        4 - Determine the strength and direction of the correlation between the variables.\n",
        "        5 - Identify any outliers that deviate significantly from the general trend.\n",
        "        \"\"\"\n",
        "    else:\n",
        "        print(\"Invalid choice. Please select a valid option.\")\n",
        "        exit()\n",
        "\n",
        "    # final prompt engineering based on the received data\n",
        "    prompt = f\"\"\"\n",
        "I have a comma delimited dataset, delimited by triple backticks.\n",
        "Perform one-hot encoding on the categorical variables.\n",
        "Next, I want you to perform feature selection on it, and calculate the mutual information of each field.\n",
        "I do not want you to give me code, or how you performed the calculations. Your task is to {data_vis_prompt}\n",
        "Below is the dataset.\n",
        "```{final_dataset}```\n",
        "\n",
        "Use the following format:\n",
        "Insight 1: <an extremely case-specific numerical analysis of the first insight with respect to the data visualization technique, and the specific dataset, no generic details>\n",
        "Insight 2: <an extremely case-specific numerical analysis of the second insight with respect to the data visualization technique, and the specific dataset, no generic details>\n",
        "Insight 3: <an extremely case-specific numerical analysis of the third insight with respect to the data visualization technique, and the specific dataset, no generic details>\n",
        "Insight 4: <an extremely case-specific numerical analysis of the fourth insight with respect to the data visualization technique, and the specific dataset, no generic details>\n",
        "Insight 5: <an extremely case-specific numerical analysis of the fifth insight with respect to the data visualization technique, and the specific dataset, no generic details>\n",
        "    \"\"\"\n",
        "    # debugging purposes\n",
        "    print(\"The generated prompt is as follows:\\n\")\n",
        "    print(prompt)\n",
        "    # final prompt sent to the model (commented for now, in absence of an API key that is not rate limited)\n",
        "    # result = get_completion(prompt)\n",
        "    # print(prompt)\n",
        "    # parsing step (store the insights, and useful information into a JSON object)\n",
        "    # dict = chatgpt_response_parser_for_JSON(prompt)"
      ],
      "metadata": {
        "id": "-vzhw0qe_wV7"
      },
      "execution_count": null,
      "outputs": []
    },
    {
      "cell_type": "markdown",
      "source": [
        "## **3.2. Driver Function Call**"
      ],
      "metadata": {
        "id": "WL22HJbL_56L"
      }
    },
    {
      "cell_type": "code",
      "source": [
        "if __name__ == \"__main__\":\n",
        "    main()"
      ],
      "metadata": {
        "id": "XihIU7mN_9Hk"
      },
      "execution_count": null,
      "outputs": []
    },
    {
      "cell_type": "markdown",
      "source": [
        "## **3.3. Example of Correct Usage**\n",
        "![image.png](data:image/png;base64,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)"
      ],
      "metadata": {
        "id": "zxHmVQKCJfyO"
      }
    },
    {
      "cell_type": "markdown",
      "source": [
        "## **Conversion of Text to SQL Driver Function Definition (Contains The Prompt As A Multiline String)**"
      ],
      "metadata": {
        "id": "osfdn_gBYA5t"
      }
    },
    {
      "cell_type": "code",
      "source": [
        "# driver function\n",
        "def conversionofTexttoSQL(user_query, table_name, dataset_columns):\n",
        "  prompt = f\"\"\"\n",
        "  Do not provide a description of how these steps are being performed, in the final output.\n",
        "The user query is \"{user_query}\".\n",
        "\n",
        "**Step 0:**\n",
        "\n",
        "If the user has provided insufficient data in the columns, or the column names do not suffice to generate a SQL command that could meet the users' requirements, then do not proceed with the next lines in this prompt. Instead, provide the following output delimited by double quotes:\n",
        "\"The user provided dataset columns are insufficient to meet the user query requirements, hence cannot generate JSON\"\n",
        "Stop execution of the prompt at this step.\n",
        "\n",
        "----\n",
        "\n",
        "**Step 1:**\n",
        "\n",
        "Identify the numerical and categorical columns from the table, and also identify the invalid information and handle edge cases based on the prompt entered by the user (invalid column references, or asking for data that cannot be derived from the given dataset).\n",
        "\n",
        "----\n",
        "\n",
        "**Step 2:**\n",
        "\n",
        "Perform suitable aggregations on the dataset, based on the user query, and generate a Vertica SQL query.\n",
        "\n",
        "----\n",
        "\n",
        "**Step 3:**\n",
        "\n",
        "Store the SQL query in JSON format, such that the keys are SQL keywords, and the values are an array of \"column names\" associated with those keywords in the SQL query, given an example as follows:\n",
        "\n",
        "```json\n",
        "{\n",
        "  \"SELECT\": [\"column_name1\", \"column_name2\", \"column_name3\"],\n",
        "  \"WHERE\": [[\"column1\", \"condition1\"], [\"column2\", \"condition2\"]]\n",
        "}\n",
        "```\n",
        "\n",
        "**Below is the dataset name, and the column names:**\n",
        "Table Name: {table_name}\n",
        "Column Names:\n",
        "```plaintext\n",
        "{dataset_columns}\n",
        "```\n",
        "\n",
        "----\n",
        "\n",
        "**Output Format:**\n",
        "Do not provide descriptive answers, simply follow the output format example.\n",
        "Further, if the user provided information is sufficient, provide the following JSON response:\n",
        "```json\n",
        "{\n",
        "  \"Aggregated SQL Query\": \"<Perform Step 2 On The Database Table>\",\n",
        "  \"clauses\": \"<Perform Step 3 on the Database Table>\"\n",
        "}\n",
        "```\n",
        "\n",
        "If the user query requirements cannot be met due to insufficient dataset columns, provide the following JSON response:\n",
        "```json\n",
        "{\n",
        "  \"Aggregated SQL Query\": \"The user provided dataset columns are insufficient to meet the user query requirements, hence cannot generate JSON\"\n",
        "}\n",
        "```\n",
        "  \"\"\"\n",
        "  response = get_completion(prompt)\n",
        "  return response"
      ],
      "metadata": {
        "id": "X0_bkFImYCTr"
      },
      "execution_count": null,
      "outputs": []
    },
    {
      "cell_type": "code",
      "source": [
        "# for parsing the json to make the payload\n",
        "import random\n",
        "\n",
        "def generate_json_output(json_sql):\n",
        "    # Comparison operators mapped to unique identifiers\n",
        "    comparison_mapping = {\n",
        "        \"=\": \"25\",\n",
        "        \">\": \"26\",\n",
        "        \"<\": \"27\",\n",
        "        \">=\": \"28\",\n",
        "        \"<=\": \"29\"\n",
        "    }\n",
        "    # Case sensitive operations\n",
        "    case_sensitive_operators = [\">\", \"<\", \">=\", \"<=\"]\n",
        "    # Aggregation functions\n",
        "    aggregation_functions = {\n",
        "        \"SUM\": \"3\",\n",
        "        \"MIN\": \"4\",\n",
        "        \"MAX\": \"5\"\n",
        "    }\n",
        "    # Attributes and filters empty lists\n",
        "    attributes = []\n",
        "    filters = []\n",
        "    # Seperate clauses from the user_input items (unpack using tuple assignment)\n",
        "    for clause, conditions in json_sql[\"clauses\"].items():\n",
        "        if clause == \"SELECT\":\n",
        "            for column in conditions:\n",
        "                column_id = random.randint(10000000, 99999999)  # Assign a random column ID\n",
        "                if column_id:\n",
        "                    attributes.append({\n",
        "                        \"attribute\": column_id,\n",
        "                        \"aliasName\": column.capitalize()\n",
        "                    })\n",
        "        # FROM clause\n",
        "        if clause == \"FROM\":\n",
        "            table_name = conditions[0] if conditions else \"\"\n",
        "        # WHERE clause\n",
        "        if clause == \"WHERE\":\n",
        "            for condition in conditions:\n",
        "                if len(condition) == 2:  # Handle cases with 2 elements in condition\n",
        "                    column, value = condition\n",
        "                    column_id = random.randint(10000000, 99999999)  # Assign a random column ID\n",
        "                    if column_id:\n",
        "                        case_sensitive = column not in case_sensitive_operators\n",
        "                        filters.append({\n",
        "                            \"attribute\": column_id,\n",
        "                            \"compare\": \"25\",  # Assume equality comparison\n",
        "                            \"value\": value,\n",
        "                            \"caseSensitive\": case_sensitive\n",
        "                        })\n",
        "                elif len(condition) == 3:  # Handle cases with 3 elements in condition\n",
        "                    column, operator, value = condition\n",
        "                    column_id = random.randint(10000000, 99999999)  # Assign a random column ID\n",
        "                    if column_id:\n",
        "                        case_sensitive = operator in case_sensitive_operators\n",
        "                        filters.append({\n",
        "                            \"attribute\": column_id,\n",
        "                            \"compare\": comparison_mapping.get(operator),\n",
        "                            \"value\": value,\n",
        "                            \"caseSensitive\": case_sensitive\n",
        "                        })\n",
        "        # GROUP BY clause\n",
        "        if clause == \"GROUP BY\":\n",
        "            for column in conditions:\n",
        "                column_id = random.randint(10000000, 99999999)  # Assign a random column ID\n",
        "                if column_id:\n",
        "                    attributes.append({\n",
        "                        \"attribute\": column_id,\n",
        "                        \"aliasName\": column.capitalize()\n",
        "                    })\n",
        "        # AGGREGATE case\n",
        "        if clause == \"AGGREGATE\":\n",
        "            for function in conditions:\n",
        "                if function.upper() in aggregation_functions:\n",
        "                    function_id = aggregation_functions[function.upper()]\n",
        "                    attributes.append({\n",
        "                        \"attribute\": random.randint(10000000, 99999999),  # Assign a random column ID\n",
        "                        \"aliasName\": f\"{function.capitalize()} of {table_name.capitalize()}\"\n",
        "                    })\n",
        "    # JSON_output format\n",
        "    json_output = {\n",
        "        \"schemaId\": 21533,\n",
        "        \"moduleName\": \"newModule\",\n",
        "        \"attributes\": attributes,\n",
        "        \"filter\": filters,\n",
        "        \"advanceFilter\": [],\n",
        "        \"analytics\": [],\n",
        "        \"sort\": [],\n",
        "        \"limit\": 10000,\n",
        "        \"whatIf\": [],\n",
        "        \"passPhrase\": \"\"\n",
        "    }\n",
        "    # Return output\n",
        "    return json_output\n",
        "\n",
        "# Test cases\n",
        "def unit_tests():\n",
        "    test_cases = [\n",
        "        {\n",
        "            \"Aggregated SQL Query\": \"SELECT SUM(sales), MAX(product) FROM table1 WHERE region='east' AND order_date BETWEEN '2002-01-01' AND '2002-12-31'\",\n",
        "            \"clauses\": {\n",
        "                \"SELECT\": [\"SUM(sales)\", \"MAX(product)\"],\n",
        "                \"WHERE\": [[\"region\", \"=\", \"east\"], [\"order_date\", \">=\", \"2002-01-01\"], [\"order_date\", \"<=\", \"2002-12-31\"]]\n",
        "            }\n",
        "        },\n",
        "        {\n",
        "            \"Aggregated SQL Query\": \"SELECT COUNT(*) FROM table1 WHERE job='manager'\",\n",
        "            \"clauses\": {\n",
        "                \"SELECT\": [\"COUNT(*)\"],\n",
        "                \"WHERE\": [[\"job\", \"=\", \"manager\"]]\n",
        "            }\n",
        "        },\n",
        "        {\n",
        "            \"Aggregated SQL Query\": \"SELECT AVG(salary) FROM employees WHERE department='HR'\",\n",
        "            \"clauses\": {\n",
        "                \"SELECT\": [\"AVG(salary)\"],\n",
        "                \"WHERE\": [[\"department\", \"=\", \"HR\"]]\n",
        "            }\n",
        "        },\n",
        "        {\n",
        "            \"Aggregated SQL Query\": \"SELECT MIN(price), MAX(price) FROM products WHERE category='electronics'\",\n",
        "            \"clauses\": {\n",
        "                \"SELECT\": [\"MIN(price)\", \"MAX(price)\"],\n",
        "                \"WHERE\": [[\"category\", \"=\", \"electronics\"]]\n",
        "            }\n",
        "        },\n",
        "        {\n",
        "            \"Aggregated SQL Query\": \"SELECT SUM(quantity) FROM sales WHERE date BETWEEN '2023-01-01' AND '2023-08-23'\",\n",
        "            \"clauses\": {\n",
        "                \"SELECT\": [\"SUM(quantity)\"],\n",
        "                \"WHERE\": [[\"date\", \">=\", \"2023-01-01\"], [\"date\", \"<=\", \"2023-08-23\"]]\n",
        "            }\n",
        "        },\n",
        "        {\n",
        "            \"Aggregated SQL Query\": \"SELECT AVG(age) FROM employees WHERE department='sales'\",\n",
        "            \"clauses\": {\n",
        "                \"SELECT\": [\"AVG(age)\"],\n",
        "                \"WHERE\": [[\"department\", \"=\", \"sales\"]]\n",
        "            }\n",
        "        },\n",
        "        {\n",
        "            \"Aggregated SQL Query\": \"SELECT COUNT(*) FROM orders WHERE status='completed'\",\n",
        "            \"clauses\": {\n",
        "                \"SELECT\": [\"COUNT(*)\"],\n",
        "                \"WHERE\": [[\"status\", \"=\", \"completed\"]]\n",
        "            }\n",
        "        },\n",
        "        {\n",
        "            \"Aggregated SQL Query\": \"SELECT MIN(income), MAX(income) FROM customers WHERE city='New York'\",\n",
        "            \"clauses\": {\n",
        "                \"SELECT\": [\"MIN(income)\", \"MAX(income)\"],\n",
        "                \"WHERE\": [[\"city\", \"=\", \"New York\"]]\n",
        "            }\n",
        "        },\n",
        "        {\n",
        "            \"Aggregated SQL Query\": \"SELECT SUM(quantity), AVG(price) FROM sales WHERE product_id=123\",\n",
        "            \"clauses\": {\n",
        "                \"SELECT\": [\"SUM(quantity)\", \"AVG(price)\"],\n",
        "                \"WHERE\": [[\"product_id\", \"=\", 123]]\n",
        "            }\n",
        "        },\n",
        "        {\n",
        "            \"Aggregated SQL Query\": \"SELECT AVG(rating) FROM reviews WHERE product_id=456\",\n",
        "            \"clauses\": {\n",
        "                \"SELECT\": [\"AVG(rating)\"],\n",
        "                \"WHERE\": [[\"product_id\", \"=\", 456]]\n",
        "            }\n",
        "        },\n",
        "        {\n",
        "            \"Aggregated SQL Query\": \"SELECT AVG('Quantity') AS average_quantity FROM 'table1' WHERE DATEDIFF('day', 'OrderDate', 'ShipDate') = 2 GROUP BY 'CustomerName'\",\n",
        "            \"clauses\": {\n",
        "            \"SELECT\": [\"Quantity\"],\n",
        "            \"FROM\": [\"table1\"],\n",
        "            \"WHERE\": [[\"OrderDate\", \"ShipDate\"]],\n",
        "            \"GROUP BY\": [\"CustomerName\"]\n",
        "            }\n",
        "        },\n",
        "        {\n",
        "            \"Aggregated SQL Query\": \"SELECT SUM(Sales) AS total_sales, AVG(Profit) AS average_profit FROM table1 WHERE Country = 'Dominican Republic' AND Category = 'Electronics'\",\n",
        "            \"clauses\": {\n",
        "            \"SELECT\": [\"Sales\", \"Profit\"],\n",
        "            \"WHERE\": [[\"Country\", \"Dominican Republic\"], [\"Category\", \"Electronics\"]]\n",
        "            }\n",
        "        }\n",
        "    ]\n",
        "\n",
        "    # Commented the testing code\n",
        "    # Generate and print the JSON output for each test case\n",
        "    # for i, test_case in enumerate(test_cases):\n",
        "        # print(f\"Test Case {i + 1}:\")\n",
        "        # json_output = generate_json_output(test_case)\n",
        "        # print(json_output)\n",
        "        # print(\"-\" * 40)\n",
        "\n",
        "# unit_tests()"
      ],
      "metadata": {
        "id": "SnYdHW_nr5Ky"
      },
      "execution_count": null,
      "outputs": []
    },
    {
      "cell_type": "markdown",
      "source": [
        "## **Driver Function Call**"
      ],
      "metadata": {
        "id": "5efNMo-d6GQT"
      }
    },
    {
      "cell_type": "code",
      "source": [
        "# driver function\n",
        "def main():\n",
        "  print(\"Enter the user query: \")\n",
        "  user_query = input() # example: Sales in 2023 from customers first ordered electronics product category in 2018 and furniture product category in 2017\n",
        "  print(\"Enter the table name: \")\n",
        "  table_name = input() # example: 'customer_dataset'\n",
        "  print(\"Enter comma seperated column names present in this database table: \")\n",
        "  dataset_columns = input() # example: 'customer_id, sales, order_date, product_category'\n",
        "  json_sql = json.encode(conversionofTexttoSQL(user_query, table_name, dataset_columns))\n",
        "  # send json_sql for parsing to make the module payload\n",
        "  final_output = generate_json_output(json_sql)\n",
        "  print(final_output)\n",
        "# call to main\n",
        "main()"
      ],
      "metadata": {
        "id": "H7BmdlyR5ph8"
      },
      "execution_count": null,
      "outputs": []
    }
  ]
}