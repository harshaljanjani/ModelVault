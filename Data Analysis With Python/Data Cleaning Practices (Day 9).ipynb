{
  "cells": [
    {
      "cell_type": "markdown",
      "metadata": {
        "colab_type": "text",
        "id": "view-in-github"
      },
      "source": [
        "<a href=\"https://colab.research.google.com/github/harshaljanjani/everything-ml/blob/main/Data%20Analysis%20With%20Python/Data%20Cleaning%20Practices%20(Day%209).ipynb\" target=\"_parent\"><img src=\"https://colab.research.google.com/assets/colab-badge.svg\" alt=\"Open In Colab\"/></a>"
      ]
    },
    {
      "attachments": {},
      "cell_type": "markdown",
      "metadata": {
        "id": "O6DKiMTkLEK_"
      },
      "source": [
        "# **Data Cleaning Procedure Using Pandas**\n",
        "\n",
        "### 1) Missing Data ✅\n",
        "### 2) Handling Missing Data With Pandas\n",
        "### 3) Cleaning Not Null Values\n",
        "### 4) More Visualizations\n",
        "### 5) Real Life Example"
      ]
    },
    {
      "cell_type": "code",
      "execution_count": 2,
      "metadata": {
        "id": "VtY7hkivwkZk"
      },
      "outputs": [],
      "source": [
        "import numpy as np\n",
        "import pandas as pd\n",
        "import matplotlib.pyplot as plt\n",
        "\n",
        "%matplotlib inline"
      ]
    },
    {
      "cell_type": "markdown",
      "metadata": {
        "id": "C_D8cVF0eDUp"
      },
      "source": [
        "# **Missing Data In NumPy: Falsy Values**"
      ]
    },
    {
      "cell_type": "code",
      "execution_count": 3,
      "metadata": {
        "id": "HEDfs3N-Mmc8"
      },
      "outputs": [],
      "source": [
        "falsy_values = (0, False, None, '', [], {}) # All Falsy Values In Python"
      ]
    },
    {
      "cell_type": "code",
      "execution_count": 4,
      "metadata": {
        "colab": {
          "base_uri": "https://localhost:8080/"
        },
        "id": "lyaBPDh2Mre0",
        "outputId": "e0cf3435-f77c-4433-e41d-5676a7438fae"
      },
      "outputs": [
        {
          "data": {
            "text/plain": [
              "False"
            ]
          },
          "execution_count": 4,
          "metadata": {},
          "output_type": "execute_result"
        }
      ],
      "source": [
        "any(falsy_values)"
      ]
    },
    {
      "cell_type": "code",
      "execution_count": 5,
      "metadata": {
        "colab": {
          "base_uri": "https://localhost:8080/"
        },
        "id": "27osQmAQMvTN",
        "outputId": "c0c1906c-18c7-4a23-cafa-e5b0d171bbdb"
      },
      "outputs": [
        {
          "data": {
            "text/plain": [
              "nan"
            ]
          },
          "execution_count": 5,
          "metadata": {},
          "output_type": "execute_result"
        }
      ],
      "source": [
        "np.nan # Stands for \"Not A Number\" -> Not Dissimilar To A \"Virus\" -> Everything That It Touches Becomes \"NaN\""
      ]
    },
    {
      "cell_type": "code",
      "execution_count": 6,
      "metadata": {
        "colab": {
          "base_uri": "https://localhost:8080/"
        },
        "id": "RYyNCmqBNG7V",
        "outputId": "13e6a046-2bca-4e95-b62f-6f5846eaa476"
      },
      "outputs": [
        {
          "name": "stdout",
          "output_type": "stream",
          "text": [
            "nan\n",
            "nan nan\n"
          ]
        }
      ],
      "source": [
        "# For A Numeric Array, \"None\" Is Replaced By \"NaN\"\n",
        "print(3 + np.nan)\n",
        "a = np.array([1, 2, 3, np.nan, None, 4], dtype='float')\n",
        "print(a.sum(), a.mean())"
      ]
    },
    {
      "cell_type": "code",
      "execution_count": 7,
      "metadata": {
        "colab": {
          "base_uri": "https://localhost:8080/"
        },
        "id": "jYEPS94JNwUk",
        "outputId": "93d29253-e769-4b39-c801-31aa89bbd040"
      },
      "outputs": [
        {
          "name": "stdout",
          "output_type": "stream",
          "text": [
            "inf\n",
            "nan\n",
            "nan\n"
          ]
        }
      ],
      "source": [
        "np.inf # Infinite Value, Which Also Behaves Like A \"Virus\"\n",
        "print(np.inf / 3)\n",
        "print(np.inf / np.inf)\n",
        "b = np.array([1, 2, 3, np.inf, np.nan, 4], dtype=np.float64)\n",
        "print(b.sum())\n"
      ]
    },
    {
      "cell_type": "markdown",
      "metadata": {
        "id": "64l3V-YGOH6V"
      },
      "source": [
        "## **Checking For NaN Or Inf**"
      ]
    },
    {
      "cell_type": "code",
      "execution_count": 8,
      "metadata": {
        "colab": {
          "base_uri": "https://localhost:8080/"
        },
        "id": "_HBRDwbGOM6U",
        "outputId": "7257cde1-af3f-4143-9dbd-6c681539128e"
      },
      "outputs": [
        {
          "name": "stdout",
          "output_type": "stream",
          "text": [
            "True\n",
            "True\n",
            "False False\n"
          ]
        }
      ],
      "source": [
        "print(np.isnan(np.nan))\n",
        "print(np.isinf(np.inf))\n",
        "print(np.isfinite(np.nan), np.isfinite(np.inf))"
      ]
    },
    {
      "cell_type": "code",
      "execution_count": 9,
      "metadata": {
        "id": "4G5lUGY-ObGu"
      },
      "outputs": [],
      "source": [
        "# .isnan() And .isinf() \n",
        "a = np.isinf(np.array([1, 2, 3, np.nan, np.inf, 4])) # .isnan()\n",
        "b = np.isnan(np.array([1, 2, 3, np.nan, np.inf, 4])) # .isinf()\n",
        "c = np.isfinite(np.array([1, 2, 3, np.nan, np.inf, 4])) # .isfinite()"
      ]
    },
    {
      "cell_type": "code",
      "execution_count": 12,
      "metadata": {
        "colab": {
          "base_uri": "https://localhost:8080/"
        },
        "id": "h63ey-7VeQHR",
        "outputId": "ac6644e2-c1ed-4ec1-ef75-c8cbf4258fa3"
      },
      "outputs": [
        {
          "name": "stdout",
          "output_type": "stream",
          "text": [
            "[1. 2. 3. 4.] [1. 2. 3. 4.]\n",
            "10.0 2.5\n"
          ]
        }
      ],
      "source": [
        "a = np.array([1, 2, 3, np.nan, np.nan, 4])\n",
        "print(a[np.isfinite(a)], a[~np.isnan(a)])\n",
        "# Filtering Out The NaN and Inf Elements, The Summation And Mean Can Now Be Performed\n",
        "print(a[np.isfinite(a)].sum(), a[np.isfinite(a)].mean())"
      ]
    },
    {
      "cell_type": "markdown",
      "metadata": {
        "id": "2cW4-B5MeraQ"
      },
      "source": [
        "# **Handling Missing Data With Pandas**"
      ]
    },
    {
      "cell_type": "code",
      "execution_count": 20,
      "metadata": {
        "colab": {
          "base_uri": "https://localhost:8080/"
        },
        "id": "0EcrmvcnfBmx",
        "outputId": "48ba93cd-4b9f-4ca3-df8d-a390660bde9e"
      },
      "outputs": [
        {
          "name": "stdout",
          "output_type": "stream",
          "text": [
            "True True\n",
            "True True\n",
            "False False\n",
            "False True\n",
            "\n",
            "\n",
            "0    False\n",
            "1     True\n",
            "2    False\n",
            "dtype: bool 0     True\n",
            "1    False\n",
            "2     True\n",
            "dtype: bool\n",
            "\n",
            "    Column A  Column B  Column C\n",
            "0     False      True      True\n",
            "1      True     False     False\n",
            "2     False     False      True\n"
          ]
        }
      ],
      "source": [
        "# Utility Functions\n",
        "print(pd.isnull(np.nan), pd.isna(np.nan))\n",
        "print(pd.isnull(None), pd.isna(None))\n",
        "# Opposite Functions\n",
        "print(pd.notnull(None), pd.notnull(np.nan))\n",
        "print(pd.notna(np.nan), pd.notnull(3))\n",
        "print(\"\\n\")\n",
        "# Utility Functions On Series And DataFrames -> Returns Mask Series / DataFrames\n",
        "print(pd.isnull(pd.Series([1, np.nan, 7])), pd.notnull(pd.Series([1, np.nan, 7])))\n",
        "print( \"\\n\", \n",
        "    pd.isnull(pd.DataFrame({\n",
        "    'Column A': [1, np.nan, 7],\n",
        "    'Column B': [np.nan, 2, 3],\n",
        "    'Column C': [np.nan, 2, np.nan]\n",
        "    }))\n",
        ")\n"
      ]
    }
  ],
  "metadata": {
    "colab": {
      "authorship_tag": "ABX9TyN1t1oV9AB20aE9DfWekOSY",
      "include_colab_link": true,
      "provenance": []
    },
    "kernelspec": {
      "display_name": "Python 3",
      "language": "python",
      "name": "python3"
    },
    "language_info": {
      "name": "python",
      "version": "3.9.0 (tags/v3.9.0:9cf6752, Oct  5 2020, 15:34:40) [MSC v.1927 64 bit (AMD64)]"
    },
    "vscode": {
      "interpreter": {
        "hash": "e7420c16fed80ca44bc7227413fb390036ba73eba4a8216c7e659bd6f2f9b1f1"
      }
    }
  },
  "nbformat": 4,
  "nbformat_minor": 0
}
