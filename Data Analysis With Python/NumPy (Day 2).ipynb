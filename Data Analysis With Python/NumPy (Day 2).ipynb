{
  "nbformat": 4,
  "nbformat_minor": 0,
  "metadata": {
    "colab": {
      "provenance": [],
      "authorship_tag": "ABX9TyOWYe3ZWJZlCUTNECZSbddY",
      "include_colab_link": true
    },
    "kernelspec": {
      "name": "python3",
      "display_name": "Python 3"
    },
    "language_info": {
      "name": "python"
    }
  },
  "cells": [
    {
      "cell_type": "markdown",
      "metadata": {
        "id": "view-in-github",
        "colab_type": "text"
      },
      "source": [
        "<a href=\"https://colab.research.google.com/github/harshaljanjani/statsForML/blob/main/Datacamp%20Courses/NumPy_20_01_2023_Day2.ipynb\" target=\"_parent\"><img src=\"https://colab.research.google.com/assets/colab-badge.svg\" alt=\"Open In Colab\"/></a>"
      ]
    },
    {
      "cell_type": "markdown",
      "source": [
        "# **NumPy - Numeric Python Package - Datacamp**\n",
        "### 1) Your First NumPy Array\n",
        "### 2) Baseball player's height\n",
        "### 3) Baseball player's BMI\n",
        "### 4) Lightweight baseball players\n",
        "### 5) NumPy Side Effects\n",
        "### 6) Subsetting NumPy Arrays\n",
        "### 7) 2D NumPy Arrays\n",
        "### 8) Baseball data in 2D form\n",
        "### 9) Subsetting 2D NumPy Arrays\n",
        "### 10) 2D Arithmetic\n",
        "### 11) NumPy: Basic Statistics\n",
        "### 12) Average versus median\n",
        "### 13) Explore the baseball data\n",
        "### 14) Blend it all together\n"
      ],
      "metadata": {
        "id": "Y5bbxFDtGC3-"
      }
    },
    {
      "cell_type": "code",
      "execution_count": 1,
      "metadata": {
        "id": "M4efC8SFBkW7"
      },
      "outputs": [],
      "source": [
        "import numpy as np #NumPy -> Numeric Python"
      ]
    },
    {
      "cell_type": "code",
      "source": [
        "#Element wise calculations\n",
        "#Efficient data structure for number crunching \n",
        "#NumPy arrays can contain only one data type, unlike regular python lists\n",
        "#Enforces single data type in an array, hence able to drastically speed up the calculations \n",
        "height = [1.73,1.68,1.71,1.89,1.79]\n",
        "weight = [65.4,59.2,63.6,88.4,68.7]\n",
        "#weight/height**2\n",
        "np_height = np.array(height)\n",
        "np_weight = np.array(weight)\n",
        "bmi = np_weight/np_height**2\n",
        "print(bmi)\n",
        "print(bmi>23) #NumPy array containing booleans -> [False,False,False,True,False]\n",
        "print(bmi[bmi>23]) #Subsetting\n",
        "print(type(bmi)) #numpy.ndarray(n-dimensional array)"
      ],
      "metadata": {
        "colab": {
          "base_uri": "https://localhost:8080/"
        },
        "id": "-OCJOz9_CCVg",
        "outputId": "ef89a80d-8682-43fb-a018-e9bbcc623e1e"
      },
      "execution_count": 4,
      "outputs": [
        {
          "output_type": "stream",
          "name": "stdout",
          "text": [
            "[21.85171573 20.97505669 21.75028214 24.7473475  21.44127836]\n",
            "[False False False  True False]\n",
            "[24.7473475]\n",
            "<class 'numpy.ndarray'>\n"
          ]
        }
      ]
    },
    {
      "cell_type": "code",
      "source": [
        "#2D-Arrays: Single Data Type\n",
        "np_2d = np.array([height,weight])\n",
        "print(np_2d.shape) #2 rows and 5 columns\n",
        "print(np_2d[0][2])\n",
        "print(np_2d[0,2])\n",
        "#second and third family member's height and weight\n",
        "print(np_2d[:,1:3])\n",
        "#weight of all family members\n",
        "print(np_2d[1,:])"
      ],
      "metadata": {
        "colab": {
          "base_uri": "https://localhost:8080/"
        },
        "id": "jpNXqFM-FPh9",
        "outputId": "af64d2b0-b15a-4585-ce4e-0f5d2ee9403b"
      },
      "execution_count": 15,
      "outputs": [
        {
          "output_type": "stream",
          "name": "stdout",
          "text": [
            "(2, 5)\n",
            "1.71\n",
            "1.71\n",
            "[[ 1.68  1.71]\n",
            " [59.2  63.6 ]]\n",
            "[65.4 59.2 63.6 88.4 68.7]\n"
          ]
        }
      ]
    },
    {
      "cell_type": "code",
      "source": [
        "#Summarizing statistics about huge volumes of data:\n",
        "#Data generation:\n",
        "#Parameters for np.random.normal - distribution mean, distribution std, number of samples\n",
        "height = np.round(np.random.normal(1.75,0.20,5000),2)\n",
        "weight = np.round(np.random.normal(60.32,15,5000),2)\n",
        "np_city = np.column_stack((height,weight)) #paste them together as columns\n",
        "\n",
        "#Average/mean height from np_2d\n",
        "print(np.mean(np_city[:,0]))\n",
        "#Median height from np_city\n",
        "print(np.median(np_city[:,0]))\n",
        "#Check if height and weight of np_city are correlated - corrcoef()\n",
        "print(np.corrcoef(np_city[:,0],np_city[:,0]))\n",
        "#Std - standard deviation\n",
        "print(np.std(np_city[:,0]))"
      ],
      "metadata": {
        "colab": {
          "base_uri": "https://localhost:8080/"
        },
        "id": "7xZ8nca6JBgk",
        "outputId": "ac7138bd-27ac-47e4-a6b6-ed55bbcbb85f"
      },
      "execution_count": 24,
      "outputs": [
        {
          "output_type": "stream",
          "name": "stdout",
          "text": [
            "1.753766\n",
            "1.75\n",
            "[[1. 1.]\n",
            " [1. 1.]]\n",
            "0.2012985773521512\n"
          ]
        }
      ]
    },
    {
      "cell_type": "code",
      "source": [
        "#Blend It All Together Exercise (Solution):\n",
        "positions = ['GK', 'M', 'A', 'D']\n",
        "heights = [191, 184, 185, 180]\n",
        "# Import NumPy\n",
        "import numpy as np\n",
        "# Convert positions and heights to numpy arrays: np_positions, np_heights\n",
        "np_positions = np.array(positions)\n",
        "np_heights = np.array(heights)\n",
        "# Heights of the goalkeepers: gk_heights\n",
        "isGk = (np_positions == 'GK')\n",
        "gk_heights = np_heights[isGk]\n",
        "# Heights of the other players: other_heights\n",
        "isNotGk = (np_positions != 'GK')\n",
        "other_heights = np_heights[isNotGk]\n",
        "# Print out the median height of goalkeepers. Replace 'None'\n",
        "print(\"Median height of goalkeepers: \" + str(np.median(gk_heights)))\n",
        "# Print out the median height of other players. Replace 'None'\n",
        "print(\"Median height of other players: \" + str(np.median(other_heights)))"
      ],
      "metadata": {
        "colab": {
          "base_uri": "https://localhost:8080/"
        },
        "id": "P7oGazkaaL8g",
        "outputId": "f1ec3a9d-6404-46c0-d010-07c4bce715e8"
      },
      "execution_count": 25,
      "outputs": [
        {
          "output_type": "stream",
          "name": "stdout",
          "text": [
            "Median height of goalkeepers: 191.0\n",
            "Median height of other players: 184.0\n"
          ]
        }
      ]
    }
  ]
}