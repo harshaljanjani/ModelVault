{
  "nbformat": 4,
  "nbformat_minor": 0,
  "metadata": {
    "colab": {
      "provenance": [],
      "toc_visible": true,
      "authorship_tag": "ABX9TyOC/fK10pzqRm8D/Xh/EEXA",
      "include_colab_link": true
    },
    "kernelspec": {
      "name": "python3",
      "display_name": "Python 3"
    },
    "language_info": {
      "name": "python"
    }
  },
  "cells": [
    {
      "cell_type": "markdown",
      "metadata": {
        "id": "view-in-github",
        "colab_type": "text"
      },
      "source": [
        "<a href=\"https://colab.research.google.com/github/harshaljanjani/statsForML/blob/main/FreeCodeCamp_MachineLearningInPython/LinearRegressionContinued(TitanicSurvivalPrediction)_Day5.ipynb\" target=\"_parent\"><img src=\"https://colab.research.google.com/assets/colab-badge.svg\" alt=\"Open In Colab\"/></a>"
      ]
    },
    {
      "cell_type": "markdown",
      "source": [
        "# **Tensorflow Introduction**\n",
        "\n",
        "## **Topics Covered**\n",
        "1) Introduction To Tensors\n",
        "\n",
        "2) Core Learning Algorithms - Introduction\n",
        "\n",
        "3) Core Learning Algorithms - Working With Data\n",
        "\n",
        "4) Core Learning Algorithms - Training And Testing Data ✅\n",
        "\n",
        "5) Core Learning Algorithms - The Training Process / Linear Regression ✅\n",
        "\n"
      ],
      "metadata": {
        "id": "7tx9Sq9oiKtF"
      }
    },
    {
      "cell_type": "code",
      "metadata": {
        "id": "4N7XbNDVY8P3",
        "colab": {
          "base_uri": "https://localhost:8080/"
        },
        "outputId": "071e21f6-441e-4b2c-e4ad-dc9dc8caf875"
      },
      "source": [
        "import tensorflow as tf  # import the tensorflow module\n",
        "print(tf.version)  # make sure the version is 2.x (update - Google Colab only allows 2.x)"
      ],
      "execution_count": 2,
      "outputs": [
        {
          "output_type": "stream",
          "name": "stdout",
          "text": [
            "<module 'tensorflow._api.v2.version' from '/usr/local/lib/python3.8/dist-packages/tensorflow/_api/v2/version/__init__.py'>\n"
          ]
        }
      ]
    },
    {
      "cell_type": "code",
      "metadata": {
        "id": "b0YrD-hRqD-W",
        "colab": {
          "base_uri": "https://localhost:8080/"
        },
        "outputId": "d07ee768-5dc5-41c7-e6cc-013d5db52231"
      },
      "source": [
        "# Creating a 2D tensor\n",
        "matrix = [[1,2,3,4,5],\n",
        "          [6,7,8,9,10],\n",
        "          [11,12,13,14,15],\n",
        "          [16,17,18,19,20]]\n",
        "\n",
        "tensor = tf.Variable(matrix, dtype=tf.int32) \n",
        "print(tf.rank(tensor))\n",
        "print(tensor.shape)"
      ],
      "execution_count": 3,
      "outputs": [
        {
          "output_type": "stream",
          "name": "stdout",
          "text": [
            "tf.Tensor(2, shape=(), dtype=int32)\n",
            "(4, 5)\n"
          ]
        }
      ]
    },
    {
      "cell_type": "code",
      "metadata": {
        "id": "t4Hp-dYmR2jf",
        "colab": {
          "base_uri": "https://localhost:8080/",
          "height": 286
        },
        "outputId": "e23ad538-440f-4e9c-f200-c707c5e50b06"
      },
      "source": [
        "import matplotlib.pyplot as plt\n",
        "import numpy as np\n",
        "\n",
        "x = [1, 2, 2.5, 3, 4]\n",
        "y = [1, 4, 7, 9, 15]\n",
        "plt.plot(x, y, 'ro')\n",
        "plt.axis([0, 6, 0, 20])"
      ],
      "execution_count": 4,
      "outputs": [
        {
          "output_type": "execute_result",
          "data": {
            "text/plain": [
              "(0.0, 6.0, 0.0, 20.0)"
            ]
          },
          "metadata": {},
          "execution_count": 4
        },
        {
          "output_type": "display_data",
          "data": {
            "text/plain": [
              "<Figure size 432x288 with 1 Axes>"
            ],
            "image/png": "[encoded data removed]"
          },
          "metadata": {
            "needs_background": "light"
          }
        }
      ]
    },
    {
      "cell_type": "code",
      "metadata": {
        "id": "Kv5eKLP_UYZi",
        "colab": {
          "base_uri": "https://localhost:8080/",
          "height": 269
        },
        "outputId": "10b37f32-cd02-4c4f-8c7f-fa0ca5c6526f"
      },
      "source": [
        "plt.plot(x, y, 'ro')\n",
        "plt.axis([0, 6, 0, 20])\n",
        "plt.plot(np.unique(x), np.poly1d(np.polyfit(x, y, 1))(np.unique(x)))\n",
        "plt.show()"
      ],
      "execution_count": 5,
      "outputs": [
        {
          "output_type": "display_data",
          "data": {
            "text/plain": [
              "<Figure size 432x288 with 1 Axes>"
            ],
            "image/png": "[encoded data removed]"
          },
          "metadata": {
            "needs_background": "light"
          }
        }
      ]
    },
    {
      "cell_type": "code",
      "metadata": {
        "id": "dZ8Rbs2xtNqj"
      },
      "source": [
        "tensor1 = tf.ones([1,2,3])  # tf.ones() creates a shape [1,2,3] tensor full of ones\n",
        "tensor2 = tf.reshape(tensor1, [2,3,1])  # reshape existing data to shape [2,3,1]\n",
        "tensor3 = tf.reshape(tensor2, [3, -1])  # -1 tells the tensor to calculate the size of the dimension in that place\n",
        "                                        # this will reshape the tensor to [3,2]\n",
        "                                                                             \n",
        "# The number of elements in the reshaped tensor MUST match the number in the original"
      ],
      "execution_count": 6,
      "outputs": []
    },
    {
      "cell_type": "code",
      "metadata": {
        "id": "Wd85uGI7qyfC",
        "colab": {
          "base_uri": "https://localhost:8080/"
        },
        "outputId": "5ad96458-a77d-4944-d443-e1db9d321a8c"
      },
      "source": [
        "# Now lets select some different rows and columns from our tensor\n",
        "\n",
        "three = tensor[0,2]  # selects the 3rd element from the 1st row\n",
        "print(three)  # -> 3\n",
        "\n",
        "row1 = tensor[0]  # selects the first row\n",
        "print(row1)\n",
        "\n",
        "column1 = tensor[:, 0]  # selects the first column\n",
        "print(column1)\n",
        "\n",
        "row_2_and_4 = tensor[1::2]  # selects second and fourth row\n",
        "print(row_2_and_4)\n",
        "\n",
        "column_1_in_row_2_and_3 = tensor[1:3, 0]\n",
        "print(column_1_in_row_2_and_3)\n"
      ],
      "execution_count": 7,
      "outputs": [
        {
          "output_type": "stream",
          "name": "stdout",
          "text": [
            "tf.Tensor(3, shape=(), dtype=int32)\n",
            "tf.Tensor([1 2 3 4 5], shape=(5,), dtype=int32)\n",
            "tf.Tensor([ 1  6 11 16], shape=(4,), dtype=int32)\n",
            "tf.Tensor(\n",
            "[[ 6  7  8  9 10]\n",
            " [16 17 18 19 20]], shape=(2, 5), dtype=int32)\n",
            "tf.Tensor([ 6 11], shape=(2,), dtype=int32)\n"
          ]
        }
      ]
    },
    {
      "cell_type": "code",
      "source": [
        "%tensorflow_version 2.x\n",
        "import tensorflow as tf\n",
        "print(tf.version)\n",
        "\n",
        "t = tf.zeros([5,5,5,5])\n",
        "print(t)\n",
        "t = tf.reshape(t,[25,25])\n",
        "print(t)"
      ],
      "metadata": {
        "id": "DTx6_l7YZyt3",
        "colab": {
          "base_uri": "https://localhost:8080/"
        },
        "outputId": "b24f7bbf-041e-4a2f-d74a-2b5c6c31bcc4"
      },
      "execution_count": 8,
      "outputs": [
        {
          "output_type": "stream",
          "name": "stdout",
          "text": [
            "Colab only includes TensorFlow 2.x; %tensorflow_version has no effect.\n",
            "<module 'tensorflow._api.v2.version' from '/usr/local/lib/python3.8/dist-packages/tensorflow/_api/v2/version/__init__.py'>\n",
            "tf.Tensor(\n",
            "[[[[0. 0. 0. 0. 0.]\n",
            "   [0. 0. 0. 0. 0.]\n",
            "   [0. 0. 0. 0. 0.]\n",
            "   [0. 0. 0. 0. 0.]\n",
            "   [0. 0. 0. 0. 0.]]\n",
            "\n",
            "  [[0. 0. 0. 0. 0.]\n",
            "   [0. 0. 0. 0. 0.]\n",
            "   [0. 0. 0. 0. 0.]\n",
            "   [0. 0. 0. 0. 0.]\n",
            "   [0. 0. 0. 0. 0.]]\n",
            "\n",
            "  [[0. 0. 0. 0. 0.]\n",
            "   [0. 0. 0. 0. 0.]\n",
            "   [0. 0. 0. 0. 0.]\n",
            "   [0. 0. 0. 0. 0.]\n",
            "   [0. 0. 0. 0. 0.]]\n",
            "\n",
            "  [[0. 0. 0. 0. 0.]\n",
            "   [0. 0. 0. 0. 0.]\n",
            "   [0. 0. 0. 0. 0.]\n",
            "   [0. 0. 0. 0. 0.]\n",
            "   [0. 0. 0. 0. 0.]]\n",
            "\n",
            "  [[0. 0. 0. 0. 0.]\n",
            "   [0. 0. 0. 0. 0.]\n",
            "   [0. 0. 0. 0. 0.]\n",
            "   [0. 0. 0. 0. 0.]\n",
            "   [0. 0. 0. 0. 0.]]]\n",
            "\n",
            "\n",
            " [[[0. 0. 0. 0. 0.]\n",
            "   [0. 0. 0. 0. 0.]\n",
            "   [0. 0. 0. 0. 0.]\n",
            "   [0. 0. 0. 0. 0.]\n",
            "   [0. 0. 0. 0. 0.]]\n",
            "\n",
            "  [[0. 0. 0. 0. 0.]\n",
            "   [0. 0. 0. 0. 0.]\n",
            "   [0. 0. 0. 0. 0.]\n",
            "   [0. 0. 0. 0. 0.]\n",
            "   [0. 0. 0. 0. 0.]]\n",
            "\n",
            "  [[0. 0. 0. 0. 0.]\n",
            "   [0. 0. 0. 0. 0.]\n",
            "   [0. 0. 0. 0. 0.]\n",
            "   [0. 0. 0. 0. 0.]\n",
            "   [0. 0. 0. 0. 0.]]\n",
            "\n",
            "  [[0. 0. 0. 0. 0.]\n",
            "   [0. 0. 0. 0. 0.]\n",
            "   [0. 0. 0. 0. 0.]\n",
            "   [0. 0. 0. 0. 0.]\n",
            "   [0. 0. 0. 0. 0.]]\n",
            "\n",
            "  [[0. 0. 0. 0. 0.]\n",
            "   [0. 0. 0. 0. 0.]\n",
            "   [0. 0. 0. 0. 0.]\n",
            "   [0. 0. 0. 0. 0.]\n",
            "   [0. 0. 0. 0. 0.]]]\n",
            "\n",
            "\n",
            " [[[0. 0. 0. 0. 0.]\n",
            "   [0. 0. 0. 0. 0.]\n",
            "   [0. 0. 0. 0. 0.]\n",
            "   [0. 0. 0. 0. 0.]\n",
            "   [0. 0. 0. 0. 0.]]\n",
            "\n",
            "  [[0. 0. 0. 0. 0.]\n",
            "   [0. 0. 0. 0. 0.]\n",
            "   [0. 0. 0. 0. 0.]\n",
            "   [0. 0. 0. 0. 0.]\n",
            "   [0. 0. 0. 0. 0.]]\n",
            "\n",
            "  [[0. 0. 0. 0. 0.]\n",
            "   [0. 0. 0. 0. 0.]\n",
            "   [0. 0. 0. 0. 0.]\n",
            "   [0. 0. 0. 0. 0.]\n",
            "   [0. 0. 0. 0. 0.]]\n",
            "\n",
            "  [[0. 0. 0. 0. 0.]\n",
            "   [0. 0. 0. 0. 0.]\n",
            "   [0. 0. 0. 0. 0.]\n",
            "   [0. 0. 0. 0. 0.]\n",
            "   [0. 0. 0. 0. 0.]]\n",
            "\n",
            "  [[0. 0. 0. 0. 0.]\n",
            "   [0. 0. 0. 0. 0.]\n",
            "   [0. 0. 0. 0. 0.]\n",
            "   [0. 0. 0. 0. 0.]\n",
            "   [0. 0. 0. 0. 0.]]]\n",
            "\n",
            "\n",
            " [[[0. 0. 0. 0. 0.]\n",
            "   [0. 0. 0. 0. 0.]\n",
            "   [0. 0. 0. 0. 0.]\n",
            "   [0. 0. 0. 0. 0.]\n",
            "   [0. 0. 0. 0. 0.]]\n",
            "\n",
            "  [[0. 0. 0. 0. 0.]\n",
            "   [0. 0. 0. 0. 0.]\n",
            "   [0. 0. 0. 0. 0.]\n",
            "   [0. 0. 0. 0. 0.]\n",
            "   [0. 0. 0. 0. 0.]]\n",
            "\n",
            "  [[0. 0. 0. 0. 0.]\n",
            "   [0. 0. 0. 0. 0.]\n",
            "   [0. 0. 0. 0. 0.]\n",
            "   [0. 0. 0. 0. 0.]\n",
            "   [0. 0. 0. 0. 0.]]\n",
            "\n",
            "  [[0. 0. 0. 0. 0.]\n",
            "   [0. 0. 0. 0. 0.]\n",
            "   [0. 0. 0. 0. 0.]\n",
            "   [0. 0. 0. 0. 0.]\n",
            "   [0. 0. 0. 0. 0.]]\n",
            "\n",
            "  [[0. 0. 0. 0. 0.]\n",
            "   [0. 0. 0. 0. 0.]\n",
            "   [0. 0. 0. 0. 0.]\n",
            "   [0. 0. 0. 0. 0.]\n",
            "   [0. 0. 0. 0. 0.]]]\n",
            "\n",
            "\n",
            " [[[0. 0. 0. 0. 0.]\n",
            "   [0. 0. 0. 0. 0.]\n",
            "   [0. 0. 0. 0. 0.]\n",
            "   [0. 0. 0. 0. 0.]\n",
            "   [0. 0. 0. 0. 0.]]\n",
            "\n",
            "  [[0. 0. 0. 0. 0.]\n",
            "   [0. 0. 0. 0. 0.]\n",
            "   [0. 0. 0. 0. 0.]\n",
            "   [0. 0. 0. 0. 0.]\n",
            "   [0. 0. 0. 0. 0.]]\n",
            "\n",
            "  [[0. 0. 0. 0. 0.]\n",
            "   [0. 0. 0. 0. 0.]\n",
            "   [0. 0. 0. 0. 0.]\n",
            "   [0. 0. 0. 0. 0.]\n",
            "   [0. 0. 0. 0. 0.]]\n",
            "\n",
            "  [[0. 0. 0. 0. 0.]\n",
            "   [0. 0. 0. 0. 0.]\n",
            "   [0. 0. 0. 0. 0.]\n",
            "   [0. 0. 0. 0. 0.]\n",
            "   [0. 0. 0. 0. 0.]]\n",
            "\n",
            "  [[0. 0. 0. 0. 0.]\n",
            "   [0. 0. 0. 0. 0.]\n",
            "   [0. 0. 0. 0. 0.]\n",
            "   [0. 0. 0. 0. 0.]\n",
            "   [0. 0. 0. 0. 0.]]]], shape=(5, 5, 5, 5), dtype=float32)\n",
            "tf.Tensor(\n",
            "[[0. 0. 0. 0. 0. 0. 0. 0. 0. 0. 0. 0. 0. 0. 0. 0. 0. 0. 0. 0. 0. 0. 0. 0.\n",
            "  0.]\n",
            " [0. 0. 0. 0. 0. 0. 0. 0. 0. 0. 0. 0. 0. 0. 0. 0. 0. 0. 0. 0. 0. 0. 0. 0.\n",
            "  0.]\n",
            " [0. 0. 0. 0. 0. 0. 0. 0. 0. 0. 0. 0. 0. 0. 0. 0. 0. 0. 0. 0. 0. 0. 0. 0.\n",
            "  0.]\n",
            " [0. 0. 0. 0. 0. 0. 0. 0. 0. 0. 0. 0. 0. 0. 0. 0. 0. 0. 0. 0. 0. 0. 0. 0.\n",
            "  0.]\n",
            " [0. 0. 0. 0. 0. 0. 0. 0. 0. 0. 0. 0. 0. 0. 0. 0. 0. 0. 0. 0. 0. 0. 0. 0.\n",
            "  0.]\n",
            " [0. 0. 0. 0. 0. 0. 0. 0. 0. 0. 0. 0. 0. 0. 0. 0. 0. 0. 0. 0. 0. 0. 0. 0.\n",
            "  0.]\n",
            " [0. 0. 0. 0. 0. 0. 0. 0. 0. 0. 0. 0. 0. 0. 0. 0. 0. 0. 0. 0. 0. 0. 0. 0.\n",
            "  0.]\n",
            " [0. 0. 0. 0. 0. 0. 0. 0. 0. 0. 0. 0. 0. 0. 0. 0. 0. 0. 0. 0. 0. 0. 0. 0.\n",
            "  0.]\n",
            " [0. 0. 0. 0. 0. 0. 0. 0. 0. 0. 0. 0. 0. 0. 0. 0. 0. 0. 0. 0. 0. 0. 0. 0.\n",
            "  0.]\n",
            " [0. 0. 0. 0. 0. 0. 0. 0. 0. 0. 0. 0. 0. 0. 0. 0. 0. 0. 0. 0. 0. 0. 0. 0.\n",
            "  0.]\n",
            " [0. 0. 0. 0. 0. 0. 0. 0. 0. 0. 0. 0. 0. 0. 0. 0. 0. 0. 0. 0. 0. 0. 0. 0.\n",
            "  0.]\n",
            " [0. 0. 0. 0. 0. 0. 0. 0. 0. 0. 0. 0. 0. 0. 0. 0. 0. 0. 0. 0. 0. 0. 0. 0.\n",
            "  0.]\n",
            " [0. 0. 0. 0. 0. 0. 0. 0. 0. 0. 0. 0. 0. 0. 0. 0. 0. 0. 0. 0. 0. 0. 0. 0.\n",
            "  0.]\n",
            " [0. 0. 0. 0. 0. 0. 0. 0. 0. 0. 0. 0. 0. 0. 0. 0. 0. 0. 0. 0. 0. 0. 0. 0.\n",
            "  0.]\n",
            " [0. 0. 0. 0. 0. 0. 0. 0. 0. 0. 0. 0. 0. 0. 0. 0. 0. 0. 0. 0. 0. 0. 0. 0.\n",
            "  0.]\n",
            " [0. 0. 0. 0. 0. 0. 0. 0. 0. 0. 0. 0. 0. 0. 0. 0. 0. 0. 0. 0. 0. 0. 0. 0.\n",
            "  0.]\n",
            " [0. 0. 0. 0. 0. 0. 0. 0. 0. 0. 0. 0. 0. 0. 0. 0. 0. 0. 0. 0. 0. 0. 0. 0.\n",
            "  0.]\n",
            " [0. 0. 0. 0. 0. 0. 0. 0. 0. 0. 0. 0. 0. 0. 0. 0. 0. 0. 0. 0. 0. 0. 0. 0.\n",
            "  0.]\n",
            " [0. 0. 0. 0. 0. 0. 0. 0. 0. 0. 0. 0. 0. 0. 0. 0. 0. 0. 0. 0. 0. 0. 0. 0.\n",
            "  0.]\n",
            " [0. 0. 0. 0. 0. 0. 0. 0. 0. 0. 0. 0. 0. 0. 0. 0. 0. 0. 0. 0. 0. 0. 0. 0.\n",
            "  0.]\n",
            " [0. 0. 0. 0. 0. 0. 0. 0. 0. 0. 0. 0. 0. 0. 0. 0. 0. 0. 0. 0. 0. 0. 0. 0.\n",
            "  0.]\n",
            " [0. 0. 0. 0. 0. 0. 0. 0. 0. 0. 0. 0. 0. 0. 0. 0. 0. 0. 0. 0. 0. 0. 0. 0.\n",
            "  0.]\n",
            " [0. 0. 0. 0. 0. 0. 0. 0. 0. 0. 0. 0. 0. 0. 0. 0. 0. 0. 0. 0. 0. 0. 0. 0.\n",
            "  0.]\n",
            " [0. 0. 0. 0. 0. 0. 0. 0. 0. 0. 0. 0. 0. 0. 0. 0. 0. 0. 0. 0. 0. 0. 0. 0.\n",
            "  0.]\n",
            " [0. 0. 0. 0. 0. 0. 0. 0. 0. 0. 0. 0. 0. 0. 0. 0. 0. 0. 0. 0. 0. 0. 0. 0.\n",
            "  0.]], shape=(25, 25), dtype=float32)\n"
          ]
        }
      ]
    },
    {
      "cell_type": "markdown",
      "source": [
        "# **Titanic Survival Prediction By Linear Regression**\n",
        "\n",
        "**Dataset:** [Tensorflow Datasets - Titanic Dataset](https://www.tensorflow.org/datasets)"
      ],
      "metadata": {
        "id": "xOc4EifEFhZK"
      }
    },
    {
      "cell_type": "code",
      "metadata": {
        "id": "p4xpuxwKHOGL",
        "colab": {
          "base_uri": "https://localhost:8080/"
        },
        "outputId": "212c480b-1078-47c0-b7db-9234bd92f290"
      },
      "source": [
        "pip install -U scikit-learn"
      ],
      "execution_count": 9,
      "outputs": [
        {
          "output_type": "stream",
          "name": "stdout",
          "text": [
            "Looking in indexes: https://pypi.org/simple, https://us-python.pkg.dev/colab-wheels/public/simple/\n",
            "Requirement already satisfied: scikit-learn in /usr/local/lib/python3.8/dist-packages (1.0.2)\n",
            "Collecting scikit-learn\n",
            "  Downloading scikit_learn-1.2.1-cp38-cp38-manylinux_2_17_x86_64.manylinux2014_x86_64.whl (9.8 MB)\n",
            "\u001b[2K     \u001b[90m━━━━━━━━━━━━━━━━━━━━━━━━━━━━━━━━━━━━━━━━\u001b[0m \u001b[32m9.8/9.8 MB\u001b[0m \u001b[31m30.0 MB/s\u001b[0m eta \u001b[36m0:00:00\u001b[0m\n",
            "\u001b[?25hRequirement already satisfied: numpy>=1.17.3 in /usr/local/lib/python3.8/dist-packages (from scikit-learn) (1.21.6)\n",
            "Requirement already satisfied: scipy>=1.3.2 in /usr/local/lib/python3.8/dist-packages (from scikit-learn) (1.7.3)\n",
            "Requirement already satisfied: threadpoolctl>=2.0.0 in /usr/local/lib/python3.8/dist-packages (from scikit-learn) (3.1.0)\n",
            "Requirement already satisfied: joblib>=1.1.1 in /usr/local/lib/python3.8/dist-packages (from scikit-learn) (1.2.0)\n",
            "Installing collected packages: scikit-learn\n",
            "  Attempting uninstall: scikit-learn\n",
            "    Found existing installation: scikit-learn 1.0.2\n",
            "    Uninstalling scikit-learn-1.0.2:\n",
            "      Successfully uninstalled scikit-learn-1.0.2\n",
            "Successfully installed scikit-learn-1.2.1\n"
          ]
        }
      ]
    },
    {
      "cell_type": "code",
      "metadata": {
        "id": "qcII_xj9Ntyo"
      },
      "source": [
        "from __future__ import absolute_import, division, print_function, unicode_literals\n",
        "import numpy as np\n",
        "import pandas as pd\n",
        "import matplotlib.pyplot as plt\n",
        "from IPython.display import clear_output\n",
        "from six.moves import urllib\n",
        "import tensorflow as tf\n",
        "import tensorflow.compat.v2.feature_column as fc"
      ],
      "execution_count": 10,
      "outputs": []
    },
    {
      "cell_type": "code",
      "metadata": {
        "id": "CpllWsKIOGOy",
        "colab": {
          "base_uri": "https://localhost:8080/"
        },
        "outputId": "0e14f0af-6304-43e0-f5e0-f22a04b52f99"
      },
      "source": [
        "# Load dataset.\n",
        "dftrain = pd.read_csv('https://storage.googleapis.com/tf-datasets/titanic/train.csv') # training data\n",
        "dfeval = pd.read_csv('https://storage.googleapis.com/tf-datasets/titanic/eval.csv') # testing data\n",
        "print(dftrain.head())\n",
        "#pop labels, to seperate from features to be used to train the model\n",
        "y_train = dftrain.pop('survived') #'survived' column in the training dataset\n",
        "y_eval = dfeval.pop('survived') #'survived' column in the testing dataset\n",
        "#print popped labels/entries\n",
        "print(\"\\n\",y_train)\n",
        "print(\"\\n\",dftrain.loc[0], \"\\n\", y_train[0]) #to print particular row\n",
        "print(\"\\n\",dftrain[\"age\"]) #to reference particular column"
      ],
      "execution_count": 11,
      "outputs": [
        {
          "output_type": "stream",
          "name": "stdout",
          "text": [
            "   survived     sex   age  n_siblings_spouses  parch     fare  class     deck  \\\n",
            "0         0    male  22.0                   1      0   7.2500  Third  unknown   \n",
            "1         1  female  38.0                   1      0  71.2833  First        C   \n",
            "2         1  female  26.0                   0      0   7.9250  Third  unknown   \n",
            "3         1  female  35.0                   1      0  53.1000  First        C   \n",
            "4         0    male  28.0                   0      0   8.4583  Third  unknown   \n",
            "\n",
            "   embark_town alone  \n",
            "0  Southampton     n  \n",
            "1    Cherbourg     n  \n",
            "2  Southampton     y  \n",
            "3  Southampton     n  \n",
            "4   Queenstown     y  \n",
            "\n",
            " 0      0\n",
            "1      1\n",
            "2      1\n",
            "3      1\n",
            "4      0\n",
            "      ..\n",
            "622    0\n",
            "623    0\n",
            "624    1\n",
            "625    0\n",
            "626    0\n",
            "Name: survived, Length: 627, dtype: int64\n",
            "\n",
            " sex                          male\n",
            "age                          22.0\n",
            "n_siblings_spouses              1\n",
            "parch                           0\n",
            "fare                         7.25\n",
            "class                       Third\n",
            "deck                      unknown\n",
            "embark_town           Southampton\n",
            "alone                           n\n",
            "Name: 0, dtype: object \n",
            " 0\n",
            "\n",
            " 0      22.0\n",
            "1      38.0\n",
            "2      26.0\n",
            "3      35.0\n",
            "4      28.0\n",
            "       ... \n",
            "622    28.0\n",
            "623    25.0\n",
            "624    19.0\n",
            "625    28.0\n",
            "626    32.0\n",
            "Name: age, Length: 627, dtype: float64\n"
          ]
        }
      ]
    },
    {
      "cell_type": "code",
      "metadata": {
        "id": "mKsXeWinQiVR",
        "colab": {
          "base_uri": "https://localhost:8080/",
          "height": 206
        },
        "outputId": "38506f51-71b1-4649-a703-41b5a8a53d3a"
      },
      "source": [
        "dftrain.head() #view first 5 rows or entries in a data frame"
      ],
      "execution_count": 12,
      "outputs": [
        {
          "output_type": "execute_result",
          "data": {
            "text/plain": [
              "      sex   age  n_siblings_spouses  parch     fare  class     deck  \\\n",
              "0    male  22.0                   1      0   7.2500  Third  unknown   \n",
              "1  female  38.0                   1      0  71.2833  First        C   \n",
              "2  female  26.0                   0      0   7.9250  Third  unknown   \n",
              "3  female  35.0                   1      0  53.1000  First        C   \n",
              "4    male  28.0                   0      0   8.4583  Third  unknown   \n",
              "\n",
              "   embark_town alone  \n",
              "0  Southampton     n  \n",
              "1    Cherbourg     n  \n",
              "2  Southampton     y  \n",
              "3  Southampton     n  \n",
              "4   Queenstown     y  "
            ],
            "text/html": [
              "\n",
              "  <div id=\"df-7a627ad7-e129-41ef-b450-7fd69f07a820\">\n",
              "    <div class=\"colab-df-container\">\n",
              "      <div>\n",
              "<style scoped>\n",
              "    .dataframe tbody tr th:only-of-type {\n",
              "        vertical-align: middle;\n",
              "    }\n",
              "\n",
              "    .dataframe tbody tr th {\n",
              "        vertical-align: top;\n",
              "    }\n",
              "\n",
              "    .dataframe thead th {\n",
              "        text-align: right;\n",
              "    }\n",
              "</style>\n",
              "<table border=\"1\" class=\"dataframe\">\n",
              "  <thead>\n",
              "    <tr style=\"text-align: right;\">\n",
              "      <th></th>\n",
              "      <th>sex</th>\n",
              "      <th>age</th>\n",
              "      <th>n_siblings_spouses</th>\n",
              "      <th>parch</th>\n",
              "      <th>fare</th>\n",
              "      <th>class</th>\n",
              "      <th>deck</th>\n",
              "      <th>embark_town</th>\n",
              "      <th>alone</th>\n",
              "    </tr>\n",
              "  </thead>\n",
              "  <tbody>\n",
              "    <tr>\n",
              "      <th>0</th>\n",
              "      <td>male</td>\n",
              "      <td>22.0</td>\n",
              "      <td>1</td>\n",
              "      <td>0</td>\n",
              "      <td>7.2500</td>\n",
              "      <td>Third</td>\n",
              "      <td>unknown</td>\n",
              "      <td>Southampton</td>\n",
              "      <td>n</td>\n",
              "    </tr>\n",
              "    <tr>\n",
              "      <th>1</th>\n",
              "      <td>female</td>\n",
              "      <td>38.0</td>\n",
              "      <td>1</td>\n",
              "      <td>0</td>\n",
              "      <td>71.2833</td>\n",
              "      <td>First</td>\n",
              "      <td>C</td>\n",
              "      <td>Cherbourg</td>\n",
              "      <td>n</td>\n",
              "    </tr>\n",
              "    <tr>\n",
              "      <th>2</th>\n",
              "      <td>female</td>\n",
              "      <td>26.0</td>\n",
              "      <td>0</td>\n",
              "      <td>0</td>\n",
              "      <td>7.9250</td>\n",
              "      <td>Third</td>\n",
              "      <td>unknown</td>\n",
              "      <td>Southampton</td>\n",
              "      <td>y</td>\n",
              "    </tr>\n",
              "    <tr>\n",
              "      <th>3</th>\n",
              "      <td>female</td>\n",
              "      <td>35.0</td>\n",
              "      <td>1</td>\n",
              "      <td>0</td>\n",
              "      <td>53.1000</td>\n",
              "      <td>First</td>\n",
              "      <td>C</td>\n",
              "      <td>Southampton</td>\n",
              "      <td>n</td>\n",
              "    </tr>\n",
              "    <tr>\n",
              "      <th>4</th>\n",
              "      <td>male</td>\n",
              "      <td>28.0</td>\n",
              "      <td>0</td>\n",
              "      <td>0</td>\n",
              "      <td>8.4583</td>\n",
              "      <td>Third</td>\n",
              "      <td>unknown</td>\n",
              "      <td>Queenstown</td>\n",
              "      <td>y</td>\n",
              "    </tr>\n",
              "  </tbody>\n",
              "</table>\n",
              "</div>\n",
              "      <button class=\"colab-df-convert\" onclick=\"convertToInteractive('df-7a627ad7-e129-41ef-b450-7fd69f07a820')\"\n",
              "              title=\"Convert this dataframe to an interactive table.\"\n",
              "              style=\"display:none;\">\n",
              "        \n",
              "  <svg xmlns=\"http://www.w3.org/2000/svg\" height=\"24px\"viewBox=\"0 0 24 24\"\n",
              "       width=\"24px\">\n",
              "    <path d=\"M0 0h24v24H0V0z\" fill=\"none\"/>\n",
              "    <path d=\"M18.56 5.44l.94 2.06.94-2.06 2.06-.94-2.06-.94-.94-2.06-.94 2.06-2.06.94zm-11 1L8.5 8.5l.94-2.06 2.06-.94-2.06-.94L8.5 2.5l-.94 2.06-2.06.94zm10 10l.94 2.06.94-2.06 2.06-.94-2.06-.94-.94-2.06-.94 2.06-2.06.94z\"/><path d=\"M17.41 7.96l-1.37-1.37c-.4-.4-.92-.59-1.43-.59-.52 0-1.04.2-1.43.59L10.3 9.45l-7.72 7.72c-.78.78-.78 2.05 0 2.83L4 21.41c.39.39.9.59 1.41.59.51 0 1.02-.2 1.41-.59l7.78-7.78 2.81-2.81c.8-.78.8-2.07 0-2.86zM5.41 20L4 18.59l7.72-7.72 1.47 1.35L5.41 20z\"/>\n",
              "  </svg>\n",
              "      </button>\n",
              "      \n",
              "  <style>\n",
              "    .colab-df-container {\n",
              "      display:flex;\n",
              "      flex-wrap:wrap;\n",
              "      gap: 12px;\n",
              "    }\n",
              "\n",
              "    .colab-df-convert {\n",
              "      background-color: #E8F0FE;\n",
              "      border: none;\n",
              "      border-radius: 50%;\n",
              "      cursor: pointer;\n",
              "      display: none;\n",
              "      fill: #1967D2;\n",
              "      height: 32px;\n",
              "      padding: 0 0 0 0;\n",
              "      width: 32px;\n",
              "    }\n",
              "\n",
              "    .colab-df-convert:hover {\n",
              "      background-color: #E2EBFA;\n",
              "      box-shadow: 0px 1px 2px rgba(60, 64, 67, 0.3), 0px 1px 3px 1px rgba(60, 64, 67, 0.15);\n",
              "      fill: #174EA6;\n",
              "    }\n",
              "\n",
              "    [theme=dark] .colab-df-convert {\n",
              "      background-color: #3B4455;\n",
              "      fill: #D2E3FC;\n",
              "    }\n",
              "\n",
              "    [theme=dark] .colab-df-convert:hover {\n",
              "      background-color: #434B5C;\n",
              "      box-shadow: 0px 1px 3px 1px rgba(0, 0, 0, 0.15);\n",
              "      filter: drop-shadow(0px 1px 2px rgba(0, 0, 0, 0.3));\n",
              "      fill: #FFFFFF;\n",
              "    }\n",
              "  </style>\n",
              "\n",
              "      <script>\n",
              "        const buttonEl =\n",
              "          document.querySelector('#df-7a627ad7-e129-41ef-b450-7fd69f07a820 button.colab-df-convert');\n",
              "        buttonEl.style.display =\n",
              "          google.colab.kernel.accessAllowed ? 'block' : 'none';\n",
              "\n",
              "        async function convertToInteractive(key) {\n",
              "          const element = document.querySelector('#df-7a627ad7-e129-41ef-b450-7fd69f07a820');\n",
              "          const dataTable =\n",
              "            await google.colab.kernel.invokeFunction('convertToInteractive',\n",
              "                                                     [key], {});\n",
              "          if (!dataTable) return;\n",
              "\n",
              "          const docLinkHtml = 'Like what you see? Visit the ' +\n",
              "            '<a target=\"_blank\" href=https://colab.research.google.com/notebooks/data_table.ipynb>data table notebook</a>'\n",
              "            + ' to learn more about interactive tables.';\n",
              "          element.innerHTML = '';\n",
              "          dataTable['output_type'] = 'display_data';\n",
              "          await google.colab.output.renderOutput(dataTable, element);\n",
              "          const docLink = document.createElement('div');\n",
              "          docLink.innerHTML = docLinkHtml;\n",
              "          element.appendChild(docLink);\n",
              "        }\n",
              "      </script>\n",
              "    </div>\n",
              "  </div>\n",
              "  "
            ]
          },
          "metadata": {},
          "execution_count": 12
        }
      ]
    },
    {
      "cell_type": "code",
      "source": [
        "dftrain.describe() #statistical analysis of dataframe"
      ],
      "metadata": {
        "colab": {
          "base_uri": "https://localhost:8080/",
          "height": 300
        },
        "id": "seB6vBbwKnBf",
        "outputId": "5ce0f6cb-bd4b-4c88-923a-1ad51e5188c2"
      },
      "execution_count": 13,
      "outputs": [
        {
          "output_type": "execute_result",
          "data": {
            "text/plain": [
              "              age  n_siblings_spouses       parch        fare\n",
              "count  627.000000          627.000000  627.000000  627.000000\n",
              "mean    29.631308            0.545455    0.379585   34.385399\n",
              "std     12.511818            1.151090    0.792999   54.597730\n",
              "min      0.750000            0.000000    0.000000    0.000000\n",
              "25%     23.000000            0.000000    0.000000    7.895800\n",
              "50%     28.000000            0.000000    0.000000   15.045800\n",
              "75%     35.000000            1.000000    0.000000   31.387500\n",
              "max     80.000000            8.000000    5.000000  512.329200"
            ],
            "text/html": [
              "\n",
              "  <div id=\"df-5daa0264-63e3-46cf-bff0-c1357db526e2\">\n",
              "    <div class=\"colab-df-container\">\n",
              "      <div>\n",
              "<style scoped>\n",
              "    .dataframe tbody tr th:only-of-type {\n",
              "        vertical-align: middle;\n",
              "    }\n",
              "\n",
              "    .dataframe tbody tr th {\n",
              "        vertical-align: top;\n",
              "    }\n",
              "\n",
              "    .dataframe thead th {\n",
              "        text-align: right;\n",
              "    }\n",
              "</style>\n",
              "<table border=\"1\" class=\"dataframe\">\n",
              "  <thead>\n",
              "    <tr style=\"text-align: right;\">\n",
              "      <th></th>\n",
              "      <th>age</th>\n",
              "      <th>n_siblings_spouses</th>\n",
              "      <th>parch</th>\n",
              "      <th>fare</th>\n",
              "    </tr>\n",
              "  </thead>\n",
              "  <tbody>\n",
              "    <tr>\n",
              "      <th>count</th>\n",
              "      <td>627.000000</td>\n",
              "      <td>627.000000</td>\n",
              "      <td>627.000000</td>\n",
              "      <td>627.000000</td>\n",
              "    </tr>\n",
              "    <tr>\n",
              "      <th>mean</th>\n",
              "      <td>29.631308</td>\n",
              "      <td>0.545455</td>\n",
              "      <td>0.379585</td>\n",
              "      <td>34.385399</td>\n",
              "    </tr>\n",
              "    <tr>\n",
              "      <th>std</th>\n",
              "      <td>12.511818</td>\n",
              "      <td>1.151090</td>\n",
              "      <td>0.792999</td>\n",
              "      <td>54.597730</td>\n",
              "    </tr>\n",
              "    <tr>\n",
              "      <th>min</th>\n",
              "      <td>0.750000</td>\n",
              "      <td>0.000000</td>\n",
              "      <td>0.000000</td>\n",
              "      <td>0.000000</td>\n",
              "    </tr>\n",
              "    <tr>\n",
              "      <th>25%</th>\n",
              "      <td>23.000000</td>\n",
              "      <td>0.000000</td>\n",
              "      <td>0.000000</td>\n",
              "      <td>7.895800</td>\n",
              "    </tr>\n",
              "    <tr>\n",
              "      <th>50%</th>\n",
              "      <td>28.000000</td>\n",
              "      <td>0.000000</td>\n",
              "      <td>0.000000</td>\n",
              "      <td>15.045800</td>\n",
              "    </tr>\n",
              "    <tr>\n",
              "      <th>75%</th>\n",
              "      <td>35.000000</td>\n",
              "      <td>1.000000</td>\n",
              "      <td>0.000000</td>\n",
              "      <td>31.387500</td>\n",
              "    </tr>\n",
              "    <tr>\n",
              "      <th>max</th>\n",
              "      <td>80.000000</td>\n",
              "      <td>8.000000</td>\n",
              "      <td>5.000000</td>\n",
              "      <td>512.329200</td>\n",
              "    </tr>\n",
              "  </tbody>\n",
              "</table>\n",
              "</div>\n",
              "      <button class=\"colab-df-convert\" onclick=\"convertToInteractive('df-5daa0264-63e3-46cf-bff0-c1357db526e2')\"\n",
              "              title=\"Convert this dataframe to an interactive table.\"\n",
              "              style=\"display:none;\">\n",
              "        \n",
              "  <svg xmlns=\"http://www.w3.org/2000/svg\" height=\"24px\"viewBox=\"0 0 24 24\"\n",
              "       width=\"24px\">\n",
              "    <path d=\"M0 0h24v24H0V0z\" fill=\"none\"/>\n",
              "    <path d=\"M18.56 5.44l.94 2.06.94-2.06 2.06-.94-2.06-.94-.94-2.06-.94 2.06-2.06.94zm-11 1L8.5 8.5l.94-2.06 2.06-.94-2.06-.94L8.5 2.5l-.94 2.06-2.06.94zm10 10l.94 2.06.94-2.06 2.06-.94-2.06-.94-.94-2.06-.94 2.06-2.06.94z\"/><path d=\"M17.41 7.96l-1.37-1.37c-.4-.4-.92-.59-1.43-.59-.52 0-1.04.2-1.43.59L10.3 9.45l-7.72 7.72c-.78.78-.78 2.05 0 2.83L4 21.41c.39.39.9.59 1.41.59.51 0 1.02-.2 1.41-.59l7.78-7.78 2.81-2.81c.8-.78.8-2.07 0-2.86zM5.41 20L4 18.59l7.72-7.72 1.47 1.35L5.41 20z\"/>\n",
              "  </svg>\n",
              "      </button>\n",
              "      \n",
              "  <style>\n",
              "    .colab-df-container {\n",
              "      display:flex;\n",
              "      flex-wrap:wrap;\n",
              "      gap: 12px;\n",
              "    }\n",
              "\n",
              "    .colab-df-convert {\n",
              "      background-color: #E8F0FE;\n",
              "      border: none;\n",
              "      border-radius: 50%;\n",
              "      cursor: pointer;\n",
              "      display: none;\n",
              "      fill: #1967D2;\n",
              "      height: 32px;\n",
              "      padding: 0 0 0 0;\n",
              "      width: 32px;\n",
              "    }\n",
              "\n",
              "    .colab-df-convert:hover {\n",
              "      background-color: #E2EBFA;\n",
              "      box-shadow: 0px 1px 2px rgba(60, 64, 67, 0.3), 0px 1px 3px 1px rgba(60, 64, 67, 0.15);\n",
              "      fill: #174EA6;\n",
              "    }\n",
              "\n",
              "    [theme=dark] .colab-df-convert {\n",
              "      background-color: #3B4455;\n",
              "      fill: #D2E3FC;\n",
              "    }\n",
              "\n",
              "    [theme=dark] .colab-df-convert:hover {\n",
              "      background-color: #434B5C;\n",
              "      box-shadow: 0px 1px 3px 1px rgba(0, 0, 0, 0.15);\n",
              "      filter: drop-shadow(0px 1px 2px rgba(0, 0, 0, 0.3));\n",
              "      fill: #FFFFFF;\n",
              "    }\n",
              "  </style>\n",
              "\n",
              "      <script>\n",
              "        const buttonEl =\n",
              "          document.querySelector('#df-5daa0264-63e3-46cf-bff0-c1357db526e2 button.colab-df-convert');\n",
              "        buttonEl.style.display =\n",
              "          google.colab.kernel.accessAllowed ? 'block' : 'none';\n",
              "\n",
              "        async function convertToInteractive(key) {\n",
              "          const element = document.querySelector('#df-5daa0264-63e3-46cf-bff0-c1357db526e2');\n",
              "          const dataTable =\n",
              "            await google.colab.kernel.invokeFunction('convertToInteractive',\n",
              "                                                     [key], {});\n",
              "          if (!dataTable) return;\n",
              "\n",
              "          const docLinkHtml = 'Like what you see? Visit the ' +\n",
              "            '<a target=\"_blank\" href=https://colab.research.google.com/notebooks/data_table.ipynb>data table notebook</a>'\n",
              "            + ' to learn more about interactive tables.';\n",
              "          element.innerHTML = '';\n",
              "          dataTable['output_type'] = 'display_data';\n",
              "          await google.colab.output.renderOutput(dataTable, element);\n",
              "          const docLink = document.createElement('div');\n",
              "          docLink.innerHTML = docLinkHtml;\n",
              "          element.appendChild(docLink);\n",
              "        }\n",
              "      </script>\n",
              "    </div>\n",
              "  </div>\n",
              "  "
            ]
          },
          "metadata": {},
          "execution_count": 13
        }
      ]
    },
    {
      "cell_type": "markdown",
      "source": [],
      "metadata": {
        "id": "ECj0ztv4LFGw"
      }
    },
    {
      "cell_type": "code",
      "source": [
        "dftrain.shape"
      ],
      "metadata": {
        "colab": {
          "base_uri": "https://localhost:8080/"
        },
        "id": "wZASKhYmLFqC",
        "outputId": "d3d9ca47-9f49-48a0-8a5d-956fb582828d"
      },
      "execution_count": 14,
      "outputs": [
        {
          "output_type": "execute_result",
          "data": {
            "text/plain": [
              "(627, 9)"
            ]
          },
          "metadata": {},
          "execution_count": 14
        }
      ]
    },
    {
      "cell_type": "markdown",
      "source": [
        "# **Data Visualization And Correlation Analysis**"
      ],
      "metadata": {
        "id": "viye_EBALXJb"
      }
    },
    {
      "cell_type": "code",
      "source": [
        "plt.xlabel(\"Age\")\n",
        "plt.ylabel(\"Number Of People\")\n",
        "plt.title(\"Age Distribution Across The Titanic Histogram\")\n",
        "dftrain.age.hist(bins=20) #Histogram"
      ],
      "metadata": {
        "colab": {
          "base_uri": "https://localhost:8080/",
          "height": 312
        },
        "id": "JHgaKPh5L7Fw",
        "outputId": "da8b9f53-5547-47c0-aa06-7e68e1958b2d"
      },
      "execution_count": 15,
      "outputs": [
        {
          "output_type": "execute_result",
          "data": {
            "text/plain": [
              "<matplotlib.axes._subplots.AxesSubplot at 0x7f95f2286190>"
            ]
          },
          "metadata": {},
          "execution_count": 15
        },
        {
          "output_type": "display_data",
          "data": {
            "text/plain": [
              "<Figure size 432x288 with 1 Axes>"
            ],
            "image/png": "[encoded data removed]"
          },
          "metadata": {
            "needs_background": "light"
          }
        }
      ]
    },
    {
      "cell_type": "code",
      "source": [
        "dftrain.sex.value_counts().plot(kind='barh') #Horizontal Bar Plot"
      ],
      "metadata": {
        "colab": {
          "base_uri": "https://localhost:8080/",
          "height": 282
        },
        "id": "1lOKIe6JNgB6",
        "outputId": "11e5d9e6-39cd-4a60-d170-8e36a874aca3"
      },
      "execution_count": 16,
      "outputs": [
        {
          "output_type": "execute_result",
          "data": {
            "text/plain": [
              "<matplotlib.axes._subplots.AxesSubplot at 0x7f95f206bc70>"
            ]
          },
          "metadata": {},
          "execution_count": 16
        },
        {
          "output_type": "display_data",
          "data": {
            "text/plain": [
              "<Figure size 432x288 with 1 Axes>"
            ],
            "image/png": "[encoded data removed]"
          },
          "metadata": {
            "needs_background": "light"
          }
        }
      ]
    },
    {
      "cell_type": "code",
      "source": [
        "dftrain['class'].value_counts().plot(kind = 'barh')"
      ],
      "metadata": {
        "colab": {
          "base_uri": "https://localhost:8080/",
          "height": 282
        },
        "id": "10ywxDDIOEK_",
        "outputId": "a055434b-3786-4358-d10e-0d0f3f5459eb"
      },
      "execution_count": 17,
      "outputs": [
        {
          "output_type": "execute_result",
          "data": {
            "text/plain": [
              "<matplotlib.axes._subplots.AxesSubplot at 0x7f95f2058280>"
            ]
          },
          "metadata": {},
          "execution_count": 17
        },
        {
          "output_type": "display_data",
          "data": {
            "text/plain": [
              "<Figure size 432x288 with 1 Axes>"
            ],
            "image/png": "[encoded data removed]"
          },
          "metadata": {
            "needs_background": "light"
          }
        }
      ]
    },
    {
      "cell_type": "code",
      "source": [
        "pd.concat([dftrain,y_train], axis=1).groupby('sex').survived.mean().plot(kind='barh').set_xlabel('% Survival')"
      ],
      "metadata": {
        "colab": {
          "base_uri": "https://localhost:8080/",
          "height": 296
        },
        "id": "OQ-T2E2-OOa6",
        "outputId": "19e1c741-1698-42a6-c56c-c5a8e80e4791"
      },
      "execution_count": 18,
      "outputs": [
        {
          "output_type": "execute_result",
          "data": {
            "text/plain": [
              "Text(0.5, 0, '% Survival')"
            ]
          },
          "metadata": {},
          "execution_count": 18
        },
        {
          "output_type": "display_data",
          "data": {
            "text/plain": [
              "<Figure size 432x288 with 1 Axes>"
            ],
            "image/png": "[encoded data removed]"
          },
          "metadata": {
            "needs_background": "light"
          }
        }
      ]
    },
    {
      "cell_type": "markdown",
      "source": [
        "**After analyzing this information, the following information is inferred:**\n",
        "- Most passengers are in their **20's** or **30's**.\n",
        "- Most passengers are **Male**.\n",
        "- Most passengers are in **\"Third\"** class.\n",
        "- **Females** have a much higher chance of survival."
      ],
      "metadata": {
        "id": "YnjIti6uPv8Q"
      }
    },
    {
      "cell_type": "markdown",
      "source": [
        "# **Day 5 - 25/01/2023**\n",
        "## **Training And Testing Data**"
      ],
      "metadata": {
        "id": "39Ucn5D6Zsuo"
      }
    },
    {
      "cell_type": "code",
      "source": [
        "print(dfeval.shape, dftrain.shape)"
      ],
      "metadata": {
        "colab": {
          "base_uri": "https://localhost:8080/"
        },
        "id": "a5OlIFBEo6EO",
        "outputId": "8b78bbd2-ffce-4105-d5fa-cfc25ef14522"
      },
      "execution_count": 21,
      "outputs": [
        {
          "output_type": "stream",
          "name": "stdout",
          "text": [
            "(264, 9) (627, 9)\n"
          ]
        }
      ]
    },
    {
      "cell_type": "code",
      "source": [
        "#Difference between Categorical And Numeric Data (Categorical Data -> Common, all non-numeric data)\n",
        "#Task: Convert categorical data into numeric data\n",
        "#How is this achieved? Encode the data into integer values (Example: Male - 1, Female - 0), since model only needs to know whether values are different or not\n",
        "CATEGORICAL_COLUMNS = ['sex', 'n_siblings_spouses', 'parch', 'class', 'deck',\n",
        "                       'embark_town', 'alone']\n",
        "NUMERIC_COLUMNS = ['age', 'fare']\n",
        "\n",
        "#Feature Columns -> What we need to feed to our linear estimator/model to make predictions\n",
        "#FOR CATEGORICAL COLUMNS:\n",
        "feature_columns = []\n",
        "for feature_name in CATEGORICAL_COLUMNS: #loop through each feature_name\n",
        "  vocabulary = dftrain[feature_name].unique() #gets a list of all unique data values from the feature column \n",
        "  print(vocabulary)\n",
        "  feature_columns.append(tf.feature_column.categorical_column_with_vocabulary_list(feature_name,vocabulary))\n",
        "  #Creates a NumPy data column with the header as the feature_name and the data values in the column as only the unique values/vocabulary of the feature-column\n",
        "#Needed by Linear Model (All columns and all unique entries of that column, also needs to know whether it's a categorical column or a numeric column)\n",
        "\n",
        "#FOR NUMERIC COLUMNS:\n",
        "for feature_name in NUMERIC_COLUMNS:\n",
        "  #Numeric -> There could be an infinite amount of unique values in the data column, hence only data-type is given\n",
        "  feature_columns.append(tf.feature_column.numeric_column(feature_name,dtype=tf.float32))\n",
        "print(feature_columns) #Integer encoding's not necessarily in order"
      ],
      "metadata": {
        "colab": {
          "base_uri": "https://localhost:8080/"
        },
        "id": "adgSyfvkpcD4",
        "outputId": "30a6d61a-ccaf-4cfe-8487-c826fa245c17"
      },
      "execution_count": 23,
      "outputs": [
        {
          "output_type": "stream",
          "name": "stdout",
          "text": [
            "['male' 'female']\n",
            "[1 0 3 4 2 5 8]\n",
            "[0 1 2 5 3 4]\n",
            "['Third' 'First' 'Second']\n",
            "['unknown' 'C' 'G' 'A' 'B' 'D' 'F' 'E']\n",
            "['Southampton' 'Cherbourg' 'Queenstown' 'unknown']\n",
            "['n' 'y']\n",
            "[VocabularyListCategoricalColumn(key='sex', vocabulary_list=('male', 'female'), dtype=tf.string, default_value=-1, num_oov_buckets=0), VocabularyListCategoricalColumn(key='n_siblings_spouses', vocabulary_list=(1, 0, 3, 4, 2, 5, 8), dtype=tf.int64, default_value=-1, num_oov_buckets=0), VocabularyListCategoricalColumn(key='parch', vocabulary_list=(0, 1, 2, 5, 3, 4), dtype=tf.int64, default_value=-1, num_oov_buckets=0), VocabularyListCategoricalColumn(key='class', vocabulary_list=('Third', 'First', 'Second'), dtype=tf.string, default_value=-1, num_oov_buckets=0), VocabularyListCategoricalColumn(key='deck', vocabulary_list=('unknown', 'C', 'G', 'A', 'B', 'D', 'F', 'E'), dtype=tf.string, default_value=-1, num_oov_buckets=0), VocabularyListCategoricalColumn(key='embark_town', vocabulary_list=('Southampton', 'Cherbourg', 'Queenstown', 'unknown'), dtype=tf.string, default_value=-1, num_oov_buckets=0), VocabularyListCategoricalColumn(key='alone', vocabulary_list=('n', 'y'), dtype=tf.string, default_value=-1, num_oov_buckets=0), NumericColumn(key='age', shape=(1,), default_value=None, dtype=tf.float32, normalizer_fn=None), NumericColumn(key='fare', shape=(1,), default_value=None, dtype=tf.float32, normalizer_fn=None)]\n"
          ]
        }
      ]
    },
    {
      "cell_type": "markdown",
      "source": [
        "## **Training Data: Loading Data In Batches And Related Terminology**"
      ],
      "metadata": {
        "id": "23kCBJEb34B5"
      }
    },
    {
      "cell_type": "code",
      "source": [
        "#Load data in batches, 32 entries fed at once to the model\n",
        "#Epochs: The number of times the model is going to see the same data. Data is fed again and again, but in different orders/forms. Helps it pick up on patterns\n",
        "#Overfitting: When we feed the model too much data (Bias-Variance Tradeoff) -> Start with lower epochs, and go higher\n",
        "#Input function: The way that we define how our data is going to be broken into epochs, and into batches to feed to our model. Encodes it into 'tf.data.Dataset' object\n",
        "\n",
        "#INPUT FUNCTION (Source - Tensorflow Documentation)\n",
        "#Features -> data_df (Pandas Dataframe), #Labels -> label_df(y_train/y_eval)\n",
        "#shuffle -> Are we going to shuffle/mix-up the data before passing it to the model?\n",
        "\n",
        "def make_input_fn(data_df, label_df, num_epochs=10, shuffle=True, batch_size=32):\n",
        "  def input_function(): #inner function, this will be returned by the outer function\n",
        "    ds = tf.data.Dataset.from_tensor_slices((dict(data_df),label_df)) #create tf.data.Dataset object with data and its label\n",
        "    if shuffle:\n",
        "      ds = ds.shuffle(1000) #randomize order of data\n",
        "    ds = ds.batch(batch_size).repeat(num_epochs) #split dataset into batches of 'batch_size' = 32, and repeat it for 'num_epochs' = 10\n",
        "    return ds #return a batch of the dataset\n",
        "  return input_function #return a function object for use\n",
        "\n",
        "train_input_fn = make_input_fn(dftrain, y_train) # here we will call the input_function that was returned to us to get a dataset object we can feed to the model\n",
        "eval_input_fn = make_input_fn(dfeval,y_eval,num_epochs=1,shuffle=False) #Don't need to shuffle the data, because we are not training it. Epoch = 1, since we are only testing it."
      ],
      "metadata": {
        "id": "CCCu1guv4Dxh"
      },
      "execution_count": 25,
      "outputs": []
    },
    {
      "cell_type": "markdown",
      "source": [
        "## **Creating And Training The Model**"
      ],
      "metadata": {
        "id": "Ah0MO-s-8Lzb"
      }
    },
    {
      "cell_type": "code",
      "source": [
        "#Linear Estimator\n",
        "linear_est = tf.estimator.LinearClassifier(feature_columns=feature_columns) #Estimator -> Core Learning Algorithms Use Estimators, which are basic implementations of algorithms in Tensorflow\n",
        "#Training The Model\n",
        "linear_est.train(train_input_fn) #.train(input_function)\n",
        "result = linear_est.evaluate(eval_input_fn) #get model metrics/stats by testing on testing data\n",
        "\n",
        "clear_output() #clears console output\n",
        "print(result['accuracy'] * 100) #result -> Dictionary about statistics and performence metrics about how well our model performed\n",
        "\n",
        "#Accuracy on testing dataset on 25/01/2023 -> 73.86363744735718 %\n",
        "print(result)"
      ],
      "metadata": {
        "colab": {
          "base_uri": "https://localhost:8080/"
        },
        "id": "cX8ZE8bd8WpO",
        "outputId": "7961bee1-8cea-4cc8-8149-5054beffaa77"
      },
      "execution_count": 28,
      "outputs": [
        {
          "output_type": "stream",
          "name": "stdout",
          "text": [
            "74.62121248245239\n",
            "{'accuracy': 0.7462121, 'accuracy_baseline': 0.625, 'auc': 0.8334558, 'auc_precision_recall': 0.79405004, 'average_loss': 0.47339806, 'label/mean': 0.375, 'loss': 0.4656391, 'precision': 0.6666667, 'prediction/mean': 0.38401347, 'recall': 0.64646465, 'global_step': 200}\n"
          ]
        }
      ]
    },
    {
      "cell_type": "markdown",
      "source": [
        "## **Using The Model For Predictive Analysis**"
      ],
      "metadata": {
        "id": "jt7aNi6E-Z6z"
      }
    },
    {
      "cell_type": "code",
      "source": [
        "#Tensorflow models are built to make predictions on a lot of parameters at once, not a single piece of data (large batches of data)\n",
        "#Model Accuracy: Compare predictive results given by the model, with the actual results for every single passenger\n",
        "#Predict\n",
        "result = list(linear_est.predict(eval_input_fn)) #input function is needed to make a prediction\n",
        "print(result) #List of dictionaries that are making predictions for every single data entry in the testing dataset\n",
        "print(result[0]) #A single prediction\n",
        "#For presenting each prediction for each data entry -> Loop through result\n",
        "#Prediction of two classes -> Number between 0 and 1 (either they survived, or did not survive), we are interested in the 'probability' parameter of the logistics array\n",
        "#Survival Percentage: Probability * 100\n",
        "\n",
        "#0 -> Didn't survive, 1 -> Did survive \n",
        "#Display the record of the first person (person 0):\n",
        "print(dfeval.loc[0])\n",
        "#Predictive Analytics Of Whether The Person 0 Has A Chance Of Surviving Or Not:\n",
        "print(result[0]['probabilities'][1] * 100) #Print probability of survival \n",
        "print(result[0]['probabilities'][0] * 100) #Print probability of not surviving\n",
        "#Compare with actual result (did they really survive or not?)\n",
        "print(y_eval[0])"
      ],
      "metadata": {
        "colab": {
          "base_uri": "https://localhost:8080/"
        },
        "id": "mZFLRVtj-3ZD",
        "outputId": "5dee1fd2-97c1-41a6-ab6d-b410216900fd"
      },
      "execution_count": 34,
      "outputs": [
        {
          "output_type": "stream",
          "name": "stdout",
          "text": [
            "[{'logits': array([-2.4203742], dtype=float32), 'logistic': array([0.0816322], dtype=float32), 'probabilities': array([0.9183677 , 0.08163219], dtype=float32), 'class_ids': array([0]), 'classes': array([b'0'], dtype=object), 'all_class_ids': array([0, 1], dtype=int32), 'all_classes': array([b'0', b'1'], dtype=object)}, {'logits': array([-0.65740454], dtype=float32), 'logistic': array([0.3413229], dtype=float32), 'probabilities': array([0.65867704, 0.34132287], dtype=float32), 'class_ids': array([0]), 'classes': array([b'0'], dtype=object), 'all_class_ids': array([0, 1], dtype=int32), 'all_classes': array([b'0', b'1'], dtype=object)}, {'logits': array([0.9771104], dtype=float32), 'logistic': array([0.7265345], dtype=float32), 'probabilities': array([0.27346548, 0.7265344 ], dtype=float32), 'class_ids': array([1]), 'classes': array([b'1'], dtype=object), 'all_class_ids': array([0, 1], dtype=int32), 'all_classes': array([b'0', b'1'], dtype=object)}, {'logits': array([0.595816], dtype=float32), 'logistic': array([0.6446985], dtype=float32), 'probabilities': array([0.3553015, 0.6446985], dtype=float32), 'class_ids': array([1]), 'classes': array([b'1'], dtype=object), 'all_class_ids': array([0, 1], dtype=int32), 'all_classes': array([b'0', b'1'], dtype=object)}, {'logits': array([-0.9574715], dtype=float32), 'logistic': array([0.27738473], dtype=float32), 'probabilities': array([0.7226153 , 0.27738473], dtype=float32), 'class_ids': array([0]), 'classes': array([b'0'], dtype=object), 'all_class_ids': array([0, 1], dtype=int32), 'all_classes': array([b'0', b'1'], dtype=object)}, {'logits': array([1.127739], dtype=float32), 'logistic': array([0.7554214], dtype=float32), 'probabilities': array([0.24457859, 0.75542134], dtype=float32), 'class_ids': array([1]), 'classes': array([b'1'], dtype=object), 'all_class_ids': array([0, 1], dtype=int32), 'all_classes': array([b'0', b'1'], dtype=object)}, {'logits': array([0.29262176], dtype=float32), 'logistic': array([0.5726379], dtype=float32), 'probabilities': array([0.42736214, 0.57263786], dtype=float32), 'class_ids': array([1]), 'classes': array([b'1'], dtype=object), 'all_class_ids': array([0, 1], dtype=int32), 'all_classes': array([b'0', b'1'], dtype=object)}, {'logits': array([-2.0608153], dtype=float32), 'logistic': array([0.1129641], dtype=float32), 'probabilities': array([0.8870359, 0.1129641], dtype=float32), 'class_ids': array([0]), 'classes': array([b'0'], dtype=object), 'all_class_ids': array([0, 1], dtype=int32), 'all_classes': array([b'0', b'1'], dtype=object)}, {'logits': array([0.466229], dtype=float32), 'logistic': array([0.6144908], dtype=float32), 'probabilities': array([0.3855092, 0.6144908], dtype=float32), 'class_ids': array([1]), 'classes': array([b'1'], dtype=object), 'all_class_ids': array([0, 1], dtype=int32), 'all_classes': array([b'0', b'1'], dtype=object)}, {'logits': array([1.0245014], dtype=float32), 'logistic': array([0.7358485], dtype=float32), 'probabilities': array([0.26415148, 0.7358484 ], dtype=float32), 'class_ids': array([1]), 'classes': array([b'1'], dtype=object), 'all_class_ids': array([0, 1], dtype=int32), 'all_classes': array([b'0', b'1'], dtype=object)}, {'logits': array([0.7929201], dtype=float32), 'logistic': array([0.688458], dtype=float32), 'probabilities': array([0.31154203, 0.688458  ], dtype=float32), 'class_ids': array([1]), 'classes': array([b'1'], dtype=object), 'all_class_ids': array([0, 1], dtype=int32), 'all_classes': array([b'0', b'1'], dtype=object)}, {'logits': array([-2.0616596], dtype=float32), 'logistic': array([0.11287954], dtype=float32), 'probabilities': array([0.88712054, 0.11287954], dtype=float32), 'class_ids': array([0]), 'classes': array([b'0'], dtype=object), 'all_class_ids': array([0, 1], dtype=int32), 'all_classes': array([b'0', b'1'], dtype=object)}, {'logits': array([1.6427668], dtype=float32), 'logistic': array([0.83791107], dtype=float32), 'probabilities': array([0.16208893, 0.83791107], dtype=float32), 'class_ids': array([1]), 'classes': array([b'1'], dtype=object), 'all_class_ids': array([0, 1], dtype=int32), 'all_classes': array([b'0', b'1'], dtype=object)}, {'logits': array([-0.4226192], dtype=float32), 'logistic': array([0.39589018], dtype=float32), 'probabilities': array([0.6041098 , 0.39589018], dtype=float32), 'class_ids': array([0]), 'classes': array([b'0'], dtype=object), 'all_class_ids': array([0, 1], dtype=int32), 'all_classes': array([b'0', b'1'], dtype=object)}, {'logits': array([1.6539], dtype=float32), 'logistic': array([0.83941746], dtype=float32), 'probabilities': array([0.16058254, 0.8394174 ], dtype=float32), 'class_ids': array([1]), 'classes': array([b'1'], dtype=object), 'all_class_ids': array([0, 1], dtype=int32), 'all_classes': array([b'0', b'1'], dtype=object)}, {'logits': array([0.07563296], dtype=float32), 'logistic': array([0.5188992], dtype=float32), 'probabilities': array([0.4811008 , 0.51889926], dtype=float32), 'class_ids': array([1]), 'classes': array([b'1'], dtype=object), 'all_class_ids': array([0, 1], dtype=int32), 'all_classes': array([b'0', b'1'], dtype=object)}, {'logits': array([-1.6187687], dtype=float32), 'logistic': array([0.16537476], dtype=float32), 'probabilities': array([0.83462524, 0.16537476], dtype=float32), 'class_ids': array([0]), 'classes': array([b'0'], dtype=object), 'all_class_ids': array([0, 1], dtype=int32), 'all_classes': array([b'0', b'1'], dtype=object)}, {'logits': array([1.5531904], dtype=float32), 'logistic': array([0.825374], dtype=float32), 'probabilities': array([0.17462596, 0.82537407], dtype=float32), 'class_ids': array([1]), 'classes': array([b'1'], dtype=object), 'all_class_ids': array([0, 1], dtype=int32), 'all_classes': array([b'0', b'1'], dtype=object)}, {'logits': array([-0.47941574], dtype=float32), 'logistic': array([0.3823901], dtype=float32), 'probabilities': array([0.61760986, 0.38239008], dtype=float32), 'class_ids': array([0]), 'classes': array([b'0'], dtype=object), 'all_class_ids': array([0, 1], dtype=int32), 'all_classes': array([b'0', b'1'], dtype=object)}, {'logits': array([-2.2662776], dtype=float32), 'logistic': array([0.09395462], dtype=float32), 'probabilities': array([0.9060454 , 0.09395462], dtype=float32), 'class_ids': array([0]), 'classes': array([b'0'], dtype=object), 'all_class_ids': array([0, 1], dtype=int32), 'all_classes': array([b'0', b'1'], dtype=object)}, {'logits': array([-2.0357935], dtype=float32), 'logistic': array([0.11549575], dtype=float32), 'probabilities': array([0.8845042 , 0.11549574], dtype=float32), 'class_ids': array([0]), 'classes': array([b'0'], dtype=object), 'all_class_ids': array([0, 1], dtype=int32), 'all_classes': array([b'0', b'1'], dtype=object)}, {'logits': array([-2.4238002], dtype=float32), 'logistic': array([0.08137573], dtype=float32), 'probabilities': array([0.91862434, 0.08137573], dtype=float32), 'class_ids': array([0]), 'classes': array([b'0'], dtype=object), 'all_class_ids': array([0, 1], dtype=int32), 'all_classes': array([b'0', b'1'], dtype=object)}, {'logits': array([0.6661614], dtype=float32), 'logistic': array([0.6606431], dtype=float32), 'probabilities': array([0.3393569, 0.6606431], dtype=float32), 'class_ids': array([1]), 'classes': array([b'1'], dtype=object), 'all_class_ids': array([0, 1], dtype=int32), 'all_classes': array([b'0', b'1'], dtype=object)}, {'logits': array([-2.4979432], dtype=float32), 'logistic': array([0.07600249], dtype=float32), 'probabilities': array([0.92399746, 0.07600249], dtype=float32), 'class_ids': array([0]), 'classes': array([b'0'], dtype=object), 'all_class_ids': array([0, 1], dtype=int32), 'all_classes': array([b'0', b'1'], dtype=object)}, {'logits': array([0.6719917], dtype=float32), 'logistic': array([0.661949], dtype=float32), 'probabilities': array([0.338051, 0.661949], dtype=float32), 'class_ids': array([1]), 'classes': array([b'1'], dtype=object), 'all_class_ids': array([0, 1], dtype=int32), 'all_classes': array([b'0', b'1'], dtype=object)}, {'logits': array([0.28867176], dtype=float32), 'logistic': array([0.57167095], dtype=float32), 'probabilities': array([0.42832908, 0.57167095], dtype=float32), 'class_ids': array([1]), 'classes': array([b'1'], dtype=object), 'all_class_ids': array([0, 1], dtype=int32), 'all_classes': array([b'0', b'1'], dtype=object)}, {'logits': array([-1.3770739], dtype=float32), 'logistic': array([0.20147938], dtype=float32), 'probabilities': array([0.7985207 , 0.20147938], dtype=float32), 'class_ids': array([0]), 'classes': array([b'0'], dtype=object), 'all_class_ids': array([0, 1], dtype=int32), 'all_classes': array([b'0', b'1'], dtype=object)}, {'logits': array([-0.8736571], dtype=float32), 'logistic': array([0.2944939], dtype=float32), 'probabilities': array([0.7055061, 0.2944939], dtype=float32), 'class_ids': array([0]), 'classes': array([b'0'], dtype=object), 'all_class_ids': array([0, 1], dtype=int32), 'all_classes': array([b'0', b'1'], dtype=object)}, {'logits': array([-1.2700571], dtype=float32), 'logistic': array([0.21924749], dtype=float32), 'probabilities': array([0.7807524 , 0.21924746], dtype=float32), 'class_ids': array([0]), 'classes': array([b'0'], dtype=object), 'all_class_ids': array([0, 1], dtype=int32), 'all_classes': array([b'0', b'1'], dtype=object)}, {'logits': array([1.6061103], dtype=float32), 'logistic': array([0.83287066], dtype=float32), 'probabilities': array([0.16712932, 0.8328706 ], dtype=float32), 'class_ids': array([1]), 'classes': array([b'1'], dtype=object), 'all_class_ids': array([0, 1], dtype=int32), 'all_classes': array([b'0', b'1'], dtype=object)}, {'logits': array([-1.7934964], dtype=float32), 'logistic': array([0.1426446], dtype=float32), 'probabilities': array([0.8573554, 0.1426446], dtype=float32), 'class_ids': array([0]), 'classes': array([b'0'], dtype=object), 'all_class_ids': array([0, 1], dtype=int32), 'all_classes': array([b'0', b'1'], dtype=object)}, {'logits': array([1.270137], dtype=float32), 'logistic': array([0.7807662], dtype=float32), 'probabilities': array([0.21923381, 0.7807662 ], dtype=float32), 'class_ids': array([1]), 'classes': array([b'1'], dtype=object), 'all_class_ids': array([0, 1], dtype=int32), 'all_classes': array([b'0', b'1'], dtype=object)}, {'logits': array([-1.372158], dtype=float32), 'logistic': array([0.20227142], dtype=float32), 'probabilities': array([0.79772854, 0.20227139], dtype=float32), 'class_ids': array([0]), 'classes': array([b'0'], dtype=object), 'all_class_ids': array([0, 1], dtype=int32), 'all_classes': array([b'0', b'1'], dtype=object)}, {'logits': array([0.5896044], dtype=float32), 'logistic': array([0.64327437], dtype=float32), 'probabilities': array([0.35672563, 0.64327437], dtype=float32), 'class_ids': array([1]), 'classes': array([b'1'], dtype=object), 'all_class_ids': array([0, 1], dtype=int32), 'all_classes': array([b'0', b'1'], dtype=object)}, {'logits': array([-1.0527394], dtype=float32), 'logistic': array([0.25869942], dtype=float32), 'probabilities': array([0.7413006 , 0.25869942], dtype=float32), 'class_ids': array([0]), 'classes': array([b'0'], dtype=object), 'all_class_ids': array([0, 1], dtype=int32), 'all_classes': array([b'0', b'1'], dtype=object)}, {'logits': array([-2.2157702], dtype=float32), 'logistic': array([0.09834323], dtype=float32), 'probabilities': array([0.9016568 , 0.09834323], dtype=float32), 'class_ids': array([0]), 'classes': array([b'0'], dtype=object), 'all_class_ids': array([0, 1], dtype=int32), 'all_classes': array([b'0', b'1'], dtype=object)}, {'logits': array([-1.5971518], dtype=float32), 'logistic': array([0.16838007], dtype=float32), 'probabilities': array([0.8316199 , 0.16838007], dtype=float32), 'class_ids': array([0]), 'classes': array([b'0'], dtype=object), 'all_class_ids': array([0, 1], dtype=int32), 'all_classes': array([b'0', b'1'], dtype=object)}, {'logits': array([-1.8087653], dtype=float32), 'logistic': array([0.14078742], dtype=float32), 'probabilities': array([0.8592127 , 0.14078744], dtype=float32), 'class_ids': array([0]), 'classes': array([b'0'], dtype=object), 'all_class_ids': array([0, 1], dtype=int32), 'all_classes': array([b'0', b'1'], dtype=object)}, {'logits': array([2.0097249], dtype=float32), 'logistic': array([0.8818144], dtype=float32), 'probabilities': array([0.11818564, 0.8818143 ], dtype=float32), 'class_ids': array([1]), 'classes': array([b'1'], dtype=object), 'all_class_ids': array([0, 1], dtype=int32), 'all_classes': array([b'0', b'1'], dtype=object)}, {'logits': array([-2.2919602], dtype=float32), 'logistic': array([0.091791], dtype=float32), 'probabilities': array([0.9082089, 0.091791 ], dtype=float32), 'class_ids': array([0]), 'classes': array([b'0'], dtype=object), 'all_class_ids': array([0, 1], dtype=int32), 'all_classes': array([b'0', b'1'], dtype=object)}, {'logits': array([0.9802134], dtype=float32), 'logistic': array([0.72715056], dtype=float32), 'probabilities': array([0.27284944, 0.72715056], dtype=float32), 'class_ids': array([1]), 'classes': array([b'1'], dtype=object), 'all_class_ids': array([0, 1], dtype=int32), 'all_classes': array([b'0', b'1'], dtype=object)}, {'logits': array([-2.0929394], dtype=float32), 'logistic': array([0.10978497], dtype=float32), 'probabilities': array([0.890215  , 0.10978496], dtype=float32), 'class_ids': array([0]), 'classes': array([b'0'], dtype=object), 'all_class_ids': array([0, 1], dtype=int32), 'all_classes': array([b'0', b'1'], dtype=object)}, {'logits': array([-0.24272892], dtype=float32), 'logistic': array([0.43961394], dtype=float32), 'probabilities': array([0.56038606, 0.43961394], dtype=float32), 'class_ids': array([0]), 'classes': array([b'0'], dtype=object), 'all_class_ids': array([0, 1], dtype=int32), 'all_classes': array([b'0', b'1'], dtype=object)}, {'logits': array([-1.0047158], dtype=float32), 'logistic': array([0.26801524], dtype=float32), 'probabilities': array([0.73198473, 0.26801524], dtype=float32), 'class_ids': array([0]), 'classes': array([b'0'], dtype=object), 'all_class_ids': array([0, 1], dtype=int32), 'all_classes': array([b'0', b'1'], dtype=object)}, {'logits': array([-1.2803855], dtype=float32), 'logistic': array([0.21748461], dtype=float32), 'probabilities': array([0.7825154 , 0.21748462], dtype=float32), 'class_ids': array([0]), 'classes': array([b'0'], dtype=object), 'all_class_ids': array([0, 1], dtype=int32), 'all_classes': array([b'0', b'1'], dtype=object)}, {'logits': array([1.2767075], dtype=float32), 'logistic': array([0.7818888], dtype=float32), 'probabilities': array([0.21811119, 0.7818888 ], dtype=float32), 'class_ids': array([1]), 'classes': array([b'1'], dtype=object), 'all_class_ids': array([0, 1], dtype=int32), 'all_classes': array([b'0', b'1'], dtype=object)}, {'logits': array([-2.0612373], dtype=float32), 'logistic': array([0.11292183], dtype=float32), 'probabilities': array([0.8870782 , 0.11292183], dtype=float32), 'class_ids': array([0]), 'classes': array([b'0'], dtype=object), 'all_class_ids': array([0, 1], dtype=int32), 'all_classes': array([b'0', b'1'], dtype=object)}, {'logits': array([-0.7127762], dtype=float32), 'logistic': array([0.3289857], dtype=float32), 'probabilities': array([0.67101425, 0.32898566], dtype=float32), 'class_ids': array([0]), 'classes': array([b'0'], dtype=object), 'all_class_ids': array([0, 1], dtype=int32), 'all_classes': array([b'0', b'1'], dtype=object)}, {'logits': array([-0.45868078], dtype=float32), 'logistic': array([0.38729885], dtype=float32), 'probabilities': array([0.6127011 , 0.38729882], dtype=float32), 'class_ids': array([0]), 'classes': array([b'0'], dtype=object), 'all_class_ids': array([0, 1], dtype=int32), 'all_classes': array([b'0', b'1'], dtype=object)}, {'logits': array([-0.5045097], dtype=float32), 'logistic': array([0.37648147], dtype=float32), 'probabilities': array([0.6235186 , 0.37648147], dtype=float32), 'class_ids': array([0]), 'classes': array([b'0'], dtype=object), 'all_class_ids': array([0, 1], dtype=int32), 'all_classes': array([b'0', b'1'], dtype=object)}, {'logits': array([-2.1323035], dtype=float32), 'logistic': array([0.10599651], dtype=float32), 'probabilities': array([0.89400345, 0.1059965 ], dtype=float32), 'class_ids': array([0]), 'classes': array([b'0'], dtype=object), 'all_class_ids': array([0, 1], dtype=int32), 'all_classes': array([b'0', b'1'], dtype=object)}, {'logits': array([-1.2180613], dtype=float32), 'logistic': array([0.2282778], dtype=float32), 'probabilities': array([0.77172214, 0.22827777], dtype=float32), 'class_ids': array([0]), 'classes': array([b'0'], dtype=object), 'all_class_ids': array([0, 1], dtype=int32), 'all_classes': array([b'0', b'1'], dtype=object)}, {'logits': array([-2.6194062], dtype=float32), 'logistic': array([0.06789987], dtype=float32), 'probabilities': array([0.9321002 , 0.06789987], dtype=float32), 'class_ids': array([0]), 'classes': array([b'0'], dtype=object), 'all_class_ids': array([0, 1], dtype=int32), 'all_classes': array([b'0', b'1'], dtype=object)}, {'logits': array([-2.116796], dtype=float32), 'logistic': array([0.10747502], dtype=float32), 'probabilities': array([0.8925249 , 0.10747502], dtype=float32), 'class_ids': array([0]), 'classes': array([b'0'], dtype=object), 'all_class_ids': array([0, 1], dtype=int32), 'all_classes': array([b'0', b'1'], dtype=object)}, {'logits': array([-1.9837669], dtype=float32), 'logistic': array([0.12091785], dtype=float32), 'probabilities': array([0.87908214, 0.12091785], dtype=float32), 'class_ids': array([0]), 'classes': array([b'0'], dtype=object), 'all_class_ids': array([0, 1], dtype=int32), 'all_classes': array([b'0', b'1'], dtype=object)}, {'logits': array([-2.1412401], dtype=float32), 'logistic': array([0.10515264], dtype=float32), 'probabilities': array([0.89484733, 0.10515264], dtype=float32), 'class_ids': array([0]), 'classes': array([b'0'], dtype=object), 'all_class_ids': array([0, 1], dtype=int32), 'all_classes': array([b'0', b'1'], dtype=object)}, {'logits': array([-1.5005718], dtype=float32), 'logistic': array([0.18234025], dtype=float32), 'probabilities': array([0.81765974, 0.18234025], dtype=float32), 'class_ids': array([0]), 'classes': array([b'0'], dtype=object), 'all_class_ids': array([0, 1], dtype=int32), 'all_classes': array([b'0', b'1'], dtype=object)}, {'logits': array([3.012811], dtype=float32), 'logistic': array([0.95314956], dtype=float32), 'probabilities': array([0.04685046, 0.95314956], dtype=float32), 'class_ids': array([1]), 'classes': array([b'1'], dtype=object), 'all_class_ids': array([0, 1], dtype=int32), 'all_classes': array([b'0', b'1'], dtype=object)}, {'logits': array([-1.4235235], dtype=float32), 'logistic': array([0.1941098], dtype=float32), 'probabilities': array([0.80589026, 0.19410981], dtype=float32), 'class_ids': array([0]), 'classes': array([b'0'], dtype=object), 'all_class_ids': array([0, 1], dtype=int32), 'all_classes': array([b'0', b'1'], dtype=object)}, {'logits': array([-2.2411153], dtype=float32), 'logistic': array([0.0961186], dtype=float32), 'probabilities': array([0.9038814, 0.0961186], dtype=float32), 'class_ids': array([0]), 'classes': array([b'0'], dtype=object), 'all_class_ids': array([0, 1], dtype=int32), 'all_classes': array([b'0', b'1'], dtype=object)}, {'logits': array([-1.050516], dtype=float32), 'logistic': array([0.25912604], dtype=float32), 'probabilities': array([0.74087405, 0.25912604], dtype=float32), 'class_ids': array([0]), 'classes': array([b'0'], dtype=object), 'all_class_ids': array([0, 1], dtype=int32), 'all_classes': array([b'0', b'1'], dtype=object)}, {'logits': array([0.21200338], dtype=float32), 'logistic': array([0.5528032], dtype=float32), 'probabilities': array([0.44719678, 0.5528032 ], dtype=float32), 'class_ids': array([1]), 'classes': array([b'1'], dtype=object), 'all_class_ids': array([0, 1], dtype=int32), 'all_classes': array([b'0', b'1'], dtype=object)}, {'logits': array([-1.3549166], dtype=float32), 'logistic': array([0.20506774], dtype=float32), 'probabilities': array([0.7949323 , 0.20506774], dtype=float32), 'class_ids': array([0]), 'classes': array([b'0'], dtype=object), 'all_class_ids': array([0, 1], dtype=int32), 'all_classes': array([b'0', b'1'], dtype=object)}, {'logits': array([1.4550761], dtype=float32), 'logistic': array([0.81077844], dtype=float32), 'probabilities': array([0.18922158, 0.81077844], dtype=float32), 'class_ids': array([1]), 'classes': array([b'1'], dtype=object), 'all_class_ids': array([0, 1], dtype=int32), 'all_classes': array([b'0', b'1'], dtype=object)}, {'logits': array([-1.4833305], dtype=float32), 'logistic': array([0.1849249], dtype=float32), 'probabilities': array([0.81507516, 0.1849249 ], dtype=float32), 'class_ids': array([0]), 'classes': array([b'0'], dtype=object), 'all_class_ids': array([0, 1], dtype=int32), 'all_classes': array([b'0', b'1'], dtype=object)}, {'logits': array([0.5638524], dtype=float32), 'logistic': array([0.63734347], dtype=float32), 'probabilities': array([0.36265656, 0.63734347], dtype=float32), 'class_ids': array([1]), 'classes': array([b'1'], dtype=object), 'all_class_ids': array([0, 1], dtype=int32), 'all_classes': array([b'0', b'1'], dtype=object)}, {'logits': array([-0.41498557], dtype=float32), 'logistic': array([0.3977173], dtype=float32), 'probabilities': array([0.6022827, 0.3977173], dtype=float32), 'class_ids': array([0]), 'classes': array([b'0'], dtype=object), 'all_class_ids': array([0, 1], dtype=int32), 'all_classes': array([b'0', b'1'], dtype=object)}, {'logits': array([-2.1002598], dtype=float32), 'logistic': array([0.10907158], dtype=float32), 'probabilities': array([0.89092845, 0.10907158], dtype=float32), 'class_ids': array([0]), 'classes': array([b'0'], dtype=object), 'all_class_ids': array([0, 1], dtype=int32), 'all_classes': array([b'0', b'1'], dtype=object)}, {'logits': array([-1.8539481], dtype=float32), 'logistic': array([0.13541], dtype=float32), 'probabilities': array([0.8645899, 0.13541  ], dtype=float32), 'class_ids': array([0]), 'classes': array([b'0'], dtype=object), 'all_class_ids': array([0, 1], dtype=int32), 'all_classes': array([b'0', b'1'], dtype=object)}, {'logits': array([0.67994], dtype=float32), 'logistic': array([0.6637253], dtype=float32), 'probabilities': array([0.3362747, 0.6637253], dtype=float32), 'class_ids': array([1]), 'classes': array([b'1'], dtype=object), 'all_class_ids': array([0, 1], dtype=int32), 'all_classes': array([b'0', b'1'], dtype=object)}, {'logits': array([2.4230654], dtype=float32), 'logistic': array([0.9185693], dtype=float32), 'probabilities': array([0.08143066, 0.91856927], dtype=float32), 'class_ids': array([1]), 'classes': array([b'1'], dtype=object), 'all_class_ids': array([0, 1], dtype=int32), 'all_classes': array([b'0', b'1'], dtype=object)}, {'logits': array([-0.42708424], dtype=float32), 'logistic': array([0.3948228], dtype=float32), 'probabilities': array([0.6051772 , 0.39482284], dtype=float32), 'class_ids': array([0]), 'classes': array([b'0'], dtype=object), 'all_class_ids': array([0, 1], dtype=int32), 'all_classes': array([b'0', b'1'], dtype=object)}, {'logits': array([-2.88567], dtype=float32), 'logistic': array([0.05286651], dtype=float32), 'probabilities': array([0.9471335 , 0.05286651], dtype=float32), 'class_ids': array([0]), 'classes': array([b'0'], dtype=object), 'all_class_ids': array([0, 1], dtype=int32), 'all_classes': array([b'0', b'1'], dtype=object)}, {'logits': array([-2.0094497], dtype=float32), 'logistic': array([0.11821432], dtype=float32), 'probabilities': array([0.8817857 , 0.11821432], dtype=float32), 'class_ids': array([0]), 'classes': array([b'0'], dtype=object), 'all_class_ids': array([0, 1], dtype=int32), 'all_classes': array([b'0', b'1'], dtype=object)}, {'logits': array([-1.7909076], dtype=float32), 'logistic': array([0.14296149], dtype=float32), 'probabilities': array([0.8570385 , 0.14296149], dtype=float32), 'class_ids': array([0]), 'classes': array([b'0'], dtype=object), 'all_class_ids': array([0, 1], dtype=int32), 'all_classes': array([b'0', b'1'], dtype=object)}, {'logits': array([-2.2870643], dtype=float32), 'logistic': array([0.09219997], dtype=float32), 'probabilities': array([0.9078001 , 0.09219997], dtype=float32), 'class_ids': array([0]), 'classes': array([b'0'], dtype=object), 'all_class_ids': array([0, 1], dtype=int32), 'all_classes': array([b'0', b'1'], dtype=object)}, {'logits': array([-2.0870187], dtype=float32), 'logistic': array([0.11036494], dtype=float32), 'probabilities': array([0.88963497, 0.11036494], dtype=float32), 'class_ids': array([0]), 'classes': array([b'0'], dtype=object), 'all_class_ids': array([0, 1], dtype=int32), 'all_classes': array([b'0', b'1'], dtype=object)}, {'logits': array([-1.8087653], dtype=float32), 'logistic': array([0.14078742], dtype=float32), 'probabilities': array([0.8592127 , 0.14078744], dtype=float32), 'class_ids': array([0]), 'classes': array([b'0'], dtype=object), 'all_class_ids': array([0, 1], dtype=int32), 'all_classes': array([b'0', b'1'], dtype=object)}, {'logits': array([0.94701684], dtype=float32), 'logistic': array([0.72051483], dtype=float32), 'probabilities': array([0.27948514, 0.72051483], dtype=float32), 'class_ids': array([1]), 'classes': array([b'1'], dtype=object), 'all_class_ids': array([0, 1], dtype=int32), 'all_classes': array([b'0', b'1'], dtype=object)}, {'logits': array([3.2698743], dtype=float32), 'logistic': array([0.96338075], dtype=float32), 'probabilities': array([0.03661926, 0.9633807 ], dtype=float32), 'class_ids': array([1]), 'classes': array([b'1'], dtype=object), 'all_class_ids': array([0, 1], dtype=int32), 'all_classes': array([b'0', b'1'], dtype=object)}, {'logits': array([0.59316504], dtype=float32), 'logistic': array([0.644091], dtype=float32), 'probabilities': array([0.35590896, 0.644091  ], dtype=float32), 'class_ids': array([1]), 'classes': array([b'1'], dtype=object), 'all_class_ids': array([0, 1], dtype=int32), 'all_classes': array([b'0', b'1'], dtype=object)}, {'logits': array([-0.4226192], dtype=float32), 'logistic': array([0.39589018], dtype=float32), 'probabilities': array([0.6041098 , 0.39589018], dtype=float32), 'class_ids': array([0]), 'classes': array([b'0'], dtype=object), 'all_class_ids': array([0, 1], dtype=int32), 'all_classes': array([b'0', b'1'], dtype=object)}, {'logits': array([-1.5517608], dtype=float32), 'logistic': array([0.17483209], dtype=float32), 'probabilities': array([0.82516783, 0.17483209], dtype=float32), 'class_ids': array([0]), 'classes': array([b'0'], dtype=object), 'all_class_ids': array([0, 1], dtype=int32), 'all_classes': array([b'0', b'1'], dtype=object)}, {'logits': array([2.5605524], dtype=float32), 'logistic': array([0.9282792], dtype=float32), 'probabilities': array([0.07172076, 0.9282793 ], dtype=float32), 'class_ids': array([1]), 'classes': array([b'1'], dtype=object), 'all_class_ids': array([0, 1], dtype=int32), 'all_classes': array([b'0', b'1'], dtype=object)}, {'logits': array([-2.194999], dtype=float32), 'logistic': array([0.10020048], dtype=float32), 'probabilities': array([0.8997995 , 0.10020048], dtype=float32), 'class_ids': array([0]), 'classes': array([b'0'], dtype=object), 'all_class_ids': array([0, 1], dtype=int32), 'all_classes': array([b'0', b'1'], dtype=object)}, {'logits': array([-0.14003786], dtype=float32), 'logistic': array([0.46504763], dtype=float32), 'probabilities': array([0.5349524 , 0.46504766], dtype=float32), 'class_ids': array([0]), 'classes': array([b'0'], dtype=object), 'all_class_ids': array([0, 1], dtype=int32), 'all_classes': array([b'0', b'1'], dtype=object)}, {'logits': array([0.53843725], dtype=float32), 'logistic': array([0.6314488], dtype=float32), 'probabilities': array([0.3685512, 0.6314488], dtype=float32), 'class_ids': array([1]), 'classes': array([b'1'], dtype=object), 'all_class_ids': array([0, 1], dtype=int32), 'all_classes': array([b'0', b'1'], dtype=object)}, {'logits': array([-2.113582], dtype=float32), 'logistic': array([0.10778373], dtype=float32), 'probabilities': array([0.8922164 , 0.10778373], dtype=float32), 'class_ids': array([0]), 'classes': array([b'0'], dtype=object), 'all_class_ids': array([0, 1], dtype=int32), 'all_classes': array([b'0', b'1'], dtype=object)}, {'logits': array([1.5317613], dtype=float32), 'logistic': array([0.8222639], dtype=float32), 'probabilities': array([0.17773613, 0.82226384], dtype=float32), 'class_ids': array([1]), 'classes': array([b'1'], dtype=object), 'all_class_ids': array([0, 1], dtype=int32), 'all_classes': array([b'0', b'1'], dtype=object)}, {'logits': array([1.7194904], dtype=float32), 'logistic': array([0.8480632], dtype=float32), 'probabilities': array([0.15193681, 0.8480632 ], dtype=float32), 'class_ids': array([1]), 'classes': array([b'1'], dtype=object), 'all_class_ids': array([0, 1], dtype=int32), 'all_classes': array([b'0', b'1'], dtype=object)}, {'logits': array([3.2419066], dtype=float32), 'logistic': array([0.9623812], dtype=float32), 'probabilities': array([0.0376188, 0.9623812], dtype=float32), 'class_ids': array([1]), 'classes': array([b'1'], dtype=object), 'all_class_ids': array([0, 1], dtype=int32), 'all_classes': array([b'0', b'1'], dtype=object)}, {'logits': array([-1.423598], dtype=float32), 'logistic': array([0.19409813], dtype=float32), 'probabilities': array([0.80590177, 0.19409811], dtype=float32), 'class_ids': array([0]), 'classes': array([b'0'], dtype=object), 'all_class_ids': array([0, 1], dtype=int32), 'all_classes': array([b'0', b'1'], dtype=object)}, {'logits': array([-2.210733], dtype=float32), 'logistic': array([0.09879079], dtype=float32), 'probabilities': array([0.9012091 , 0.09879079], dtype=float32), 'class_ids': array([0]), 'classes': array([b'0'], dtype=object), 'all_class_ids': array([0, 1], dtype=int32), 'all_classes': array([b'0', b'1'], dtype=object)}, {'logits': array([3.2598615], dtype=float32), 'logistic': array([0.96302587], dtype=float32), 'probabilities': array([0.03697414, 0.9630258 ], dtype=float32), 'class_ids': array([1]), 'classes': array([b'1'], dtype=object), 'all_class_ids': array([0, 1], dtype=int32), 'all_classes': array([b'0', b'1'], dtype=object)}, {'logits': array([-0.24352702], dtype=float32), 'logistic': array([0.43941733], dtype=float32), 'probabilities': array([0.56058264, 0.43941733], dtype=float32), 'class_ids': array([0]), 'classes': array([b'0'], dtype=object), 'all_class_ids': array([0, 1], dtype=int32), 'all_classes': array([b'0', b'1'], dtype=object)}, {'logits': array([1.5339726], dtype=float32), 'logistic': array([0.82258683], dtype=float32), 'probabilities': array([0.1774132 , 0.82258683], dtype=float32), 'class_ids': array([1]), 'classes': array([b'1'], dtype=object), 'all_class_ids': array([0, 1], dtype=int32), 'all_classes': array([b'0', b'1'], dtype=object)}, {'logits': array([-1.4868907], dtype=float32), 'logistic': array([0.18438889], dtype=float32), 'probabilities': array([0.81561106, 0.18438886], dtype=float32), 'class_ids': array([0]), 'classes': array([b'0'], dtype=object), 'all_class_ids': array([0, 1], dtype=int32), 'all_classes': array([b'0', b'1'], dtype=object)}, {'logits': array([-2.5980856], dtype=float32), 'logistic': array([0.06926172], dtype=float32), 'probabilities': array([0.93073815, 0.06926171], dtype=float32), 'class_ids': array([0]), 'classes': array([b'0'], dtype=object), 'all_class_ids': array([0, 1], dtype=int32), 'all_classes': array([b'0', b'1'], dtype=object)}, {'logits': array([-2.1082134], dtype=float32), 'logistic': array([0.10830108], dtype=float32), 'probabilities': array([0.8916989 , 0.10830107], dtype=float32), 'class_ids': array([0]), 'classes': array([b'0'], dtype=object), 'all_class_ids': array([0, 1], dtype=int32), 'all_classes': array([b'0', b'1'], dtype=object)}, {'logits': array([-0.95220184], dtype=float32), 'logistic': array([0.27844223], dtype=float32), 'probabilities': array([0.7215578 , 0.27844223], dtype=float32), 'class_ids': array([0]), 'classes': array([b'0'], dtype=object), 'all_class_ids': array([0, 1], dtype=int32), 'all_classes': array([b'0', b'1'], dtype=object)}, {'logits': array([-2.2946615], dtype=float32), 'logistic': array([0.09156606], dtype=float32), 'probabilities': array([0.908434  , 0.09156606], dtype=float32), 'class_ids': array([0]), 'classes': array([b'0'], dtype=object), 'all_class_ids': array([0, 1], dtype=int32), 'all_classes': array([b'0', b'1'], dtype=object)}, {'logits': array([0.6483177], dtype=float32), 'logistic': array([0.65663123], dtype=float32), 'probabilities': array([0.34336874, 0.65663123], dtype=float32), 'class_ids': array([1]), 'classes': array([b'1'], dtype=object), 'all_class_ids': array([0, 1], dtype=int32), 'all_classes': array([b'0', b'1'], dtype=object)}, {'logits': array([0.09584919], dtype=float32), 'logistic': array([0.52394396], dtype=float32), 'probabilities': array([0.47605604, 0.52394396], dtype=float32), 'class_ids': array([1]), 'classes': array([b'1'], dtype=object), 'all_class_ids': array([0, 1], dtype=int32), 'all_classes': array([b'0', b'1'], dtype=object)}, {'logits': array([0.42103568], dtype=float32), 'logistic': array([0.60373104], dtype=float32), 'probabilities': array([0.39626896, 0.60373104], dtype=float32), 'class_ids': array([1]), 'classes': array([b'1'], dtype=object), 'all_class_ids': array([0, 1], dtype=int32), 'all_classes': array([b'0', b'1'], dtype=object)}, {'logits': array([0.6391281], dtype=float32), 'logistic': array([0.65455633], dtype=float32), 'probabilities': array([0.34544367, 0.65455633], dtype=float32), 'class_ids': array([1]), 'classes': array([b'1'], dtype=object), 'all_class_ids': array([0, 1], dtype=int32), 'all_classes': array([b'0', b'1'], dtype=object)}, {'logits': array([-1.4727324], dtype=float32), 'logistic': array([0.18652765], dtype=float32), 'probabilities': array([0.8134723 , 0.18652764], dtype=float32), 'class_ids': array([0]), 'classes': array([b'0'], dtype=object), 'all_class_ids': array([0, 1], dtype=int32), 'all_classes': array([b'0', b'1'], dtype=object)}, {'logits': array([1.4007322], dtype=float32), 'logistic': array([0.80230004], dtype=float32), 'probabilities': array([0.19769995, 0.80230004], dtype=float32), 'class_ids': array([1]), 'classes': array([b'1'], dtype=object), 'all_class_ids': array([0, 1], dtype=int32), 'all_classes': array([b'0', b'1'], dtype=object)}, {'logits': array([1.6046792], dtype=float32), 'logistic': array([0.83267134], dtype=float32), 'probabilities': array([0.16732866, 0.8326714 ], dtype=float32), 'class_ids': array([1]), 'classes': array([b'1'], dtype=object), 'all_class_ids': array([0, 1], dtype=int32), 'all_classes': array([b'0', b'1'], dtype=object)}, {'logits': array([1.073659], dtype=float32), 'logistic': array([0.7452921], dtype=float32), 'probabilities': array([0.2547079, 0.7452921], dtype=float32), 'class_ids': array([1]), 'classes': array([b'1'], dtype=object), 'all_class_ids': array([0, 1], dtype=int32), 'all_classes': array([b'0', b'1'], dtype=object)}, {'logits': array([-2.552945], dtype=float32), 'logistic': array([0.0722289], dtype=float32), 'probabilities': array([0.9277711 , 0.07222889], dtype=float32), 'class_ids': array([0]), 'classes': array([b'0'], dtype=object), 'all_class_ids': array([0, 1], dtype=int32), 'all_classes': array([b'0', b'1'], dtype=object)}, {'logits': array([1.2779394], dtype=float32), 'logistic': array([0.7820988], dtype=float32), 'probabilities': array([0.21790117, 0.7820988 ], dtype=float32), 'class_ids': array([1]), 'classes': array([b'1'], dtype=object), 'all_class_ids': array([0, 1], dtype=int32), 'all_classes': array([b'0', b'1'], dtype=object)}, {'logits': array([0.646309], dtype=float32), 'logistic': array([0.65617824], dtype=float32), 'probabilities': array([0.3438218 , 0.65617824], dtype=float32), 'class_ids': array([1]), 'classes': array([b'1'], dtype=object), 'all_class_ids': array([0, 1], dtype=int32), 'all_classes': array([b'0', b'1'], dtype=object)}, {'logits': array([0.695263], dtype=float32), 'logistic': array([0.66713667], dtype=float32), 'probabilities': array([0.3328633 , 0.66713667], dtype=float32), 'class_ids': array([1]), 'classes': array([b'1'], dtype=object), 'all_class_ids': array([0, 1], dtype=int32), 'all_classes': array([b'0', b'1'], dtype=object)}, {'logits': array([-2.8323114], dtype=float32), 'logistic': array([0.0556029], dtype=float32), 'probabilities': array([0.9443971, 0.0556029], dtype=float32), 'class_ids': array([0]), 'classes': array([b'0'], dtype=object), 'all_class_ids': array([0, 1], dtype=int32), 'all_classes': array([b'0', b'1'], dtype=object)}, {'logits': array([2.1124258], dtype=float32), 'logistic': array([0.89210504], dtype=float32), 'probabilities': array([0.10789495, 0.89210504], dtype=float32), 'class_ids': array([1]), 'classes': array([b'1'], dtype=object), 'all_class_ids': array([0, 1], dtype=int32), 'all_classes': array([b'0', b'1'], dtype=object)}, {'logits': array([0.62194526], dtype=float32), 'logistic': array([0.6506608], dtype=float32), 'probabilities': array([0.34933916, 0.6506608 ], dtype=float32), 'class_ids': array([1]), 'classes': array([b'1'], dtype=object), 'all_class_ids': array([0, 1], dtype=int32), 'all_classes': array([b'0', b'1'], dtype=object)}, {'logits': array([-2.2668684], dtype=float32), 'logistic': array([0.09390433], dtype=float32), 'probabilities': array([0.9060956 , 0.09390433], dtype=float32), 'class_ids': array([0]), 'classes': array([b'0'], dtype=object), 'all_class_ids': array([0, 1], dtype=int32), 'all_classes': array([b'0', b'1'], dtype=object)}, {'logits': array([0.59430254], dtype=float32), 'logistic': array([0.6443517], dtype=float32), 'probabilities': array([0.3556483, 0.6443518], dtype=float32), 'class_ids': array([1]), 'classes': array([b'1'], dtype=object), 'all_class_ids': array([0, 1], dtype=int32), 'all_classes': array([b'0', b'1'], dtype=object)}, {'logits': array([-2.243296], dtype=float32), 'logistic': array([0.09592932], dtype=float32), 'probabilities': array([0.9040706 , 0.09592931], dtype=float32), 'class_ids': array([0]), 'classes': array([b'0'], dtype=object), 'all_class_ids': array([0, 1], dtype=int32), 'all_classes': array([b'0', b'1'], dtype=object)}, {'logits': array([1.2958199], dtype=float32), 'logistic': array([0.7851306], dtype=float32), 'probabilities': array([0.21486935, 0.7851306 ], dtype=float32), 'class_ids': array([1]), 'classes': array([b'1'], dtype=object), 'all_class_ids': array([0, 1], dtype=int32), 'all_classes': array([b'0', b'1'], dtype=object)}, {'logits': array([0.19480577], dtype=float32), 'logistic': array([0.548548], dtype=float32), 'probabilities': array([0.45145205, 0.54854804], dtype=float32), 'class_ids': array([1]), 'classes': array([b'1'], dtype=object), 'all_class_ids': array([0, 1], dtype=int32), 'all_classes': array([b'0', b'1'], dtype=object)}, {'logits': array([-2.1916716], dtype=float32), 'logistic': array([0.10050087], dtype=float32), 'probabilities': array([0.89949906, 0.10050087], dtype=float32), 'class_ids': array([0]), 'classes': array([b'0'], dtype=object), 'all_class_ids': array([0, 1], dtype=int32), 'all_classes': array([b'0', b'1'], dtype=object)}, {'logits': array([-0.16299197], dtype=float32), 'logistic': array([0.45934197], dtype=float32), 'probabilities': array([0.540658  , 0.45934194], dtype=float32), 'class_ids': array([0]), 'classes': array([b'0'], dtype=object), 'all_class_ids': array([0, 1], dtype=int32), 'all_classes': array([b'0', b'1'], dtype=object)}, {'logits': array([1.6658617], dtype=float32), 'logistic': array([0.84102327], dtype=float32), 'probabilities': array([0.15897672, 0.8410234 ], dtype=float32), 'class_ids': array([1]), 'classes': array([b'1'], dtype=object), 'all_class_ids': array([0, 1], dtype=int32), 'all_classes': array([b'0', b'1'], dtype=object)}, {'logits': array([-2.227554], dtype=float32), 'logistic': array([0.09730326], dtype=float32), 'probabilities': array([0.9026967 , 0.09730327], dtype=float32), 'class_ids': array([0]), 'classes': array([b'0'], dtype=object), 'all_class_ids': array([0, 1], dtype=int32), 'all_classes': array([b'0', b'1'], dtype=object)}, {'logits': array([-2.2405946], dtype=float32), 'logistic': array([0.09616385], dtype=float32), 'probabilities': array([0.90383613, 0.09616385], dtype=float32), 'class_ids': array([0]), 'classes': array([b'0'], dtype=object), 'all_class_ids': array([0, 1], dtype=int32), 'all_classes': array([b'0', b'1'], dtype=object)}, {'logits': array([0.70565856], dtype=float32), 'logistic': array([0.66944116], dtype=float32), 'probabilities': array([0.33055887, 0.66944116], dtype=float32), 'class_ids': array([1]), 'classes': array([b'1'], dtype=object), 'all_class_ids': array([0, 1], dtype=int32), 'all_classes': array([b'0', b'1'], dtype=object)}, {'logits': array([-1.9354075], dtype=float32), 'logistic': array([0.12615326], dtype=float32), 'probabilities': array([0.87384677, 0.12615326], dtype=float32), 'class_ids': array([0]), 'classes': array([b'0'], dtype=object), 'all_class_ids': array([0, 1], dtype=int32), 'all_classes': array([b'0', b'1'], dtype=object)}, {'logits': array([-1.9628619], dtype=float32), 'logistic': array([0.12315766], dtype=float32), 'probabilities': array([0.8768423 , 0.12315765], dtype=float32), 'class_ids': array([0]), 'classes': array([b'0'], dtype=object), 'all_class_ids': array([0, 1], dtype=int32), 'all_classes': array([b'0', b'1'], dtype=object)}, {'logits': array([-1.4931015], dtype=float32), 'logistic': array([0.18345667], dtype=float32), 'probabilities': array([0.8165433 , 0.18345666], dtype=float32), 'class_ids': array([0]), 'classes': array([b'0'], dtype=object), 'all_class_ids': array([0, 1], dtype=int32), 'all_classes': array([b'0', b'1'], dtype=object)}, {'logits': array([-2.4953544], dtype=float32), 'logistic': array([0.0761845], dtype=float32), 'probabilities': array([0.9238155, 0.0761845], dtype=float32), 'class_ids': array([0]), 'classes': array([b'0'], dtype=object), 'all_class_ids': array([0, 1], dtype=int32), 'all_classes': array([b'0', b'1'], dtype=object)}, {'logits': array([0.64786494], dtype=float32), 'logistic': array([0.6565292], dtype=float32), 'probabilities': array([0.3434708, 0.6565291], dtype=float32), 'class_ids': array([1]), 'classes': array([b'1'], dtype=object), 'all_class_ids': array([0, 1], dtype=int32), 'all_classes': array([b'0', b'1'], dtype=object)}, {'logits': array([-2.088285], dtype=float32), 'logistic': array([0.11024068], dtype=float32), 'probabilities': array([0.88975924, 0.11024068], dtype=float32), 'class_ids': array([0]), 'classes': array([b'0'], dtype=object), 'all_class_ids': array([0, 1], dtype=int32), 'all_classes': array([b'0', b'1'], dtype=object)}, {'logits': array([-2.8056161], dtype=float32), 'logistic': array([0.05702144], dtype=float32), 'probabilities': array([0.9429785 , 0.05702144], dtype=float32), 'class_ids': array([0]), 'classes': array([b'0'], dtype=object), 'all_class_ids': array([0, 1], dtype=int32), 'all_classes': array([b'0', b'1'], dtype=object)}, {'logits': array([-2.2919602], dtype=float32), 'logistic': array([0.091791], dtype=float32), 'probabilities': array([0.9082089, 0.091791 ], dtype=float32), 'class_ids': array([0]), 'classes': array([b'0'], dtype=object), 'all_class_ids': array([0, 1], dtype=int32), 'all_classes': array([b'0', b'1'], dtype=object)}, {'logits': array([-2.0635166], dtype=float32), 'logistic': array([0.11269371], dtype=float32), 'probabilities': array([0.8873062, 0.1126937], dtype=float32), 'class_ids': array([0]), 'classes': array([b'0'], dtype=object), 'all_class_ids': array([0, 1], dtype=int32), 'all_classes': array([b'0', b'1'], dtype=object)}, {'logits': array([-1.6608313], dtype=float32), 'logistic': array([0.15965043], dtype=float32), 'probabilities': array([0.8403496 , 0.15965044], dtype=float32), 'class_ids': array([0]), 'classes': array([b'0'], dtype=object), 'all_class_ids': array([0, 1], dtype=int32), 'all_classes': array([b'0', b'1'], dtype=object)}, {'logits': array([-1.642924], dtype=float32), 'logistic': array([0.16206759], dtype=float32), 'probabilities': array([0.83793235, 0.16206759], dtype=float32), 'class_ids': array([0]), 'classes': array([b'0'], dtype=object), 'all_class_ids': array([0, 1], dtype=int32), 'all_classes': array([b'0', b'1'], dtype=object)}, {'logits': array([2.427262], dtype=float32), 'logistic': array([0.91888267], dtype=float32), 'probabilities': array([0.08111732, 0.9188828 ], dtype=float32), 'class_ids': array([1]), 'classes': array([b'1'], dtype=object), 'all_class_ids': array([0, 1], dtype=int32), 'all_classes': array([b'0', b'1'], dtype=object)}, {'logits': array([-2.21679], dtype=float32), 'logistic': array([0.09825284], dtype=float32), 'probabilities': array([0.90174705, 0.09825283], dtype=float32), 'class_ids': array([0]), 'classes': array([b'0'], dtype=object), 'all_class_ids': array([0, 1], dtype=int32), 'all_classes': array([b'0', b'1'], dtype=object)}, {'logits': array([-2.138722], dtype=float32), 'logistic': array([0.10538983], dtype=float32), 'probabilities': array([0.89461017, 0.10538983], dtype=float32), 'class_ids': array([0]), 'classes': array([b'0'], dtype=object), 'all_class_ids': array([0, 1], dtype=int32), 'all_classes': array([b'0', b'1'], dtype=object)}, {'logits': array([0.7925123], dtype=float32), 'logistic': array([0.6883705], dtype=float32), 'probabilities': array([0.31162944, 0.6883704 ], dtype=float32), 'class_ids': array([1]), 'classes': array([b'1'], dtype=object), 'all_class_ids': array([0, 1], dtype=int32), 'all_classes': array([b'0', b'1'], dtype=object)}, {'logits': array([2.7826245], dtype=float32), 'logistic': array([0.9417296], dtype=float32), 'probabilities': array([0.05827036, 0.94172955], dtype=float32), 'class_ids': array([1]), 'classes': array([b'1'], dtype=object), 'all_class_ids': array([0, 1], dtype=int32), 'all_classes': array([b'0', b'1'], dtype=object)}, {'logits': array([-2.1917193], dtype=float32), 'logistic': array([0.10049657], dtype=float32), 'probabilities': array([0.89950347, 0.10049658], dtype=float32), 'class_ids': array([0]), 'classes': array([b'0'], dtype=object), 'all_class_ids': array([0, 1], dtype=int32), 'all_classes': array([b'0', b'1'], dtype=object)}, {'logits': array([-1.9610902], dtype=float32), 'logistic': array([0.12334911], dtype=float32), 'probabilities': array([0.8766508, 0.1233491], dtype=float32), 'class_ids': array([0]), 'classes': array([b'0'], dtype=object), 'all_class_ids': array([0, 1], dtype=int32), 'all_classes': array([b'0', b'1'], dtype=object)}, {'logits': array([-2.2405946], dtype=float32), 'logistic': array([0.09616385], dtype=float32), 'probabilities': array([0.90383613, 0.09616385], dtype=float32), 'class_ids': array([0]), 'classes': array([b'0'], dtype=object), 'all_class_ids': array([0, 1], dtype=int32), 'all_classes': array([b'0', b'1'], dtype=object)}, {'logits': array([-0.2814698], dtype=float32), 'logistic': array([0.43009344], dtype=float32), 'probabilities': array([0.56990653, 0.43009344], dtype=float32), 'class_ids': array([0]), 'classes': array([b'0'], dtype=object), 'all_class_ids': array([0, 1], dtype=int32), 'all_classes': array([b'0', b'1'], dtype=object)}, {'logits': array([-1.880032], dtype=float32), 'logistic': array([0.13238521], dtype=float32), 'probabilities': array([0.86761475, 0.13238521], dtype=float32), 'class_ids': array([0]), 'classes': array([b'0'], dtype=object), 'all_class_ids': array([0, 1], dtype=int32), 'all_classes': array([b'0', b'1'], dtype=object)}, {'logits': array([-1.6673474], dtype=float32), 'logistic': array([0.15877816], dtype=float32), 'probabilities': array([0.8412218 , 0.15877815], dtype=float32), 'class_ids': array([0]), 'classes': array([b'0'], dtype=object), 'all_class_ids': array([0, 1], dtype=int32), 'all_classes': array([b'0', b'1'], dtype=object)}, {'logits': array([-2.5235274], dtype=float32), 'logistic': array([0.07422519], dtype=float32), 'probabilities': array([0.9257748 , 0.07422519], dtype=float32), 'class_ids': array([0]), 'classes': array([b'0'], dtype=object), 'all_class_ids': array([0, 1], dtype=int32), 'all_classes': array([b'0', b'1'], dtype=object)}, {'logits': array([-1.6673332], dtype=float32), 'logistic': array([0.15878004], dtype=float32), 'probabilities': array([0.8412199 , 0.15878004], dtype=float32), 'class_ids': array([0]), 'classes': array([b'0'], dtype=object), 'all_class_ids': array([0, 1], dtype=int32), 'all_classes': array([b'0', b'1'], dtype=object)}, {'logits': array([-2.218816], dtype=float32), 'logistic': array([0.09807348], dtype=float32), 'probabilities': array([0.90192646, 0.09807348], dtype=float32), 'class_ids': array([0]), 'classes': array([b'0'], dtype=object), 'all_class_ids': array([0, 1], dtype=int32), 'all_classes': array([b'0', b'1'], dtype=object)}, {'logits': array([-1.5352389], dtype=float32), 'logistic': array([0.17722847], dtype=float32), 'probabilities': array([0.8227715 , 0.17722845], dtype=float32), 'class_ids': array([0]), 'classes': array([b'0'], dtype=object), 'all_class_ids': array([0, 1], dtype=int32), 'all_classes': array([b'0', b'1'], dtype=object)}, {'logits': array([-1.9290427], dtype=float32), 'logistic': array([0.12685657], dtype=float32), 'probabilities': array([0.8731433 , 0.12685657], dtype=float32), 'class_ids': array([0]), 'classes': array([b'0'], dtype=object), 'all_class_ids': array([0, 1], dtype=int32), 'all_classes': array([b'0', b'1'], dtype=object)}, {'logits': array([-0.77022886], dtype=float32), 'logistic': array([0.31642962], dtype=float32), 'probabilities': array([0.68357044, 0.31642962], dtype=float32), 'class_ids': array([0]), 'classes': array([b'0'], dtype=object), 'all_class_ids': array([0, 1], dtype=int32), 'all_classes': array([b'0', b'1'], dtype=object)}, {'logits': array([-1.5132507], dtype=float32), 'logistic': array([0.18045753], dtype=float32), 'probabilities': array([0.81954247, 0.18045753], dtype=float32), 'class_ids': array([0]), 'classes': array([b'0'], dtype=object), 'all_class_ids': array([0, 1], dtype=int32), 'all_classes': array([b'0', b'1'], dtype=object)}, {'logits': array([-1.8758198], dtype=float32), 'logistic': array([0.13286977], dtype=float32), 'probabilities': array([0.86713034, 0.13286977], dtype=float32), 'class_ids': array([0]), 'classes': array([b'0'], dtype=object), 'all_class_ids': array([0, 1], dtype=int32), 'all_classes': array([b'0', b'1'], dtype=object)}, {'logits': array([-1.447518], dtype=float32), 'logistic': array([0.19038384], dtype=float32), 'probabilities': array([0.80961615, 0.19038384], dtype=float32), 'class_ids': array([0]), 'classes': array([b'0'], dtype=object), 'all_class_ids': array([0, 1], dtype=int32), 'all_classes': array([b'0', b'1'], dtype=object)}, {'logits': array([0.4877328], dtype=float32), 'logistic': array([0.61957216], dtype=float32), 'probabilities': array([0.3804278 , 0.61957216], dtype=float32), 'class_ids': array([1]), 'classes': array([b'1'], dtype=object), 'all_class_ids': array([0, 1], dtype=int32), 'all_classes': array([b'0', b'1'], dtype=object)}, {'logits': array([-1.6673332], dtype=float32), 'logistic': array([0.15878004], dtype=float32), 'probabilities': array([0.8412199 , 0.15878004], dtype=float32), 'class_ids': array([0]), 'classes': array([b'0'], dtype=object), 'all_class_ids': array([0, 1], dtype=int32), 'all_classes': array([b'0', b'1'], dtype=object)}, {'logits': array([0.7929201], dtype=float32), 'logistic': array([0.688458], dtype=float32), 'probabilities': array([0.31154203, 0.688458  ], dtype=float32), 'class_ids': array([1]), 'classes': array([b'1'], dtype=object), 'all_class_ids': array([0, 1], dtype=int32), 'all_classes': array([b'0', b'1'], dtype=object)}, {'logits': array([-1.987671], dtype=float32), 'logistic': array([0.12050349], dtype=float32), 'probabilities': array([0.8794966 , 0.12050349], dtype=float32), 'class_ids': array([0]), 'classes': array([b'0'], dtype=object), 'all_class_ids': array([0, 1], dtype=int32), 'all_classes': array([b'0', b'1'], dtype=object)}, {'logits': array([2.442601], dtype=float32), 'logistic': array([0.9200187], dtype=float32), 'probabilities': array([0.07998131, 0.9200187 ], dtype=float32), 'class_ids': array([1]), 'classes': array([b'1'], dtype=object), 'all_class_ids': array([0, 1], dtype=int32), 'all_classes': array([b'0', b'1'], dtype=object)}, {'logits': array([1.058207], dtype=float32), 'logistic': array([0.7423478], dtype=float32), 'probabilities': array([0.25765222, 0.7423477 ], dtype=float32), 'class_ids': array([1]), 'classes': array([b'1'], dtype=object), 'all_class_ids': array([0, 1], dtype=int32), 'all_classes': array([b'0', b'1'], dtype=object)}, {'logits': array([-2.3437479], dtype=float32), 'logistic': array([0.08756401], dtype=float32), 'probabilities': array([0.912436  , 0.08756401], dtype=float32), 'class_ids': array([0]), 'classes': array([b'0'], dtype=object), 'all_class_ids': array([0, 1], dtype=int32), 'all_classes': array([b'0', b'1'], dtype=object)}, {'logits': array([2.4110007], dtype=float32), 'logistic': array([0.9176623], dtype=float32), 'probabilities': array([0.08233766, 0.91766226], dtype=float32), 'class_ids': array([1]), 'classes': array([b'1'], dtype=object), 'all_class_ids': array([0, 1], dtype=int32), 'all_classes': array([b'0', b'1'], dtype=object)}, {'logits': array([-2.0730634], dtype=float32), 'logistic': array([0.11174262], dtype=float32), 'probabilities': array([0.8882574 , 0.11174262], dtype=float32), 'class_ids': array([0]), 'classes': array([b'0'], dtype=object), 'all_class_ids': array([0, 1], dtype=int32), 'all_classes': array([b'0', b'1'], dtype=object)}, {'logits': array([-1.6623249], dtype=float32), 'logistic': array([0.15945014], dtype=float32), 'probabilities': array([0.8405498 , 0.15945016], dtype=float32), 'class_ids': array([0]), 'classes': array([b'0'], dtype=object), 'all_class_ids': array([0, 1], dtype=int32), 'all_classes': array([b'0', b'1'], dtype=object)}, {'logits': array([2.706889], dtype=float32), 'logistic': array([0.93743193], dtype=float32), 'probabilities': array([0.06256808, 0.93743193], dtype=float32), 'class_ids': array([1]), 'classes': array([b'1'], dtype=object), 'all_class_ids': array([0, 1], dtype=int32), 'all_classes': array([b'0', b'1'], dtype=object)}, {'logits': array([-2.086498], dtype=float32), 'logistic': array([0.11041608], dtype=float32), 'probabilities': array([0.8895838 , 0.11041608], dtype=float32), 'class_ids': array([0]), 'classes': array([b'0'], dtype=object), 'all_class_ids': array([0, 1], dtype=int32), 'all_classes': array([b'0', b'1'], dtype=object)}, {'logits': array([1.2295212], dtype=float32), 'logistic': array([0.7737347], dtype=float32), 'probabilities': array([0.22626527, 0.7737348 ], dtype=float32), 'class_ids': array([1]), 'classes': array([b'1'], dtype=object), 'all_class_ids': array([0, 1], dtype=int32), 'all_classes': array([b'0', b'1'], dtype=object)}, {'logits': array([-2.2411153], dtype=float32), 'logistic': array([0.0961186], dtype=float32), 'probabilities': array([0.9038814, 0.0961186], dtype=float32), 'class_ids': array([0]), 'classes': array([b'0'], dtype=object), 'all_class_ids': array([0, 1], dtype=int32), 'all_classes': array([b'0', b'1'], dtype=object)}, {'logits': array([-0.94908714], dtype=float32), 'logistic': array([0.27906844], dtype=float32), 'probabilities': array([0.72093153, 0.27906844], dtype=float32), 'class_ids': array([0]), 'classes': array([b'0'], dtype=object), 'all_class_ids': array([0, 1], dtype=int32), 'all_classes': array([b'0', b'1'], dtype=object)}, {'logits': array([-2.651519], dtype=float32), 'logistic': array([0.06589545], dtype=float32), 'probabilities': array([0.9341045 , 0.06589545], dtype=float32), 'class_ids': array([0]), 'classes': array([b'0'], dtype=object), 'all_class_ids': array([0, 1], dtype=int32), 'all_classes': array([b'0', b'1'], dtype=object)}, {'logits': array([-1.9354075], dtype=float32), 'logistic': array([0.12615326], dtype=float32), 'probabilities': array([0.87384677, 0.12615326], dtype=float32), 'class_ids': array([0]), 'classes': array([b'0'], dtype=object), 'all_class_ids': array([0, 1], dtype=int32), 'all_classes': array([b'0', b'1'], dtype=object)}, {'logits': array([0.5390829], dtype=float32), 'logistic': array([0.63159907], dtype=float32), 'probabilities': array([0.36840093, 0.631599  ], dtype=float32), 'class_ids': array([1]), 'classes': array([b'1'], dtype=object), 'all_class_ids': array([0, 1], dtype=int32), 'all_classes': array([b'0', b'1'], dtype=object)}, {'logits': array([2.1925986], dtype=float32), 'logistic': array([0.89958286], dtype=float32), 'probabilities': array([0.10041711, 0.8995829 ], dtype=float32), 'class_ids': array([1]), 'classes': array([b'1'], dtype=object), 'all_class_ids': array([0, 1], dtype=int32), 'all_classes': array([b'0', b'1'], dtype=object)}, {'logits': array([-1.6444514], dtype=float32), 'logistic': array([0.16186027], dtype=float32), 'probabilities': array([0.8381398 , 0.16186029], dtype=float32), 'class_ids': array([0]), 'classes': array([b'0'], dtype=object), 'all_class_ids': array([0, 1], dtype=int32), 'all_classes': array([b'0', b'1'], dtype=object)}, {'logits': array([-0.6557249], dtype=float32), 'logistic': array([0.34170064], dtype=float32), 'probabilities': array([0.6582994, 0.3417006], dtype=float32), 'class_ids': array([0]), 'classes': array([b'0'], dtype=object), 'all_class_ids': array([0, 1], dtype=int32), 'all_classes': array([b'0', b'1'], dtype=object)}, {'logits': array([-2.0614765], dtype=float32), 'logistic': array([0.11289788], dtype=float32), 'probabilities': array([0.8871021 , 0.11289788], dtype=float32), 'class_ids': array([0]), 'classes': array([b'0'], dtype=object), 'all_class_ids': array([0, 1], dtype=int32), 'all_classes': array([b'0', b'1'], dtype=object)}, {'logits': array([-2.0336342], dtype=float32), 'logistic': array([0.11571652], dtype=float32), 'probabilities': array([0.8842834 , 0.11571652], dtype=float32), 'class_ids': array([0]), 'classes': array([b'0'], dtype=object), 'all_class_ids': array([0, 1], dtype=int32), 'all_classes': array([b'0', b'1'], dtype=object)}, {'logits': array([-1.0922527], dtype=float32), 'logistic': array([0.25119433], dtype=float32), 'probabilities': array([0.74880564, 0.2511943 ], dtype=float32), 'class_ids': array([0]), 'classes': array([b'0'], dtype=object), 'all_class_ids': array([0, 1], dtype=int32), 'all_classes': array([b'0', b'1'], dtype=object)}, {'logits': array([-1.3963865], dtype=float32), 'logistic': array([0.19839014], dtype=float32), 'probabilities': array([0.80160975, 0.19839013], dtype=float32), 'class_ids': array([0]), 'classes': array([b'0'], dtype=object), 'all_class_ids': array([0, 1], dtype=int32), 'all_classes': array([b'0', b'1'], dtype=object)}, {'logits': array([3.0951183], dtype=float32), 'logistic': array([0.9566909], dtype=float32), 'probabilities': array([0.04330907, 0.95669097], dtype=float32), 'class_ids': array([1]), 'classes': array([b'1'], dtype=object), 'all_class_ids': array([0, 1], dtype=int32), 'all_classes': array([b'0', b'1'], dtype=object)}, {'logits': array([0.10777214], dtype=float32), 'logistic': array([0.526917], dtype=float32), 'probabilities': array([0.47308302, 0.526917  ], dtype=float32), 'class_ids': array([1]), 'classes': array([b'1'], dtype=object), 'all_class_ids': array([0, 1], dtype=int32), 'all_classes': array([b'0', b'1'], dtype=object)}, {'logits': array([-2.0099704], dtype=float32), 'logistic': array([0.11816006], dtype=float32), 'probabilities': array([0.88183993, 0.11816006], dtype=float32), 'class_ids': array([0]), 'classes': array([b'0'], dtype=object), 'all_class_ids': array([0, 1], dtype=int32), 'all_classes': array([b'0', b'1'], dtype=object)}, {'logits': array([-0.69655454], dtype=float32), 'logistic': array([0.33257657], dtype=float32), 'probabilities': array([0.6674234 , 0.33257657], dtype=float32), 'class_ids': array([0]), 'classes': array([b'0'], dtype=object), 'all_class_ids': array([0, 1], dtype=int32), 'all_classes': array([b'0', b'1'], dtype=object)}, {'logits': array([0.7931876], dtype=float32), 'logistic': array([0.68851537], dtype=float32), 'probabilities': array([0.3114846, 0.6885153], dtype=float32), 'class_ids': array([1]), 'classes': array([b'1'], dtype=object), 'all_class_ids': array([0, 1], dtype=int32), 'all_classes': array([b'0', b'1'], dtype=object)}, {'logits': array([1.0463715], dtype=float32), 'logistic': array([0.7400775], dtype=float32), 'probabilities': array([0.25992247, 0.7400775 ], dtype=float32), 'class_ids': array([1]), 'classes': array([b'1'], dtype=object), 'all_class_ids': array([0, 1], dtype=int32), 'all_classes': array([b'0', b'1'], dtype=object)}, {'logits': array([-1.3207924], dtype=float32), 'logistic': array([0.21068649], dtype=float32), 'probabilities': array([0.7893136, 0.2106865], dtype=float32), 'class_ids': array([0]), 'classes': array([b'0'], dtype=object), 'all_class_ids': array([0, 1], dtype=int32), 'all_classes': array([b'0', b'1'], dtype=object)}, {'logits': array([-0.640833], dtype=float32), 'logistic': array([0.3450583], dtype=float32), 'probabilities': array([0.65494174, 0.34505826], dtype=float32), 'class_ids': array([0]), 'classes': array([b'0'], dtype=object), 'all_class_ids': array([0, 1], dtype=int32), 'all_classes': array([b'0', b'1'], dtype=object)}, {'logits': array([-1.9755408], dtype=float32), 'logistic': array([0.121795], dtype=float32), 'probabilities': array([0.878205, 0.121795], dtype=float32), 'class_ids': array([0]), 'classes': array([b'0'], dtype=object), 'all_class_ids': array([0, 1], dtype=int32), 'all_classes': array([b'0', b'1'], dtype=object)}, {'logits': array([-1.6595844], dtype=float32), 'logistic': array([0.1598178], dtype=float32), 'probabilities': array([0.84018224, 0.1598178 ], dtype=float32), 'class_ids': array([0]), 'classes': array([b'0'], dtype=object), 'all_class_ids': array([0, 1], dtype=int32), 'all_classes': array([b'0', b'1'], dtype=object)}, {'logits': array([1.8063304], dtype=float32), 'logistic': array([0.8589178], dtype=float32), 'probabilities': array([0.14108223, 0.85891783], dtype=float32), 'class_ids': array([1]), 'classes': array([b'1'], dtype=object), 'all_class_ids': array([0, 1], dtype=int32), 'all_classes': array([b'0', b'1'], dtype=object)}, {'logits': array([-2.5363243], dtype=float32), 'logistic': array([0.07335062], dtype=float32), 'probabilities': array([0.92664933, 0.07335062], dtype=float32), 'class_ids': array([0]), 'classes': array([b'0'], dtype=object), 'all_class_ids': array([0, 1], dtype=int32), 'all_classes': array([b'0', b'1'], dtype=object)}, {'logits': array([-2.1507049], dtype=float32), 'logistic': array([0.10426538], dtype=float32), 'probabilities': array([0.89573467, 0.10426538], dtype=float32), 'class_ids': array([0]), 'classes': array([b'0'], dtype=object), 'all_class_ids': array([0, 1], dtype=int32), 'all_classes': array([b'0', b'1'], dtype=object)}, {'logits': array([0.10258928], dtype=float32), 'logistic': array([0.5256249], dtype=float32), 'probabilities': array([0.4743752, 0.5256249], dtype=float32), 'class_ids': array([1]), 'classes': array([b'1'], dtype=object), 'all_class_ids': array([0, 1], dtype=int32), 'all_classes': array([b'0', b'1'], dtype=object)}, {'logits': array([0.79422855], dtype=float32), 'logistic': array([0.6887386], dtype=float32), 'probabilities': array([0.31126142, 0.6887385 ], dtype=float32), 'class_ids': array([1]), 'classes': array([b'1'], dtype=object), 'all_class_ids': array([0, 1], dtype=int32), 'all_classes': array([b'0', b'1'], dtype=object)}, {'logits': array([-0.97648835], dtype=float32), 'logistic': array([0.27358913], dtype=float32), 'probabilities': array([0.7264108, 0.2735891], dtype=float32), 'class_ids': array([0]), 'classes': array([b'0'], dtype=object), 'all_class_ids': array([0, 1], dtype=int32), 'all_classes': array([b'0', b'1'], dtype=object)}, {'logits': array([-2.3574526], dtype=float32), 'logistic': array([0.08647522], dtype=float32), 'probabilities': array([0.91352487, 0.08647523], dtype=float32), 'class_ids': array([0]), 'classes': array([b'0'], dtype=object), 'all_class_ids': array([0, 1], dtype=int32), 'all_classes': array([b'0', b'1'], dtype=object)}, {'logits': array([-1.5902991], dtype=float32), 'logistic': array([0.16934182], dtype=float32), 'probabilities': array([0.8306582 , 0.16934182], dtype=float32), 'class_ids': array([0]), 'classes': array([b'0'], dtype=object), 'all_class_ids': array([0, 1], dtype=int32), 'all_classes': array([b'0', b'1'], dtype=object)}, {'logits': array([-2.0639045], dtype=float32), 'logistic': array([0.11265493], dtype=float32), 'probabilities': array([0.8873451 , 0.11265493], dtype=float32), 'class_ids': array([0]), 'classes': array([b'0'], dtype=object), 'all_class_ids': array([0, 1], dtype=int32), 'all_classes': array([b'0', b'1'], dtype=object)}, {'logits': array([-2.651519], dtype=float32), 'logistic': array([0.06589545], dtype=float32), 'probabilities': array([0.9341045 , 0.06589545], dtype=float32), 'class_ids': array([0]), 'classes': array([b'0'], dtype=object), 'all_class_ids': array([0, 1], dtype=int32), 'all_classes': array([b'0', b'1'], dtype=object)}, {'logits': array([-2.1926012], dtype=float32), 'logistic': array([0.10041687], dtype=float32), 'probabilities': array([0.8995831 , 0.10041687], dtype=float32), 'class_ids': array([0]), 'classes': array([b'0'], dtype=object), 'all_class_ids': array([0, 1], dtype=int32), 'all_classes': array([b'0', b'1'], dtype=object)}, {'logits': array([3.23186], dtype=float32), 'logistic': array([0.96201575], dtype=float32), 'probabilities': array([0.03798423, 0.96201575], dtype=float32), 'class_ids': array([1]), 'classes': array([b'1'], dtype=object), 'all_class_ids': array([0, 1], dtype=int32), 'all_classes': array([b'0', b'1'], dtype=object)}, {'logits': array([1.3217689], dtype=float32), 'logistic': array([0.7894759], dtype=float32), 'probabilities': array([0.21052414, 0.7894758 ], dtype=float32), 'class_ids': array([1]), 'classes': array([b'1'], dtype=object), 'all_class_ids': array([0, 1], dtype=int32), 'all_classes': array([b'0', b'1'], dtype=object)}, {'logits': array([-2.2170868], dtype=float32), 'logistic': array([0.09822655], dtype=float32), 'probabilities': array([0.9017734 , 0.09822654], dtype=float32), 'class_ids': array([0]), 'classes': array([b'0'], dtype=object), 'all_class_ids': array([0, 1], dtype=int32), 'all_classes': array([b'0', b'1'], dtype=object)}, {'logits': array([0.84420216], dtype=float32), 'logistic': array([0.69934946], dtype=float32), 'probabilities': array([0.3006505 , 0.69934946], dtype=float32), 'class_ids': array([1]), 'classes': array([b'1'], dtype=object), 'all_class_ids': array([0, 1], dtype=int32), 'all_classes': array([b'0', b'1'], dtype=object)}, {'logits': array([-0.4355665], dtype=float32), 'logistic': array([0.3927979], dtype=float32), 'probabilities': array([0.6072022 , 0.39279792], dtype=float32), 'class_ids': array([0]), 'classes': array([b'0'], dtype=object), 'all_class_ids': array([0, 1], dtype=int32), 'all_classes': array([b'0', b'1'], dtype=object)}, {'logits': array([-2.0655928], dtype=float32), 'logistic': array([0.11248628], dtype=float32), 'probabilities': array([0.88751376, 0.11248628], dtype=float32), 'class_ids': array([0]), 'classes': array([b'0'], dtype=object), 'all_class_ids': array([0, 1], dtype=int32), 'all_classes': array([b'0', b'1'], dtype=object)}, {'logits': array([-1.988643], dtype=float32), 'logistic': array([0.1204005], dtype=float32), 'probabilities': array([0.8795995, 0.1204005], dtype=float32), 'class_ids': array([0]), 'classes': array([b'0'], dtype=object), 'all_class_ids': array([0, 1], dtype=int32), 'all_classes': array([b'0', b'1'], dtype=object)}, {'logits': array([-1.603303], dtype=float32), 'logistic': array([0.1675205], dtype=float32), 'probabilities': array([0.83247954, 0.1675205 ], dtype=float32), 'class_ids': array([0]), 'classes': array([b'0'], dtype=object), 'all_class_ids': array([0, 1], dtype=int32), 'all_classes': array([b'0', b'1'], dtype=object)}, {'logits': array([-2.0330644], dtype=float32), 'logistic': array([0.11577485], dtype=float32), 'probabilities': array([0.88422513, 0.11577484], dtype=float32), 'class_ids': array([0]), 'classes': array([b'0'], dtype=object), 'all_class_ids': array([0, 1], dtype=int32), 'all_classes': array([b'0', b'1'], dtype=object)}, {'logits': array([0.7928779], dtype=float32), 'logistic': array([0.68844897], dtype=float32), 'probabilities': array([0.31155106, 0.68844897], dtype=float32), 'class_ids': array([1]), 'classes': array([b'1'], dtype=object), 'all_class_ids': array([0, 1], dtype=int32), 'all_classes': array([b'0', b'1'], dtype=object)}, {'logits': array([-2.226255], dtype=float32), 'logistic': array([0.09741744], dtype=float32), 'probabilities': array([0.9025825 , 0.09741744], dtype=float32), 'class_ids': array([0]), 'classes': array([b'0'], dtype=object), 'all_class_ids': array([0, 1], dtype=int32), 'all_classes': array([b'0', b'1'], dtype=object)}, {'logits': array([0.01883307], dtype=float32), 'logistic': array([0.5047081], dtype=float32), 'probabilities': array([0.4952919, 0.5047081], dtype=float32), 'class_ids': array([1]), 'classes': array([b'1'], dtype=object), 'all_class_ids': array([0, 1], dtype=int32), 'all_classes': array([b'0', b'1'], dtype=object)}, {'logits': array([-0.3451248], dtype=float32), 'logistic': array([0.41456512], dtype=float32), 'probabilities': array([0.5854349 , 0.41456515], dtype=float32), 'class_ids': array([0]), 'classes': array([b'0'], dtype=object), 'all_class_ids': array([0, 1], dtype=int32), 'all_classes': array([b'0', b'1'], dtype=object)}, {'logits': array([-2.3180652], dtype=float32), 'logistic': array([0.08963782], dtype=float32), 'probabilities': array([0.9103622 , 0.08963782], dtype=float32), 'class_ids': array([0]), 'classes': array([b'0'], dtype=object), 'all_class_ids': array([0, 1], dtype=int32), 'all_classes': array([b'0', b'1'], dtype=object)}, {'logits': array([-1.8060788], dtype=float32), 'logistic': array([0.14111272], dtype=float32), 'probabilities': array([0.8588873 , 0.14111272], dtype=float32), 'class_ids': array([0]), 'classes': array([b'0'], dtype=object), 'all_class_ids': array([0, 1], dtype=int32), 'all_classes': array([b'0', b'1'], dtype=object)}, {'logits': array([1.2277557], dtype=float32), 'logistic': array([0.77342546], dtype=float32), 'probabilities': array([0.22657447, 0.77342546], dtype=float32), 'class_ids': array([1]), 'classes': array([b'1'], dtype=object), 'all_class_ids': array([0, 1], dtype=int32), 'all_classes': array([b'0', b'1'], dtype=object)}, {'logits': array([-0.06317815], dtype=float32), 'logistic': array([0.4842107], dtype=float32), 'probabilities': array([0.5157893, 0.4842107], dtype=float32), 'class_ids': array([0]), 'classes': array([b'0'], dtype=object), 'all_class_ids': array([0, 1], dtype=int32), 'all_classes': array([b'0', b'1'], dtype=object)}, {'logits': array([-2.0124557], dtype=float32), 'logistic': array([0.11790135], dtype=float32), 'probabilities': array([0.8820987 , 0.11790136], dtype=float32), 'class_ids': array([0]), 'classes': array([b'0'], dtype=object), 'all_class_ids': array([0, 1], dtype=int32), 'all_classes': array([b'0', b'1'], dtype=object)}, {'logits': array([-0.6571022], dtype=float32), 'logistic': array([0.34139085], dtype=float32), 'probabilities': array([0.65860915, 0.34139085], dtype=float32), 'class_ids': array([0]), 'classes': array([b'0'], dtype=object), 'all_class_ids': array([0, 1], dtype=int32), 'all_classes': array([b'0', b'1'], dtype=object)}, {'logits': array([-1.1974434], dtype=float32), 'logistic': array([0.23193033], dtype=float32), 'probabilities': array([0.7680697 , 0.23193035], dtype=float32), 'class_ids': array([0]), 'classes': array([b'0'], dtype=object), 'all_class_ids': array([0, 1], dtype=int32), 'all_classes': array([b'0', b'1'], dtype=object)}, {'logits': array([2.3460171], dtype=float32), 'logistic': array([0.91261715], dtype=float32), 'probabilities': array([0.08738288, 0.9126171 ], dtype=float32), 'class_ids': array([1]), 'classes': array([b'1'], dtype=object), 'all_class_ids': array([0, 1], dtype=int32), 'all_classes': array([b'0', b'1'], dtype=object)}, {'logits': array([2.1052208], dtype=float32), 'logistic': array([0.8914096], dtype=float32), 'probabilities': array([0.10859042, 0.8914096 ], dtype=float32), 'class_ids': array([1]), 'classes': array([b'1'], dtype=object), 'all_class_ids': array([0, 1], dtype=int32), 'all_classes': array([b'0', b'1'], dtype=object)}, {'logits': array([-1.9333299], dtype=float32), 'logistic': array([0.12638247], dtype=float32), 'probabilities': array([0.8736174 , 0.12638246], dtype=float32), 'class_ids': array([0]), 'classes': array([b'0'], dtype=object), 'all_class_ids': array([0, 1], dtype=int32), 'all_classes': array([b'0', b'1'], dtype=object)}, {'logits': array([0.72871315], dtype=float32), 'logistic': array([0.6745228], dtype=float32), 'probabilities': array([0.32547718, 0.6745228 ], dtype=float32), 'class_ids': array([1]), 'classes': array([b'1'], dtype=object), 'all_class_ids': array([0, 1], dtype=int32), 'all_classes': array([b'0', b'1'], dtype=object)}, {'logits': array([-2.1329677], dtype=float32), 'logistic': array([0.10593359], dtype=float32), 'probabilities': array([0.89406645, 0.10593359], dtype=float32), 'class_ids': array([0]), 'classes': array([b'0'], dtype=object), 'all_class_ids': array([0, 1], dtype=int32), 'all_classes': array([b'0', b'1'], dtype=object)}, {'logits': array([-1.6673474], dtype=float32), 'logistic': array([0.15877816], dtype=float32), 'probabilities': array([0.8412218 , 0.15877815], dtype=float32), 'class_ids': array([0]), 'classes': array([b'0'], dtype=object), 'all_class_ids': array([0, 1], dtype=int32), 'all_classes': array([b'0', b'1'], dtype=object)}, {'logits': array([0.6010026], dtype=float32), 'logistic': array([0.64588565], dtype=float32), 'probabilities': array([0.35411435, 0.64588565], dtype=float32), 'class_ids': array([1]), 'classes': array([b'1'], dtype=object), 'all_class_ids': array([0, 1], dtype=int32), 'all_classes': array([b'0', b'1'], dtype=object)}, {'logits': array([-1.9354495], dtype=float32), 'logistic': array([0.12614863], dtype=float32), 'probabilities': array([0.87385136, 0.12614863], dtype=float32), 'class_ids': array([0]), 'classes': array([b'0'], dtype=object), 'all_class_ids': array([0, 1], dtype=int32), 'all_classes': array([b'0', b'1'], dtype=object)}, {'logits': array([2.4902606], dtype=float32), 'logistic': array([0.92345625], dtype=float32), 'probabilities': array([0.07654377, 0.92345613], dtype=float32), 'class_ids': array([1]), 'classes': array([b'1'], dtype=object), 'all_class_ids': array([0, 1], dtype=int32), 'all_classes': array([b'0', b'1'], dtype=object)}, {'logits': array([1.4462359], dtype=float32), 'logistic': array([0.80941844], dtype=float32), 'probabilities': array([0.19058153, 0.8094184 ], dtype=float32), 'class_ids': array([1]), 'classes': array([b'1'], dtype=object), 'all_class_ids': array([0, 1], dtype=int32), 'all_classes': array([b'0', b'1'], dtype=object)}, {'logits': array([-2.1662476], dtype=float32), 'logistic': array([0.10282268], dtype=float32), 'probabilities': array([0.89717734, 0.10282268], dtype=float32), 'class_ids': array([0]), 'classes': array([b'0'], dtype=object), 'all_class_ids': array([0, 1], dtype=int32), 'all_classes': array([b'0', b'1'], dtype=object)}, {'logits': array([0.74268925], dtype=float32), 'logistic': array([0.67758363], dtype=float32), 'probabilities': array([0.32241634, 0.67758363], dtype=float32), 'class_ids': array([1]), 'classes': array([b'1'], dtype=object), 'all_class_ids': array([0, 1], dtype=int32), 'all_classes': array([b'0', b'1'], dtype=object)}, {'logits': array([-1.9328204], dtype=float32), 'logistic': array([0.12643872], dtype=float32), 'probabilities': array([0.8735613 , 0.12643874], dtype=float32), 'class_ids': array([0]), 'classes': array([b'0'], dtype=object), 'all_class_ids': array([0, 1], dtype=int32), 'all_classes': array([b'0', b'1'], dtype=object)}, {'logits': array([-0.9751036], dtype=float32), 'logistic': array([0.27386442], dtype=float32), 'probabilities': array([0.7261356 , 0.27386442], dtype=float32), 'class_ids': array([0]), 'classes': array([b'0'], dtype=object), 'all_class_ids': array([0, 1], dtype=int32), 'all_classes': array([b'0', b'1'], dtype=object)}, {'logits': array([-2.2185416], dtype=float32), 'logistic': array([0.09809776], dtype=float32), 'probabilities': array([0.90190226, 0.09809776], dtype=float32), 'class_ids': array([0]), 'classes': array([b'0'], dtype=object), 'all_class_ids': array([0, 1], dtype=int32), 'all_classes': array([b'0', b'1'], dtype=object)}, {'logits': array([0.74363196], dtype=float32), 'logistic': array([0.67778957], dtype=float32), 'probabilities': array([0.32221043, 0.6777895 ], dtype=float32), 'class_ids': array([1]), 'classes': array([b'1'], dtype=object), 'all_class_ids': array([0, 1], dtype=int32), 'all_classes': array([b'0', b'1'], dtype=object)}, {'logits': array([0.18594065], dtype=float32), 'logistic': array([0.5463517], dtype=float32), 'probabilities': array([0.45364833, 0.5463517 ], dtype=float32), 'class_ids': array([1]), 'classes': array([b'1'], dtype=object), 'all_class_ids': array([0, 1], dtype=int32), 'all_classes': array([b'0', b'1'], dtype=object)}, {'logits': array([-2.631239], dtype=float32), 'logistic': array([0.06715479], dtype=float32), 'probabilities': array([0.9328452 , 0.06715479], dtype=float32), 'class_ids': array([0]), 'classes': array([b'0'], dtype=object), 'all_class_ids': array([0, 1], dtype=int32), 'all_classes': array([b'0', b'1'], dtype=object)}, {'logits': array([-1.3490806], dtype=float32), 'logistic': array([0.20602073], dtype=float32), 'probabilities': array([0.7939793 , 0.20602073], dtype=float32), 'class_ids': array([0]), 'classes': array([b'0'], dtype=object), 'all_class_ids': array([0, 1], dtype=int32), 'all_classes': array([b'0', b'1'], dtype=object)}, {'logits': array([1.4353923], dtype=float32), 'logistic': array([0.8077401], dtype=float32), 'probabilities': array([0.19225991, 0.80774015], dtype=float32), 'class_ids': array([1]), 'classes': array([b'1'], dtype=object), 'all_class_ids': array([0, 1], dtype=int32), 'all_classes': array([b'0', b'1'], dtype=object)}, {'logits': array([-0.481127], dtype=float32), 'logistic': array([0.38198605], dtype=float32), 'probabilities': array([0.618014  , 0.38198602], dtype=float32), 'class_ids': array([0]), 'classes': array([b'0'], dtype=object), 'all_class_ids': array([0, 1], dtype=int32), 'all_classes': array([b'0', b'1'], dtype=object)}, {'logits': array([1.77539], dtype=float32), 'logistic': array([0.8551267], dtype=float32), 'probabilities': array([0.1448733, 0.8551266], dtype=float32), 'class_ids': array([1]), 'classes': array([b'1'], dtype=object), 'all_class_ids': array([0, 1], dtype=int32), 'all_classes': array([b'0', b'1'], dtype=object)}, {'logits': array([-0.6468612], dtype=float32), 'logistic': array([0.34369722], dtype=float32), 'probabilities': array([0.6563028 , 0.34369722], dtype=float32), 'class_ids': array([0]), 'classes': array([b'0'], dtype=object), 'all_class_ids': array([0, 1], dtype=int32), 'all_classes': array([b'0', b'1'], dtype=object)}, {'logits': array([-2.1797462], dtype=float32), 'logistic': array([0.10158409], dtype=float32), 'probabilities': array([0.89841586, 0.10158408], dtype=float32), 'class_ids': array([0]), 'classes': array([b'0'], dtype=object), 'all_class_ids': array([0, 1], dtype=int32), 'all_classes': array([b'0', b'1'], dtype=object)}, {'logits': array([-2.0355546], dtype=float32), 'logistic': array([0.11552016], dtype=float32), 'probabilities': array([0.8844798 , 0.11552016], dtype=float32), 'class_ids': array([0]), 'classes': array([b'0'], dtype=object), 'all_class_ids': array([0, 1], dtype=int32), 'all_classes': array([b'0', b'1'], dtype=object)}, {'logits': array([-1.9560162], dtype=float32), 'logistic': array([0.12389883], dtype=float32), 'probabilities': array([0.87610114, 0.12389883], dtype=float32), 'class_ids': array([0]), 'classes': array([b'0'], dtype=object), 'all_class_ids': array([0, 1], dtype=int32), 'all_classes': array([b'0', b'1'], dtype=object)}, {'logits': array([-3.422931], dtype=float32), 'logistic': array([0.03158645], dtype=float32), 'probabilities': array([0.9684135 , 0.03158645], dtype=float32), 'class_ids': array([0]), 'classes': array([b'0'], dtype=object), 'all_class_ids': array([0, 1], dtype=int32), 'all_classes': array([b'0', b'1'], dtype=object)}, {'logits': array([1.6611644], dtype=float32), 'logistic': array([0.84039426], dtype=float32), 'probabilities': array([0.15960574, 0.8403942 ], dtype=float32), 'class_ids': array([1]), 'classes': array([b'1'], dtype=object), 'all_class_ids': array([0, 1], dtype=int32), 'all_classes': array([b'0', b'1'], dtype=object)}, {'logits': array([0.8848953], dtype=float32), 'logistic': array([0.7078356], dtype=float32), 'probabilities': array([0.29216433, 0.70783556], dtype=float32), 'class_ids': array([1]), 'classes': array([b'1'], dtype=object), 'all_class_ids': array([0, 1], dtype=int32), 'all_classes': array([b'0', b'1'], dtype=object)}, {'logits': array([-1.6673332], dtype=float32), 'logistic': array([0.15878004], dtype=float32), 'probabilities': array([0.8412199 , 0.15878004], dtype=float32), 'class_ids': array([0]), 'classes': array([b'0'], dtype=object), 'all_class_ids': array([0, 1], dtype=int32), 'all_classes': array([b'0', b'1'], dtype=object)}, {'logits': array([-1.3016883], dtype=float32), 'logistic': array([0.21388102], dtype=float32), 'probabilities': array([0.786119  , 0.21388103], dtype=float32), 'class_ids': array([0]), 'classes': array([b'0'], dtype=object), 'all_class_ids': array([0, 1], dtype=int32), 'all_classes': array([b'0', b'1'], dtype=object)}, {'logits': array([1.8558018], dtype=float32), 'logistic': array([0.8648069], dtype=float32), 'probabilities': array([0.13519314, 0.8648069 ], dtype=float32), 'class_ids': array([1]), 'classes': array([b'1'], dtype=object), 'all_class_ids': array([0, 1], dtype=int32), 'all_classes': array([b'0', b'1'], dtype=object)}, {'logits': array([-0.30859682], dtype=float32), 'logistic': array([0.42345726], dtype=float32), 'probabilities': array([0.57654274, 0.42345726], dtype=float32), 'class_ids': array([0]), 'classes': array([b'0'], dtype=object), 'all_class_ids': array([0, 1], dtype=int32), 'all_classes': array([b'0', b'1'], dtype=object)}, {'logits': array([-2.2356987], dtype=float32), 'logistic': array([0.09659023], dtype=float32), 'probabilities': array([0.9034098 , 0.09659023], dtype=float32), 'class_ids': array([0]), 'classes': array([b'0'], dtype=object), 'all_class_ids': array([0, 1], dtype=int32), 'all_classes': array([b'0', b'1'], dtype=object)}, {'logits': array([1.775201], dtype=float32), 'logistic': array([0.85510325], dtype=float32), 'probabilities': array([0.14489673, 0.8551033 ], dtype=float32), 'class_ids': array([1]), 'classes': array([b'1'], dtype=object), 'all_class_ids': array([0, 1], dtype=int32), 'all_classes': array([b'0', b'1'], dtype=object)}, {'logits': array([1.3796159], dtype=float32), 'logistic': array([0.7989293], dtype=float32), 'probabilities': array([0.2010707 , 0.79892933], dtype=float32), 'class_ids': array([1]), 'classes': array([b'1'], dtype=object), 'all_class_ids': array([0, 1], dtype=int32), 'all_classes': array([b'0', b'1'], dtype=object)}, {'logits': array([-2.3695292], dtype=float32), 'logistic': array([0.08552595], dtype=float32), 'probabilities': array([0.9144741 , 0.08552595], dtype=float32), 'class_ids': array([0]), 'classes': array([b'0'], dtype=object), 'all_class_ids': array([0, 1], dtype=int32), 'all_classes': array([b'0', b'1'], dtype=object)}, {'logits': array([0.24885383], dtype=float32), 'logistic': array([0.56189436], dtype=float32), 'probabilities': array([0.43810564, 0.56189436], dtype=float32), 'class_ids': array([1]), 'classes': array([b'1'], dtype=object), 'all_class_ids': array([0, 1], dtype=int32), 'all_classes': array([b'0', b'1'], dtype=object)}, {'logits': array([-1.4235235], dtype=float32), 'logistic': array([0.1941098], dtype=float32), 'probabilities': array([0.80589026, 0.19410981], dtype=float32), 'class_ids': array([0]), 'classes': array([b'0'], dtype=object), 'all_class_ids': array([0, 1], dtype=int32), 'all_classes': array([b'0', b'1'], dtype=object)}, {'logits': array([-0.3416861], dtype=float32), 'logistic': array([0.41539994], dtype=float32), 'probabilities': array([0.58460003, 0.41539994], dtype=float32), 'class_ids': array([0]), 'classes': array([b'0'], dtype=object), 'all_class_ids': array([0, 1], dtype=int32), 'all_classes': array([b'0', b'1'], dtype=object)}]\n",
            "{'logits': array([-2.4203742], dtype=float32), 'logistic': array([0.0816322], dtype=float32), 'probabilities': array([0.9183677 , 0.08163219], dtype=float32), 'class_ids': array([0]), 'classes': array([b'0'], dtype=object), 'all_class_ids': array([0, 1], dtype=int32), 'all_classes': array([b'0', b'1'], dtype=object)}\n",
            "sex                          male\n",
            "age                          35.0\n",
            "n_siblings_spouses              0\n",
            "parch                           0\n",
            "fare                         8.05\n",
            "class                       Third\n",
            "deck                      unknown\n",
            "embark_town           Southampton\n",
            "alone                           y\n",
            "Name: 0, dtype: object\n",
            "8.163218945264816\n",
            "91.83676838874817\n",
            "0\n"
          ]
        }
      ]
    }
  ]
}