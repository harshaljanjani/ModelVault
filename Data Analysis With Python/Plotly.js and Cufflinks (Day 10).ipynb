{
 "cells": [
  {
   "attachments": {},
   "cell_type": "markdown",
   "metadata": {},
   "source": [
    "# **Plotly.js And Cufflinks Integration - Interactive Data Visualization Of Pandas DataFrames**"
   ]
  },
  {
   "cell_type": "code",
   "execution_count": 2,
   "metadata": {},
   "outputs": [],
   "source": [
    "import pandas as pd\n",
    "import numpy as np\n",
    "%matplotlib inline"
   ]
  },
  {
   "cell_type": "code",
   "execution_count": 3,
   "metadata": {},
   "outputs": [
    {
     "name": "stdout",
     "output_type": "stream",
     "text": [
      "5.13.0\n"
     ]
    }
   ],
   "source": [
    "from plotly import __version__\n",
    "from plotly.offline import download_plotlyjs, init_notebook_mode, plot, iplot\n",
    "\n",
    "print(__version__) # requires version >= 1.9.0"
   ]
  },
  {
   "cell_type": "code",
   "execution_count": 4,
   "metadata": {},
   "outputs": [],
   "source": [
    "import cufflinks as cf"
   ]
  },
  {
   "cell_type": "code",
   "execution_count": 5,
   "metadata": {},
   "outputs": [
    {
     "data": {
      "text/html": [
       "        <script type=\"text/javascript\">\n",
       "        window.PlotlyConfig = {MathJaxConfig: 'local'};\n",
       "        if (window.MathJax && window.MathJax.Hub && window.MathJax.Hub.Config) {window.MathJax.Hub.Config({SVG: {font: \"STIX-Web\"}});}\n",
       "        if (typeof require !== 'undefined') {\n",
       "        require.undef(\"plotly\");\n",
       "        requirejs.config({\n",
       "            paths: {\n",
       "                'plotly': ['https://cdn.plot.ly/plotly-2.18.0.min']\n",
       "            }\n",
       "        });\n",
       "        require(['plotly'], function(Plotly) {\n",
       "            window._Plotly = Plotly;\n",
       "        });\n",
       "        }\n",
       "        </script>\n",
       "        "
      ]
     },
     "metadata": {},
     "output_type": "display_data"
    }
   ],
   "source": [
    "# For Notebooks\n",
    "init_notebook_mode(connected=True)"
   ]
  },
  {
   "cell_type": "code",
   "execution_count": 6,
   "metadata": {},
   "outputs": [
    {
     "data": {
      "text/html": [
       "        <script type=\"text/javascript\">\n",
       "        window.PlotlyConfig = {MathJaxConfig: 'local'};\n",
       "        if (window.MathJax && window.MathJax.Hub && window.MathJax.Hub.Config) {window.MathJax.Hub.Config({SVG: {font: \"STIX-Web\"}});}\n",
       "        if (typeof require !== 'undefined') {\n",
       "        require.undef(\"plotly\");\n",
       "        requirejs.config({\n",
       "            paths: {\n",
       "                'plotly': ['https://cdn.plot.ly/plotly-2.18.0.min']\n",
       "            }\n",
       "        });\n",
       "        require(['plotly'], function(Plotly) {\n",
       "            window._Plotly = Plotly;\n",
       "        });\n",
       "        }\n",
       "        </script>\n",
       "        "
      ]
     },
     "metadata": {},
     "output_type": "display_data"
    }
   ],
   "source": [
    "# For offline use\n",
    "cf.go_offline()"
   ]
  },
  {
   "attachments": {},
   "cell_type": "markdown",
   "metadata": {},
   "source": [
    "## **Analysis Over Random Normal Distribution DataFrame In Pandas**"
   ]
  },
  {
   "cell_type": "code",
   "execution_count": 7,
   "metadata": {},
   "outputs": [],
   "source": [
    "df = pd.DataFrame(np.random.randn(100,4),columns='A B C D'.split())"
   ]
  },
  {
   "cell_type": "code",
   "execution_count": 8,
   "metadata": {},
   "outputs": [
    {
     "data": {
      "text/html": [
       "<div>\n",
       "<style scoped>\n",
       "    .dataframe tbody tr th:only-of-type {\n",
       "        vertical-align: middle;\n",
       "    }\n",
       "\n",
       "    .dataframe tbody tr th {\n",
       "        vertical-align: top;\n",
       "    }\n",
       "\n",
       "    .dataframe thead th {\n",
       "        text-align: right;\n",
       "    }\n",
       "</style>\n",
       "<table border=\"1\" class=\"dataframe\">\n",
       "  <thead>\n",
       "    <tr style=\"text-align: right;\">\n",
       "      <th></th>\n",
       "      <th>A</th>\n",
       "      <th>B</th>\n",
       "      <th>C</th>\n",
       "      <th>D</th>\n",
       "    </tr>\n",
       "  </thead>\n",
       "  <tbody>\n",
       "    <tr>\n",
       "      <th>0</th>\n",
       "      <td>-1.915599</td>\n",
       "      <td>0.250127</td>\n",
       "      <td>-0.331479</td>\n",
       "      <td>0.993043</td>\n",
       "    </tr>\n",
       "    <tr>\n",
       "      <th>1</th>\n",
       "      <td>-0.448132</td>\n",
       "      <td>-0.312636</td>\n",
       "      <td>0.403075</td>\n",
       "      <td>-0.518594</td>\n",
       "    </tr>\n",
       "    <tr>\n",
       "      <th>2</th>\n",
       "      <td>-0.116678</td>\n",
       "      <td>0.468542</td>\n",
       "      <td>0.775395</td>\n",
       "      <td>0.126257</td>\n",
       "    </tr>\n",
       "    <tr>\n",
       "      <th>3</th>\n",
       "      <td>-0.474050</td>\n",
       "      <td>0.349555</td>\n",
       "      <td>-0.603442</td>\n",
       "      <td>1.412629</td>\n",
       "    </tr>\n",
       "    <tr>\n",
       "      <th>4</th>\n",
       "      <td>0.574668</td>\n",
       "      <td>1.277961</td>\n",
       "      <td>-0.515549</td>\n",
       "      <td>-0.492142</td>\n",
       "    </tr>\n",
       "  </tbody>\n",
       "</table>\n",
       "</div>"
      ],
      "text/plain": [
       "          A         B         C         D\n",
       "0 -1.915599  0.250127 -0.331479  0.993043\n",
       "1 -0.448132 -0.312636  0.403075 -0.518594\n",
       "2 -0.116678  0.468542  0.775395  0.126257\n",
       "3 -0.474050  0.349555 -0.603442  1.412629\n",
       "4  0.574668  1.277961 -0.515549 -0.492142"
      ]
     },
     "execution_count": 8,
     "metadata": {},
     "output_type": "execute_result"
    }
   ],
   "source": [
    "df.head()"
   ]
  },
  {
   "cell_type": "code",
   "execution_count": 9,
   "metadata": {},
   "outputs": [],
   "source": [
    "df2 = pd.DataFrame({'Category':['A','B','C'],'Values':[32,43,50]})"
   ]
  },
  {
   "cell_type": "code",
   "execution_count": 10,
   "metadata": {},
   "outputs": [
    {
     "data": {
      "text/html": [
       "<div>\n",
       "<style scoped>\n",
       "    .dataframe tbody tr th:only-of-type {\n",
       "        vertical-align: middle;\n",
       "    }\n",
       "\n",
       "    .dataframe tbody tr th {\n",
       "        vertical-align: top;\n",
       "    }\n",
       "\n",
       "    .dataframe thead th {\n",
       "        text-align: right;\n",
       "    }\n",
       "</style>\n",
       "<table border=\"1\" class=\"dataframe\">\n",
       "  <thead>\n",
       "    <tr style=\"text-align: right;\">\n",
       "      <th></th>\n",
       "      <th>Category</th>\n",
       "      <th>Values</th>\n",
       "    </tr>\n",
       "  </thead>\n",
       "  <tbody>\n",
       "    <tr>\n",
       "      <th>0</th>\n",
       "      <td>A</td>\n",
       "      <td>32</td>\n",
       "    </tr>\n",
       "    <tr>\n",
       "      <th>1</th>\n",
       "      <td>B</td>\n",
       "      <td>43</td>\n",
       "    </tr>\n",
       "    <tr>\n",
       "      <th>2</th>\n",
       "      <td>C</td>\n",
       "      <td>50</td>\n",
       "    </tr>\n",
       "  </tbody>\n",
       "</table>\n",
       "</div>"
      ],
      "text/plain": [
       "  Category  Values\n",
       "0        A      32\n",
       "1        B      43\n",
       "2        C      50"
      ]
     },
     "execution_count": 10,
     "metadata": {},
     "output_type": "execute_result"
    }
   ],
   "source": [
    "df2.head()"
   ]
  },
  {
   "cell_type": "code",
   "execution_count": 11,
   "metadata": {},
   "outputs": [
    {
     "data": {
      "application/vnd.plotly.v1+json": {
       "config": {
        "linkText": "Export to plot.ly",
        "plotlyServerURL": "https://plot.ly",
        "showLink": true
       },
       "data": [
        {
         "line": {
          "color": "rgba(255, 153, 51, 1.0)",
          "dash": "solid",
          "shape": "linear",
          "width": 1.3
         },
         "marker": {
          "size": 10,
          "symbol": "circle"
         },
         "mode": "markers",
         "name": "B",
         "text": "",
         "type": "scatter",
         "x": [
          -1.9155992047694723,
          -0.4481315159572726,
          -0.11667812727294494,
          -0.47405025229684344,
          0.5746676894222532,
          -1.5551821928115497,
          -1.072363124361193,
          1.2249086267193,
          -3.3367698414674267,
          -1.011489626579287,
          0.6314459569116476,
          0.08220392031662183,
          -1.491849155089903,
          -2.6826923465190182,
          -1.406142682152996,
          -0.09669026493158919,
          0.6255108134307167,
          -0.8998558810491614,
          -0.2756313164584835,
          0.3713126358915743,
          -0.14945511870764175,
          -2.7250214453982338,
          -0.497935347176919,
          -0.7794784042791113,
          -0.30309488487554737,
          -0.7033732528019522,
          0.07862498827643226,
          -0.49979720991996174,
          -0.6002810486693904,
          0.718931878030546,
          0.2590887953878619,
          0.9060597459809786,
          -0.4190053741867893,
          -0.674433060377967,
          0.10545055429225647,
          1.2703935062900036,
          0.08983878160980747,
          0.6570432262514,
          -1.0176071028493356,
          0.6749140899996501,
          0.08417298484397781,
          0.8001476730499851,
          -0.12399513898835102,
          0.6274206095826046,
          -1.318877425164554,
          0.8164515931433367,
          0.09393732573798273,
          1.1206004281742687,
          0.8579900755978948,
          0.14911973244187204,
          0.9711897159096959,
          0.15869343459827023,
          0.20449045179987363,
          -1.6562183779368844,
          -0.9608076241416532,
          1.7727570332597742,
          -0.4457864515536005,
          0.4733263459830899,
          -0.1111431812706696,
          -0.6308516353493814,
          -1.5083286013649613,
          -1.8184170618133393,
          -1.577160446581665,
          -1.3084496737397215,
          0.29394673420640693,
          -0.21034035618984062,
          0.22395410087307033,
          0.5071818648650146,
          -1.4180404163946694,
          -0.21388614142527063,
          -0.7728099669727144,
          0.45279731788305944,
          -1.176389429494858,
          1.537074281671399,
          -1.0673529889078999,
          -1.1894210145045987,
          -1.5454669283459765,
          0.30364289543227707,
          -0.2762977037815814,
          1.7831332501465116,
          0.9826029558353301,
          -1.002098401486566,
          -0.16731691773009688,
          1.176134221963469,
          0.3460648331901014,
          -0.32043219503556436,
          -0.3782163252372253,
          0.9571278359770741,
          -0.057274155370753116,
          0.32731766282935837,
          -0.30977457949724585,
          -0.9355114325341685,
          -1.8964276157738422,
          0.2929666305481281,
          -0.7261109260232375,
          -0.5620284230807836,
          0.29595542033167244,
          -1.6709671363176706,
          0.7262858567454336,
          -0.564607728302298
         ],
         "y": [
          0.25012653811443325,
          -0.31263602491902226,
          0.46854191390985994,
          0.3495550634187599,
          1.2779608573542152,
          -0.7195686267733024,
          -0.05377556286345402,
          0.8860961885150416,
          -0.35659558561108556,
          -0.5412418799364572,
          -1.0538607706754788,
          -1.4357015266467925,
          -1.4440825388729484,
          -0.4601463702775817,
          1.0525558771197012,
          -0.6384012471936885,
          -0.3984075707720691,
          0.3217992513734411,
          0.717847534780858,
          0.14786313583922234,
          -0.08921894414927768,
          -0.026447486752192863,
          -0.41781749828547704,
          -0.4258553164011774,
          -0.691041627506832,
          0.2725451758149655,
          1.2146505715089757,
          -0.7164863916632876,
          0.39324350968810945,
          -0.30946916784496414,
          -0.27145136523819957,
          0.6679457848678415,
          -0.07142770435308705,
          0.704443166579191,
          2.157895083594788,
          0.6170696338034954,
          -0.13662952222954544,
          -0.290866965366531,
          -0.4155089124480595,
          -0.15309402200095784,
          1.5221394507416537,
          -1.6249467620767861,
          -0.6965471964753526,
          0.182517283224261,
          0.23350357359802568,
          1.1453466340351426,
          -0.3686827311467193,
          1.957928012194116,
          0.4071672052678087,
          0.58680361903923,
          -0.8828982087450967,
          0.4129260132199946,
          0.6441433598373917,
          0.33372085287296577,
          0.3114578540673428,
          0.30273197459055706,
          -0.0672794267265068,
          0.7311115271348104,
          -1.4610688565261025,
          -1.3620418033258774,
          -1.1749042013895534,
          0.2569253531988617,
          0.3132234789055193,
          -0.4939070459441881,
          -0.38233997444376466,
          -0.8341518456265357,
          -2.275739432967845,
          -1.5981719266949375,
          1.4764816496356954,
          1.2582757204570383,
          -0.4430532726331741,
          -0.21808790791840466,
          -0.2523685759128763,
          -0.600478802244115,
          0.15220587659129273,
          -1.6586124610802093,
          -1.3433717204993254,
          0.9523056125989408,
          -1.9154009199738649,
          -1.3386543561881108,
          -0.8149176443027241,
          0.6388800450354669,
          0.030844994128891724,
          -1.986446346965538,
          -0.22630015828997926,
          -0.27117120976532544,
          -1.176124215365589,
          0.4534877231166138,
          0.1678182902848415,
          0.5552876540147228,
          -0.00964539990285035,
          1.2041724538233955,
          0.024983048147564843,
          0.03429775948556624,
          1.346683258563046,
          0.9870398426730453,
          -0.5747651397935243,
          -1.8469381178596094,
          0.751357199127522,
          0.38951470541379307
         ]
        }
       ],
       "layout": {
        "legend": {
         "bgcolor": "#F5F6F9",
         "font": {
          "color": "#4D5663"
         }
        },
        "paper_bgcolor": "#F5F6F9",
        "plot_bgcolor": "#F5F6F9",
        "template": {
         "data": {
          "bar": [
           {
            "error_x": {
             "color": "#2a3f5f"
            },
            "error_y": {
             "color": "#2a3f5f"
            },
            "marker": {
             "line": {
              "color": "#E5ECF6",
              "width": 0.5
             },
             "pattern": {
              "fillmode": "overlay",
              "size": 10,
              "solidity": 0.2
             }
            },
            "type": "bar"
           }
          ],
          "barpolar": [
           {
            "marker": {
             "line": {
              "color": "#E5ECF6",
              "width": 0.5
             },
             "pattern": {
              "fillmode": "overlay",
              "size": 10,
              "solidity": 0.2
             }
            },
            "type": "barpolar"
           }
          ],
          "carpet": [
           {
            "aaxis": {
             "endlinecolor": "#2a3f5f",
             "gridcolor": "white",
             "linecolor": "white",
             "minorgridcolor": "white",
             "startlinecolor": "#2a3f5f"
            },
            "baxis": {
             "endlinecolor": "#2a3f5f",
             "gridcolor": "white",
             "linecolor": "white",
             "minorgridcolor": "white",
             "startlinecolor": "#2a3f5f"
            },
            "type": "carpet"
           }
          ],
          "choropleth": [
           {
            "colorbar": {
             "outlinewidth": 0,
             "ticks": ""
            },
            "type": "choropleth"
           }
          ],
          "contour": [
           {
            "colorbar": {
             "outlinewidth": 0,
             "ticks": ""
            },
            "colorscale": [
             [
              0,
              "#0d0887"
             ],
             [
              0.1111111111111111,
              "#46039f"
             ],
             [
              0.2222222222222222,
              "#7201a8"
             ],
             [
              0.3333333333333333,
              "#9c179e"
             ],
             [
              0.4444444444444444,
              "#bd3786"
             ],
             [
              0.5555555555555556,
              "#d8576b"
             ],
             [
              0.6666666666666666,
              "#ed7953"
             ],
             [
              0.7777777777777778,
              "#fb9f3a"
             ],
             [
              0.8888888888888888,
              "#fdca26"
             ],
             [
              1,
              "#f0f921"
             ]
            ],
            "type": "contour"
           }
          ],
          "contourcarpet": [
           {
            "colorbar": {
             "outlinewidth": 0,
             "ticks": ""
            },
            "type": "contourcarpet"
           }
          ],
          "heatmap": [
           {
            "colorbar": {
             "outlinewidth": 0,
             "ticks": ""
            },
            "colorscale": [
             [
              0,
              "#0d0887"
             ],
             [
              0.1111111111111111,
              "#46039f"
             ],
             [
              0.2222222222222222,
              "#7201a8"
             ],
             [
              0.3333333333333333,
              "#9c179e"
             ],
             [
              0.4444444444444444,
              "#bd3786"
             ],
             [
              0.5555555555555556,
              "#d8576b"
             ],
             [
              0.6666666666666666,
              "#ed7953"
             ],
             [
              0.7777777777777778,
              "#fb9f3a"
             ],
             [
              0.8888888888888888,
              "#fdca26"
             ],
             [
              1,
              "#f0f921"
             ]
            ],
            "type": "heatmap"
           }
          ],
          "heatmapgl": [
           {
            "colorbar": {
             "outlinewidth": 0,
             "ticks": ""
            },
            "colorscale": [
             [
              0,
              "#0d0887"
             ],
             [
              0.1111111111111111,
              "#46039f"
             ],
             [
              0.2222222222222222,
              "#7201a8"
             ],
             [
              0.3333333333333333,
              "#9c179e"
             ],
             [
              0.4444444444444444,
              "#bd3786"
             ],
             [
              0.5555555555555556,
              "#d8576b"
             ],
             [
              0.6666666666666666,
              "#ed7953"
             ],
             [
              0.7777777777777778,
              "#fb9f3a"
             ],
             [
              0.8888888888888888,
              "#fdca26"
             ],
             [
              1,
              "#f0f921"
             ]
            ],
            "type": "heatmapgl"
           }
          ],
          "histogram": [
           {
            "marker": {
             "pattern": {
              "fillmode": "overlay",
              "size": 10,
              "solidity": 0.2
             }
            },
            "type": "histogram"
           }
          ],
          "histogram2d": [
           {
            "colorbar": {
             "outlinewidth": 0,
             "ticks": ""
            },
            "colorscale": [
             [
              0,
              "#0d0887"
             ],
             [
              0.1111111111111111,
              "#46039f"
             ],
             [
              0.2222222222222222,
              "#7201a8"
             ],
             [
              0.3333333333333333,
              "#9c179e"
             ],
             [
              0.4444444444444444,
              "#bd3786"
             ],
             [
              0.5555555555555556,
              "#d8576b"
             ],
             [
              0.6666666666666666,
              "#ed7953"
             ],
             [
              0.7777777777777778,
              "#fb9f3a"
             ],
             [
              0.8888888888888888,
              "#fdca26"
             ],
             [
              1,
              "#f0f921"
             ]
            ],
            "type": "histogram2d"
           }
          ],
          "histogram2dcontour": [
           {
            "colorbar": {
             "outlinewidth": 0,
             "ticks": ""
            },
            "colorscale": [
             [
              0,
              "#0d0887"
             ],
             [
              0.1111111111111111,
              "#46039f"
             ],
             [
              0.2222222222222222,
              "#7201a8"
             ],
             [
              0.3333333333333333,
              "#9c179e"
             ],
             [
              0.4444444444444444,
              "#bd3786"
             ],
             [
              0.5555555555555556,
              "#d8576b"
             ],
             [
              0.6666666666666666,
              "#ed7953"
             ],
             [
              0.7777777777777778,
              "#fb9f3a"
             ],
             [
              0.8888888888888888,
              "#fdca26"
             ],
             [
              1,
              "#f0f921"
             ]
            ],
            "type": "histogram2dcontour"
           }
          ],
          "mesh3d": [
           {
            "colorbar": {
             "outlinewidth": 0,
             "ticks": ""
            },
            "type": "mesh3d"
           }
          ],
          "parcoords": [
           {
            "line": {
             "colorbar": {
              "outlinewidth": 0,
              "ticks": ""
             }
            },
            "type": "parcoords"
           }
          ],
          "pie": [
           {
            "automargin": true,
            "type": "pie"
           }
          ],
          "scatter": [
           {
            "fillpattern": {
             "fillmode": "overlay",
             "size": 10,
             "solidity": 0.2
            },
            "type": "scatter"
           }
          ],
          "scatter3d": [
           {
            "line": {
             "colorbar": {
              "outlinewidth": 0,
              "ticks": ""
             }
            },
            "marker": {
             "colorbar": {
              "outlinewidth": 0,
              "ticks": ""
             }
            },
            "type": "scatter3d"
           }
          ],
          "scattercarpet": [
           {
            "marker": {
             "colorbar": {
              "outlinewidth": 0,
              "ticks": ""
             }
            },
            "type": "scattercarpet"
           }
          ],
          "scattergeo": [
           {
            "marker": {
             "colorbar": {
              "outlinewidth": 0,
              "ticks": ""
             }
            },
            "type": "scattergeo"
           }
          ],
          "scattergl": [
           {
            "marker": {
             "colorbar": {
              "outlinewidth": 0,
              "ticks": ""
             }
            },
            "type": "scattergl"
           }
          ],
          "scattermapbox": [
           {
            "marker": {
             "colorbar": {
              "outlinewidth": 0,
              "ticks": ""
             }
            },
            "type": "scattermapbox"
           }
          ],
          "scatterpolar": [
           {
            "marker": {
             "colorbar": {
              "outlinewidth": 0,
              "ticks": ""
             }
            },
            "type": "scatterpolar"
           }
          ],
          "scatterpolargl": [
           {
            "marker": {
             "colorbar": {
              "outlinewidth": 0,
              "ticks": ""
             }
            },
            "type": "scatterpolargl"
           }
          ],
          "scatterternary": [
           {
            "marker": {
             "colorbar": {
              "outlinewidth": 0,
              "ticks": ""
             }
            },
            "type": "scatterternary"
           }
          ],
          "surface": [
           {
            "colorbar": {
             "outlinewidth": 0,
             "ticks": ""
            },
            "colorscale": [
             [
              0,
              "#0d0887"
             ],
             [
              0.1111111111111111,
              "#46039f"
             ],
             [
              0.2222222222222222,
              "#7201a8"
             ],
             [
              0.3333333333333333,
              "#9c179e"
             ],
             [
              0.4444444444444444,
              "#bd3786"
             ],
             [
              0.5555555555555556,
              "#d8576b"
             ],
             [
              0.6666666666666666,
              "#ed7953"
             ],
             [
              0.7777777777777778,
              "#fb9f3a"
             ],
             [
              0.8888888888888888,
              "#fdca26"
             ],
             [
              1,
              "#f0f921"
             ]
            ],
            "type": "surface"
           }
          ],
          "table": [
           {
            "cells": {
             "fill": {
              "color": "#EBF0F8"
             },
             "line": {
              "color": "white"
             }
            },
            "header": {
             "fill": {
              "color": "#C8D4E3"
             },
             "line": {
              "color": "white"
             }
            },
            "type": "table"
           }
          ]
         },
         "layout": {
          "annotationdefaults": {
           "arrowcolor": "#2a3f5f",
           "arrowhead": 0,
           "arrowwidth": 1
          },
          "autotypenumbers": "strict",
          "coloraxis": {
           "colorbar": {
            "outlinewidth": 0,
            "ticks": ""
           }
          },
          "colorscale": {
           "diverging": [
            [
             0,
             "#8e0152"
            ],
            [
             0.1,
             "#c51b7d"
            ],
            [
             0.2,
             "#de77ae"
            ],
            [
             0.3,
             "#f1b6da"
            ],
            [
             0.4,
             "#fde0ef"
            ],
            [
             0.5,
             "#f7f7f7"
            ],
            [
             0.6,
             "#e6f5d0"
            ],
            [
             0.7,
             "#b8e186"
            ],
            [
             0.8,
             "#7fbc41"
            ],
            [
             0.9,
             "#4d9221"
            ],
            [
             1,
             "#276419"
            ]
           ],
           "sequential": [
            [
             0,
             "#0d0887"
            ],
            [
             0.1111111111111111,
             "#46039f"
            ],
            [
             0.2222222222222222,
             "#7201a8"
            ],
            [
             0.3333333333333333,
             "#9c179e"
            ],
            [
             0.4444444444444444,
             "#bd3786"
            ],
            [
             0.5555555555555556,
             "#d8576b"
            ],
            [
             0.6666666666666666,
             "#ed7953"
            ],
            [
             0.7777777777777778,
             "#fb9f3a"
            ],
            [
             0.8888888888888888,
             "#fdca26"
            ],
            [
             1,
             "#f0f921"
            ]
           ],
           "sequentialminus": [
            [
             0,
             "#0d0887"
            ],
            [
             0.1111111111111111,
             "#46039f"
            ],
            [
             0.2222222222222222,
             "#7201a8"
            ],
            [
             0.3333333333333333,
             "#9c179e"
            ],
            [
             0.4444444444444444,
             "#bd3786"
            ],
            [
             0.5555555555555556,
             "#d8576b"
            ],
            [
             0.6666666666666666,
             "#ed7953"
            ],
            [
             0.7777777777777778,
             "#fb9f3a"
            ],
            [
             0.8888888888888888,
             "#fdca26"
            ],
            [
             1,
             "#f0f921"
            ]
           ]
          },
          "colorway": [
           "#636efa",
           "#EF553B",
           "#00cc96",
           "#ab63fa",
           "#FFA15A",
           "#19d3f3",
           "#FF6692",
           "#B6E880",
           "#FF97FF",
           "#FECB52"
          ],
          "font": {
           "color": "#2a3f5f"
          },
          "geo": {
           "bgcolor": "white",
           "lakecolor": "white",
           "landcolor": "#E5ECF6",
           "showlakes": true,
           "showland": true,
           "subunitcolor": "white"
          },
          "hoverlabel": {
           "align": "left"
          },
          "hovermode": "closest",
          "mapbox": {
           "style": "light"
          },
          "paper_bgcolor": "white",
          "plot_bgcolor": "#E5ECF6",
          "polar": {
           "angularaxis": {
            "gridcolor": "white",
            "linecolor": "white",
            "ticks": ""
           },
           "bgcolor": "#E5ECF6",
           "radialaxis": {
            "gridcolor": "white",
            "linecolor": "white",
            "ticks": ""
           }
          },
          "scene": {
           "xaxis": {
            "backgroundcolor": "#E5ECF6",
            "gridcolor": "white",
            "gridwidth": 2,
            "linecolor": "white",
            "showbackground": true,
            "ticks": "",
            "zerolinecolor": "white"
           },
           "yaxis": {
            "backgroundcolor": "#E5ECF6",
            "gridcolor": "white",
            "gridwidth": 2,
            "linecolor": "white",
            "showbackground": true,
            "ticks": "",
            "zerolinecolor": "white"
           },
           "zaxis": {
            "backgroundcolor": "#E5ECF6",
            "gridcolor": "white",
            "gridwidth": 2,
            "linecolor": "white",
            "showbackground": true,
            "ticks": "",
            "zerolinecolor": "white"
           }
          },
          "shapedefaults": {
           "line": {
            "color": "#2a3f5f"
           }
          },
          "ternary": {
           "aaxis": {
            "gridcolor": "white",
            "linecolor": "white",
            "ticks": ""
           },
           "baxis": {
            "gridcolor": "white",
            "linecolor": "white",
            "ticks": ""
           },
           "bgcolor": "#E5ECF6",
           "caxis": {
            "gridcolor": "white",
            "linecolor": "white",
            "ticks": ""
           }
          },
          "title": {
           "x": 0.05
          },
          "xaxis": {
           "automargin": true,
           "gridcolor": "white",
           "linecolor": "white",
           "ticks": "",
           "title": {
            "standoff": 15
           },
           "zerolinecolor": "white",
           "zerolinewidth": 2
          },
          "yaxis": {
           "automargin": true,
           "gridcolor": "white",
           "linecolor": "white",
           "ticks": "",
           "title": {
            "standoff": 15
           },
           "zerolinecolor": "white",
           "zerolinewidth": 2
          }
         }
        },
        "title": {
         "font": {
          "color": "#4D5663"
         }
        },
        "xaxis": {
         "gridcolor": "#E1E5ED",
         "showgrid": true,
         "tickfont": {
          "color": "#4D5663"
         },
         "title": {
          "font": {
           "color": "#4D5663"
          },
          "text": ""
         },
         "zerolinecolor": "#E1E5ED"
        },
        "yaxis": {
         "gridcolor": "#E1E5ED",
         "showgrid": true,
         "tickfont": {
          "color": "#4D5663"
         },
         "title": {
          "font": {
           "color": "#4D5663"
          },
          "text": ""
         },
         "zerolinecolor": "#E1E5ED"
        }
       }
      },
      "text/html": [
       "<div>                            <div id=\"f05f5ec2-2c39-4c1d-9a42-a721227b5048\" class=\"plotly-graph-div\" style=\"height:525px; width:100%;\"></div>            <script type=\"text/javascript\">                require([\"plotly\"], function(Plotly) {                    window.PLOTLYENV=window.PLOTLYENV || {};\n",
       "                    window.PLOTLYENV.BASE_URL='https://plot.ly';                                    if (document.getElementById(\"f05f5ec2-2c39-4c1d-9a42-a721227b5048\")) {                    Plotly.newPlot(                        \"f05f5ec2-2c39-4c1d-9a42-a721227b5048\",                        [{\"line\":{\"color\":\"rgba(255, 153, 51, 1.0)\",\"dash\":\"solid\",\"shape\":\"linear\",\"width\":1.3},\"marker\":{\"size\":10,\"symbol\":\"circle\"},\"mode\":\"markers\",\"name\":\"B\",\"text\":\"\",\"x\":[-1.9155992047694723,-0.4481315159572726,-0.11667812727294494,-0.47405025229684344,0.5746676894222532,-1.5551821928115497,-1.072363124361193,1.2249086267193,-3.3367698414674267,-1.011489626579287,0.6314459569116476,0.08220392031662183,-1.491849155089903,-2.6826923465190182,-1.406142682152996,-0.09669026493158919,0.6255108134307167,-0.8998558810491614,-0.2756313164584835,0.3713126358915743,-0.14945511870764175,-2.7250214453982338,-0.497935347176919,-0.7794784042791113,-0.30309488487554737,-0.7033732528019522,0.07862498827643226,-0.49979720991996174,-0.6002810486693904,0.718931878030546,0.2590887953878619,0.9060597459809786,-0.4190053741867893,-0.674433060377967,0.10545055429225647,1.2703935062900036,0.08983878160980747,0.6570432262514,-1.0176071028493356,0.6749140899996501,0.08417298484397781,0.8001476730499851,-0.12399513898835102,0.6274206095826046,-1.318877425164554,0.8164515931433367,0.09393732573798273,1.1206004281742687,0.8579900755978948,0.14911973244187204,0.9711897159096959,0.15869343459827023,0.20449045179987363,-1.6562183779368844,-0.9608076241416532,1.7727570332597742,-0.4457864515536005,0.4733263459830899,-0.1111431812706696,-0.6308516353493814,-1.5083286013649613,-1.8184170618133393,-1.577160446581665,-1.3084496737397215,0.29394673420640693,-0.21034035618984062,0.22395410087307033,0.5071818648650146,-1.4180404163946694,-0.21388614142527063,-0.7728099669727144,0.45279731788305944,-1.176389429494858,1.537074281671399,-1.0673529889078999,-1.1894210145045987,-1.5454669283459765,0.30364289543227707,-0.2762977037815814,1.7831332501465116,0.9826029558353301,-1.002098401486566,-0.16731691773009688,1.176134221963469,0.3460648331901014,-0.32043219503556436,-0.3782163252372253,0.9571278359770741,-0.057274155370753116,0.32731766282935837,-0.30977457949724585,-0.9355114325341685,-1.8964276157738422,0.2929666305481281,-0.7261109260232375,-0.5620284230807836,0.29595542033167244,-1.6709671363176706,0.7262858567454336,-0.564607728302298],\"y\":[0.25012653811443325,-0.31263602491902226,0.46854191390985994,0.3495550634187599,1.2779608573542152,-0.7195686267733024,-0.05377556286345402,0.8860961885150416,-0.35659558561108556,-0.5412418799364572,-1.0538607706754788,-1.4357015266467925,-1.4440825388729484,-0.4601463702775817,1.0525558771197012,-0.6384012471936885,-0.3984075707720691,0.3217992513734411,0.717847534780858,0.14786313583922234,-0.08921894414927768,-0.026447486752192863,-0.41781749828547704,-0.4258553164011774,-0.691041627506832,0.2725451758149655,1.2146505715089757,-0.7164863916632876,0.39324350968810945,-0.30946916784496414,-0.27145136523819957,0.6679457848678415,-0.07142770435308705,0.704443166579191,2.157895083594788,0.6170696338034954,-0.13662952222954544,-0.290866965366531,-0.4155089124480595,-0.15309402200095784,1.5221394507416537,-1.6249467620767861,-0.6965471964753526,0.182517283224261,0.23350357359802568,1.1453466340351426,-0.3686827311467193,1.957928012194116,0.4071672052678087,0.58680361903923,-0.8828982087450967,0.4129260132199946,0.6441433598373917,0.33372085287296577,0.3114578540673428,0.30273197459055706,-0.0672794267265068,0.7311115271348104,-1.4610688565261025,-1.3620418033258774,-1.1749042013895534,0.2569253531988617,0.3132234789055193,-0.4939070459441881,-0.38233997444376466,-0.8341518456265357,-2.275739432967845,-1.5981719266949375,1.4764816496356954,1.2582757204570383,-0.4430532726331741,-0.21808790791840466,-0.2523685759128763,-0.600478802244115,0.15220587659129273,-1.6586124610802093,-1.3433717204993254,0.9523056125989408,-1.9154009199738649,-1.3386543561881108,-0.8149176443027241,0.6388800450354669,0.030844994128891724,-1.986446346965538,-0.22630015828997926,-0.27117120976532544,-1.176124215365589,0.4534877231166138,0.1678182902848415,0.5552876540147228,-0.00964539990285035,1.2041724538233955,0.024983048147564843,0.03429775948556624,1.346683258563046,0.9870398426730453,-0.5747651397935243,-1.8469381178596094,0.751357199127522,0.38951470541379307],\"type\":\"scatter\"}],                        {\"legend\":{\"bgcolor\":\"#F5F6F9\",\"font\":{\"color\":\"#4D5663\"}},\"paper_bgcolor\":\"#F5F6F9\",\"plot_bgcolor\":\"#F5F6F9\",\"template\":{\"data\":{\"barpolar\":[{\"marker\":{\"line\":{\"color\":\"#E5ECF6\",\"width\":0.5},\"pattern\":{\"fillmode\":\"overlay\",\"size\":10,\"solidity\":0.2}},\"type\":\"barpolar\"}],\"bar\":[{\"error_x\":{\"color\":\"#2a3f5f\"},\"error_y\":{\"color\":\"#2a3f5f\"},\"marker\":{\"line\":{\"color\":\"#E5ECF6\",\"width\":0.5},\"pattern\":{\"fillmode\":\"overlay\",\"size\":10,\"solidity\":0.2}},\"type\":\"bar\"}],\"carpet\":[{\"aaxis\":{\"endlinecolor\":\"#2a3f5f\",\"gridcolor\":\"white\",\"linecolor\":\"white\",\"minorgridcolor\":\"white\",\"startlinecolor\":\"#2a3f5f\"},\"baxis\":{\"endlinecolor\":\"#2a3f5f\",\"gridcolor\":\"white\",\"linecolor\":\"white\",\"minorgridcolor\":\"white\",\"startlinecolor\":\"#2a3f5f\"},\"type\":\"carpet\"}],\"choropleth\":[{\"colorbar\":{\"outlinewidth\":0,\"ticks\":\"\"},\"type\":\"choropleth\"}],\"contourcarpet\":[{\"colorbar\":{\"outlinewidth\":0,\"ticks\":\"\"},\"type\":\"contourcarpet\"}],\"contour\":[{\"colorbar\":{\"outlinewidth\":0,\"ticks\":\"\"},\"colorscale\":[[0.0,\"#0d0887\"],[0.1111111111111111,\"#46039f\"],[0.2222222222222222,\"#7201a8\"],[0.3333333333333333,\"#9c179e\"],[0.4444444444444444,\"#bd3786\"],[0.5555555555555556,\"#d8576b\"],[0.6666666666666666,\"#ed7953\"],[0.7777777777777778,\"#fb9f3a\"],[0.8888888888888888,\"#fdca26\"],[1.0,\"#f0f921\"]],\"type\":\"contour\"}],\"heatmapgl\":[{\"colorbar\":{\"outlinewidth\":0,\"ticks\":\"\"},\"colorscale\":[[0.0,\"#0d0887\"],[0.1111111111111111,\"#46039f\"],[0.2222222222222222,\"#7201a8\"],[0.3333333333333333,\"#9c179e\"],[0.4444444444444444,\"#bd3786\"],[0.5555555555555556,\"#d8576b\"],[0.6666666666666666,\"#ed7953\"],[0.7777777777777778,\"#fb9f3a\"],[0.8888888888888888,\"#fdca26\"],[1.0,\"#f0f921\"]],\"type\":\"heatmapgl\"}],\"heatmap\":[{\"colorbar\":{\"outlinewidth\":0,\"ticks\":\"\"},\"colorscale\":[[0.0,\"#0d0887\"],[0.1111111111111111,\"#46039f\"],[0.2222222222222222,\"#7201a8\"],[0.3333333333333333,\"#9c179e\"],[0.4444444444444444,\"#bd3786\"],[0.5555555555555556,\"#d8576b\"],[0.6666666666666666,\"#ed7953\"],[0.7777777777777778,\"#fb9f3a\"],[0.8888888888888888,\"#fdca26\"],[1.0,\"#f0f921\"]],\"type\":\"heatmap\"}],\"histogram2dcontour\":[{\"colorbar\":{\"outlinewidth\":0,\"ticks\":\"\"},\"colorscale\":[[0.0,\"#0d0887\"],[0.1111111111111111,\"#46039f\"],[0.2222222222222222,\"#7201a8\"],[0.3333333333333333,\"#9c179e\"],[0.4444444444444444,\"#bd3786\"],[0.5555555555555556,\"#d8576b\"],[0.6666666666666666,\"#ed7953\"],[0.7777777777777778,\"#fb9f3a\"],[0.8888888888888888,\"#fdca26\"],[1.0,\"#f0f921\"]],\"type\":\"histogram2dcontour\"}],\"histogram2d\":[{\"colorbar\":{\"outlinewidth\":0,\"ticks\":\"\"},\"colorscale\":[[0.0,\"#0d0887\"],[0.1111111111111111,\"#46039f\"],[0.2222222222222222,\"#7201a8\"],[0.3333333333333333,\"#9c179e\"],[0.4444444444444444,\"#bd3786\"],[0.5555555555555556,\"#d8576b\"],[0.6666666666666666,\"#ed7953\"],[0.7777777777777778,\"#fb9f3a\"],[0.8888888888888888,\"#fdca26\"],[1.0,\"#f0f921\"]],\"type\":\"histogram2d\"}],\"histogram\":[{\"marker\":{\"pattern\":{\"fillmode\":\"overlay\",\"size\":10,\"solidity\":0.2}},\"type\":\"histogram\"}],\"mesh3d\":[{\"colorbar\":{\"outlinewidth\":0,\"ticks\":\"\"},\"type\":\"mesh3d\"}],\"parcoords\":[{\"line\":{\"colorbar\":{\"outlinewidth\":0,\"ticks\":\"\"}},\"type\":\"parcoords\"}],\"pie\":[{\"automargin\":true,\"type\":\"pie\"}],\"scatter3d\":[{\"line\":{\"colorbar\":{\"outlinewidth\":0,\"ticks\":\"\"}},\"marker\":{\"colorbar\":{\"outlinewidth\":0,\"ticks\":\"\"}},\"type\":\"scatter3d\"}],\"scattercarpet\":[{\"marker\":{\"colorbar\":{\"outlinewidth\":0,\"ticks\":\"\"}},\"type\":\"scattercarpet\"}],\"scattergeo\":[{\"marker\":{\"colorbar\":{\"outlinewidth\":0,\"ticks\":\"\"}},\"type\":\"scattergeo\"}],\"scattergl\":[{\"marker\":{\"colorbar\":{\"outlinewidth\":0,\"ticks\":\"\"}},\"type\":\"scattergl\"}],\"scattermapbox\":[{\"marker\":{\"colorbar\":{\"outlinewidth\":0,\"ticks\":\"\"}},\"type\":\"scattermapbox\"}],\"scatterpolargl\":[{\"marker\":{\"colorbar\":{\"outlinewidth\":0,\"ticks\":\"\"}},\"type\":\"scatterpolargl\"}],\"scatterpolar\":[{\"marker\":{\"colorbar\":{\"outlinewidth\":0,\"ticks\":\"\"}},\"type\":\"scatterpolar\"}],\"scatter\":[{\"fillpattern\":{\"fillmode\":\"overlay\",\"size\":10,\"solidity\":0.2},\"type\":\"scatter\"}],\"scatterternary\":[{\"marker\":{\"colorbar\":{\"outlinewidth\":0,\"ticks\":\"\"}},\"type\":\"scatterternary\"}],\"surface\":[{\"colorbar\":{\"outlinewidth\":0,\"ticks\":\"\"},\"colorscale\":[[0.0,\"#0d0887\"],[0.1111111111111111,\"#46039f\"],[0.2222222222222222,\"#7201a8\"],[0.3333333333333333,\"#9c179e\"],[0.4444444444444444,\"#bd3786\"],[0.5555555555555556,\"#d8576b\"],[0.6666666666666666,\"#ed7953\"],[0.7777777777777778,\"#fb9f3a\"],[0.8888888888888888,\"#fdca26\"],[1.0,\"#f0f921\"]],\"type\":\"surface\"}],\"table\":[{\"cells\":{\"fill\":{\"color\":\"#EBF0F8\"},\"line\":{\"color\":\"white\"}},\"header\":{\"fill\":{\"color\":\"#C8D4E3\"},\"line\":{\"color\":\"white\"}},\"type\":\"table\"}]},\"layout\":{\"annotationdefaults\":{\"arrowcolor\":\"#2a3f5f\",\"arrowhead\":0,\"arrowwidth\":1},\"autotypenumbers\":\"strict\",\"coloraxis\":{\"colorbar\":{\"outlinewidth\":0,\"ticks\":\"\"}},\"colorscale\":{\"diverging\":[[0,\"#8e0152\"],[0.1,\"#c51b7d\"],[0.2,\"#de77ae\"],[0.3,\"#f1b6da\"],[0.4,\"#fde0ef\"],[0.5,\"#f7f7f7\"],[0.6,\"#e6f5d0\"],[0.7,\"#b8e186\"],[0.8,\"#7fbc41\"],[0.9,\"#4d9221\"],[1,\"#276419\"]],\"sequential\":[[0.0,\"#0d0887\"],[0.1111111111111111,\"#46039f\"],[0.2222222222222222,\"#7201a8\"],[0.3333333333333333,\"#9c179e\"],[0.4444444444444444,\"#bd3786\"],[0.5555555555555556,\"#d8576b\"],[0.6666666666666666,\"#ed7953\"],[0.7777777777777778,\"#fb9f3a\"],[0.8888888888888888,\"#fdca26\"],[1.0,\"#f0f921\"]],\"sequentialminus\":[[0.0,\"#0d0887\"],[0.1111111111111111,\"#46039f\"],[0.2222222222222222,\"#7201a8\"],[0.3333333333333333,\"#9c179e\"],[0.4444444444444444,\"#bd3786\"],[0.5555555555555556,\"#d8576b\"],[0.6666666666666666,\"#ed7953\"],[0.7777777777777778,\"#fb9f3a\"],[0.8888888888888888,\"#fdca26\"],[1.0,\"#f0f921\"]]},\"colorway\":[\"#636efa\",\"#EF553B\",\"#00cc96\",\"#ab63fa\",\"#FFA15A\",\"#19d3f3\",\"#FF6692\",\"#B6E880\",\"#FF97FF\",\"#FECB52\"],\"font\":{\"color\":\"#2a3f5f\"},\"geo\":{\"bgcolor\":\"white\",\"lakecolor\":\"white\",\"landcolor\":\"#E5ECF6\",\"showlakes\":true,\"showland\":true,\"subunitcolor\":\"white\"},\"hoverlabel\":{\"align\":\"left\"},\"hovermode\":\"closest\",\"mapbox\":{\"style\":\"light\"},\"paper_bgcolor\":\"white\",\"plot_bgcolor\":\"#E5ECF6\",\"polar\":{\"angularaxis\":{\"gridcolor\":\"white\",\"linecolor\":\"white\",\"ticks\":\"\"},\"bgcolor\":\"#E5ECF6\",\"radialaxis\":{\"gridcolor\":\"white\",\"linecolor\":\"white\",\"ticks\":\"\"}},\"scene\":{\"xaxis\":{\"backgroundcolor\":\"#E5ECF6\",\"gridcolor\":\"white\",\"gridwidth\":2,\"linecolor\":\"white\",\"showbackground\":true,\"ticks\":\"\",\"zerolinecolor\":\"white\"},\"yaxis\":{\"backgroundcolor\":\"#E5ECF6\",\"gridcolor\":\"white\",\"gridwidth\":2,\"linecolor\":\"white\",\"showbackground\":true,\"ticks\":\"\",\"zerolinecolor\":\"white\"},\"zaxis\":{\"backgroundcolor\":\"#E5ECF6\",\"gridcolor\":\"white\",\"gridwidth\":2,\"linecolor\":\"white\",\"showbackground\":true,\"ticks\":\"\",\"zerolinecolor\":\"white\"}},\"shapedefaults\":{\"line\":{\"color\":\"#2a3f5f\"}},\"ternary\":{\"aaxis\":{\"gridcolor\":\"white\",\"linecolor\":\"white\",\"ticks\":\"\"},\"baxis\":{\"gridcolor\":\"white\",\"linecolor\":\"white\",\"ticks\":\"\"},\"bgcolor\":\"#E5ECF6\",\"caxis\":{\"gridcolor\":\"white\",\"linecolor\":\"white\",\"ticks\":\"\"}},\"title\":{\"x\":0.05},\"xaxis\":{\"automargin\":true,\"gridcolor\":\"white\",\"linecolor\":\"white\",\"ticks\":\"\",\"title\":{\"standoff\":15},\"zerolinecolor\":\"white\",\"zerolinewidth\":2},\"yaxis\":{\"automargin\":true,\"gridcolor\":\"white\",\"linecolor\":\"white\",\"ticks\":\"\",\"title\":{\"standoff\":15},\"zerolinecolor\":\"white\",\"zerolinewidth\":2}}},\"title\":{\"font\":{\"color\":\"#4D5663\"}},\"xaxis\":{\"gridcolor\":\"#E1E5ED\",\"showgrid\":true,\"tickfont\":{\"color\":\"#4D5663\"},\"title\":{\"font\":{\"color\":\"#4D5663\"},\"text\":\"\"},\"zerolinecolor\":\"#E1E5ED\"},\"yaxis\":{\"gridcolor\":\"#E1E5ED\",\"showgrid\":true,\"tickfont\":{\"color\":\"#4D5663\"},\"title\":{\"font\":{\"color\":\"#4D5663\"},\"text\":\"\"},\"zerolinecolor\":\"#E1E5ED\"}},                        {\"showLink\": true, \"linkText\": \"Export to plot.ly\", \"plotlyServerURL\": \"https://plot.ly\", \"responsive\": true}                    ).then(function(){\n",
       "                            \n",
       "var gd = document.getElementById('f05f5ec2-2c39-4c1d-9a42-a721227b5048');\n",
       "var x = new MutationObserver(function (mutations, observer) {{\n",
       "        var display = window.getComputedStyle(gd).display;\n",
       "        if (!display || display === 'none') {{\n",
       "            console.log([gd, 'removed!']);\n",
       "            Plotly.purge(gd);\n",
       "            observer.disconnect();\n",
       "        }}\n",
       "}});\n",
       "\n",
       "// Listen for the removal of the full notebook cells\n",
       "var notebookContainer = gd.closest('#notebook-container');\n",
       "if (notebookContainer) {{\n",
       "    x.observe(notebookContainer, {childList: true});\n",
       "}}\n",
       "\n",
       "// Listen for the clearing of the current output cell\n",
       "var outputEl = gd.closest('.output');\n",
       "if (outputEl) {{\n",
       "    x.observe(outputEl, {childList: true});\n",
       "}}\n",
       "\n",
       "                        })                };                });            </script>        </div>"
      ]
     },
     "metadata": {},
     "output_type": "display_data"
    }
   ],
   "source": [
    "df.iplot(kind='scatter',x='A',y='B',mode='markers',size=10)"
   ]
  },
  {
   "cell_type": "code",
   "execution_count": 12,
   "metadata": {},
   "outputs": [
    {
     "data": {
      "application/vnd.plotly.v1+json": {
       "config": {
        "linkText": "Export to plot.ly",
        "plotlyServerURL": "https://plot.ly",
        "showLink": true
       },
       "data": [
        {
         "marker": {
          "color": "rgba(255, 153, 51, 0.6)",
          "line": {
           "color": "rgba(255, 153, 51, 1.0)",
           "width": 1
          }
         },
         "name": "Values",
         "orientation": "v",
         "text": "",
         "type": "bar",
         "x": [
          "A",
          "B",
          "C"
         ],
         "y": [
          32,
          43,
          50
         ]
        }
       ],
       "layout": {
        "legend": {
         "bgcolor": "#F5F6F9",
         "font": {
          "color": "#4D5663"
         }
        },
        "paper_bgcolor": "#F5F6F9",
        "plot_bgcolor": "#F5F6F9",
        "template": {
         "data": {
          "bar": [
           {
            "error_x": {
             "color": "#2a3f5f"
            },
            "error_y": {
             "color": "#2a3f5f"
            },
            "marker": {
             "line": {
              "color": "#E5ECF6",
              "width": 0.5
             },
             "pattern": {
              "fillmode": "overlay",
              "size": 10,
              "solidity": 0.2
             }
            },
            "type": "bar"
           }
          ],
          "barpolar": [
           {
            "marker": {
             "line": {
              "color": "#E5ECF6",
              "width": 0.5
             },
             "pattern": {
              "fillmode": "overlay",
              "size": 10,
              "solidity": 0.2
             }
            },
            "type": "barpolar"
           }
          ],
          "carpet": [
           {
            "aaxis": {
             "endlinecolor": "#2a3f5f",
             "gridcolor": "white",
             "linecolor": "white",
             "minorgridcolor": "white",
             "startlinecolor": "#2a3f5f"
            },
            "baxis": {
             "endlinecolor": "#2a3f5f",
             "gridcolor": "white",
             "linecolor": "white",
             "minorgridcolor": "white",
             "startlinecolor": "#2a3f5f"
            },
            "type": "carpet"
           }
          ],
          "choropleth": [
           {
            "colorbar": {
             "outlinewidth": 0,
             "ticks": ""
            },
            "type": "choropleth"
           }
          ],
          "contour": [
           {
            "colorbar": {
             "outlinewidth": 0,
             "ticks": ""
            },
            "colorscale": [
             [
              0,
              "#0d0887"
             ],
             [
              0.1111111111111111,
              "#46039f"
             ],
             [
              0.2222222222222222,
              "#7201a8"
             ],
             [
              0.3333333333333333,
              "#9c179e"
             ],
             [
              0.4444444444444444,
              "#bd3786"
             ],
             [
              0.5555555555555556,
              "#d8576b"
             ],
             [
              0.6666666666666666,
              "#ed7953"
             ],
             [
              0.7777777777777778,
              "#fb9f3a"
             ],
             [
              0.8888888888888888,
              "#fdca26"
             ],
             [
              1,
              "#f0f921"
             ]
            ],
            "type": "contour"
           }
          ],
          "contourcarpet": [
           {
            "colorbar": {
             "outlinewidth": 0,
             "ticks": ""
            },
            "type": "contourcarpet"
           }
          ],
          "heatmap": [
           {
            "colorbar": {
             "outlinewidth": 0,
             "ticks": ""
            },
            "colorscale": [
             [
              0,
              "#0d0887"
             ],
             [
              0.1111111111111111,
              "#46039f"
             ],
             [
              0.2222222222222222,
              "#7201a8"
             ],
             [
              0.3333333333333333,
              "#9c179e"
             ],
             [
              0.4444444444444444,
              "#bd3786"
             ],
             [
              0.5555555555555556,
              "#d8576b"
             ],
             [
              0.6666666666666666,
              "#ed7953"
             ],
             [
              0.7777777777777778,
              "#fb9f3a"
             ],
             [
              0.8888888888888888,
              "#fdca26"
             ],
             [
              1,
              "#f0f921"
             ]
            ],
            "type": "heatmap"
           }
          ],
          "heatmapgl": [
           {
            "colorbar": {
             "outlinewidth": 0,
             "ticks": ""
            },
            "colorscale": [
             [
              0,
              "#0d0887"
             ],
             [
              0.1111111111111111,
              "#46039f"
             ],
             [
              0.2222222222222222,
              "#7201a8"
             ],
             [
              0.3333333333333333,
              "#9c179e"
             ],
             [
              0.4444444444444444,
              "#bd3786"
             ],
             [
              0.5555555555555556,
              "#d8576b"
             ],
             [
              0.6666666666666666,
              "#ed7953"
             ],
             [
              0.7777777777777778,
              "#fb9f3a"
             ],
             [
              0.8888888888888888,
              "#fdca26"
             ],
             [
              1,
              "#f0f921"
             ]
            ],
            "type": "heatmapgl"
           }
          ],
          "histogram": [
           {
            "marker": {
             "pattern": {
              "fillmode": "overlay",
              "size": 10,
              "solidity": 0.2
             }
            },
            "type": "histogram"
           }
          ],
          "histogram2d": [
           {
            "colorbar": {
             "outlinewidth": 0,
             "ticks": ""
            },
            "colorscale": [
             [
              0,
              "#0d0887"
             ],
             [
              0.1111111111111111,
              "#46039f"
             ],
             [
              0.2222222222222222,
              "#7201a8"
             ],
             [
              0.3333333333333333,
              "#9c179e"
             ],
             [
              0.4444444444444444,
              "#bd3786"
             ],
             [
              0.5555555555555556,
              "#d8576b"
             ],
             [
              0.6666666666666666,
              "#ed7953"
             ],
             [
              0.7777777777777778,
              "#fb9f3a"
             ],
             [
              0.8888888888888888,
              "#fdca26"
             ],
             [
              1,
              "#f0f921"
             ]
            ],
            "type": "histogram2d"
           }
          ],
          "histogram2dcontour": [
           {
            "colorbar": {
             "outlinewidth": 0,
             "ticks": ""
            },
            "colorscale": [
             [
              0,
              "#0d0887"
             ],
             [
              0.1111111111111111,
              "#46039f"
             ],
             [
              0.2222222222222222,
              "#7201a8"
             ],
             [
              0.3333333333333333,
              "#9c179e"
             ],
             [
              0.4444444444444444,
              "#bd3786"
             ],
             [
              0.5555555555555556,
              "#d8576b"
             ],
             [
              0.6666666666666666,
              "#ed7953"
             ],
             [
              0.7777777777777778,
              "#fb9f3a"
             ],
             [
              0.8888888888888888,
              "#fdca26"
             ],
             [
              1,
              "#f0f921"
             ]
            ],
            "type": "histogram2dcontour"
           }
          ],
          "mesh3d": [
           {
            "colorbar": {
             "outlinewidth": 0,
             "ticks": ""
            },
            "type": "mesh3d"
           }
          ],
          "parcoords": [
           {
            "line": {
             "colorbar": {
              "outlinewidth": 0,
              "ticks": ""
             }
            },
            "type": "parcoords"
           }
          ],
          "pie": [
           {
            "automargin": true,
            "type": "pie"
           }
          ],
          "scatter": [
           {
            "fillpattern": {
             "fillmode": "overlay",
             "size": 10,
             "solidity": 0.2
            },
            "type": "scatter"
           }
          ],
          "scatter3d": [
           {
            "line": {
             "colorbar": {
              "outlinewidth": 0,
              "ticks": ""
             }
            },
            "marker": {
             "colorbar": {
              "outlinewidth": 0,
              "ticks": ""
             }
            },
            "type": "scatter3d"
           }
          ],
          "scattercarpet": [
           {
            "marker": {
             "colorbar": {
              "outlinewidth": 0,
              "ticks": ""
             }
            },
            "type": "scattercarpet"
           }
          ],
          "scattergeo": [
           {
            "marker": {
             "colorbar": {
              "outlinewidth": 0,
              "ticks": ""
             }
            },
            "type": "scattergeo"
           }
          ],
          "scattergl": [
           {
            "marker": {
             "colorbar": {
              "outlinewidth": 0,
              "ticks": ""
             }
            },
            "type": "scattergl"
           }
          ],
          "scattermapbox": [
           {
            "marker": {
             "colorbar": {
              "outlinewidth": 0,
              "ticks": ""
             }
            },
            "type": "scattermapbox"
           }
          ],
          "scatterpolar": [
           {
            "marker": {
             "colorbar": {
              "outlinewidth": 0,
              "ticks": ""
             }
            },
            "type": "scatterpolar"
           }
          ],
          "scatterpolargl": [
           {
            "marker": {
             "colorbar": {
              "outlinewidth": 0,
              "ticks": ""
             }
            },
            "type": "scatterpolargl"
           }
          ],
          "scatterternary": [
           {
            "marker": {
             "colorbar": {
              "outlinewidth": 0,
              "ticks": ""
             }
            },
            "type": "scatterternary"
           }
          ],
          "surface": [
           {
            "colorbar": {
             "outlinewidth": 0,
             "ticks": ""
            },
            "colorscale": [
             [
              0,
              "#0d0887"
             ],
             [
              0.1111111111111111,
              "#46039f"
             ],
             [
              0.2222222222222222,
              "#7201a8"
             ],
             [
              0.3333333333333333,
              "#9c179e"
             ],
             [
              0.4444444444444444,
              "#bd3786"
             ],
             [
              0.5555555555555556,
              "#d8576b"
             ],
             [
              0.6666666666666666,
              "#ed7953"
             ],
             [
              0.7777777777777778,
              "#fb9f3a"
             ],
             [
              0.8888888888888888,
              "#fdca26"
             ],
             [
              1,
              "#f0f921"
             ]
            ],
            "type": "surface"
           }
          ],
          "table": [
           {
            "cells": {
             "fill": {
              "color": "#EBF0F8"
             },
             "line": {
              "color": "white"
             }
            },
            "header": {
             "fill": {
              "color": "#C8D4E3"
             },
             "line": {
              "color": "white"
             }
            },
            "type": "table"
           }
          ]
         },
         "layout": {
          "annotationdefaults": {
           "arrowcolor": "#2a3f5f",
           "arrowhead": 0,
           "arrowwidth": 1
          },
          "autotypenumbers": "strict",
          "coloraxis": {
           "colorbar": {
            "outlinewidth": 0,
            "ticks": ""
           }
          },
          "colorscale": {
           "diverging": [
            [
             0,
             "#8e0152"
            ],
            [
             0.1,
             "#c51b7d"
            ],
            [
             0.2,
             "#de77ae"
            ],
            [
             0.3,
             "#f1b6da"
            ],
            [
             0.4,
             "#fde0ef"
            ],
            [
             0.5,
             "#f7f7f7"
            ],
            [
             0.6,
             "#e6f5d0"
            ],
            [
             0.7,
             "#b8e186"
            ],
            [
             0.8,
             "#7fbc41"
            ],
            [
             0.9,
             "#4d9221"
            ],
            [
             1,
             "#276419"
            ]
           ],
           "sequential": [
            [
             0,
             "#0d0887"
            ],
            [
             0.1111111111111111,
             "#46039f"
            ],
            [
             0.2222222222222222,
             "#7201a8"
            ],
            [
             0.3333333333333333,
             "#9c179e"
            ],
            [
             0.4444444444444444,
             "#bd3786"
            ],
            [
             0.5555555555555556,
             "#d8576b"
            ],
            [
             0.6666666666666666,
             "#ed7953"
            ],
            [
             0.7777777777777778,
             "#fb9f3a"
            ],
            [
             0.8888888888888888,
             "#fdca26"
            ],
            [
             1,
             "#f0f921"
            ]
           ],
           "sequentialminus": [
            [
             0,
             "#0d0887"
            ],
            [
             0.1111111111111111,
             "#46039f"
            ],
            [
             0.2222222222222222,
             "#7201a8"
            ],
            [
             0.3333333333333333,
             "#9c179e"
            ],
            [
             0.4444444444444444,
             "#bd3786"
            ],
            [
             0.5555555555555556,
             "#d8576b"
            ],
            [
             0.6666666666666666,
             "#ed7953"
            ],
            [
             0.7777777777777778,
             "#fb9f3a"
            ],
            [
             0.8888888888888888,
             "#fdca26"
            ],
            [
             1,
             "#f0f921"
            ]
           ]
          },
          "colorway": [
           "#636efa",
           "#EF553B",
           "#00cc96",
           "#ab63fa",
           "#FFA15A",
           "#19d3f3",
           "#FF6692",
           "#B6E880",
           "#FF97FF",
           "#FECB52"
          ],
          "font": {
           "color": "#2a3f5f"
          },
          "geo": {
           "bgcolor": "white",
           "lakecolor": "white",
           "landcolor": "#E5ECF6",
           "showlakes": true,
           "showland": true,
           "subunitcolor": "white"
          },
          "hoverlabel": {
           "align": "left"
          },
          "hovermode": "closest",
          "mapbox": {
           "style": "light"
          },
          "paper_bgcolor": "white",
          "plot_bgcolor": "#E5ECF6",
          "polar": {
           "angularaxis": {
            "gridcolor": "white",
            "linecolor": "white",
            "ticks": ""
           },
           "bgcolor": "#E5ECF6",
           "radialaxis": {
            "gridcolor": "white",
            "linecolor": "white",
            "ticks": ""
           }
          },
          "scene": {
           "xaxis": {
            "backgroundcolor": "#E5ECF6",
            "gridcolor": "white",
            "gridwidth": 2,
            "linecolor": "white",
            "showbackground": true,
            "ticks": "",
            "zerolinecolor": "white"
           },
           "yaxis": {
            "backgroundcolor": "#E5ECF6",
            "gridcolor": "white",
            "gridwidth": 2,
            "linecolor": "white",
            "showbackground": true,
            "ticks": "",
            "zerolinecolor": "white"
           },
           "zaxis": {
            "backgroundcolor": "#E5ECF6",
            "gridcolor": "white",
            "gridwidth": 2,
            "linecolor": "white",
            "showbackground": true,
            "ticks": "",
            "zerolinecolor": "white"
           }
          },
          "shapedefaults": {
           "line": {
            "color": "#2a3f5f"
           }
          },
          "ternary": {
           "aaxis": {
            "gridcolor": "white",
            "linecolor": "white",
            "ticks": ""
           },
           "baxis": {
            "gridcolor": "white",
            "linecolor": "white",
            "ticks": ""
           },
           "bgcolor": "#E5ECF6",
           "caxis": {
            "gridcolor": "white",
            "linecolor": "white",
            "ticks": ""
           }
          },
          "title": {
           "x": 0.05
          },
          "xaxis": {
           "automargin": true,
           "gridcolor": "white",
           "linecolor": "white",
           "ticks": "",
           "title": {
            "standoff": 15
           },
           "zerolinecolor": "white",
           "zerolinewidth": 2
          },
          "yaxis": {
           "automargin": true,
           "gridcolor": "white",
           "linecolor": "white",
           "ticks": "",
           "title": {
            "standoff": 15
           },
           "zerolinecolor": "white",
           "zerolinewidth": 2
          }
         }
        },
        "title": {
         "font": {
          "color": "#4D5663"
         }
        },
        "xaxis": {
         "gridcolor": "#E1E5ED",
         "showgrid": true,
         "tickfont": {
          "color": "#4D5663"
         },
         "title": {
          "font": {
           "color": "#4D5663"
          },
          "text": ""
         },
         "zerolinecolor": "#E1E5ED"
        },
        "yaxis": {
         "gridcolor": "#E1E5ED",
         "showgrid": true,
         "tickfont": {
          "color": "#4D5663"
         },
         "title": {
          "font": {
           "color": "#4D5663"
          },
          "text": ""
         },
         "zerolinecolor": "#E1E5ED"
        }
       }
      },
      "text/html": [
       "<div>                            <div id=\"5019e52c-3425-498c-bd28-384472b22c4e\" class=\"plotly-graph-div\" style=\"height:525px; width:100%;\"></div>            <script type=\"text/javascript\">                require([\"plotly\"], function(Plotly) {                    window.PLOTLYENV=window.PLOTLYENV || {};\n",
       "                    window.PLOTLYENV.BASE_URL='https://plot.ly';                                    if (document.getElementById(\"5019e52c-3425-498c-bd28-384472b22c4e\")) {                    Plotly.newPlot(                        \"5019e52c-3425-498c-bd28-384472b22c4e\",                        [{\"marker\":{\"color\":\"rgba(255, 153, 51, 0.6)\",\"line\":{\"color\":\"rgba(255, 153, 51, 1.0)\",\"width\":1}},\"name\":\"Values\",\"orientation\":\"v\",\"text\":\"\",\"x\":[\"A\",\"B\",\"C\"],\"y\":[32,43,50],\"type\":\"bar\"}],                        {\"legend\":{\"bgcolor\":\"#F5F6F9\",\"font\":{\"color\":\"#4D5663\"}},\"paper_bgcolor\":\"#F5F6F9\",\"plot_bgcolor\":\"#F5F6F9\",\"template\":{\"data\":{\"barpolar\":[{\"marker\":{\"line\":{\"color\":\"#E5ECF6\",\"width\":0.5},\"pattern\":{\"fillmode\":\"overlay\",\"size\":10,\"solidity\":0.2}},\"type\":\"barpolar\"}],\"bar\":[{\"error_x\":{\"color\":\"#2a3f5f\"},\"error_y\":{\"color\":\"#2a3f5f\"},\"marker\":{\"line\":{\"color\":\"#E5ECF6\",\"width\":0.5},\"pattern\":{\"fillmode\":\"overlay\",\"size\":10,\"solidity\":0.2}},\"type\":\"bar\"}],\"carpet\":[{\"aaxis\":{\"endlinecolor\":\"#2a3f5f\",\"gridcolor\":\"white\",\"linecolor\":\"white\",\"minorgridcolor\":\"white\",\"startlinecolor\":\"#2a3f5f\"},\"baxis\":{\"endlinecolor\":\"#2a3f5f\",\"gridcolor\":\"white\",\"linecolor\":\"white\",\"minorgridcolor\":\"white\",\"startlinecolor\":\"#2a3f5f\"},\"type\":\"carpet\"}],\"choropleth\":[{\"colorbar\":{\"outlinewidth\":0,\"ticks\":\"\"},\"type\":\"choropleth\"}],\"contourcarpet\":[{\"colorbar\":{\"outlinewidth\":0,\"ticks\":\"\"},\"type\":\"contourcarpet\"}],\"contour\":[{\"colorbar\":{\"outlinewidth\":0,\"ticks\":\"\"},\"colorscale\":[[0.0,\"#0d0887\"],[0.1111111111111111,\"#46039f\"],[0.2222222222222222,\"#7201a8\"],[0.3333333333333333,\"#9c179e\"],[0.4444444444444444,\"#bd3786\"],[0.5555555555555556,\"#d8576b\"],[0.6666666666666666,\"#ed7953\"],[0.7777777777777778,\"#fb9f3a\"],[0.8888888888888888,\"#fdca26\"],[1.0,\"#f0f921\"]],\"type\":\"contour\"}],\"heatmapgl\":[{\"colorbar\":{\"outlinewidth\":0,\"ticks\":\"\"},\"colorscale\":[[0.0,\"#0d0887\"],[0.1111111111111111,\"#46039f\"],[0.2222222222222222,\"#7201a8\"],[0.3333333333333333,\"#9c179e\"],[0.4444444444444444,\"#bd3786\"],[0.5555555555555556,\"#d8576b\"],[0.6666666666666666,\"#ed7953\"],[0.7777777777777778,\"#fb9f3a\"],[0.8888888888888888,\"#fdca26\"],[1.0,\"#f0f921\"]],\"type\":\"heatmapgl\"}],\"heatmap\":[{\"colorbar\":{\"outlinewidth\":0,\"ticks\":\"\"},\"colorscale\":[[0.0,\"#0d0887\"],[0.1111111111111111,\"#46039f\"],[0.2222222222222222,\"#7201a8\"],[0.3333333333333333,\"#9c179e\"],[0.4444444444444444,\"#bd3786\"],[0.5555555555555556,\"#d8576b\"],[0.6666666666666666,\"#ed7953\"],[0.7777777777777778,\"#fb9f3a\"],[0.8888888888888888,\"#fdca26\"],[1.0,\"#f0f921\"]],\"type\":\"heatmap\"}],\"histogram2dcontour\":[{\"colorbar\":{\"outlinewidth\":0,\"ticks\":\"\"},\"colorscale\":[[0.0,\"#0d0887\"],[0.1111111111111111,\"#46039f\"],[0.2222222222222222,\"#7201a8\"],[0.3333333333333333,\"#9c179e\"],[0.4444444444444444,\"#bd3786\"],[0.5555555555555556,\"#d8576b\"],[0.6666666666666666,\"#ed7953\"],[0.7777777777777778,\"#fb9f3a\"],[0.8888888888888888,\"#fdca26\"],[1.0,\"#f0f921\"]],\"type\":\"histogram2dcontour\"}],\"histogram2d\":[{\"colorbar\":{\"outlinewidth\":0,\"ticks\":\"\"},\"colorscale\":[[0.0,\"#0d0887\"],[0.1111111111111111,\"#46039f\"],[0.2222222222222222,\"#7201a8\"],[0.3333333333333333,\"#9c179e\"],[0.4444444444444444,\"#bd3786\"],[0.5555555555555556,\"#d8576b\"],[0.6666666666666666,\"#ed7953\"],[0.7777777777777778,\"#fb9f3a\"],[0.8888888888888888,\"#fdca26\"],[1.0,\"#f0f921\"]],\"type\":\"histogram2d\"}],\"histogram\":[{\"marker\":{\"pattern\":{\"fillmode\":\"overlay\",\"size\":10,\"solidity\":0.2}},\"type\":\"histogram\"}],\"mesh3d\":[{\"colorbar\":{\"outlinewidth\":0,\"ticks\":\"\"},\"type\":\"mesh3d\"}],\"parcoords\":[{\"line\":{\"colorbar\":{\"outlinewidth\":0,\"ticks\":\"\"}},\"type\":\"parcoords\"}],\"pie\":[{\"automargin\":true,\"type\":\"pie\"}],\"scatter3d\":[{\"line\":{\"colorbar\":{\"outlinewidth\":0,\"ticks\":\"\"}},\"marker\":{\"colorbar\":{\"outlinewidth\":0,\"ticks\":\"\"}},\"type\":\"scatter3d\"}],\"scattercarpet\":[{\"marker\":{\"colorbar\":{\"outlinewidth\":0,\"ticks\":\"\"}},\"type\":\"scattercarpet\"}],\"scattergeo\":[{\"marker\":{\"colorbar\":{\"outlinewidth\":0,\"ticks\":\"\"}},\"type\":\"scattergeo\"}],\"scattergl\":[{\"marker\":{\"colorbar\":{\"outlinewidth\":0,\"ticks\":\"\"}},\"type\":\"scattergl\"}],\"scattermapbox\":[{\"marker\":{\"colorbar\":{\"outlinewidth\":0,\"ticks\":\"\"}},\"type\":\"scattermapbox\"}],\"scatterpolargl\":[{\"marker\":{\"colorbar\":{\"outlinewidth\":0,\"ticks\":\"\"}},\"type\":\"scatterpolargl\"}],\"scatterpolar\":[{\"marker\":{\"colorbar\":{\"outlinewidth\":0,\"ticks\":\"\"}},\"type\":\"scatterpolar\"}],\"scatter\":[{\"fillpattern\":{\"fillmode\":\"overlay\",\"size\":10,\"solidity\":0.2},\"type\":\"scatter\"}],\"scatterternary\":[{\"marker\":{\"colorbar\":{\"outlinewidth\":0,\"ticks\":\"\"}},\"type\":\"scatterternary\"}],\"surface\":[{\"colorbar\":{\"outlinewidth\":0,\"ticks\":\"\"},\"colorscale\":[[0.0,\"#0d0887\"],[0.1111111111111111,\"#46039f\"],[0.2222222222222222,\"#7201a8\"],[0.3333333333333333,\"#9c179e\"],[0.4444444444444444,\"#bd3786\"],[0.5555555555555556,\"#d8576b\"],[0.6666666666666666,\"#ed7953\"],[0.7777777777777778,\"#fb9f3a\"],[0.8888888888888888,\"#fdca26\"],[1.0,\"#f0f921\"]],\"type\":\"surface\"}],\"table\":[{\"cells\":{\"fill\":{\"color\":\"#EBF0F8\"},\"line\":{\"color\":\"white\"}},\"header\":{\"fill\":{\"color\":\"#C8D4E3\"},\"line\":{\"color\":\"white\"}},\"type\":\"table\"}]},\"layout\":{\"annotationdefaults\":{\"arrowcolor\":\"#2a3f5f\",\"arrowhead\":0,\"arrowwidth\":1},\"autotypenumbers\":\"strict\",\"coloraxis\":{\"colorbar\":{\"outlinewidth\":0,\"ticks\":\"\"}},\"colorscale\":{\"diverging\":[[0,\"#8e0152\"],[0.1,\"#c51b7d\"],[0.2,\"#de77ae\"],[0.3,\"#f1b6da\"],[0.4,\"#fde0ef\"],[0.5,\"#f7f7f7\"],[0.6,\"#e6f5d0\"],[0.7,\"#b8e186\"],[0.8,\"#7fbc41\"],[0.9,\"#4d9221\"],[1,\"#276419\"]],\"sequential\":[[0.0,\"#0d0887\"],[0.1111111111111111,\"#46039f\"],[0.2222222222222222,\"#7201a8\"],[0.3333333333333333,\"#9c179e\"],[0.4444444444444444,\"#bd3786\"],[0.5555555555555556,\"#d8576b\"],[0.6666666666666666,\"#ed7953\"],[0.7777777777777778,\"#fb9f3a\"],[0.8888888888888888,\"#fdca26\"],[1.0,\"#f0f921\"]],\"sequentialminus\":[[0.0,\"#0d0887\"],[0.1111111111111111,\"#46039f\"],[0.2222222222222222,\"#7201a8\"],[0.3333333333333333,\"#9c179e\"],[0.4444444444444444,\"#bd3786\"],[0.5555555555555556,\"#d8576b\"],[0.6666666666666666,\"#ed7953\"],[0.7777777777777778,\"#fb9f3a\"],[0.8888888888888888,\"#fdca26\"],[1.0,\"#f0f921\"]]},\"colorway\":[\"#636efa\",\"#EF553B\",\"#00cc96\",\"#ab63fa\",\"#FFA15A\",\"#19d3f3\",\"#FF6692\",\"#B6E880\",\"#FF97FF\",\"#FECB52\"],\"font\":{\"color\":\"#2a3f5f\"},\"geo\":{\"bgcolor\":\"white\",\"lakecolor\":\"white\",\"landcolor\":\"#E5ECF6\",\"showlakes\":true,\"showland\":true,\"subunitcolor\":\"white\"},\"hoverlabel\":{\"align\":\"left\"},\"hovermode\":\"closest\",\"mapbox\":{\"style\":\"light\"},\"paper_bgcolor\":\"white\",\"plot_bgcolor\":\"#E5ECF6\",\"polar\":{\"angularaxis\":{\"gridcolor\":\"white\",\"linecolor\":\"white\",\"ticks\":\"\"},\"bgcolor\":\"#E5ECF6\",\"radialaxis\":{\"gridcolor\":\"white\",\"linecolor\":\"white\",\"ticks\":\"\"}},\"scene\":{\"xaxis\":{\"backgroundcolor\":\"#E5ECF6\",\"gridcolor\":\"white\",\"gridwidth\":2,\"linecolor\":\"white\",\"showbackground\":true,\"ticks\":\"\",\"zerolinecolor\":\"white\"},\"yaxis\":{\"backgroundcolor\":\"#E5ECF6\",\"gridcolor\":\"white\",\"gridwidth\":2,\"linecolor\":\"white\",\"showbackground\":true,\"ticks\":\"\",\"zerolinecolor\":\"white\"},\"zaxis\":{\"backgroundcolor\":\"#E5ECF6\",\"gridcolor\":\"white\",\"gridwidth\":2,\"linecolor\":\"white\",\"showbackground\":true,\"ticks\":\"\",\"zerolinecolor\":\"white\"}},\"shapedefaults\":{\"line\":{\"color\":\"#2a3f5f\"}},\"ternary\":{\"aaxis\":{\"gridcolor\":\"white\",\"linecolor\":\"white\",\"ticks\":\"\"},\"baxis\":{\"gridcolor\":\"white\",\"linecolor\":\"white\",\"ticks\":\"\"},\"bgcolor\":\"#E5ECF6\",\"caxis\":{\"gridcolor\":\"white\",\"linecolor\":\"white\",\"ticks\":\"\"}},\"title\":{\"x\":0.05},\"xaxis\":{\"automargin\":true,\"gridcolor\":\"white\",\"linecolor\":\"white\",\"ticks\":\"\",\"title\":{\"standoff\":15},\"zerolinecolor\":\"white\",\"zerolinewidth\":2},\"yaxis\":{\"automargin\":true,\"gridcolor\":\"white\",\"linecolor\":\"white\",\"ticks\":\"\",\"title\":{\"standoff\":15},\"zerolinecolor\":\"white\",\"zerolinewidth\":2}}},\"title\":{\"font\":{\"color\":\"#4D5663\"}},\"xaxis\":{\"gridcolor\":\"#E1E5ED\",\"showgrid\":true,\"tickfont\":{\"color\":\"#4D5663\"},\"title\":{\"font\":{\"color\":\"#4D5663\"},\"text\":\"\"},\"zerolinecolor\":\"#E1E5ED\"},\"yaxis\":{\"gridcolor\":\"#E1E5ED\",\"showgrid\":true,\"tickfont\":{\"color\":\"#4D5663\"},\"title\":{\"font\":{\"color\":\"#4D5663\"},\"text\":\"\"},\"zerolinecolor\":\"#E1E5ED\"}},                        {\"showLink\": true, \"linkText\": \"Export to plot.ly\", \"plotlyServerURL\": \"https://plot.ly\", \"responsive\": true}                    ).then(function(){\n",
       "                            \n",
       "var gd = document.getElementById('5019e52c-3425-498c-bd28-384472b22c4e');\n",
       "var x = new MutationObserver(function (mutations, observer) {{\n",
       "        var display = window.getComputedStyle(gd).display;\n",
       "        if (!display || display === 'none') {{\n",
       "            console.log([gd, 'removed!']);\n",
       "            Plotly.purge(gd);\n",
       "            observer.disconnect();\n",
       "        }}\n",
       "}});\n",
       "\n",
       "// Listen for the removal of the full notebook cells\n",
       "var notebookContainer = gd.closest('#notebook-container');\n",
       "if (notebookContainer) {{\n",
       "    x.observe(notebookContainer, {childList: true});\n",
       "}}\n",
       "\n",
       "// Listen for the clearing of the current output cell\n",
       "var outputEl = gd.closest('.output');\n",
       "if (outputEl) {{\n",
       "    x.observe(outputEl, {childList: true});\n",
       "}}\n",
       "\n",
       "                        })                };                });            </script>        </div>"
      ]
     },
     "metadata": {},
     "output_type": "display_data"
    }
   ],
   "source": [
    "df2.iplot(kind='bar',x='Category',y='Values')"
   ]
  },
  {
   "cell_type": "code",
   "execution_count": 13,
   "metadata": {},
   "outputs": [
    {
     "data": {
      "application/vnd.plotly.v1+json": {
       "config": {
        "linkText": "Export to plot.ly",
        "plotlyServerURL": "https://plot.ly",
        "showLink": true
       },
       "data": [
        {
         "marker": {
          "color": "rgba(255, 153, 51, 0.6)",
          "line": {
           "color": "rgba(255, 153, 51, 1.0)",
           "width": 1
          }
         },
         "name": "None",
         "orientation": "v",
         "text": "",
         "type": "bar",
         "x": [
          "A",
          "B",
          "C",
          "D"
         ],
         "y": [
          100,
          100,
          100,
          100
         ]
        }
       ],
       "layout": {
        "legend": {
         "bgcolor": "#F5F6F9",
         "font": {
          "color": "#4D5663"
         }
        },
        "paper_bgcolor": "#F5F6F9",
        "plot_bgcolor": "#F5F6F9",
        "template": {
         "data": {
          "bar": [
           {
            "error_x": {
             "color": "#2a3f5f"
            },
            "error_y": {
             "color": "#2a3f5f"
            },
            "marker": {
             "line": {
              "color": "#E5ECF6",
              "width": 0.5
             },
             "pattern": {
              "fillmode": "overlay",
              "size": 10,
              "solidity": 0.2
             }
            },
            "type": "bar"
           }
          ],
          "barpolar": [
           {
            "marker": {
             "line": {
              "color": "#E5ECF6",
              "width": 0.5
             },
             "pattern": {
              "fillmode": "overlay",
              "size": 10,
              "solidity": 0.2
             }
            },
            "type": "barpolar"
           }
          ],
          "carpet": [
           {
            "aaxis": {
             "endlinecolor": "#2a3f5f",
             "gridcolor": "white",
             "linecolor": "white",
             "minorgridcolor": "white",
             "startlinecolor": "#2a3f5f"
            },
            "baxis": {
             "endlinecolor": "#2a3f5f",
             "gridcolor": "white",
             "linecolor": "white",
             "minorgridcolor": "white",
             "startlinecolor": "#2a3f5f"
            },
            "type": "carpet"
           }
          ],
          "choropleth": [
           {
            "colorbar": {
             "outlinewidth": 0,
             "ticks": ""
            },
            "type": "choropleth"
           }
          ],
          "contour": [
           {
            "colorbar": {
             "outlinewidth": 0,
             "ticks": ""
            },
            "colorscale": [
             [
              0,
              "#0d0887"
             ],
             [
              0.1111111111111111,
              "#46039f"
             ],
             [
              0.2222222222222222,
              "#7201a8"
             ],
             [
              0.3333333333333333,
              "#9c179e"
             ],
             [
              0.4444444444444444,
              "#bd3786"
             ],
             [
              0.5555555555555556,
              "#d8576b"
             ],
             [
              0.6666666666666666,
              "#ed7953"
             ],
             [
              0.7777777777777778,
              "#fb9f3a"
             ],
             [
              0.8888888888888888,
              "#fdca26"
             ],
             [
              1,
              "#f0f921"
             ]
            ],
            "type": "contour"
           }
          ],
          "contourcarpet": [
           {
            "colorbar": {
             "outlinewidth": 0,
             "ticks": ""
            },
            "type": "contourcarpet"
           }
          ],
          "heatmap": [
           {
            "colorbar": {
             "outlinewidth": 0,
             "ticks": ""
            },
            "colorscale": [
             [
              0,
              "#0d0887"
             ],
             [
              0.1111111111111111,
              "#46039f"
             ],
             [
              0.2222222222222222,
              "#7201a8"
             ],
             [
              0.3333333333333333,
              "#9c179e"
             ],
             [
              0.4444444444444444,
              "#bd3786"
             ],
             [
              0.5555555555555556,
              "#d8576b"
             ],
             [
              0.6666666666666666,
              "#ed7953"
             ],
             [
              0.7777777777777778,
              "#fb9f3a"
             ],
             [
              0.8888888888888888,
              "#fdca26"
             ],
             [
              1,
              "#f0f921"
             ]
            ],
            "type": "heatmap"
           }
          ],
          "heatmapgl": [
           {
            "colorbar": {
             "outlinewidth": 0,
             "ticks": ""
            },
            "colorscale": [
             [
              0,
              "#0d0887"
             ],
             [
              0.1111111111111111,
              "#46039f"
             ],
             [
              0.2222222222222222,
              "#7201a8"
             ],
             [
              0.3333333333333333,
              "#9c179e"
             ],
             [
              0.4444444444444444,
              "#bd3786"
             ],
             [
              0.5555555555555556,
              "#d8576b"
             ],
             [
              0.6666666666666666,
              "#ed7953"
             ],
             [
              0.7777777777777778,
              "#fb9f3a"
             ],
             [
              0.8888888888888888,
              "#fdca26"
             ],
             [
              1,
              "#f0f921"
             ]
            ],
            "type": "heatmapgl"
           }
          ],
          "histogram": [
           {
            "marker": {
             "pattern": {
              "fillmode": "overlay",
              "size": 10,
              "solidity": 0.2
             }
            },
            "type": "histogram"
           }
          ],
          "histogram2d": [
           {
            "colorbar": {
             "outlinewidth": 0,
             "ticks": ""
            },
            "colorscale": [
             [
              0,
              "#0d0887"
             ],
             [
              0.1111111111111111,
              "#46039f"
             ],
             [
              0.2222222222222222,
              "#7201a8"
             ],
             [
              0.3333333333333333,
              "#9c179e"
             ],
             [
              0.4444444444444444,
              "#bd3786"
             ],
             [
              0.5555555555555556,
              "#d8576b"
             ],
             [
              0.6666666666666666,
              "#ed7953"
             ],
             [
              0.7777777777777778,
              "#fb9f3a"
             ],
             [
              0.8888888888888888,
              "#fdca26"
             ],
             [
              1,
              "#f0f921"
             ]
            ],
            "type": "histogram2d"
           }
          ],
          "histogram2dcontour": [
           {
            "colorbar": {
             "outlinewidth": 0,
             "ticks": ""
            },
            "colorscale": [
             [
              0,
              "#0d0887"
             ],
             [
              0.1111111111111111,
              "#46039f"
             ],
             [
              0.2222222222222222,
              "#7201a8"
             ],
             [
              0.3333333333333333,
              "#9c179e"
             ],
             [
              0.4444444444444444,
              "#bd3786"
             ],
             [
              0.5555555555555556,
              "#d8576b"
             ],
             [
              0.6666666666666666,
              "#ed7953"
             ],
             [
              0.7777777777777778,
              "#fb9f3a"
             ],
             [
              0.8888888888888888,
              "#fdca26"
             ],
             [
              1,
              "#f0f921"
             ]
            ],
            "type": "histogram2dcontour"
           }
          ],
          "mesh3d": [
           {
            "colorbar": {
             "outlinewidth": 0,
             "ticks": ""
            },
            "type": "mesh3d"
           }
          ],
          "parcoords": [
           {
            "line": {
             "colorbar": {
              "outlinewidth": 0,
              "ticks": ""
             }
            },
            "type": "parcoords"
           }
          ],
          "pie": [
           {
            "automargin": true,
            "type": "pie"
           }
          ],
          "scatter": [
           {
            "fillpattern": {
             "fillmode": "overlay",
             "size": 10,
             "solidity": 0.2
            },
            "type": "scatter"
           }
          ],
          "scatter3d": [
           {
            "line": {
             "colorbar": {
              "outlinewidth": 0,
              "ticks": ""
             }
            },
            "marker": {
             "colorbar": {
              "outlinewidth": 0,
              "ticks": ""
             }
            },
            "type": "scatter3d"
           }
          ],
          "scattercarpet": [
           {
            "marker": {
             "colorbar": {
              "outlinewidth": 0,
              "ticks": ""
             }
            },
            "type": "scattercarpet"
           }
          ],
          "scattergeo": [
           {
            "marker": {
             "colorbar": {
              "outlinewidth": 0,
              "ticks": ""
             }
            },
            "type": "scattergeo"
           }
          ],
          "scattergl": [
           {
            "marker": {
             "colorbar": {
              "outlinewidth": 0,
              "ticks": ""
             }
            },
            "type": "scattergl"
           }
          ],
          "scattermapbox": [
           {
            "marker": {
             "colorbar": {
              "outlinewidth": 0,
              "ticks": ""
             }
            },
            "type": "scattermapbox"
           }
          ],
          "scatterpolar": [
           {
            "marker": {
             "colorbar": {
              "outlinewidth": 0,
              "ticks": ""
             }
            },
            "type": "scatterpolar"
           }
          ],
          "scatterpolargl": [
           {
            "marker": {
             "colorbar": {
              "outlinewidth": 0,
              "ticks": ""
             }
            },
            "type": "scatterpolargl"
           }
          ],
          "scatterternary": [
           {
            "marker": {
             "colorbar": {
              "outlinewidth": 0,
              "ticks": ""
             }
            },
            "type": "scatterternary"
           }
          ],
          "surface": [
           {
            "colorbar": {
             "outlinewidth": 0,
             "ticks": ""
            },
            "colorscale": [
             [
              0,
              "#0d0887"
             ],
             [
              0.1111111111111111,
              "#46039f"
             ],
             [
              0.2222222222222222,
              "#7201a8"
             ],
             [
              0.3333333333333333,
              "#9c179e"
             ],
             [
              0.4444444444444444,
              "#bd3786"
             ],
             [
              0.5555555555555556,
              "#d8576b"
             ],
             [
              0.6666666666666666,
              "#ed7953"
             ],
             [
              0.7777777777777778,
              "#fb9f3a"
             ],
             [
              0.8888888888888888,
              "#fdca26"
             ],
             [
              1,
              "#f0f921"
             ]
            ],
            "type": "surface"
           }
          ],
          "table": [
           {
            "cells": {
             "fill": {
              "color": "#EBF0F8"
             },
             "line": {
              "color": "white"
             }
            },
            "header": {
             "fill": {
              "color": "#C8D4E3"
             },
             "line": {
              "color": "white"
             }
            },
            "type": "table"
           }
          ]
         },
         "layout": {
          "annotationdefaults": {
           "arrowcolor": "#2a3f5f",
           "arrowhead": 0,
           "arrowwidth": 1
          },
          "autotypenumbers": "strict",
          "coloraxis": {
           "colorbar": {
            "outlinewidth": 0,
            "ticks": ""
           }
          },
          "colorscale": {
           "diverging": [
            [
             0,
             "#8e0152"
            ],
            [
             0.1,
             "#c51b7d"
            ],
            [
             0.2,
             "#de77ae"
            ],
            [
             0.3,
             "#f1b6da"
            ],
            [
             0.4,
             "#fde0ef"
            ],
            [
             0.5,
             "#f7f7f7"
            ],
            [
             0.6,
             "#e6f5d0"
            ],
            [
             0.7,
             "#b8e186"
            ],
            [
             0.8,
             "#7fbc41"
            ],
            [
             0.9,
             "#4d9221"
            ],
            [
             1,
             "#276419"
            ]
           ],
           "sequential": [
            [
             0,
             "#0d0887"
            ],
            [
             0.1111111111111111,
             "#46039f"
            ],
            [
             0.2222222222222222,
             "#7201a8"
            ],
            [
             0.3333333333333333,
             "#9c179e"
            ],
            [
             0.4444444444444444,
             "#bd3786"
            ],
            [
             0.5555555555555556,
             "#d8576b"
            ],
            [
             0.6666666666666666,
             "#ed7953"
            ],
            [
             0.7777777777777778,
             "#fb9f3a"
            ],
            [
             0.8888888888888888,
             "#fdca26"
            ],
            [
             1,
             "#f0f921"
            ]
           ],
           "sequentialminus": [
            [
             0,
             "#0d0887"
            ],
            [
             0.1111111111111111,
             "#46039f"
            ],
            [
             0.2222222222222222,
             "#7201a8"
            ],
            [
             0.3333333333333333,
             "#9c179e"
            ],
            [
             0.4444444444444444,
             "#bd3786"
            ],
            [
             0.5555555555555556,
             "#d8576b"
            ],
            [
             0.6666666666666666,
             "#ed7953"
            ],
            [
             0.7777777777777778,
             "#fb9f3a"
            ],
            [
             0.8888888888888888,
             "#fdca26"
            ],
            [
             1,
             "#f0f921"
            ]
           ]
          },
          "colorway": [
           "#636efa",
           "#EF553B",
           "#00cc96",
           "#ab63fa",
           "#FFA15A",
           "#19d3f3",
           "#FF6692",
           "#B6E880",
           "#FF97FF",
           "#FECB52"
          ],
          "font": {
           "color": "#2a3f5f"
          },
          "geo": {
           "bgcolor": "white",
           "lakecolor": "white",
           "landcolor": "#E5ECF6",
           "showlakes": true,
           "showland": true,
           "subunitcolor": "white"
          },
          "hoverlabel": {
           "align": "left"
          },
          "hovermode": "closest",
          "mapbox": {
           "style": "light"
          },
          "paper_bgcolor": "white",
          "plot_bgcolor": "#E5ECF6",
          "polar": {
           "angularaxis": {
            "gridcolor": "white",
            "linecolor": "white",
            "ticks": ""
           },
           "bgcolor": "#E5ECF6",
           "radialaxis": {
            "gridcolor": "white",
            "linecolor": "white",
            "ticks": ""
           }
          },
          "scene": {
           "xaxis": {
            "backgroundcolor": "#E5ECF6",
            "gridcolor": "white",
            "gridwidth": 2,
            "linecolor": "white",
            "showbackground": true,
            "ticks": "",
            "zerolinecolor": "white"
           },
           "yaxis": {
            "backgroundcolor": "#E5ECF6",
            "gridcolor": "white",
            "gridwidth": 2,
            "linecolor": "white",
            "showbackground": true,
            "ticks": "",
            "zerolinecolor": "white"
           },
           "zaxis": {
            "backgroundcolor": "#E5ECF6",
            "gridcolor": "white",
            "gridwidth": 2,
            "linecolor": "white",
            "showbackground": true,
            "ticks": "",
            "zerolinecolor": "white"
           }
          },
          "shapedefaults": {
           "line": {
            "color": "#2a3f5f"
           }
          },
          "ternary": {
           "aaxis": {
            "gridcolor": "white",
            "linecolor": "white",
            "ticks": ""
           },
           "baxis": {
            "gridcolor": "white",
            "linecolor": "white",
            "ticks": ""
           },
           "bgcolor": "#E5ECF6",
           "caxis": {
            "gridcolor": "white",
            "linecolor": "white",
            "ticks": ""
           }
          },
          "title": {
           "x": 0.05
          },
          "xaxis": {
           "automargin": true,
           "gridcolor": "white",
           "linecolor": "white",
           "ticks": "",
           "title": {
            "standoff": 15
           },
           "zerolinecolor": "white",
           "zerolinewidth": 2
          },
          "yaxis": {
           "automargin": true,
           "gridcolor": "white",
           "linecolor": "white",
           "ticks": "",
           "title": {
            "standoff": 15
           },
           "zerolinecolor": "white",
           "zerolinewidth": 2
          }
         }
        },
        "title": {
         "font": {
          "color": "#4D5663"
         }
        },
        "xaxis": {
         "gridcolor": "#E1E5ED",
         "showgrid": true,
         "tickfont": {
          "color": "#4D5663"
         },
         "title": {
          "font": {
           "color": "#4D5663"
          },
          "text": ""
         },
         "zerolinecolor": "#E1E5ED"
        },
        "yaxis": {
         "gridcolor": "#E1E5ED",
         "showgrid": true,
         "tickfont": {
          "color": "#4D5663"
         },
         "title": {
          "font": {
           "color": "#4D5663"
          },
          "text": ""
         },
         "zerolinecolor": "#E1E5ED"
        }
       }
      },
      "text/html": [
       "<div>                            <div id=\"8eb6f119-d004-46e9-a865-9b3bdc76a70f\" class=\"plotly-graph-div\" style=\"height:525px; width:100%;\"></div>            <script type=\"text/javascript\">                require([\"plotly\"], function(Plotly) {                    window.PLOTLYENV=window.PLOTLYENV || {};\n",
       "                    window.PLOTLYENV.BASE_URL='https://plot.ly';                                    if (document.getElementById(\"8eb6f119-d004-46e9-a865-9b3bdc76a70f\")) {                    Plotly.newPlot(                        \"8eb6f119-d004-46e9-a865-9b3bdc76a70f\",                        [{\"marker\":{\"color\":\"rgba(255, 153, 51, 0.6)\",\"line\":{\"color\":\"rgba(255, 153, 51, 1.0)\",\"width\":1}},\"name\":\"None\",\"orientation\":\"v\",\"text\":\"\",\"x\":[\"A\",\"B\",\"C\",\"D\"],\"y\":[100,100,100,100],\"type\":\"bar\"}],                        {\"legend\":{\"bgcolor\":\"#F5F6F9\",\"font\":{\"color\":\"#4D5663\"}},\"paper_bgcolor\":\"#F5F6F9\",\"plot_bgcolor\":\"#F5F6F9\",\"template\":{\"data\":{\"barpolar\":[{\"marker\":{\"line\":{\"color\":\"#E5ECF6\",\"width\":0.5},\"pattern\":{\"fillmode\":\"overlay\",\"size\":10,\"solidity\":0.2}},\"type\":\"barpolar\"}],\"bar\":[{\"error_x\":{\"color\":\"#2a3f5f\"},\"error_y\":{\"color\":\"#2a3f5f\"},\"marker\":{\"line\":{\"color\":\"#E5ECF6\",\"width\":0.5},\"pattern\":{\"fillmode\":\"overlay\",\"size\":10,\"solidity\":0.2}},\"type\":\"bar\"}],\"carpet\":[{\"aaxis\":{\"endlinecolor\":\"#2a3f5f\",\"gridcolor\":\"white\",\"linecolor\":\"white\",\"minorgridcolor\":\"white\",\"startlinecolor\":\"#2a3f5f\"},\"baxis\":{\"endlinecolor\":\"#2a3f5f\",\"gridcolor\":\"white\",\"linecolor\":\"white\",\"minorgridcolor\":\"white\",\"startlinecolor\":\"#2a3f5f\"},\"type\":\"carpet\"}],\"choropleth\":[{\"colorbar\":{\"outlinewidth\":0,\"ticks\":\"\"},\"type\":\"choropleth\"}],\"contourcarpet\":[{\"colorbar\":{\"outlinewidth\":0,\"ticks\":\"\"},\"type\":\"contourcarpet\"}],\"contour\":[{\"colorbar\":{\"outlinewidth\":0,\"ticks\":\"\"},\"colorscale\":[[0.0,\"#0d0887\"],[0.1111111111111111,\"#46039f\"],[0.2222222222222222,\"#7201a8\"],[0.3333333333333333,\"#9c179e\"],[0.4444444444444444,\"#bd3786\"],[0.5555555555555556,\"#d8576b\"],[0.6666666666666666,\"#ed7953\"],[0.7777777777777778,\"#fb9f3a\"],[0.8888888888888888,\"#fdca26\"],[1.0,\"#f0f921\"]],\"type\":\"contour\"}],\"heatmapgl\":[{\"colorbar\":{\"outlinewidth\":0,\"ticks\":\"\"},\"colorscale\":[[0.0,\"#0d0887\"],[0.1111111111111111,\"#46039f\"],[0.2222222222222222,\"#7201a8\"],[0.3333333333333333,\"#9c179e\"],[0.4444444444444444,\"#bd3786\"],[0.5555555555555556,\"#d8576b\"],[0.6666666666666666,\"#ed7953\"],[0.7777777777777778,\"#fb9f3a\"],[0.8888888888888888,\"#fdca26\"],[1.0,\"#f0f921\"]],\"type\":\"heatmapgl\"}],\"heatmap\":[{\"colorbar\":{\"outlinewidth\":0,\"ticks\":\"\"},\"colorscale\":[[0.0,\"#0d0887\"],[0.1111111111111111,\"#46039f\"],[0.2222222222222222,\"#7201a8\"],[0.3333333333333333,\"#9c179e\"],[0.4444444444444444,\"#bd3786\"],[0.5555555555555556,\"#d8576b\"],[0.6666666666666666,\"#ed7953\"],[0.7777777777777778,\"#fb9f3a\"],[0.8888888888888888,\"#fdca26\"],[1.0,\"#f0f921\"]],\"type\":\"heatmap\"}],\"histogram2dcontour\":[{\"colorbar\":{\"outlinewidth\":0,\"ticks\":\"\"},\"colorscale\":[[0.0,\"#0d0887\"],[0.1111111111111111,\"#46039f\"],[0.2222222222222222,\"#7201a8\"],[0.3333333333333333,\"#9c179e\"],[0.4444444444444444,\"#bd3786\"],[0.5555555555555556,\"#d8576b\"],[0.6666666666666666,\"#ed7953\"],[0.7777777777777778,\"#fb9f3a\"],[0.8888888888888888,\"#fdca26\"],[1.0,\"#f0f921\"]],\"type\":\"histogram2dcontour\"}],\"histogram2d\":[{\"colorbar\":{\"outlinewidth\":0,\"ticks\":\"\"},\"colorscale\":[[0.0,\"#0d0887\"],[0.1111111111111111,\"#46039f\"],[0.2222222222222222,\"#7201a8\"],[0.3333333333333333,\"#9c179e\"],[0.4444444444444444,\"#bd3786\"],[0.5555555555555556,\"#d8576b\"],[0.6666666666666666,\"#ed7953\"],[0.7777777777777778,\"#fb9f3a\"],[0.8888888888888888,\"#fdca26\"],[1.0,\"#f0f921\"]],\"type\":\"histogram2d\"}],\"histogram\":[{\"marker\":{\"pattern\":{\"fillmode\":\"overlay\",\"size\":10,\"solidity\":0.2}},\"type\":\"histogram\"}],\"mesh3d\":[{\"colorbar\":{\"outlinewidth\":0,\"ticks\":\"\"},\"type\":\"mesh3d\"}],\"parcoords\":[{\"line\":{\"colorbar\":{\"outlinewidth\":0,\"ticks\":\"\"}},\"type\":\"parcoords\"}],\"pie\":[{\"automargin\":true,\"type\":\"pie\"}],\"scatter3d\":[{\"line\":{\"colorbar\":{\"outlinewidth\":0,\"ticks\":\"\"}},\"marker\":{\"colorbar\":{\"outlinewidth\":0,\"ticks\":\"\"}},\"type\":\"scatter3d\"}],\"scattercarpet\":[{\"marker\":{\"colorbar\":{\"outlinewidth\":0,\"ticks\":\"\"}},\"type\":\"scattercarpet\"}],\"scattergeo\":[{\"marker\":{\"colorbar\":{\"outlinewidth\":0,\"ticks\":\"\"}},\"type\":\"scattergeo\"}],\"scattergl\":[{\"marker\":{\"colorbar\":{\"outlinewidth\":0,\"ticks\":\"\"}},\"type\":\"scattergl\"}],\"scattermapbox\":[{\"marker\":{\"colorbar\":{\"outlinewidth\":0,\"ticks\":\"\"}},\"type\":\"scattermapbox\"}],\"scatterpolargl\":[{\"marker\":{\"colorbar\":{\"outlinewidth\":0,\"ticks\":\"\"}},\"type\":\"scatterpolargl\"}],\"scatterpolar\":[{\"marker\":{\"colorbar\":{\"outlinewidth\":0,\"ticks\":\"\"}},\"type\":\"scatterpolar\"}],\"scatter\":[{\"fillpattern\":{\"fillmode\":\"overlay\",\"size\":10,\"solidity\":0.2},\"type\":\"scatter\"}],\"scatterternary\":[{\"marker\":{\"colorbar\":{\"outlinewidth\":0,\"ticks\":\"\"}},\"type\":\"scatterternary\"}],\"surface\":[{\"colorbar\":{\"outlinewidth\":0,\"ticks\":\"\"},\"colorscale\":[[0.0,\"#0d0887\"],[0.1111111111111111,\"#46039f\"],[0.2222222222222222,\"#7201a8\"],[0.3333333333333333,\"#9c179e\"],[0.4444444444444444,\"#bd3786\"],[0.5555555555555556,\"#d8576b\"],[0.6666666666666666,\"#ed7953\"],[0.7777777777777778,\"#fb9f3a\"],[0.8888888888888888,\"#fdca26\"],[1.0,\"#f0f921\"]],\"type\":\"surface\"}],\"table\":[{\"cells\":{\"fill\":{\"color\":\"#EBF0F8\"},\"line\":{\"color\":\"white\"}},\"header\":{\"fill\":{\"color\":\"#C8D4E3\"},\"line\":{\"color\":\"white\"}},\"type\":\"table\"}]},\"layout\":{\"annotationdefaults\":{\"arrowcolor\":\"#2a3f5f\",\"arrowhead\":0,\"arrowwidth\":1},\"autotypenumbers\":\"strict\",\"coloraxis\":{\"colorbar\":{\"outlinewidth\":0,\"ticks\":\"\"}},\"colorscale\":{\"diverging\":[[0,\"#8e0152\"],[0.1,\"#c51b7d\"],[0.2,\"#de77ae\"],[0.3,\"#f1b6da\"],[0.4,\"#fde0ef\"],[0.5,\"#f7f7f7\"],[0.6,\"#e6f5d0\"],[0.7,\"#b8e186\"],[0.8,\"#7fbc41\"],[0.9,\"#4d9221\"],[1,\"#276419\"]],\"sequential\":[[0.0,\"#0d0887\"],[0.1111111111111111,\"#46039f\"],[0.2222222222222222,\"#7201a8\"],[0.3333333333333333,\"#9c179e\"],[0.4444444444444444,\"#bd3786\"],[0.5555555555555556,\"#d8576b\"],[0.6666666666666666,\"#ed7953\"],[0.7777777777777778,\"#fb9f3a\"],[0.8888888888888888,\"#fdca26\"],[1.0,\"#f0f921\"]],\"sequentialminus\":[[0.0,\"#0d0887\"],[0.1111111111111111,\"#46039f\"],[0.2222222222222222,\"#7201a8\"],[0.3333333333333333,\"#9c179e\"],[0.4444444444444444,\"#bd3786\"],[0.5555555555555556,\"#d8576b\"],[0.6666666666666666,\"#ed7953\"],[0.7777777777777778,\"#fb9f3a\"],[0.8888888888888888,\"#fdca26\"],[1.0,\"#f0f921\"]]},\"colorway\":[\"#636efa\",\"#EF553B\",\"#00cc96\",\"#ab63fa\",\"#FFA15A\",\"#19d3f3\",\"#FF6692\",\"#B6E880\",\"#FF97FF\",\"#FECB52\"],\"font\":{\"color\":\"#2a3f5f\"},\"geo\":{\"bgcolor\":\"white\",\"lakecolor\":\"white\",\"landcolor\":\"#E5ECF6\",\"showlakes\":true,\"showland\":true,\"subunitcolor\":\"white\"},\"hoverlabel\":{\"align\":\"left\"},\"hovermode\":\"closest\",\"mapbox\":{\"style\":\"light\"},\"paper_bgcolor\":\"white\",\"plot_bgcolor\":\"#E5ECF6\",\"polar\":{\"angularaxis\":{\"gridcolor\":\"white\",\"linecolor\":\"white\",\"ticks\":\"\"},\"bgcolor\":\"#E5ECF6\",\"radialaxis\":{\"gridcolor\":\"white\",\"linecolor\":\"white\",\"ticks\":\"\"}},\"scene\":{\"xaxis\":{\"backgroundcolor\":\"#E5ECF6\",\"gridcolor\":\"white\",\"gridwidth\":2,\"linecolor\":\"white\",\"showbackground\":true,\"ticks\":\"\",\"zerolinecolor\":\"white\"},\"yaxis\":{\"backgroundcolor\":\"#E5ECF6\",\"gridcolor\":\"white\",\"gridwidth\":2,\"linecolor\":\"white\",\"showbackground\":true,\"ticks\":\"\",\"zerolinecolor\":\"white\"},\"zaxis\":{\"backgroundcolor\":\"#E5ECF6\",\"gridcolor\":\"white\",\"gridwidth\":2,\"linecolor\":\"white\",\"showbackground\":true,\"ticks\":\"\",\"zerolinecolor\":\"white\"}},\"shapedefaults\":{\"line\":{\"color\":\"#2a3f5f\"}},\"ternary\":{\"aaxis\":{\"gridcolor\":\"white\",\"linecolor\":\"white\",\"ticks\":\"\"},\"baxis\":{\"gridcolor\":\"white\",\"linecolor\":\"white\",\"ticks\":\"\"},\"bgcolor\":\"#E5ECF6\",\"caxis\":{\"gridcolor\":\"white\",\"linecolor\":\"white\",\"ticks\":\"\"}},\"title\":{\"x\":0.05},\"xaxis\":{\"automargin\":true,\"gridcolor\":\"white\",\"linecolor\":\"white\",\"ticks\":\"\",\"title\":{\"standoff\":15},\"zerolinecolor\":\"white\",\"zerolinewidth\":2},\"yaxis\":{\"automargin\":true,\"gridcolor\":\"white\",\"linecolor\":\"white\",\"ticks\":\"\",\"title\":{\"standoff\":15},\"zerolinecolor\":\"white\",\"zerolinewidth\":2}}},\"title\":{\"font\":{\"color\":\"#4D5663\"}},\"xaxis\":{\"gridcolor\":\"#E1E5ED\",\"showgrid\":true,\"tickfont\":{\"color\":\"#4D5663\"},\"title\":{\"font\":{\"color\":\"#4D5663\"},\"text\":\"\"},\"zerolinecolor\":\"#E1E5ED\"},\"yaxis\":{\"gridcolor\":\"#E1E5ED\",\"showgrid\":true,\"tickfont\":{\"color\":\"#4D5663\"},\"title\":{\"font\":{\"color\":\"#4D5663\"},\"text\":\"\"},\"zerolinecolor\":\"#E1E5ED\"}},                        {\"showLink\": true, \"linkText\": \"Export to plot.ly\", \"plotlyServerURL\": \"https://plot.ly\", \"responsive\": true}                    ).then(function(){\n",
       "                            \n",
       "var gd = document.getElementById('8eb6f119-d004-46e9-a865-9b3bdc76a70f');\n",
       "var x = new MutationObserver(function (mutations, observer) {{\n",
       "        var display = window.getComputedStyle(gd).display;\n",
       "        if (!display || display === 'none') {{\n",
       "            console.log([gd, 'removed!']);\n",
       "            Plotly.purge(gd);\n",
       "            observer.disconnect();\n",
       "        }}\n",
       "}});\n",
       "\n",
       "// Listen for the removal of the full notebook cells\n",
       "var notebookContainer = gd.closest('#notebook-container');\n",
       "if (notebookContainer) {{\n",
       "    x.observe(notebookContainer, {childList: true});\n",
       "}}\n",
       "\n",
       "// Listen for the clearing of the current output cell\n",
       "var outputEl = gd.closest('.output');\n",
       "if (outputEl) {{\n",
       "    x.observe(outputEl, {childList: true});\n",
       "}}\n",
       "\n",
       "                        })                };                });            </script>        </div>"
      ]
     },
     "metadata": {},
     "output_type": "display_data"
    }
   ],
   "source": [
    "df.count().iplot(kind='bar')"
   ]
  },
  {
   "cell_type": "code",
   "execution_count": 14,
   "metadata": {},
   "outputs": [
    {
     "data": {
      "application/vnd.plotly.v1+json": {
       "config": {
        "linkText": "Export to plot.ly",
        "plotlyServerURL": "https://plot.ly",
        "showLink": true
       },
       "data": [
        {
         "boxpoints": false,
         "line": {
          "width": 1.3
         },
         "marker": {
          "color": "rgba(255, 153, 51, 1.0)"
         },
         "name": "A",
         "orientation": "v",
         "type": "box",
         "y": [
          -1.9155992047694723,
          -0.4481315159572726,
          -0.11667812727294494,
          -0.47405025229684344,
          0.5746676894222532,
          -1.5551821928115497,
          -1.072363124361193,
          1.2249086267193,
          -3.3367698414674267,
          -1.011489626579287,
          0.6314459569116476,
          0.08220392031662183,
          -1.491849155089903,
          -2.6826923465190182,
          -1.406142682152996,
          -0.09669026493158919,
          0.6255108134307167,
          -0.8998558810491614,
          -0.2756313164584835,
          0.3713126358915743,
          -0.14945511870764175,
          -2.7250214453982338,
          -0.497935347176919,
          -0.7794784042791113,
          -0.30309488487554737,
          -0.7033732528019522,
          0.07862498827643226,
          -0.49979720991996174,
          -0.6002810486693904,
          0.718931878030546,
          0.2590887953878619,
          0.9060597459809786,
          -0.4190053741867893,
          -0.674433060377967,
          0.10545055429225647,
          1.2703935062900036,
          0.08983878160980747,
          0.6570432262514,
          -1.0176071028493356,
          0.6749140899996501,
          0.08417298484397781,
          0.8001476730499851,
          -0.12399513898835102,
          0.6274206095826046,
          -1.318877425164554,
          0.8164515931433367,
          0.09393732573798273,
          1.1206004281742687,
          0.8579900755978948,
          0.14911973244187204,
          0.9711897159096959,
          0.15869343459827023,
          0.20449045179987363,
          -1.6562183779368844,
          -0.9608076241416532,
          1.7727570332597742,
          -0.4457864515536005,
          0.4733263459830899,
          -0.1111431812706696,
          -0.6308516353493814,
          -1.5083286013649613,
          -1.8184170618133393,
          -1.577160446581665,
          -1.3084496737397215,
          0.29394673420640693,
          -0.21034035618984062,
          0.22395410087307033,
          0.5071818648650146,
          -1.4180404163946694,
          -0.21388614142527063,
          -0.7728099669727144,
          0.45279731788305944,
          -1.176389429494858,
          1.537074281671399,
          -1.0673529889078999,
          -1.1894210145045987,
          -1.5454669283459765,
          0.30364289543227707,
          -0.2762977037815814,
          1.7831332501465116,
          0.9826029558353301,
          -1.002098401486566,
          -0.16731691773009688,
          1.176134221963469,
          0.3460648331901014,
          -0.32043219503556436,
          -0.3782163252372253,
          0.9571278359770741,
          -0.057274155370753116,
          0.32731766282935837,
          -0.30977457949724585,
          -0.9355114325341685,
          -1.8964276157738422,
          0.2929666305481281,
          -0.7261109260232375,
          -0.5620284230807836,
          0.29595542033167244,
          -1.6709671363176706,
          0.7262858567454336,
          -0.564607728302298
         ]
        },
        {
         "boxpoints": false,
         "line": {
          "width": 1.3
         },
         "marker": {
          "color": "rgba(55, 128, 191, 1.0)"
         },
         "name": "B",
         "orientation": "v",
         "type": "box",
         "y": [
          0.25012653811443325,
          -0.31263602491902226,
          0.46854191390985994,
          0.3495550634187599,
          1.2779608573542152,
          -0.7195686267733024,
          -0.05377556286345402,
          0.8860961885150416,
          -0.35659558561108556,
          -0.5412418799364572,
          -1.0538607706754788,
          -1.4357015266467925,
          -1.4440825388729484,
          -0.4601463702775817,
          1.0525558771197012,
          -0.6384012471936885,
          -0.3984075707720691,
          0.3217992513734411,
          0.717847534780858,
          0.14786313583922234,
          -0.08921894414927768,
          -0.026447486752192863,
          -0.41781749828547704,
          -0.4258553164011774,
          -0.691041627506832,
          0.2725451758149655,
          1.2146505715089757,
          -0.7164863916632876,
          0.39324350968810945,
          -0.30946916784496414,
          -0.27145136523819957,
          0.6679457848678415,
          -0.07142770435308705,
          0.704443166579191,
          2.157895083594788,
          0.6170696338034954,
          -0.13662952222954544,
          -0.290866965366531,
          -0.4155089124480595,
          -0.15309402200095784,
          1.5221394507416537,
          -1.6249467620767861,
          -0.6965471964753526,
          0.182517283224261,
          0.23350357359802568,
          1.1453466340351426,
          -0.3686827311467193,
          1.957928012194116,
          0.4071672052678087,
          0.58680361903923,
          -0.8828982087450967,
          0.4129260132199946,
          0.6441433598373917,
          0.33372085287296577,
          0.3114578540673428,
          0.30273197459055706,
          -0.0672794267265068,
          0.7311115271348104,
          -1.4610688565261025,
          -1.3620418033258774,
          -1.1749042013895534,
          0.2569253531988617,
          0.3132234789055193,
          -0.4939070459441881,
          -0.38233997444376466,
          -0.8341518456265357,
          -2.275739432967845,
          -1.5981719266949375,
          1.4764816496356954,
          1.2582757204570383,
          -0.4430532726331741,
          -0.21808790791840466,
          -0.2523685759128763,
          -0.600478802244115,
          0.15220587659129273,
          -1.6586124610802093,
          -1.3433717204993254,
          0.9523056125989408,
          -1.9154009199738649,
          -1.3386543561881108,
          -0.8149176443027241,
          0.6388800450354669,
          0.030844994128891724,
          -1.986446346965538,
          -0.22630015828997926,
          -0.27117120976532544,
          -1.176124215365589,
          0.4534877231166138,
          0.1678182902848415,
          0.5552876540147228,
          -0.00964539990285035,
          1.2041724538233955,
          0.024983048147564843,
          0.03429775948556624,
          1.346683258563046,
          0.9870398426730453,
          -0.5747651397935243,
          -1.8469381178596094,
          0.751357199127522,
          0.38951470541379307
         ]
        },
        {
         "boxpoints": false,
         "line": {
          "width": 1.3
         },
         "marker": {
          "color": "rgba(50, 171, 96, 1.0)"
         },
         "name": "C",
         "orientation": "v",
         "type": "box",
         "y": [
          -0.33147941212230614,
          0.4030748389856743,
          0.775394702177516,
          -0.6034415754468376,
          -0.515548867017618,
          1.5761779599884451,
          -0.7910572237007015,
          -0.07598643557492382,
          1.6776710519354656,
          1.325248722840458,
          -0.057994098701497604,
          0.1797865482746144,
          0.514515206533345,
          -1.341690880163176,
          0.7736138888697905,
          1.2761533474012723,
          -0.2873814394453713,
          0.8159630337408869,
          1.4143203929103167,
          -1.1959217380546179,
          1.0605305881743308,
          -0.2871029678069003,
          -0.47650966749294815,
          -1.5322201238101008,
          2.3273156202072434,
          -1.3016443743900041,
          0.18146682359698219,
          -2.265041716343768,
          -0.23031719460426087,
          1.0036379076404183,
          1.39111353332184,
          0.9986221869201293,
          -0.6975563428250889,
          -1.0656541871381087,
          -0.13820505997914495,
          0.1411027855289363,
          0.6424293097490533,
          1.012356910815464,
          -1.8117231106561977,
          -0.8655847462795403,
          0.7837144577597044,
          -0.6580237608589773,
          -2.0656532408667228,
          -0.7041976382667674,
          1.4112389977992923,
          -1.99819086410293,
          1.002197302797664,
          0.10259668465654932,
          0.0010116918716799508,
          -1.6738788054683773,
          0.3309445727100791,
          3.7065199797729567,
          -0.19537551646281318,
          0.03037790496248001,
          0.09501392488427825,
          1.3646049958720576,
          0.4789596489217511,
          0.7960288598719361,
          0.41795718796210096,
          0.715138543589554,
          0.44157282341480664,
          0.46212335527427667,
          0.4394396173599501,
          0.069065620261416,
          0.9795147696875675,
          -0.9884646911340608,
          -0.3896075373137488,
          -2.302604044069634,
          0.4812428494324066,
          -1.0743371639752484,
          -0.901325591652145,
          -1.3955540299536509,
          -0.7722292126644033,
          -0.48005842284055805,
          -0.06660471875486865,
          0.5884452112326498,
          -1.6894909362213644,
          -0.16203994507754774,
          -0.35745126049456716,
          -1.2216405215156472,
          -1.5314375292682807,
          0.16666904289206597,
          -0.6639132343154985,
          -1.0723849645510015,
          0.19313545104162413,
          -0.39637930767477336,
          0.9666952656807792,
          -0.3020082486157058,
          1.9066392258088303,
          -2.2106799844692673,
          -0.09187692165825188,
          -0.18909933282272662,
          -1.5526563300765173,
          0.6310274126390918,
          0.7962748274453911,
          3.0613176149500934,
          -2.098248003547318,
          -1.8212990362024815,
          -0.06726072924822411,
          0.3044957245832294
         ]
        },
        {
         "boxpoints": false,
         "line": {
          "width": 1.3
         },
         "marker": {
          "color": "rgba(128, 0, 128, 1.0)"
         },
         "name": "D",
         "orientation": "v",
         "type": "box",
         "y": [
          0.9930434223630643,
          -0.5185944171985121,
          0.12625668626889675,
          1.4126287501903794,
          -0.4921417495462758,
          -0.5103664470584897,
          -1.1908203707069451,
          0.04023821016681215,
          -0.13947666253542734,
          0.8868781252910879,
          -1.6371569022893278,
          0.7672435204882054,
          0.6169553575989898,
          1.3329917928265773,
          -0.7665638783382027,
          -0.08123583532764496,
          -0.32864850216455593,
          -0.029361561163987148,
          0.6399435184431522,
          -1.8633894015617534,
          -0.15400435668524395,
          0.6264413708591936,
          -0.6329021971365782,
          0.358736207272916,
          -0.7284128090386145,
          -0.26492527185638926,
          1.1696315706744203,
          0.34784394112845773,
          -1.6357683954704856,
          -2.2217094786651264,
          0.35909219044296037,
          -1.6103043352563573,
          0.5154940607552029,
          -1.0337034512745022,
          -0.5200214578592136,
          -0.5410133095509277,
          0.11565363484436865,
          -1.1689675937280577,
          -0.06743860667609816,
          0.8093101336485461,
          2.2759957457438387,
          1.630917558792805,
          -0.8679712037280137,
          -0.05101251089912307,
          -1.860017791349555,
          0.9246439226006556,
          0.7656419764489286,
          -1.0172384600075741,
          0.07302717803805786,
          0.358441466502234,
          0.37444771313545494,
          1.1880055833311223,
          1.0923860205997888,
          0.7037031652652141,
          -1.417668561379097,
          2.8345850950566707,
          1.029274652519448,
          0.39385699755084097,
          -1.0040261687326846,
          -0.23643129269215768,
          1.678181820866815,
          -0.6972407986458042,
          0.3009890287331359,
          0.4574685093787016,
          0.3937636188502432,
          -1.2005561380897674,
          0.8234987906280484,
          0.6519985416617249,
          1.4010954582169186,
          0.9000817296184049,
          0.9056196239785779,
          -0.1925110523641491,
          -0.2397258822912278,
          1.524354050219484,
          0.7111398702461121,
          -0.590158347508297,
          -0.22651938157426366,
          -0.3590382922775907,
          -1.1433500094981577,
          0.13947063075046293,
          1.1870112738414629,
          0.315517739666811,
          -0.20814383151220558,
          0.7927519220506773,
          -0.29663485225690894,
          0.33126294483647645,
          0.5201888558820525,
          1.3281684355453012,
          1.2160740263768117,
          -0.5964855723830482,
          0.9560523724277572,
          0.3961241033062341,
          0.6977353087784073,
          2.043350934958954,
          0.2122349045877803,
          0.9063572709159615,
          -0.191869442749806,
          -1.0131325421167754,
          -0.2643773463361861,
          0.38858293445015457
         ]
        }
       ],
       "layout": {
        "legend": {
         "bgcolor": "#F5F6F9",
         "font": {
          "color": "#4D5663"
         }
        },
        "paper_bgcolor": "#F5F6F9",
        "plot_bgcolor": "#F5F6F9",
        "template": {
         "data": {
          "bar": [
           {
            "error_x": {
             "color": "#2a3f5f"
            },
            "error_y": {
             "color": "#2a3f5f"
            },
            "marker": {
             "line": {
              "color": "#E5ECF6",
              "width": 0.5
             },
             "pattern": {
              "fillmode": "overlay",
              "size": 10,
              "solidity": 0.2
             }
            },
            "type": "bar"
           }
          ],
          "barpolar": [
           {
            "marker": {
             "line": {
              "color": "#E5ECF6",
              "width": 0.5
             },
             "pattern": {
              "fillmode": "overlay",
              "size": 10,
              "solidity": 0.2
             }
            },
            "type": "barpolar"
           }
          ],
          "carpet": [
           {
            "aaxis": {
             "endlinecolor": "#2a3f5f",
             "gridcolor": "white",
             "linecolor": "white",
             "minorgridcolor": "white",
             "startlinecolor": "#2a3f5f"
            },
            "baxis": {
             "endlinecolor": "#2a3f5f",
             "gridcolor": "white",
             "linecolor": "white",
             "minorgridcolor": "white",
             "startlinecolor": "#2a3f5f"
            },
            "type": "carpet"
           }
          ],
          "choropleth": [
           {
            "colorbar": {
             "outlinewidth": 0,
             "ticks": ""
            },
            "type": "choropleth"
           }
          ],
          "contour": [
           {
            "colorbar": {
             "outlinewidth": 0,
             "ticks": ""
            },
            "colorscale": [
             [
              0,
              "#0d0887"
             ],
             [
              0.1111111111111111,
              "#46039f"
             ],
             [
              0.2222222222222222,
              "#7201a8"
             ],
             [
              0.3333333333333333,
              "#9c179e"
             ],
             [
              0.4444444444444444,
              "#bd3786"
             ],
             [
              0.5555555555555556,
              "#d8576b"
             ],
             [
              0.6666666666666666,
              "#ed7953"
             ],
             [
              0.7777777777777778,
              "#fb9f3a"
             ],
             [
              0.8888888888888888,
              "#fdca26"
             ],
             [
              1,
              "#f0f921"
             ]
            ],
            "type": "contour"
           }
          ],
          "contourcarpet": [
           {
            "colorbar": {
             "outlinewidth": 0,
             "ticks": ""
            },
            "type": "contourcarpet"
           }
          ],
          "heatmap": [
           {
            "colorbar": {
             "outlinewidth": 0,
             "ticks": ""
            },
            "colorscale": [
             [
              0,
              "#0d0887"
             ],
             [
              0.1111111111111111,
              "#46039f"
             ],
             [
              0.2222222222222222,
              "#7201a8"
             ],
             [
              0.3333333333333333,
              "#9c179e"
             ],
             [
              0.4444444444444444,
              "#bd3786"
             ],
             [
              0.5555555555555556,
              "#d8576b"
             ],
             [
              0.6666666666666666,
              "#ed7953"
             ],
             [
              0.7777777777777778,
              "#fb9f3a"
             ],
             [
              0.8888888888888888,
              "#fdca26"
             ],
             [
              1,
              "#f0f921"
             ]
            ],
            "type": "heatmap"
           }
          ],
          "heatmapgl": [
           {
            "colorbar": {
             "outlinewidth": 0,
             "ticks": ""
            },
            "colorscale": [
             [
              0,
              "#0d0887"
             ],
             [
              0.1111111111111111,
              "#46039f"
             ],
             [
              0.2222222222222222,
              "#7201a8"
             ],
             [
              0.3333333333333333,
              "#9c179e"
             ],
             [
              0.4444444444444444,
              "#bd3786"
             ],
             [
              0.5555555555555556,
              "#d8576b"
             ],
             [
              0.6666666666666666,
              "#ed7953"
             ],
             [
              0.7777777777777778,
              "#fb9f3a"
             ],
             [
              0.8888888888888888,
              "#fdca26"
             ],
             [
              1,
              "#f0f921"
             ]
            ],
            "type": "heatmapgl"
           }
          ],
          "histogram": [
           {
            "marker": {
             "pattern": {
              "fillmode": "overlay",
              "size": 10,
              "solidity": 0.2
             }
            },
            "type": "histogram"
           }
          ],
          "histogram2d": [
           {
            "colorbar": {
             "outlinewidth": 0,
             "ticks": ""
            },
            "colorscale": [
             [
              0,
              "#0d0887"
             ],
             [
              0.1111111111111111,
              "#46039f"
             ],
             [
              0.2222222222222222,
              "#7201a8"
             ],
             [
              0.3333333333333333,
              "#9c179e"
             ],
             [
              0.4444444444444444,
              "#bd3786"
             ],
             [
              0.5555555555555556,
              "#d8576b"
             ],
             [
              0.6666666666666666,
              "#ed7953"
             ],
             [
              0.7777777777777778,
              "#fb9f3a"
             ],
             [
              0.8888888888888888,
              "#fdca26"
             ],
             [
              1,
              "#f0f921"
             ]
            ],
            "type": "histogram2d"
           }
          ],
          "histogram2dcontour": [
           {
            "colorbar": {
             "outlinewidth": 0,
             "ticks": ""
            },
            "colorscale": [
             [
              0,
              "#0d0887"
             ],
             [
              0.1111111111111111,
              "#46039f"
             ],
             [
              0.2222222222222222,
              "#7201a8"
             ],
             [
              0.3333333333333333,
              "#9c179e"
             ],
             [
              0.4444444444444444,
              "#bd3786"
             ],
             [
              0.5555555555555556,
              "#d8576b"
             ],
             [
              0.6666666666666666,
              "#ed7953"
             ],
             [
              0.7777777777777778,
              "#fb9f3a"
             ],
             [
              0.8888888888888888,
              "#fdca26"
             ],
             [
              1,
              "#f0f921"
             ]
            ],
            "type": "histogram2dcontour"
           }
          ],
          "mesh3d": [
           {
            "colorbar": {
             "outlinewidth": 0,
             "ticks": ""
            },
            "type": "mesh3d"
           }
          ],
          "parcoords": [
           {
            "line": {
             "colorbar": {
              "outlinewidth": 0,
              "ticks": ""
             }
            },
            "type": "parcoords"
           }
          ],
          "pie": [
           {
            "automargin": true,
            "type": "pie"
           }
          ],
          "scatter": [
           {
            "fillpattern": {
             "fillmode": "overlay",
             "size": 10,
             "solidity": 0.2
            },
            "type": "scatter"
           }
          ],
          "scatter3d": [
           {
            "line": {
             "colorbar": {
              "outlinewidth": 0,
              "ticks": ""
             }
            },
            "marker": {
             "colorbar": {
              "outlinewidth": 0,
              "ticks": ""
             }
            },
            "type": "scatter3d"
           }
          ],
          "scattercarpet": [
           {
            "marker": {
             "colorbar": {
              "outlinewidth": 0,
              "ticks": ""
             }
            },
            "type": "scattercarpet"
           }
          ],
          "scattergeo": [
           {
            "marker": {
             "colorbar": {
              "outlinewidth": 0,
              "ticks": ""
             }
            },
            "type": "scattergeo"
           }
          ],
          "scattergl": [
           {
            "marker": {
             "colorbar": {
              "outlinewidth": 0,
              "ticks": ""
             }
            },
            "type": "scattergl"
           }
          ],
          "scattermapbox": [
           {
            "marker": {
             "colorbar": {
              "outlinewidth": 0,
              "ticks": ""
             }
            },
            "type": "scattermapbox"
           }
          ],
          "scatterpolar": [
           {
            "marker": {
             "colorbar": {
              "outlinewidth": 0,
              "ticks": ""
             }
            },
            "type": "scatterpolar"
           }
          ],
          "scatterpolargl": [
           {
            "marker": {
             "colorbar": {
              "outlinewidth": 0,
              "ticks": ""
             }
            },
            "type": "scatterpolargl"
           }
          ],
          "scatterternary": [
           {
            "marker": {
             "colorbar": {
              "outlinewidth": 0,
              "ticks": ""
             }
            },
            "type": "scatterternary"
           }
          ],
          "surface": [
           {
            "colorbar": {
             "outlinewidth": 0,
             "ticks": ""
            },
            "colorscale": [
             [
              0,
              "#0d0887"
             ],
             [
              0.1111111111111111,
              "#46039f"
             ],
             [
              0.2222222222222222,
              "#7201a8"
             ],
             [
              0.3333333333333333,
              "#9c179e"
             ],
             [
              0.4444444444444444,
              "#bd3786"
             ],
             [
              0.5555555555555556,
              "#d8576b"
             ],
             [
              0.6666666666666666,
              "#ed7953"
             ],
             [
              0.7777777777777778,
              "#fb9f3a"
             ],
             [
              0.8888888888888888,
              "#fdca26"
             ],
             [
              1,
              "#f0f921"
             ]
            ],
            "type": "surface"
           }
          ],
          "table": [
           {
            "cells": {
             "fill": {
              "color": "#EBF0F8"
             },
             "line": {
              "color": "white"
             }
            },
            "header": {
             "fill": {
              "color": "#C8D4E3"
             },
             "line": {
              "color": "white"
             }
            },
            "type": "table"
           }
          ]
         },
         "layout": {
          "annotationdefaults": {
           "arrowcolor": "#2a3f5f",
           "arrowhead": 0,
           "arrowwidth": 1
          },
          "autotypenumbers": "strict",
          "coloraxis": {
           "colorbar": {
            "outlinewidth": 0,
            "ticks": ""
           }
          },
          "colorscale": {
           "diverging": [
            [
             0,
             "#8e0152"
            ],
            [
             0.1,
             "#c51b7d"
            ],
            [
             0.2,
             "#de77ae"
            ],
            [
             0.3,
             "#f1b6da"
            ],
            [
             0.4,
             "#fde0ef"
            ],
            [
             0.5,
             "#f7f7f7"
            ],
            [
             0.6,
             "#e6f5d0"
            ],
            [
             0.7,
             "#b8e186"
            ],
            [
             0.8,
             "#7fbc41"
            ],
            [
             0.9,
             "#4d9221"
            ],
            [
             1,
             "#276419"
            ]
           ],
           "sequential": [
            [
             0,
             "#0d0887"
            ],
            [
             0.1111111111111111,
             "#46039f"
            ],
            [
             0.2222222222222222,
             "#7201a8"
            ],
            [
             0.3333333333333333,
             "#9c179e"
            ],
            [
             0.4444444444444444,
             "#bd3786"
            ],
            [
             0.5555555555555556,
             "#d8576b"
            ],
            [
             0.6666666666666666,
             "#ed7953"
            ],
            [
             0.7777777777777778,
             "#fb9f3a"
            ],
            [
             0.8888888888888888,
             "#fdca26"
            ],
            [
             1,
             "#f0f921"
            ]
           ],
           "sequentialminus": [
            [
             0,
             "#0d0887"
            ],
            [
             0.1111111111111111,
             "#46039f"
            ],
            [
             0.2222222222222222,
             "#7201a8"
            ],
            [
             0.3333333333333333,
             "#9c179e"
            ],
            [
             0.4444444444444444,
             "#bd3786"
            ],
            [
             0.5555555555555556,
             "#d8576b"
            ],
            [
             0.6666666666666666,
             "#ed7953"
            ],
            [
             0.7777777777777778,
             "#fb9f3a"
            ],
            [
             0.8888888888888888,
             "#fdca26"
            ],
            [
             1,
             "#f0f921"
            ]
           ]
          },
          "colorway": [
           "#636efa",
           "#EF553B",
           "#00cc96",
           "#ab63fa",
           "#FFA15A",
           "#19d3f3",
           "#FF6692",
           "#B6E880",
           "#FF97FF",
           "#FECB52"
          ],
          "font": {
           "color": "#2a3f5f"
          },
          "geo": {
           "bgcolor": "white",
           "lakecolor": "white",
           "landcolor": "#E5ECF6",
           "showlakes": true,
           "showland": true,
           "subunitcolor": "white"
          },
          "hoverlabel": {
           "align": "left"
          },
          "hovermode": "closest",
          "mapbox": {
           "style": "light"
          },
          "paper_bgcolor": "white",
          "plot_bgcolor": "#E5ECF6",
          "polar": {
           "angularaxis": {
            "gridcolor": "white",
            "linecolor": "white",
            "ticks": ""
           },
           "bgcolor": "#E5ECF6",
           "radialaxis": {
            "gridcolor": "white",
            "linecolor": "white",
            "ticks": ""
           }
          },
          "scene": {
           "xaxis": {
            "backgroundcolor": "#E5ECF6",
            "gridcolor": "white",
            "gridwidth": 2,
            "linecolor": "white",
            "showbackground": true,
            "ticks": "",
            "zerolinecolor": "white"
           },
           "yaxis": {
            "backgroundcolor": "#E5ECF6",
            "gridcolor": "white",
            "gridwidth": 2,
            "linecolor": "white",
            "showbackground": true,
            "ticks": "",
            "zerolinecolor": "white"
           },
           "zaxis": {
            "backgroundcolor": "#E5ECF6",
            "gridcolor": "white",
            "gridwidth": 2,
            "linecolor": "white",
            "showbackground": true,
            "ticks": "",
            "zerolinecolor": "white"
           }
          },
          "shapedefaults": {
           "line": {
            "color": "#2a3f5f"
           }
          },
          "ternary": {
           "aaxis": {
            "gridcolor": "white",
            "linecolor": "white",
            "ticks": ""
           },
           "baxis": {
            "gridcolor": "white",
            "linecolor": "white",
            "ticks": ""
           },
           "bgcolor": "#E5ECF6",
           "caxis": {
            "gridcolor": "white",
            "linecolor": "white",
            "ticks": ""
           }
          },
          "title": {
           "x": 0.05
          },
          "xaxis": {
           "automargin": true,
           "gridcolor": "white",
           "linecolor": "white",
           "ticks": "",
           "title": {
            "standoff": 15
           },
           "zerolinecolor": "white",
           "zerolinewidth": 2
          },
          "yaxis": {
           "automargin": true,
           "gridcolor": "white",
           "linecolor": "white",
           "ticks": "",
           "title": {
            "standoff": 15
           },
           "zerolinecolor": "white",
           "zerolinewidth": 2
          }
         }
        },
        "title": {
         "font": {
          "color": "#4D5663"
         }
        },
        "xaxis": {
         "gridcolor": "#E1E5ED",
         "showgrid": true,
         "tickfont": {
          "color": "#4D5663"
         },
         "title": {
          "font": {
           "color": "#4D5663"
          },
          "text": ""
         },
         "zerolinecolor": "#E1E5ED"
        },
        "yaxis": {
         "gridcolor": "#E1E5ED",
         "showgrid": true,
         "tickfont": {
          "color": "#4D5663"
         },
         "title": {
          "font": {
           "color": "#4D5663"
          },
          "text": ""
         },
         "zerolinecolor": "#E1E5ED"
        }
       }
      },
      "text/html": [
       "<div>                            <div id=\"4b7b560e-519a-4a4d-87db-20c2df29cfb6\" class=\"plotly-graph-div\" style=\"height:525px; width:100%;\"></div>            <script type=\"text/javascript\">                require([\"plotly\"], function(Plotly) {                    window.PLOTLYENV=window.PLOTLYENV || {};\n",
       "                    window.PLOTLYENV.BASE_URL='https://plot.ly';                                    if (document.getElementById(\"4b7b560e-519a-4a4d-87db-20c2df29cfb6\")) {                    Plotly.newPlot(                        \"4b7b560e-519a-4a4d-87db-20c2df29cfb6\",                        [{\"boxpoints\":false,\"line\":{\"width\":1.3},\"marker\":{\"color\":\"rgba(255, 153, 51, 1.0)\"},\"name\":\"A\",\"orientation\":\"v\",\"y\":[-1.9155992047694723,-0.4481315159572726,-0.11667812727294494,-0.47405025229684344,0.5746676894222532,-1.5551821928115497,-1.072363124361193,1.2249086267193,-3.3367698414674267,-1.011489626579287,0.6314459569116476,0.08220392031662183,-1.491849155089903,-2.6826923465190182,-1.406142682152996,-0.09669026493158919,0.6255108134307167,-0.8998558810491614,-0.2756313164584835,0.3713126358915743,-0.14945511870764175,-2.7250214453982338,-0.497935347176919,-0.7794784042791113,-0.30309488487554737,-0.7033732528019522,0.07862498827643226,-0.49979720991996174,-0.6002810486693904,0.718931878030546,0.2590887953878619,0.9060597459809786,-0.4190053741867893,-0.674433060377967,0.10545055429225647,1.2703935062900036,0.08983878160980747,0.6570432262514,-1.0176071028493356,0.6749140899996501,0.08417298484397781,0.8001476730499851,-0.12399513898835102,0.6274206095826046,-1.318877425164554,0.8164515931433367,0.09393732573798273,1.1206004281742687,0.8579900755978948,0.14911973244187204,0.9711897159096959,0.15869343459827023,0.20449045179987363,-1.6562183779368844,-0.9608076241416532,1.7727570332597742,-0.4457864515536005,0.4733263459830899,-0.1111431812706696,-0.6308516353493814,-1.5083286013649613,-1.8184170618133393,-1.577160446581665,-1.3084496737397215,0.29394673420640693,-0.21034035618984062,0.22395410087307033,0.5071818648650146,-1.4180404163946694,-0.21388614142527063,-0.7728099669727144,0.45279731788305944,-1.176389429494858,1.537074281671399,-1.0673529889078999,-1.1894210145045987,-1.5454669283459765,0.30364289543227707,-0.2762977037815814,1.7831332501465116,0.9826029558353301,-1.002098401486566,-0.16731691773009688,1.176134221963469,0.3460648331901014,-0.32043219503556436,-0.3782163252372253,0.9571278359770741,-0.057274155370753116,0.32731766282935837,-0.30977457949724585,-0.9355114325341685,-1.8964276157738422,0.2929666305481281,-0.7261109260232375,-0.5620284230807836,0.29595542033167244,-1.6709671363176706,0.7262858567454336,-0.564607728302298],\"type\":\"box\"},{\"boxpoints\":false,\"line\":{\"width\":1.3},\"marker\":{\"color\":\"rgba(55, 128, 191, 1.0)\"},\"name\":\"B\",\"orientation\":\"v\",\"y\":[0.25012653811443325,-0.31263602491902226,0.46854191390985994,0.3495550634187599,1.2779608573542152,-0.7195686267733024,-0.05377556286345402,0.8860961885150416,-0.35659558561108556,-0.5412418799364572,-1.0538607706754788,-1.4357015266467925,-1.4440825388729484,-0.4601463702775817,1.0525558771197012,-0.6384012471936885,-0.3984075707720691,0.3217992513734411,0.717847534780858,0.14786313583922234,-0.08921894414927768,-0.026447486752192863,-0.41781749828547704,-0.4258553164011774,-0.691041627506832,0.2725451758149655,1.2146505715089757,-0.7164863916632876,0.39324350968810945,-0.30946916784496414,-0.27145136523819957,0.6679457848678415,-0.07142770435308705,0.704443166579191,2.157895083594788,0.6170696338034954,-0.13662952222954544,-0.290866965366531,-0.4155089124480595,-0.15309402200095784,1.5221394507416537,-1.6249467620767861,-0.6965471964753526,0.182517283224261,0.23350357359802568,1.1453466340351426,-0.3686827311467193,1.957928012194116,0.4071672052678087,0.58680361903923,-0.8828982087450967,0.4129260132199946,0.6441433598373917,0.33372085287296577,0.3114578540673428,0.30273197459055706,-0.0672794267265068,0.7311115271348104,-1.4610688565261025,-1.3620418033258774,-1.1749042013895534,0.2569253531988617,0.3132234789055193,-0.4939070459441881,-0.38233997444376466,-0.8341518456265357,-2.275739432967845,-1.5981719266949375,1.4764816496356954,1.2582757204570383,-0.4430532726331741,-0.21808790791840466,-0.2523685759128763,-0.600478802244115,0.15220587659129273,-1.6586124610802093,-1.3433717204993254,0.9523056125989408,-1.9154009199738649,-1.3386543561881108,-0.8149176443027241,0.6388800450354669,0.030844994128891724,-1.986446346965538,-0.22630015828997926,-0.27117120976532544,-1.176124215365589,0.4534877231166138,0.1678182902848415,0.5552876540147228,-0.00964539990285035,1.2041724538233955,0.024983048147564843,0.03429775948556624,1.346683258563046,0.9870398426730453,-0.5747651397935243,-1.8469381178596094,0.751357199127522,0.38951470541379307],\"type\":\"box\"},{\"boxpoints\":false,\"line\":{\"width\":1.3},\"marker\":{\"color\":\"rgba(50, 171, 96, 1.0)\"},\"name\":\"C\",\"orientation\":\"v\",\"y\":[-0.33147941212230614,0.4030748389856743,0.775394702177516,-0.6034415754468376,-0.515548867017618,1.5761779599884451,-0.7910572237007015,-0.07598643557492382,1.6776710519354656,1.325248722840458,-0.057994098701497604,0.1797865482746144,0.514515206533345,-1.341690880163176,0.7736138888697905,1.2761533474012723,-0.2873814394453713,0.8159630337408869,1.4143203929103167,-1.1959217380546179,1.0605305881743308,-0.2871029678069003,-0.47650966749294815,-1.5322201238101008,2.3273156202072434,-1.3016443743900041,0.18146682359698219,-2.265041716343768,-0.23031719460426087,1.0036379076404183,1.39111353332184,0.9986221869201293,-0.6975563428250889,-1.0656541871381087,-0.13820505997914495,0.1411027855289363,0.6424293097490533,1.012356910815464,-1.8117231106561977,-0.8655847462795403,0.7837144577597044,-0.6580237608589773,-2.0656532408667228,-0.7041976382667674,1.4112389977992923,-1.99819086410293,1.002197302797664,0.10259668465654932,0.0010116918716799508,-1.6738788054683773,0.3309445727100791,3.7065199797729567,-0.19537551646281318,0.03037790496248001,0.09501392488427825,1.3646049958720576,0.4789596489217511,0.7960288598719361,0.41795718796210096,0.715138543589554,0.44157282341480664,0.46212335527427667,0.4394396173599501,0.069065620261416,0.9795147696875675,-0.9884646911340608,-0.3896075373137488,-2.302604044069634,0.4812428494324066,-1.0743371639752484,-0.901325591652145,-1.3955540299536509,-0.7722292126644033,-0.48005842284055805,-0.06660471875486865,0.5884452112326498,-1.6894909362213644,-0.16203994507754774,-0.35745126049456716,-1.2216405215156472,-1.5314375292682807,0.16666904289206597,-0.6639132343154985,-1.0723849645510015,0.19313545104162413,-0.39637930767477336,0.9666952656807792,-0.3020082486157058,1.9066392258088303,-2.2106799844692673,-0.09187692165825188,-0.18909933282272662,-1.5526563300765173,0.6310274126390918,0.7962748274453911,3.0613176149500934,-2.098248003547318,-1.8212990362024815,-0.06726072924822411,0.3044957245832294],\"type\":\"box\"},{\"boxpoints\":false,\"line\":{\"width\":1.3},\"marker\":{\"color\":\"rgba(128, 0, 128, 1.0)\"},\"name\":\"D\",\"orientation\":\"v\",\"y\":[0.9930434223630643,-0.5185944171985121,0.12625668626889675,1.4126287501903794,-0.4921417495462758,-0.5103664470584897,-1.1908203707069451,0.04023821016681215,-0.13947666253542734,0.8868781252910879,-1.6371569022893278,0.7672435204882054,0.6169553575989898,1.3329917928265773,-0.7665638783382027,-0.08123583532764496,-0.32864850216455593,-0.029361561163987148,0.6399435184431522,-1.8633894015617534,-0.15400435668524395,0.6264413708591936,-0.6329021971365782,0.358736207272916,-0.7284128090386145,-0.26492527185638926,1.1696315706744203,0.34784394112845773,-1.6357683954704856,-2.2217094786651264,0.35909219044296037,-1.6103043352563573,0.5154940607552029,-1.0337034512745022,-0.5200214578592136,-0.5410133095509277,0.11565363484436865,-1.1689675937280577,-0.06743860667609816,0.8093101336485461,2.2759957457438387,1.630917558792805,-0.8679712037280137,-0.05101251089912307,-1.860017791349555,0.9246439226006556,0.7656419764489286,-1.0172384600075741,0.07302717803805786,0.358441466502234,0.37444771313545494,1.1880055833311223,1.0923860205997888,0.7037031652652141,-1.417668561379097,2.8345850950566707,1.029274652519448,0.39385699755084097,-1.0040261687326846,-0.23643129269215768,1.678181820866815,-0.6972407986458042,0.3009890287331359,0.4574685093787016,0.3937636188502432,-1.2005561380897674,0.8234987906280484,0.6519985416617249,1.4010954582169186,0.9000817296184049,0.9056196239785779,-0.1925110523641491,-0.2397258822912278,1.524354050219484,0.7111398702461121,-0.590158347508297,-0.22651938157426366,-0.3590382922775907,-1.1433500094981577,0.13947063075046293,1.1870112738414629,0.315517739666811,-0.20814383151220558,0.7927519220506773,-0.29663485225690894,0.33126294483647645,0.5201888558820525,1.3281684355453012,1.2160740263768117,-0.5964855723830482,0.9560523724277572,0.3961241033062341,0.6977353087784073,2.043350934958954,0.2122349045877803,0.9063572709159615,-0.191869442749806,-1.0131325421167754,-0.2643773463361861,0.38858293445015457],\"type\":\"box\"}],                        {\"legend\":{\"bgcolor\":\"#F5F6F9\",\"font\":{\"color\":\"#4D5663\"}},\"paper_bgcolor\":\"#F5F6F9\",\"plot_bgcolor\":\"#F5F6F9\",\"template\":{\"data\":{\"barpolar\":[{\"marker\":{\"line\":{\"color\":\"#E5ECF6\",\"width\":0.5},\"pattern\":{\"fillmode\":\"overlay\",\"size\":10,\"solidity\":0.2}},\"type\":\"barpolar\"}],\"bar\":[{\"error_x\":{\"color\":\"#2a3f5f\"},\"error_y\":{\"color\":\"#2a3f5f\"},\"marker\":{\"line\":{\"color\":\"#E5ECF6\",\"width\":0.5},\"pattern\":{\"fillmode\":\"overlay\",\"size\":10,\"solidity\":0.2}},\"type\":\"bar\"}],\"carpet\":[{\"aaxis\":{\"endlinecolor\":\"#2a3f5f\",\"gridcolor\":\"white\",\"linecolor\":\"white\",\"minorgridcolor\":\"white\",\"startlinecolor\":\"#2a3f5f\"},\"baxis\":{\"endlinecolor\":\"#2a3f5f\",\"gridcolor\":\"white\",\"linecolor\":\"white\",\"minorgridcolor\":\"white\",\"startlinecolor\":\"#2a3f5f\"},\"type\":\"carpet\"}],\"choropleth\":[{\"colorbar\":{\"outlinewidth\":0,\"ticks\":\"\"},\"type\":\"choropleth\"}],\"contourcarpet\":[{\"colorbar\":{\"outlinewidth\":0,\"ticks\":\"\"},\"type\":\"contourcarpet\"}],\"contour\":[{\"colorbar\":{\"outlinewidth\":0,\"ticks\":\"\"},\"colorscale\":[[0.0,\"#0d0887\"],[0.1111111111111111,\"#46039f\"],[0.2222222222222222,\"#7201a8\"],[0.3333333333333333,\"#9c179e\"],[0.4444444444444444,\"#bd3786\"],[0.5555555555555556,\"#d8576b\"],[0.6666666666666666,\"#ed7953\"],[0.7777777777777778,\"#fb9f3a\"],[0.8888888888888888,\"#fdca26\"],[1.0,\"#f0f921\"]],\"type\":\"contour\"}],\"heatmapgl\":[{\"colorbar\":{\"outlinewidth\":0,\"ticks\":\"\"},\"colorscale\":[[0.0,\"#0d0887\"],[0.1111111111111111,\"#46039f\"],[0.2222222222222222,\"#7201a8\"],[0.3333333333333333,\"#9c179e\"],[0.4444444444444444,\"#bd3786\"],[0.5555555555555556,\"#d8576b\"],[0.6666666666666666,\"#ed7953\"],[0.7777777777777778,\"#fb9f3a\"],[0.8888888888888888,\"#fdca26\"],[1.0,\"#f0f921\"]],\"type\":\"heatmapgl\"}],\"heatmap\":[{\"colorbar\":{\"outlinewidth\":0,\"ticks\":\"\"},\"colorscale\":[[0.0,\"#0d0887\"],[0.1111111111111111,\"#46039f\"],[0.2222222222222222,\"#7201a8\"],[0.3333333333333333,\"#9c179e\"],[0.4444444444444444,\"#bd3786\"],[0.5555555555555556,\"#d8576b\"],[0.6666666666666666,\"#ed7953\"],[0.7777777777777778,\"#fb9f3a\"],[0.8888888888888888,\"#fdca26\"],[1.0,\"#f0f921\"]],\"type\":\"heatmap\"}],\"histogram2dcontour\":[{\"colorbar\":{\"outlinewidth\":0,\"ticks\":\"\"},\"colorscale\":[[0.0,\"#0d0887\"],[0.1111111111111111,\"#46039f\"],[0.2222222222222222,\"#7201a8\"],[0.3333333333333333,\"#9c179e\"],[0.4444444444444444,\"#bd3786\"],[0.5555555555555556,\"#d8576b\"],[0.6666666666666666,\"#ed7953\"],[0.7777777777777778,\"#fb9f3a\"],[0.8888888888888888,\"#fdca26\"],[1.0,\"#f0f921\"]],\"type\":\"histogram2dcontour\"}],\"histogram2d\":[{\"colorbar\":{\"outlinewidth\":0,\"ticks\":\"\"},\"colorscale\":[[0.0,\"#0d0887\"],[0.1111111111111111,\"#46039f\"],[0.2222222222222222,\"#7201a8\"],[0.3333333333333333,\"#9c179e\"],[0.4444444444444444,\"#bd3786\"],[0.5555555555555556,\"#d8576b\"],[0.6666666666666666,\"#ed7953\"],[0.7777777777777778,\"#fb9f3a\"],[0.8888888888888888,\"#fdca26\"],[1.0,\"#f0f921\"]],\"type\":\"histogram2d\"}],\"histogram\":[{\"marker\":{\"pattern\":{\"fillmode\":\"overlay\",\"size\":10,\"solidity\":0.2}},\"type\":\"histogram\"}],\"mesh3d\":[{\"colorbar\":{\"outlinewidth\":0,\"ticks\":\"\"},\"type\":\"mesh3d\"}],\"parcoords\":[{\"line\":{\"colorbar\":{\"outlinewidth\":0,\"ticks\":\"\"}},\"type\":\"parcoords\"}],\"pie\":[{\"automargin\":true,\"type\":\"pie\"}],\"scatter3d\":[{\"line\":{\"colorbar\":{\"outlinewidth\":0,\"ticks\":\"\"}},\"marker\":{\"colorbar\":{\"outlinewidth\":0,\"ticks\":\"\"}},\"type\":\"scatter3d\"}],\"scattercarpet\":[{\"marker\":{\"colorbar\":{\"outlinewidth\":0,\"ticks\":\"\"}},\"type\":\"scattercarpet\"}],\"scattergeo\":[{\"marker\":{\"colorbar\":{\"outlinewidth\":0,\"ticks\":\"\"}},\"type\":\"scattergeo\"}],\"scattergl\":[{\"marker\":{\"colorbar\":{\"outlinewidth\":0,\"ticks\":\"\"}},\"type\":\"scattergl\"}],\"scattermapbox\":[{\"marker\":{\"colorbar\":{\"outlinewidth\":0,\"ticks\":\"\"}},\"type\":\"scattermapbox\"}],\"scatterpolargl\":[{\"marker\":{\"colorbar\":{\"outlinewidth\":0,\"ticks\":\"\"}},\"type\":\"scatterpolargl\"}],\"scatterpolar\":[{\"marker\":{\"colorbar\":{\"outlinewidth\":0,\"ticks\":\"\"}},\"type\":\"scatterpolar\"}],\"scatter\":[{\"fillpattern\":{\"fillmode\":\"overlay\",\"size\":10,\"solidity\":0.2},\"type\":\"scatter\"}],\"scatterternary\":[{\"marker\":{\"colorbar\":{\"outlinewidth\":0,\"ticks\":\"\"}},\"type\":\"scatterternary\"}],\"surface\":[{\"colorbar\":{\"outlinewidth\":0,\"ticks\":\"\"},\"colorscale\":[[0.0,\"#0d0887\"],[0.1111111111111111,\"#46039f\"],[0.2222222222222222,\"#7201a8\"],[0.3333333333333333,\"#9c179e\"],[0.4444444444444444,\"#bd3786\"],[0.5555555555555556,\"#d8576b\"],[0.6666666666666666,\"#ed7953\"],[0.7777777777777778,\"#fb9f3a\"],[0.8888888888888888,\"#fdca26\"],[1.0,\"#f0f921\"]],\"type\":\"surface\"}],\"table\":[{\"cells\":{\"fill\":{\"color\":\"#EBF0F8\"},\"line\":{\"color\":\"white\"}},\"header\":{\"fill\":{\"color\":\"#C8D4E3\"},\"line\":{\"color\":\"white\"}},\"type\":\"table\"}]},\"layout\":{\"annotationdefaults\":{\"arrowcolor\":\"#2a3f5f\",\"arrowhead\":0,\"arrowwidth\":1},\"autotypenumbers\":\"strict\",\"coloraxis\":{\"colorbar\":{\"outlinewidth\":0,\"ticks\":\"\"}},\"colorscale\":{\"diverging\":[[0,\"#8e0152\"],[0.1,\"#c51b7d\"],[0.2,\"#de77ae\"],[0.3,\"#f1b6da\"],[0.4,\"#fde0ef\"],[0.5,\"#f7f7f7\"],[0.6,\"#e6f5d0\"],[0.7,\"#b8e186\"],[0.8,\"#7fbc41\"],[0.9,\"#4d9221\"],[1,\"#276419\"]],\"sequential\":[[0.0,\"#0d0887\"],[0.1111111111111111,\"#46039f\"],[0.2222222222222222,\"#7201a8\"],[0.3333333333333333,\"#9c179e\"],[0.4444444444444444,\"#bd3786\"],[0.5555555555555556,\"#d8576b\"],[0.6666666666666666,\"#ed7953\"],[0.7777777777777778,\"#fb9f3a\"],[0.8888888888888888,\"#fdca26\"],[1.0,\"#f0f921\"]],\"sequentialminus\":[[0.0,\"#0d0887\"],[0.1111111111111111,\"#46039f\"],[0.2222222222222222,\"#7201a8\"],[0.3333333333333333,\"#9c179e\"],[0.4444444444444444,\"#bd3786\"],[0.5555555555555556,\"#d8576b\"],[0.6666666666666666,\"#ed7953\"],[0.7777777777777778,\"#fb9f3a\"],[0.8888888888888888,\"#fdca26\"],[1.0,\"#f0f921\"]]},\"colorway\":[\"#636efa\",\"#EF553B\",\"#00cc96\",\"#ab63fa\",\"#FFA15A\",\"#19d3f3\",\"#FF6692\",\"#B6E880\",\"#FF97FF\",\"#FECB52\"],\"font\":{\"color\":\"#2a3f5f\"},\"geo\":{\"bgcolor\":\"white\",\"lakecolor\":\"white\",\"landcolor\":\"#E5ECF6\",\"showlakes\":true,\"showland\":true,\"subunitcolor\":\"white\"},\"hoverlabel\":{\"align\":\"left\"},\"hovermode\":\"closest\",\"mapbox\":{\"style\":\"light\"},\"paper_bgcolor\":\"white\",\"plot_bgcolor\":\"#E5ECF6\",\"polar\":{\"angularaxis\":{\"gridcolor\":\"white\",\"linecolor\":\"white\",\"ticks\":\"\"},\"bgcolor\":\"#E5ECF6\",\"radialaxis\":{\"gridcolor\":\"white\",\"linecolor\":\"white\",\"ticks\":\"\"}},\"scene\":{\"xaxis\":{\"backgroundcolor\":\"#E5ECF6\",\"gridcolor\":\"white\",\"gridwidth\":2,\"linecolor\":\"white\",\"showbackground\":true,\"ticks\":\"\",\"zerolinecolor\":\"white\"},\"yaxis\":{\"backgroundcolor\":\"#E5ECF6\",\"gridcolor\":\"white\",\"gridwidth\":2,\"linecolor\":\"white\",\"showbackground\":true,\"ticks\":\"\",\"zerolinecolor\":\"white\"},\"zaxis\":{\"backgroundcolor\":\"#E5ECF6\",\"gridcolor\":\"white\",\"gridwidth\":2,\"linecolor\":\"white\",\"showbackground\":true,\"ticks\":\"\",\"zerolinecolor\":\"white\"}},\"shapedefaults\":{\"line\":{\"color\":\"#2a3f5f\"}},\"ternary\":{\"aaxis\":{\"gridcolor\":\"white\",\"linecolor\":\"white\",\"ticks\":\"\"},\"baxis\":{\"gridcolor\":\"white\",\"linecolor\":\"white\",\"ticks\":\"\"},\"bgcolor\":\"#E5ECF6\",\"caxis\":{\"gridcolor\":\"white\",\"linecolor\":\"white\",\"ticks\":\"\"}},\"title\":{\"x\":0.05},\"xaxis\":{\"automargin\":true,\"gridcolor\":\"white\",\"linecolor\":\"white\",\"ticks\":\"\",\"title\":{\"standoff\":15},\"zerolinecolor\":\"white\",\"zerolinewidth\":2},\"yaxis\":{\"automargin\":true,\"gridcolor\":\"white\",\"linecolor\":\"white\",\"ticks\":\"\",\"title\":{\"standoff\":15},\"zerolinecolor\":\"white\",\"zerolinewidth\":2}}},\"title\":{\"font\":{\"color\":\"#4D5663\"}},\"xaxis\":{\"gridcolor\":\"#E1E5ED\",\"showgrid\":true,\"tickfont\":{\"color\":\"#4D5663\"},\"title\":{\"font\":{\"color\":\"#4D5663\"},\"text\":\"\"},\"zerolinecolor\":\"#E1E5ED\"},\"yaxis\":{\"gridcolor\":\"#E1E5ED\",\"showgrid\":true,\"tickfont\":{\"color\":\"#4D5663\"},\"title\":{\"font\":{\"color\":\"#4D5663\"},\"text\":\"\"},\"zerolinecolor\":\"#E1E5ED\"}},                        {\"showLink\": true, \"linkText\": \"Export to plot.ly\", \"plotlyServerURL\": \"https://plot.ly\", \"responsive\": true}                    ).then(function(){\n",
       "                            \n",
       "var gd = document.getElementById('4b7b560e-519a-4a4d-87db-20c2df29cfb6');\n",
       "var x = new MutationObserver(function (mutations, observer) {{\n",
       "        var display = window.getComputedStyle(gd).display;\n",
       "        if (!display || display === 'none') {{\n",
       "            console.log([gd, 'removed!']);\n",
       "            Plotly.purge(gd);\n",
       "            observer.disconnect();\n",
       "        }}\n",
       "}});\n",
       "\n",
       "// Listen for the removal of the full notebook cells\n",
       "var notebookContainer = gd.closest('#notebook-container');\n",
       "if (notebookContainer) {{\n",
       "    x.observe(notebookContainer, {childList: true});\n",
       "}}\n",
       "\n",
       "// Listen for the clearing of the current output cell\n",
       "var outputEl = gd.closest('.output');\n",
       "if (outputEl) {{\n",
       "    x.observe(outputEl, {childList: true});\n",
       "}}\n",
       "\n",
       "                        })                };                });            </script>        </div>"
      ]
     },
     "metadata": {},
     "output_type": "display_data"
    }
   ],
   "source": [
    "df.iplot(kind='box')"
   ]
  },
  {
   "cell_type": "code",
   "execution_count": 15,
   "metadata": {},
   "outputs": [
    {
     "data": {
      "application/vnd.plotly.v1+json": {
       "config": {
        "linkText": "Export to plot.ly",
        "plotlyServerURL": "https://plot.ly",
        "showLink": true
       },
       "data": [
        {
         "colorscale": [
          [
           0,
           "rgb(165,0,38)"
          ],
          [
           0.1,
           "rgb(215,48,39)"
          ],
          [
           0.2,
           "rgb(244,109,67)"
          ],
          [
           0.3,
           "rgb(253,174,97)"
          ],
          [
           0.4,
           "rgb(254,224,144)"
          ],
          [
           0.5,
           "rgb(255,255,191)"
          ],
          [
           0.6,
           "rgb(224,243,248)"
          ],
          [
           0.7,
           "rgb(171,217,233)"
          ],
          [
           0.8,
           "rgb(116,173,209)"
          ],
          [
           0.9,
           "rgb(69,117,180)"
          ],
          [
           1,
           "rgb(49,54,149)"
          ]
         ],
         "type": "surface",
         "x": [
          0,
          1,
          2,
          3,
          4
         ],
         "y": [
          "x",
          "y",
          "z"
         ],
         "z": [
          [
           1,
           2,
           3,
           4,
           5
          ],
          [
           10,
           20,
           30,
           20,
           10
          ],
          [
           5,
           4,
           3,
           2,
           1
          ]
         ]
        }
       ],
       "layout": {
        "legend": {
         "bgcolor": "#F5F6F9",
         "font": {
          "color": "#4D5663"
         }
        },
        "paper_bgcolor": "#F5F6F9",
        "plot_bgcolor": "#F5F6F9",
        "template": {
         "data": {
          "bar": [
           {
            "error_x": {
             "color": "#2a3f5f"
            },
            "error_y": {
             "color": "#2a3f5f"
            },
            "marker": {
             "line": {
              "color": "#E5ECF6",
              "width": 0.5
             },
             "pattern": {
              "fillmode": "overlay",
              "size": 10,
              "solidity": 0.2
             }
            },
            "type": "bar"
           }
          ],
          "barpolar": [
           {
            "marker": {
             "line": {
              "color": "#E5ECF6",
              "width": 0.5
             },
             "pattern": {
              "fillmode": "overlay",
              "size": 10,
              "solidity": 0.2
             }
            },
            "type": "barpolar"
           }
          ],
          "carpet": [
           {
            "aaxis": {
             "endlinecolor": "#2a3f5f",
             "gridcolor": "white",
             "linecolor": "white",
             "minorgridcolor": "white",
             "startlinecolor": "#2a3f5f"
            },
            "baxis": {
             "endlinecolor": "#2a3f5f",
             "gridcolor": "white",
             "linecolor": "white",
             "minorgridcolor": "white",
             "startlinecolor": "#2a3f5f"
            },
            "type": "carpet"
           }
          ],
          "choropleth": [
           {
            "colorbar": {
             "outlinewidth": 0,
             "ticks": ""
            },
            "type": "choropleth"
           }
          ],
          "contour": [
           {
            "colorbar": {
             "outlinewidth": 0,
             "ticks": ""
            },
            "colorscale": [
             [
              0,
              "#0d0887"
             ],
             [
              0.1111111111111111,
              "#46039f"
             ],
             [
              0.2222222222222222,
              "#7201a8"
             ],
             [
              0.3333333333333333,
              "#9c179e"
             ],
             [
              0.4444444444444444,
              "#bd3786"
             ],
             [
              0.5555555555555556,
              "#d8576b"
             ],
             [
              0.6666666666666666,
              "#ed7953"
             ],
             [
              0.7777777777777778,
              "#fb9f3a"
             ],
             [
              0.8888888888888888,
              "#fdca26"
             ],
             [
              1,
              "#f0f921"
             ]
            ],
            "type": "contour"
           }
          ],
          "contourcarpet": [
           {
            "colorbar": {
             "outlinewidth": 0,
             "ticks": ""
            },
            "type": "contourcarpet"
           }
          ],
          "heatmap": [
           {
            "colorbar": {
             "outlinewidth": 0,
             "ticks": ""
            },
            "colorscale": [
             [
              0,
              "#0d0887"
             ],
             [
              0.1111111111111111,
              "#46039f"
             ],
             [
              0.2222222222222222,
              "#7201a8"
             ],
             [
              0.3333333333333333,
              "#9c179e"
             ],
             [
              0.4444444444444444,
              "#bd3786"
             ],
             [
              0.5555555555555556,
              "#d8576b"
             ],
             [
              0.6666666666666666,
              "#ed7953"
             ],
             [
              0.7777777777777778,
              "#fb9f3a"
             ],
             [
              0.8888888888888888,
              "#fdca26"
             ],
             [
              1,
              "#f0f921"
             ]
            ],
            "type": "heatmap"
           }
          ],
          "heatmapgl": [
           {
            "colorbar": {
             "outlinewidth": 0,
             "ticks": ""
            },
            "colorscale": [
             [
              0,
              "#0d0887"
             ],
             [
              0.1111111111111111,
              "#46039f"
             ],
             [
              0.2222222222222222,
              "#7201a8"
             ],
             [
              0.3333333333333333,
              "#9c179e"
             ],
             [
              0.4444444444444444,
              "#bd3786"
             ],
             [
              0.5555555555555556,
              "#d8576b"
             ],
             [
              0.6666666666666666,
              "#ed7953"
             ],
             [
              0.7777777777777778,
              "#fb9f3a"
             ],
             [
              0.8888888888888888,
              "#fdca26"
             ],
             [
              1,
              "#f0f921"
             ]
            ],
            "type": "heatmapgl"
           }
          ],
          "histogram": [
           {
            "marker": {
             "pattern": {
              "fillmode": "overlay",
              "size": 10,
              "solidity": 0.2
             }
            },
            "type": "histogram"
           }
          ],
          "histogram2d": [
           {
            "colorbar": {
             "outlinewidth": 0,
             "ticks": ""
            },
            "colorscale": [
             [
              0,
              "#0d0887"
             ],
             [
              0.1111111111111111,
              "#46039f"
             ],
             [
              0.2222222222222222,
              "#7201a8"
             ],
             [
              0.3333333333333333,
              "#9c179e"
             ],
             [
              0.4444444444444444,
              "#bd3786"
             ],
             [
              0.5555555555555556,
              "#d8576b"
             ],
             [
              0.6666666666666666,
              "#ed7953"
             ],
             [
              0.7777777777777778,
              "#fb9f3a"
             ],
             [
              0.8888888888888888,
              "#fdca26"
             ],
             [
              1,
              "#f0f921"
             ]
            ],
            "type": "histogram2d"
           }
          ],
          "histogram2dcontour": [
           {
            "colorbar": {
             "outlinewidth": 0,
             "ticks": ""
            },
            "colorscale": [
             [
              0,
              "#0d0887"
             ],
             [
              0.1111111111111111,
              "#46039f"
             ],
             [
              0.2222222222222222,
              "#7201a8"
             ],
             [
              0.3333333333333333,
              "#9c179e"
             ],
             [
              0.4444444444444444,
              "#bd3786"
             ],
             [
              0.5555555555555556,
              "#d8576b"
             ],
             [
              0.6666666666666666,
              "#ed7953"
             ],
             [
              0.7777777777777778,
              "#fb9f3a"
             ],
             [
              0.8888888888888888,
              "#fdca26"
             ],
             [
              1,
              "#f0f921"
             ]
            ],
            "type": "histogram2dcontour"
           }
          ],
          "mesh3d": [
           {
            "colorbar": {
             "outlinewidth": 0,
             "ticks": ""
            },
            "type": "mesh3d"
           }
          ],
          "parcoords": [
           {
            "line": {
             "colorbar": {
              "outlinewidth": 0,
              "ticks": ""
             }
            },
            "type": "parcoords"
           }
          ],
          "pie": [
           {
            "automargin": true,
            "type": "pie"
           }
          ],
          "scatter": [
           {
            "fillpattern": {
             "fillmode": "overlay",
             "size": 10,
             "solidity": 0.2
            },
            "type": "scatter"
           }
          ],
          "scatter3d": [
           {
            "line": {
             "colorbar": {
              "outlinewidth": 0,
              "ticks": ""
             }
            },
            "marker": {
             "colorbar": {
              "outlinewidth": 0,
              "ticks": ""
             }
            },
            "type": "scatter3d"
           }
          ],
          "scattercarpet": [
           {
            "marker": {
             "colorbar": {
              "outlinewidth": 0,
              "ticks": ""
             }
            },
            "type": "scattercarpet"
           }
          ],
          "scattergeo": [
           {
            "marker": {
             "colorbar": {
              "outlinewidth": 0,
              "ticks": ""
             }
            },
            "type": "scattergeo"
           }
          ],
          "scattergl": [
           {
            "marker": {
             "colorbar": {
              "outlinewidth": 0,
              "ticks": ""
             }
            },
            "type": "scattergl"
           }
          ],
          "scattermapbox": [
           {
            "marker": {
             "colorbar": {
              "outlinewidth": 0,
              "ticks": ""
             }
            },
            "type": "scattermapbox"
           }
          ],
          "scatterpolar": [
           {
            "marker": {
             "colorbar": {
              "outlinewidth": 0,
              "ticks": ""
             }
            },
            "type": "scatterpolar"
           }
          ],
          "scatterpolargl": [
           {
            "marker": {
             "colorbar": {
              "outlinewidth": 0,
              "ticks": ""
             }
            },
            "type": "scatterpolargl"
           }
          ],
          "scatterternary": [
           {
            "marker": {
             "colorbar": {
              "outlinewidth": 0,
              "ticks": ""
             }
            },
            "type": "scatterternary"
           }
          ],
          "surface": [
           {
            "colorbar": {
             "outlinewidth": 0,
             "ticks": ""
            },
            "colorscale": [
             [
              0,
              "#0d0887"
             ],
             [
              0.1111111111111111,
              "#46039f"
             ],
             [
              0.2222222222222222,
              "#7201a8"
             ],
             [
              0.3333333333333333,
              "#9c179e"
             ],
             [
              0.4444444444444444,
              "#bd3786"
             ],
             [
              0.5555555555555556,
              "#d8576b"
             ],
             [
              0.6666666666666666,
              "#ed7953"
             ],
             [
              0.7777777777777778,
              "#fb9f3a"
             ],
             [
              0.8888888888888888,
              "#fdca26"
             ],
             [
              1,
              "#f0f921"
             ]
            ],
            "type": "surface"
           }
          ],
          "table": [
           {
            "cells": {
             "fill": {
              "color": "#EBF0F8"
             },
             "line": {
              "color": "white"
             }
            },
            "header": {
             "fill": {
              "color": "#C8D4E3"
             },
             "line": {
              "color": "white"
             }
            },
            "type": "table"
           }
          ]
         },
         "layout": {
          "annotationdefaults": {
           "arrowcolor": "#2a3f5f",
           "arrowhead": 0,
           "arrowwidth": 1
          },
          "autotypenumbers": "strict",
          "coloraxis": {
           "colorbar": {
            "outlinewidth": 0,
            "ticks": ""
           }
          },
          "colorscale": {
           "diverging": [
            [
             0,
             "#8e0152"
            ],
            [
             0.1,
             "#c51b7d"
            ],
            [
             0.2,
             "#de77ae"
            ],
            [
             0.3,
             "#f1b6da"
            ],
            [
             0.4,
             "#fde0ef"
            ],
            [
             0.5,
             "#f7f7f7"
            ],
            [
             0.6,
             "#e6f5d0"
            ],
            [
             0.7,
             "#b8e186"
            ],
            [
             0.8,
             "#7fbc41"
            ],
            [
             0.9,
             "#4d9221"
            ],
            [
             1,
             "#276419"
            ]
           ],
           "sequential": [
            [
             0,
             "#0d0887"
            ],
            [
             0.1111111111111111,
             "#46039f"
            ],
            [
             0.2222222222222222,
             "#7201a8"
            ],
            [
             0.3333333333333333,
             "#9c179e"
            ],
            [
             0.4444444444444444,
             "#bd3786"
            ],
            [
             0.5555555555555556,
             "#d8576b"
            ],
            [
             0.6666666666666666,
             "#ed7953"
            ],
            [
             0.7777777777777778,
             "#fb9f3a"
            ],
            [
             0.8888888888888888,
             "#fdca26"
            ],
            [
             1,
             "#f0f921"
            ]
           ],
           "sequentialminus": [
            [
             0,
             "#0d0887"
            ],
            [
             0.1111111111111111,
             "#46039f"
            ],
            [
             0.2222222222222222,
             "#7201a8"
            ],
            [
             0.3333333333333333,
             "#9c179e"
            ],
            [
             0.4444444444444444,
             "#bd3786"
            ],
            [
             0.5555555555555556,
             "#d8576b"
            ],
            [
             0.6666666666666666,
             "#ed7953"
            ],
            [
             0.7777777777777778,
             "#fb9f3a"
            ],
            [
             0.8888888888888888,
             "#fdca26"
            ],
            [
             1,
             "#f0f921"
            ]
           ]
          },
          "colorway": [
           "#636efa",
           "#EF553B",
           "#00cc96",
           "#ab63fa",
           "#FFA15A",
           "#19d3f3",
           "#FF6692",
           "#B6E880",
           "#FF97FF",
           "#FECB52"
          ],
          "font": {
           "color": "#2a3f5f"
          },
          "geo": {
           "bgcolor": "white",
           "lakecolor": "white",
           "landcolor": "#E5ECF6",
           "showlakes": true,
           "showland": true,
           "subunitcolor": "white"
          },
          "hoverlabel": {
           "align": "left"
          },
          "hovermode": "closest",
          "mapbox": {
           "style": "light"
          },
          "paper_bgcolor": "white",
          "plot_bgcolor": "#E5ECF6",
          "polar": {
           "angularaxis": {
            "gridcolor": "white",
            "linecolor": "white",
            "ticks": ""
           },
           "bgcolor": "#E5ECF6",
           "radialaxis": {
            "gridcolor": "white",
            "linecolor": "white",
            "ticks": ""
           }
          },
          "scene": {
           "xaxis": {
            "backgroundcolor": "#E5ECF6",
            "gridcolor": "white",
            "gridwidth": 2,
            "linecolor": "white",
            "showbackground": true,
            "ticks": "",
            "zerolinecolor": "white"
           },
           "yaxis": {
            "backgroundcolor": "#E5ECF6",
            "gridcolor": "white",
            "gridwidth": 2,
            "linecolor": "white",
            "showbackground": true,
            "ticks": "",
            "zerolinecolor": "white"
           },
           "zaxis": {
            "backgroundcolor": "#E5ECF6",
            "gridcolor": "white",
            "gridwidth": 2,
            "linecolor": "white",
            "showbackground": true,
            "ticks": "",
            "zerolinecolor": "white"
           }
          },
          "shapedefaults": {
           "line": {
            "color": "#2a3f5f"
           }
          },
          "ternary": {
           "aaxis": {
            "gridcolor": "white",
            "linecolor": "white",
            "ticks": ""
           },
           "baxis": {
            "gridcolor": "white",
            "linecolor": "white",
            "ticks": ""
           },
           "bgcolor": "#E5ECF6",
           "caxis": {
            "gridcolor": "white",
            "linecolor": "white",
            "ticks": ""
           }
          },
          "title": {
           "x": 0.05
          },
          "xaxis": {
           "automargin": true,
           "gridcolor": "white",
           "linecolor": "white",
           "ticks": "",
           "title": {
            "standoff": 15
           },
           "zerolinecolor": "white",
           "zerolinewidth": 2
          },
          "yaxis": {
           "automargin": true,
           "gridcolor": "white",
           "linecolor": "white",
           "ticks": "",
           "title": {
            "standoff": 15
           },
           "zerolinecolor": "white",
           "zerolinewidth": 2
          }
         }
        },
        "title": {
         "font": {
          "color": "#4D5663"
         }
        },
        "xaxis": {
         "gridcolor": "#E1E5ED",
         "showgrid": true,
         "tickfont": {
          "color": "#4D5663"
         },
         "title": {
          "font": {
           "color": "#4D5663"
          },
          "text": ""
         },
         "zerolinecolor": "#E1E5ED"
        },
        "yaxis": {
         "gridcolor": "#E1E5ED",
         "showgrid": true,
         "tickfont": {
          "color": "#4D5663"
         },
         "title": {
          "font": {
           "color": "#4D5663"
          },
          "text": ""
         },
         "zerolinecolor": "#E1E5ED"
        }
       }
      },
      "text/html": [
       "<div>                            <div id=\"c566905a-380a-4afc-b116-5a66c1f50eaa\" class=\"plotly-graph-div\" style=\"height:525px; width:100%;\"></div>            <script type=\"text/javascript\">                require([\"plotly\"], function(Plotly) {                    window.PLOTLYENV=window.PLOTLYENV || {};\n",
       "                    window.PLOTLYENV.BASE_URL='https://plot.ly';                                    if (document.getElementById(\"c566905a-380a-4afc-b116-5a66c1f50eaa\")) {                    Plotly.newPlot(                        \"c566905a-380a-4afc-b116-5a66c1f50eaa\",                        [{\"colorscale\":[[0.0,\"rgb(165,0,38)\"],[0.1,\"rgb(215,48,39)\"],[0.2,\"rgb(244,109,67)\"],[0.3,\"rgb(253,174,97)\"],[0.4,\"rgb(254,224,144)\"],[0.5,\"rgb(255,255,191)\"],[0.6,\"rgb(224,243,248)\"],[0.7,\"rgb(171,217,233)\"],[0.8,\"rgb(116,173,209)\"],[0.9,\"rgb(69,117,180)\"],[1.0,\"rgb(49,54,149)\"]],\"x\":[0,1,2,3,4],\"y\":[\"x\",\"y\",\"z\"],\"z\":[[1,2,3,4,5],[10,20,30,20,10],[5,4,3,2,1]],\"type\":\"surface\"}],                        {\"legend\":{\"bgcolor\":\"#F5F6F9\",\"font\":{\"color\":\"#4D5663\"}},\"paper_bgcolor\":\"#F5F6F9\",\"plot_bgcolor\":\"#F5F6F9\",\"template\":{\"data\":{\"barpolar\":[{\"marker\":{\"line\":{\"color\":\"#E5ECF6\",\"width\":0.5},\"pattern\":{\"fillmode\":\"overlay\",\"size\":10,\"solidity\":0.2}},\"type\":\"barpolar\"}],\"bar\":[{\"error_x\":{\"color\":\"#2a3f5f\"},\"error_y\":{\"color\":\"#2a3f5f\"},\"marker\":{\"line\":{\"color\":\"#E5ECF6\",\"width\":0.5},\"pattern\":{\"fillmode\":\"overlay\",\"size\":10,\"solidity\":0.2}},\"type\":\"bar\"}],\"carpet\":[{\"aaxis\":{\"endlinecolor\":\"#2a3f5f\",\"gridcolor\":\"white\",\"linecolor\":\"white\",\"minorgridcolor\":\"white\",\"startlinecolor\":\"#2a3f5f\"},\"baxis\":{\"endlinecolor\":\"#2a3f5f\",\"gridcolor\":\"white\",\"linecolor\":\"white\",\"minorgridcolor\":\"white\",\"startlinecolor\":\"#2a3f5f\"},\"type\":\"carpet\"}],\"choropleth\":[{\"colorbar\":{\"outlinewidth\":0,\"ticks\":\"\"},\"type\":\"choropleth\"}],\"contourcarpet\":[{\"colorbar\":{\"outlinewidth\":0,\"ticks\":\"\"},\"type\":\"contourcarpet\"}],\"contour\":[{\"colorbar\":{\"outlinewidth\":0,\"ticks\":\"\"},\"colorscale\":[[0.0,\"#0d0887\"],[0.1111111111111111,\"#46039f\"],[0.2222222222222222,\"#7201a8\"],[0.3333333333333333,\"#9c179e\"],[0.4444444444444444,\"#bd3786\"],[0.5555555555555556,\"#d8576b\"],[0.6666666666666666,\"#ed7953\"],[0.7777777777777778,\"#fb9f3a\"],[0.8888888888888888,\"#fdca26\"],[1.0,\"#f0f921\"]],\"type\":\"contour\"}],\"heatmapgl\":[{\"colorbar\":{\"outlinewidth\":0,\"ticks\":\"\"},\"colorscale\":[[0.0,\"#0d0887\"],[0.1111111111111111,\"#46039f\"],[0.2222222222222222,\"#7201a8\"],[0.3333333333333333,\"#9c179e\"],[0.4444444444444444,\"#bd3786\"],[0.5555555555555556,\"#d8576b\"],[0.6666666666666666,\"#ed7953\"],[0.7777777777777778,\"#fb9f3a\"],[0.8888888888888888,\"#fdca26\"],[1.0,\"#f0f921\"]],\"type\":\"heatmapgl\"}],\"heatmap\":[{\"colorbar\":{\"outlinewidth\":0,\"ticks\":\"\"},\"colorscale\":[[0.0,\"#0d0887\"],[0.1111111111111111,\"#46039f\"],[0.2222222222222222,\"#7201a8\"],[0.3333333333333333,\"#9c179e\"],[0.4444444444444444,\"#bd3786\"],[0.5555555555555556,\"#d8576b\"],[0.6666666666666666,\"#ed7953\"],[0.7777777777777778,\"#fb9f3a\"],[0.8888888888888888,\"#fdca26\"],[1.0,\"#f0f921\"]],\"type\":\"heatmap\"}],\"histogram2dcontour\":[{\"colorbar\":{\"outlinewidth\":0,\"ticks\":\"\"},\"colorscale\":[[0.0,\"#0d0887\"],[0.1111111111111111,\"#46039f\"],[0.2222222222222222,\"#7201a8\"],[0.3333333333333333,\"#9c179e\"],[0.4444444444444444,\"#bd3786\"],[0.5555555555555556,\"#d8576b\"],[0.6666666666666666,\"#ed7953\"],[0.7777777777777778,\"#fb9f3a\"],[0.8888888888888888,\"#fdca26\"],[1.0,\"#f0f921\"]],\"type\":\"histogram2dcontour\"}],\"histogram2d\":[{\"colorbar\":{\"outlinewidth\":0,\"ticks\":\"\"},\"colorscale\":[[0.0,\"#0d0887\"],[0.1111111111111111,\"#46039f\"],[0.2222222222222222,\"#7201a8\"],[0.3333333333333333,\"#9c179e\"],[0.4444444444444444,\"#bd3786\"],[0.5555555555555556,\"#d8576b\"],[0.6666666666666666,\"#ed7953\"],[0.7777777777777778,\"#fb9f3a\"],[0.8888888888888888,\"#fdca26\"],[1.0,\"#f0f921\"]],\"type\":\"histogram2d\"}],\"histogram\":[{\"marker\":{\"pattern\":{\"fillmode\":\"overlay\",\"size\":10,\"solidity\":0.2}},\"type\":\"histogram\"}],\"mesh3d\":[{\"colorbar\":{\"outlinewidth\":0,\"ticks\":\"\"},\"type\":\"mesh3d\"}],\"parcoords\":[{\"line\":{\"colorbar\":{\"outlinewidth\":0,\"ticks\":\"\"}},\"type\":\"parcoords\"}],\"pie\":[{\"automargin\":true,\"type\":\"pie\"}],\"scatter3d\":[{\"line\":{\"colorbar\":{\"outlinewidth\":0,\"ticks\":\"\"}},\"marker\":{\"colorbar\":{\"outlinewidth\":0,\"ticks\":\"\"}},\"type\":\"scatter3d\"}],\"scattercarpet\":[{\"marker\":{\"colorbar\":{\"outlinewidth\":0,\"ticks\":\"\"}},\"type\":\"scattercarpet\"}],\"scattergeo\":[{\"marker\":{\"colorbar\":{\"outlinewidth\":0,\"ticks\":\"\"}},\"type\":\"scattergeo\"}],\"scattergl\":[{\"marker\":{\"colorbar\":{\"outlinewidth\":0,\"ticks\":\"\"}},\"type\":\"scattergl\"}],\"scattermapbox\":[{\"marker\":{\"colorbar\":{\"outlinewidth\":0,\"ticks\":\"\"}},\"type\":\"scattermapbox\"}],\"scatterpolargl\":[{\"marker\":{\"colorbar\":{\"outlinewidth\":0,\"ticks\":\"\"}},\"type\":\"scatterpolargl\"}],\"scatterpolar\":[{\"marker\":{\"colorbar\":{\"outlinewidth\":0,\"ticks\":\"\"}},\"type\":\"scatterpolar\"}],\"scatter\":[{\"fillpattern\":{\"fillmode\":\"overlay\",\"size\":10,\"solidity\":0.2},\"type\":\"scatter\"}],\"scatterternary\":[{\"marker\":{\"colorbar\":{\"outlinewidth\":0,\"ticks\":\"\"}},\"type\":\"scatterternary\"}],\"surface\":[{\"colorbar\":{\"outlinewidth\":0,\"ticks\":\"\"},\"colorscale\":[[0.0,\"#0d0887\"],[0.1111111111111111,\"#46039f\"],[0.2222222222222222,\"#7201a8\"],[0.3333333333333333,\"#9c179e\"],[0.4444444444444444,\"#bd3786\"],[0.5555555555555556,\"#d8576b\"],[0.6666666666666666,\"#ed7953\"],[0.7777777777777778,\"#fb9f3a\"],[0.8888888888888888,\"#fdca26\"],[1.0,\"#f0f921\"]],\"type\":\"surface\"}],\"table\":[{\"cells\":{\"fill\":{\"color\":\"#EBF0F8\"},\"line\":{\"color\":\"white\"}},\"header\":{\"fill\":{\"color\":\"#C8D4E3\"},\"line\":{\"color\":\"white\"}},\"type\":\"table\"}]},\"layout\":{\"annotationdefaults\":{\"arrowcolor\":\"#2a3f5f\",\"arrowhead\":0,\"arrowwidth\":1},\"autotypenumbers\":\"strict\",\"coloraxis\":{\"colorbar\":{\"outlinewidth\":0,\"ticks\":\"\"}},\"colorscale\":{\"diverging\":[[0,\"#8e0152\"],[0.1,\"#c51b7d\"],[0.2,\"#de77ae\"],[0.3,\"#f1b6da\"],[0.4,\"#fde0ef\"],[0.5,\"#f7f7f7\"],[0.6,\"#e6f5d0\"],[0.7,\"#b8e186\"],[0.8,\"#7fbc41\"],[0.9,\"#4d9221\"],[1,\"#276419\"]],\"sequential\":[[0.0,\"#0d0887\"],[0.1111111111111111,\"#46039f\"],[0.2222222222222222,\"#7201a8\"],[0.3333333333333333,\"#9c179e\"],[0.4444444444444444,\"#bd3786\"],[0.5555555555555556,\"#d8576b\"],[0.6666666666666666,\"#ed7953\"],[0.7777777777777778,\"#fb9f3a\"],[0.8888888888888888,\"#fdca26\"],[1.0,\"#f0f921\"]],\"sequentialminus\":[[0.0,\"#0d0887\"],[0.1111111111111111,\"#46039f\"],[0.2222222222222222,\"#7201a8\"],[0.3333333333333333,\"#9c179e\"],[0.4444444444444444,\"#bd3786\"],[0.5555555555555556,\"#d8576b\"],[0.6666666666666666,\"#ed7953\"],[0.7777777777777778,\"#fb9f3a\"],[0.8888888888888888,\"#fdca26\"],[1.0,\"#f0f921\"]]},\"colorway\":[\"#636efa\",\"#EF553B\",\"#00cc96\",\"#ab63fa\",\"#FFA15A\",\"#19d3f3\",\"#FF6692\",\"#B6E880\",\"#FF97FF\",\"#FECB52\"],\"font\":{\"color\":\"#2a3f5f\"},\"geo\":{\"bgcolor\":\"white\",\"lakecolor\":\"white\",\"landcolor\":\"#E5ECF6\",\"showlakes\":true,\"showland\":true,\"subunitcolor\":\"white\"},\"hoverlabel\":{\"align\":\"left\"},\"hovermode\":\"closest\",\"mapbox\":{\"style\":\"light\"},\"paper_bgcolor\":\"white\",\"plot_bgcolor\":\"#E5ECF6\",\"polar\":{\"angularaxis\":{\"gridcolor\":\"white\",\"linecolor\":\"white\",\"ticks\":\"\"},\"bgcolor\":\"#E5ECF6\",\"radialaxis\":{\"gridcolor\":\"white\",\"linecolor\":\"white\",\"ticks\":\"\"}},\"scene\":{\"xaxis\":{\"backgroundcolor\":\"#E5ECF6\",\"gridcolor\":\"white\",\"gridwidth\":2,\"linecolor\":\"white\",\"showbackground\":true,\"ticks\":\"\",\"zerolinecolor\":\"white\"},\"yaxis\":{\"backgroundcolor\":\"#E5ECF6\",\"gridcolor\":\"white\",\"gridwidth\":2,\"linecolor\":\"white\",\"showbackground\":true,\"ticks\":\"\",\"zerolinecolor\":\"white\"},\"zaxis\":{\"backgroundcolor\":\"#E5ECF6\",\"gridcolor\":\"white\",\"gridwidth\":2,\"linecolor\":\"white\",\"showbackground\":true,\"ticks\":\"\",\"zerolinecolor\":\"white\"}},\"shapedefaults\":{\"line\":{\"color\":\"#2a3f5f\"}},\"ternary\":{\"aaxis\":{\"gridcolor\":\"white\",\"linecolor\":\"white\",\"ticks\":\"\"},\"baxis\":{\"gridcolor\":\"white\",\"linecolor\":\"white\",\"ticks\":\"\"},\"bgcolor\":\"#E5ECF6\",\"caxis\":{\"gridcolor\":\"white\",\"linecolor\":\"white\",\"ticks\":\"\"}},\"title\":{\"x\":0.05},\"xaxis\":{\"automargin\":true,\"gridcolor\":\"white\",\"linecolor\":\"white\",\"ticks\":\"\",\"title\":{\"standoff\":15},\"zerolinecolor\":\"white\",\"zerolinewidth\":2},\"yaxis\":{\"automargin\":true,\"gridcolor\":\"white\",\"linecolor\":\"white\",\"ticks\":\"\",\"title\":{\"standoff\":15},\"zerolinecolor\":\"white\",\"zerolinewidth\":2}}},\"title\":{\"font\":{\"color\":\"#4D5663\"}},\"xaxis\":{\"gridcolor\":\"#E1E5ED\",\"showgrid\":true,\"tickfont\":{\"color\":\"#4D5663\"},\"title\":{\"font\":{\"color\":\"#4D5663\"},\"text\":\"\"},\"zerolinecolor\":\"#E1E5ED\"},\"yaxis\":{\"gridcolor\":\"#E1E5ED\",\"showgrid\":true,\"tickfont\":{\"color\":\"#4D5663\"},\"title\":{\"font\":{\"color\":\"#4D5663\"},\"text\":\"\"},\"zerolinecolor\":\"#E1E5ED\"}},                        {\"showLink\": true, \"linkText\": \"Export to plot.ly\", \"plotlyServerURL\": \"https://plot.ly\", \"responsive\": true}                    ).then(function(){\n",
       "                            \n",
       "var gd = document.getElementById('c566905a-380a-4afc-b116-5a66c1f50eaa');\n",
       "var x = new MutationObserver(function (mutations, observer) {{\n",
       "        var display = window.getComputedStyle(gd).display;\n",
       "        if (!display || display === 'none') {{\n",
       "            console.log([gd, 'removed!']);\n",
       "            Plotly.purge(gd);\n",
       "            observer.disconnect();\n",
       "        }}\n",
       "}});\n",
       "\n",
       "// Listen for the removal of the full notebook cells\n",
       "var notebookContainer = gd.closest('#notebook-container');\n",
       "if (notebookContainer) {{\n",
       "    x.observe(notebookContainer, {childList: true});\n",
       "}}\n",
       "\n",
       "// Listen for the clearing of the current output cell\n",
       "var outputEl = gd.closest('.output');\n",
       "if (outputEl) {{\n",
       "    x.observe(outputEl, {childList: true});\n",
       "}}\n",
       "\n",
       "                        })                };                });            </script>        </div>"
      ]
     },
     "metadata": {},
     "output_type": "display_data"
    }
   ],
   "source": [
    "df3 = pd.DataFrame({'x':[1,2,3,4,5],'y':[10,20,30,20,10],'z':[5,4,3,2,1]})\n",
    "df3.iplot(kind='surface',colorscale='rdylbu')"
   ]
  },
  {
   "cell_type": "code",
   "execution_count": 20,
   "metadata": {},
   "outputs": [
    {
     "data": {
      "application/vnd.plotly.v1+json": {
       "config": {
        "linkText": "Export to plot.ly",
        "plotlyServerURL": "https://plot.ly",
        "showLink": true
       },
       "data": [
        {
         "line": {
          "color": "rgba(255, 153, 51, 1.0)",
          "dash": "solid",
          "shape": "linear",
          "width": 1.3
         },
         "mode": "lines",
         "name": "A",
         "text": "",
         "type": "scatter",
         "x": [
          0,
          1,
          2,
          3,
          4,
          5,
          6,
          7,
          8,
          9,
          10,
          11,
          12,
          13,
          14,
          15,
          16,
          17,
          18,
          19,
          20,
          21,
          22,
          23,
          24,
          25,
          26,
          27,
          28,
          29,
          30,
          31,
          32,
          33,
          34,
          35,
          36,
          37,
          38,
          39,
          40,
          41,
          42,
          43,
          44,
          45,
          46,
          47,
          48,
          49,
          50,
          51,
          52,
          53,
          54,
          55,
          56,
          57,
          58,
          59,
          60,
          61,
          62,
          63,
          64,
          65,
          66,
          67,
          68,
          69,
          70,
          71,
          72,
          73,
          74,
          75,
          76,
          77,
          78,
          79,
          80,
          81,
          82,
          83,
          84,
          85,
          86,
          87,
          88,
          89,
          90,
          91,
          92,
          93,
          94,
          95,
          96,
          97,
          98,
          99
         ],
         "y": [
          -1.9155992047694723,
          -0.4481315159572726,
          -0.11667812727294494,
          -0.47405025229684344,
          0.5746676894222532,
          -1.5551821928115497,
          -1.072363124361193,
          1.2249086267193,
          -3.3367698414674267,
          -1.011489626579287,
          0.6314459569116476,
          0.08220392031662183,
          -1.491849155089903,
          -2.6826923465190182,
          -1.406142682152996,
          -0.09669026493158919,
          0.6255108134307167,
          -0.8998558810491614,
          -0.2756313164584835,
          0.3713126358915743,
          -0.14945511870764175,
          -2.7250214453982338,
          -0.497935347176919,
          -0.7794784042791113,
          -0.30309488487554737,
          -0.7033732528019522,
          0.07862498827643226,
          -0.49979720991996174,
          -0.6002810486693904,
          0.718931878030546,
          0.2590887953878619,
          0.9060597459809786,
          -0.4190053741867893,
          -0.674433060377967,
          0.10545055429225647,
          1.2703935062900036,
          0.08983878160980747,
          0.6570432262514,
          -1.0176071028493356,
          0.6749140899996501,
          0.08417298484397781,
          0.8001476730499851,
          -0.12399513898835102,
          0.6274206095826046,
          -1.318877425164554,
          0.8164515931433367,
          0.09393732573798273,
          1.1206004281742687,
          0.8579900755978948,
          0.14911973244187204,
          0.9711897159096959,
          0.15869343459827023,
          0.20449045179987363,
          -1.6562183779368844,
          -0.9608076241416532,
          1.7727570332597742,
          -0.4457864515536005,
          0.4733263459830899,
          -0.1111431812706696,
          -0.6308516353493814,
          -1.5083286013649613,
          -1.8184170618133393,
          -1.577160446581665,
          -1.3084496737397215,
          0.29394673420640693,
          -0.21034035618984062,
          0.22395410087307033,
          0.5071818648650146,
          -1.4180404163946694,
          -0.21388614142527063,
          -0.7728099669727144,
          0.45279731788305944,
          -1.176389429494858,
          1.537074281671399,
          -1.0673529889078999,
          -1.1894210145045987,
          -1.5454669283459765,
          0.30364289543227707,
          -0.2762977037815814,
          1.7831332501465116,
          0.9826029558353301,
          -1.002098401486566,
          -0.16731691773009688,
          1.176134221963469,
          0.3460648331901014,
          -0.32043219503556436,
          -0.3782163252372253,
          0.9571278359770741,
          -0.057274155370753116,
          0.32731766282935837,
          -0.30977457949724585,
          -0.9355114325341685,
          -1.8964276157738422,
          0.2929666305481281,
          -0.7261109260232375,
          -0.5620284230807836,
          0.29595542033167244,
          -1.6709671363176706,
          0.7262858567454336,
          -0.564607728302298
         ]
        },
        {
         "line": {
          "color": "rgba(55, 128, 191, 1.0)",
          "dash": "solid",
          "shape": "linear",
          "width": 1.3
         },
         "mode": "lines",
         "name": "B",
         "text": "",
         "type": "scatter",
         "x": [
          0,
          1,
          2,
          3,
          4,
          5,
          6,
          7,
          8,
          9,
          10,
          11,
          12,
          13,
          14,
          15,
          16,
          17,
          18,
          19,
          20,
          21,
          22,
          23,
          24,
          25,
          26,
          27,
          28,
          29,
          30,
          31,
          32,
          33,
          34,
          35,
          36,
          37,
          38,
          39,
          40,
          41,
          42,
          43,
          44,
          45,
          46,
          47,
          48,
          49,
          50,
          51,
          52,
          53,
          54,
          55,
          56,
          57,
          58,
          59,
          60,
          61,
          62,
          63,
          64,
          65,
          66,
          67,
          68,
          69,
          70,
          71,
          72,
          73,
          74,
          75,
          76,
          77,
          78,
          79,
          80,
          81,
          82,
          83,
          84,
          85,
          86,
          87,
          88,
          89,
          90,
          91,
          92,
          93,
          94,
          95,
          96,
          97,
          98,
          99
         ],
         "y": [
          0.25012653811443325,
          -0.31263602491902226,
          0.46854191390985994,
          0.3495550634187599,
          1.2779608573542152,
          -0.7195686267733024,
          -0.05377556286345402,
          0.8860961885150416,
          -0.35659558561108556,
          -0.5412418799364572,
          -1.0538607706754788,
          -1.4357015266467925,
          -1.4440825388729484,
          -0.4601463702775817,
          1.0525558771197012,
          -0.6384012471936885,
          -0.3984075707720691,
          0.3217992513734411,
          0.717847534780858,
          0.14786313583922234,
          -0.08921894414927768,
          -0.026447486752192863,
          -0.41781749828547704,
          -0.4258553164011774,
          -0.691041627506832,
          0.2725451758149655,
          1.2146505715089757,
          -0.7164863916632876,
          0.39324350968810945,
          -0.30946916784496414,
          -0.27145136523819957,
          0.6679457848678415,
          -0.07142770435308705,
          0.704443166579191,
          2.157895083594788,
          0.6170696338034954,
          -0.13662952222954544,
          -0.290866965366531,
          -0.4155089124480595,
          -0.15309402200095784,
          1.5221394507416537,
          -1.6249467620767861,
          -0.6965471964753526,
          0.182517283224261,
          0.23350357359802568,
          1.1453466340351426,
          -0.3686827311467193,
          1.957928012194116,
          0.4071672052678087,
          0.58680361903923,
          -0.8828982087450967,
          0.4129260132199946,
          0.6441433598373917,
          0.33372085287296577,
          0.3114578540673428,
          0.30273197459055706,
          -0.0672794267265068,
          0.7311115271348104,
          -1.4610688565261025,
          -1.3620418033258774,
          -1.1749042013895534,
          0.2569253531988617,
          0.3132234789055193,
          -0.4939070459441881,
          -0.38233997444376466,
          -0.8341518456265357,
          -2.275739432967845,
          -1.5981719266949375,
          1.4764816496356954,
          1.2582757204570383,
          -0.4430532726331741,
          -0.21808790791840466,
          -0.2523685759128763,
          -0.600478802244115,
          0.15220587659129273,
          -1.6586124610802093,
          -1.3433717204993254,
          0.9523056125989408,
          -1.9154009199738649,
          -1.3386543561881108,
          -0.8149176443027241,
          0.6388800450354669,
          0.030844994128891724,
          -1.986446346965538,
          -0.22630015828997926,
          -0.27117120976532544,
          -1.176124215365589,
          0.4534877231166138,
          0.1678182902848415,
          0.5552876540147228,
          -0.00964539990285035,
          1.2041724538233955,
          0.024983048147564843,
          0.03429775948556624,
          1.346683258563046,
          0.9870398426730453,
          -0.5747651397935243,
          -1.8469381178596094,
          0.751357199127522,
          0.38951470541379307
         ]
        },
        {
         "connectgaps": false,
         "fill": "tozeroy",
         "line": {
          "color": "green",
          "dash": "solid",
          "shape": "linear",
          "width": 0.5
         },
         "mode": "lines",
         "name": "Spread",
         "showlegend": false,
         "type": "scatter",
         "x": [
          0,
          1,
          2,
          3,
          4,
          5,
          6,
          7,
          8,
          9,
          10,
          11,
          12,
          13,
          14,
          15,
          16,
          17,
          18,
          19,
          20,
          21,
          22,
          23,
          24,
          25,
          26,
          27,
          28,
          29,
          30,
          31,
          32,
          33,
          34,
          35,
          36,
          37,
          38,
          39,
          40,
          41,
          42,
          43,
          44,
          45,
          46,
          47,
          48,
          49,
          50,
          51,
          52,
          53,
          54,
          55,
          56,
          57,
          58,
          59,
          60,
          61,
          62,
          63,
          64,
          65,
          66,
          67,
          68,
          69,
          70,
          71,
          72,
          73,
          74,
          75,
          76,
          77,
          78,
          79,
          80,
          81,
          82,
          83,
          84,
          85,
          86,
          87,
          88,
          89,
          90,
          91,
          92,
          93,
          94,
          95,
          96,
          97,
          98,
          99
         ],
         "xaxis": "x2",
         "y": [
          "",
          "",
          "",
          "",
          "",
          "",
          "",
          0.3388124382042583,
          "",
          "",
          1.6853067275871263,
          1.5179054469634143,
          "",
          "",
          "",
          0.5417109822620993,
          1.0239183842027857,
          "",
          "",
          0.22344950005235198,
          "",
          "",
          "",
          "",
          0.3879467426312846,
          "",
          "",
          0.2166891817433259,
          "",
          1.0284010458755102,
          0.5305401606260615,
          0.2381139611131371,
          "",
          "",
          "",
          0.6533238724865081,
          0.2264683038393529,
          0.947910191617931,
          "",
          0.828008112000608,
          "",
          2.425094435126771,
          0.5725520574870016,
          0.4449033263583436,
          "",
          "",
          0.46262005688470204,
          "",
          0.45082287033008606,
          "",
          1.8540879246547926,
          "",
          "",
          "",
          "",
          1.4700250586692172,
          "",
          "",
          1.349925675255433,
          0.731190167976496,
          "",
          "",
          "",
          "",
          0.6762867086501716,
          0.6238114894366951,
          2.499693533840915,
          2.105353791559952,
          "",
          "",
          "",
          0.6708852258014641,
          "",
          2.137553083915514,
          "",
          0.4691914465756106,
          "",
          "",
          1.6391032161922834,
          3.1217876063346224,
          1.7975206001380541,
          "",
          "",
          3.162580568929007,
          0.5723649914800807,
          "",
          0.7979078901283638,
          0.5036401128604603,
          "",
          "",
          "",
          "",
          "",
          0.25866887106256187,
          "",
          "",
          0.8707205601251967,
          0.1759709815419388,
          "",
          ""
         ],
         "yaxis": "y2"
        },
        {
         "connectgaps": false,
         "fill": "tozeroy",
         "line": {
          "color": "red",
          "dash": "solid",
          "shape": "linear",
          "width": 0.5
         },
         "mode": "lines",
         "name": "Spread",
         "showlegend": false,
         "type": "scatter",
         "x": [
          0,
          1,
          2,
          3,
          4,
          5,
          6,
          7,
          8,
          9,
          10,
          11,
          12,
          13,
          14,
          15,
          16,
          17,
          18,
          19,
          20,
          21,
          22,
          23,
          24,
          25,
          26,
          27,
          28,
          29,
          30,
          31,
          32,
          33,
          34,
          35,
          36,
          37,
          38,
          39,
          40,
          41,
          42,
          43,
          44,
          45,
          46,
          47,
          48,
          49,
          50,
          51,
          52,
          53,
          54,
          55,
          56,
          57,
          58,
          59,
          60,
          61,
          62,
          63,
          64,
          65,
          66,
          67,
          68,
          69,
          70,
          71,
          72,
          73,
          74,
          75,
          76,
          77,
          78,
          79,
          80,
          81,
          82,
          83,
          84,
          85,
          86,
          87,
          88,
          89,
          90,
          91,
          92,
          93,
          94,
          95,
          96,
          97,
          98,
          99
         ],
         "xaxis": "x2",
         "y": [
          -2.1657257428839056,
          -0.13549549103825032,
          -0.5852200411828049,
          -0.8236053157156034,
          -0.703293167931962,
          -0.8356135660382473,
          -1.018587561497739,
          "",
          -2.9801742558563413,
          -0.47024774664282976,
          "",
          "",
          -0.04776661621695455,
          -2.2225459762414363,
          -2.4586985592726975,
          "",
          "",
          -1.2216551324226024,
          -0.9934788512393415,
          "",
          -0.06023617455836407,
          -2.698573958646041,
          -0.08011784889144197,
          -0.3536230878779339,
          "",
          -0.9759184286169177,
          -1.1360255832325434,
          "",
          -0.9935245583574999,
          "",
          "",
          "",
          -0.34757766983370225,
          -1.378876226957158,
          -2.0524445293025315,
          "",
          "",
          "",
          -0.6020981904012761,
          "",
          -1.4379664658976758,
          "",
          "",
          "",
          -1.5523809987625798,
          -0.3288950408918059,
          "",
          -0.8373275840198473,
          "",
          -0.4376838865973579,
          "",
          -0.2542325786217244,
          -0.43965290803751805,
          -1.9899392308098502,
          -1.272265478208996,
          "",
          -0.37850702482709375,
          -0.2577851811517205,
          "",
          "",
          -0.33342439997540785,
          -2.075342415012201,
          -1.8903839254871844,
          -0.8145426277955334,
          "",
          "",
          "",
          "",
          -2.8945220660303645,
          -1.472161861882309,
          -0.3297566943395403,
          "",
          -0.9240208535819817,
          "",
          -1.2195588654991927,
          "",
          -0.20209520784665114,
          -0.6486627171666637,
          "",
          "",
          "",
          -1.6409784465220327,
          -0.1981619118589886,
          "",
          "",
          -0.04926098527023892,
          "",
          "",
          -0.2250924456555946,
          -0.22796999118536443,
          -0.3001291795943955,
          -2.139683886357564,
          -1.921410663921407,
          "",
          -2.072794184586283,
          -1.5490682657538288,
          "",
          "",
          -0.025071342382088413,
          -0.9541224337160911
         ],
         "yaxis": "y2"
        }
       ],
       "layout": {
        "hovermode": "x",
        "legend": {
         "bgcolor": "#F5F6F9",
         "font": {
          "color": "#4D5663"
         }
        },
        "paper_bgcolor": "#F5F6F9",
        "plot_bgcolor": "#F5F6F9",
        "template": {
         "data": {
          "bar": [
           {
            "error_x": {
             "color": "#2a3f5f"
            },
            "error_y": {
             "color": "#2a3f5f"
            },
            "marker": {
             "line": {
              "color": "#E5ECF6",
              "width": 0.5
             },
             "pattern": {
              "fillmode": "overlay",
              "size": 10,
              "solidity": 0.2
             }
            },
            "type": "bar"
           }
          ],
          "barpolar": [
           {
            "marker": {
             "line": {
              "color": "#E5ECF6",
              "width": 0.5
             },
             "pattern": {
              "fillmode": "overlay",
              "size": 10,
              "solidity": 0.2
             }
            },
            "type": "barpolar"
           }
          ],
          "carpet": [
           {
            "aaxis": {
             "endlinecolor": "#2a3f5f",
             "gridcolor": "white",
             "linecolor": "white",
             "minorgridcolor": "white",
             "startlinecolor": "#2a3f5f"
            },
            "baxis": {
             "endlinecolor": "#2a3f5f",
             "gridcolor": "white",
             "linecolor": "white",
             "minorgridcolor": "white",
             "startlinecolor": "#2a3f5f"
            },
            "type": "carpet"
           }
          ],
          "choropleth": [
           {
            "colorbar": {
             "outlinewidth": 0,
             "ticks": ""
            },
            "type": "choropleth"
           }
          ],
          "contour": [
           {
            "colorbar": {
             "outlinewidth": 0,
             "ticks": ""
            },
            "colorscale": [
             [
              0,
              "#0d0887"
             ],
             [
              0.1111111111111111,
              "#46039f"
             ],
             [
              0.2222222222222222,
              "#7201a8"
             ],
             [
              0.3333333333333333,
              "#9c179e"
             ],
             [
              0.4444444444444444,
              "#bd3786"
             ],
             [
              0.5555555555555556,
              "#d8576b"
             ],
             [
              0.6666666666666666,
              "#ed7953"
             ],
             [
              0.7777777777777778,
              "#fb9f3a"
             ],
             [
              0.8888888888888888,
              "#fdca26"
             ],
             [
              1,
              "#f0f921"
             ]
            ],
            "type": "contour"
           }
          ],
          "contourcarpet": [
           {
            "colorbar": {
             "outlinewidth": 0,
             "ticks": ""
            },
            "type": "contourcarpet"
           }
          ],
          "heatmap": [
           {
            "colorbar": {
             "outlinewidth": 0,
             "ticks": ""
            },
            "colorscale": [
             [
              0,
              "#0d0887"
             ],
             [
              0.1111111111111111,
              "#46039f"
             ],
             [
              0.2222222222222222,
              "#7201a8"
             ],
             [
              0.3333333333333333,
              "#9c179e"
             ],
             [
              0.4444444444444444,
              "#bd3786"
             ],
             [
              0.5555555555555556,
              "#d8576b"
             ],
             [
              0.6666666666666666,
              "#ed7953"
             ],
             [
              0.7777777777777778,
              "#fb9f3a"
             ],
             [
              0.8888888888888888,
              "#fdca26"
             ],
             [
              1,
              "#f0f921"
             ]
            ],
            "type": "heatmap"
           }
          ],
          "heatmapgl": [
           {
            "colorbar": {
             "outlinewidth": 0,
             "ticks": ""
            },
            "colorscale": [
             [
              0,
              "#0d0887"
             ],
             [
              0.1111111111111111,
              "#46039f"
             ],
             [
              0.2222222222222222,
              "#7201a8"
             ],
             [
              0.3333333333333333,
              "#9c179e"
             ],
             [
              0.4444444444444444,
              "#bd3786"
             ],
             [
              0.5555555555555556,
              "#d8576b"
             ],
             [
              0.6666666666666666,
              "#ed7953"
             ],
             [
              0.7777777777777778,
              "#fb9f3a"
             ],
             [
              0.8888888888888888,
              "#fdca26"
             ],
             [
              1,
              "#f0f921"
             ]
            ],
            "type": "heatmapgl"
           }
          ],
          "histogram": [
           {
            "marker": {
             "pattern": {
              "fillmode": "overlay",
              "size": 10,
              "solidity": 0.2
             }
            },
            "type": "histogram"
           }
          ],
          "histogram2d": [
           {
            "colorbar": {
             "outlinewidth": 0,
             "ticks": ""
            },
            "colorscale": [
             [
              0,
              "#0d0887"
             ],
             [
              0.1111111111111111,
              "#46039f"
             ],
             [
              0.2222222222222222,
              "#7201a8"
             ],
             [
              0.3333333333333333,
              "#9c179e"
             ],
             [
              0.4444444444444444,
              "#bd3786"
             ],
             [
              0.5555555555555556,
              "#d8576b"
             ],
             [
              0.6666666666666666,
              "#ed7953"
             ],
             [
              0.7777777777777778,
              "#fb9f3a"
             ],
             [
              0.8888888888888888,
              "#fdca26"
             ],
             [
              1,
              "#f0f921"
             ]
            ],
            "type": "histogram2d"
           }
          ],
          "histogram2dcontour": [
           {
            "colorbar": {
             "outlinewidth": 0,
             "ticks": ""
            },
            "colorscale": [
             [
              0,
              "#0d0887"
             ],
             [
              0.1111111111111111,
              "#46039f"
             ],
             [
              0.2222222222222222,
              "#7201a8"
             ],
             [
              0.3333333333333333,
              "#9c179e"
             ],
             [
              0.4444444444444444,
              "#bd3786"
             ],
             [
              0.5555555555555556,
              "#d8576b"
             ],
             [
              0.6666666666666666,
              "#ed7953"
             ],
             [
              0.7777777777777778,
              "#fb9f3a"
             ],
             [
              0.8888888888888888,
              "#fdca26"
             ],
             [
              1,
              "#f0f921"
             ]
            ],
            "type": "histogram2dcontour"
           }
          ],
          "mesh3d": [
           {
            "colorbar": {
             "outlinewidth": 0,
             "ticks": ""
            },
            "type": "mesh3d"
           }
          ],
          "parcoords": [
           {
            "line": {
             "colorbar": {
              "outlinewidth": 0,
              "ticks": ""
             }
            },
            "type": "parcoords"
           }
          ],
          "pie": [
           {
            "automargin": true,
            "type": "pie"
           }
          ],
          "scatter": [
           {
            "fillpattern": {
             "fillmode": "overlay",
             "size": 10,
             "solidity": 0.2
            },
            "type": "scatter"
           }
          ],
          "scatter3d": [
           {
            "line": {
             "colorbar": {
              "outlinewidth": 0,
              "ticks": ""
             }
            },
            "marker": {
             "colorbar": {
              "outlinewidth": 0,
              "ticks": ""
             }
            },
            "type": "scatter3d"
           }
          ],
          "scattercarpet": [
           {
            "marker": {
             "colorbar": {
              "outlinewidth": 0,
              "ticks": ""
             }
            },
            "type": "scattercarpet"
           }
          ],
          "scattergeo": [
           {
            "marker": {
             "colorbar": {
              "outlinewidth": 0,
              "ticks": ""
             }
            },
            "type": "scattergeo"
           }
          ],
          "scattergl": [
           {
            "marker": {
             "colorbar": {
              "outlinewidth": 0,
              "ticks": ""
             }
            },
            "type": "scattergl"
           }
          ],
          "scattermapbox": [
           {
            "marker": {
             "colorbar": {
              "outlinewidth": 0,
              "ticks": ""
             }
            },
            "type": "scattermapbox"
           }
          ],
          "scatterpolar": [
           {
            "marker": {
             "colorbar": {
              "outlinewidth": 0,
              "ticks": ""
             }
            },
            "type": "scatterpolar"
           }
          ],
          "scatterpolargl": [
           {
            "marker": {
             "colorbar": {
              "outlinewidth": 0,
              "ticks": ""
             }
            },
            "type": "scatterpolargl"
           }
          ],
          "scatterternary": [
           {
            "marker": {
             "colorbar": {
              "outlinewidth": 0,
              "ticks": ""
             }
            },
            "type": "scatterternary"
           }
          ],
          "surface": [
           {
            "colorbar": {
             "outlinewidth": 0,
             "ticks": ""
            },
            "colorscale": [
             [
              0,
              "#0d0887"
             ],
             [
              0.1111111111111111,
              "#46039f"
             ],
             [
              0.2222222222222222,
              "#7201a8"
             ],
             [
              0.3333333333333333,
              "#9c179e"
             ],
             [
              0.4444444444444444,
              "#bd3786"
             ],
             [
              0.5555555555555556,
              "#d8576b"
             ],
             [
              0.6666666666666666,
              "#ed7953"
             ],
             [
              0.7777777777777778,
              "#fb9f3a"
             ],
             [
              0.8888888888888888,
              "#fdca26"
             ],
             [
              1,
              "#f0f921"
             ]
            ],
            "type": "surface"
           }
          ],
          "table": [
           {
            "cells": {
             "fill": {
              "color": "#EBF0F8"
             },
             "line": {
              "color": "white"
             }
            },
            "header": {
             "fill": {
              "color": "#C8D4E3"
             },
             "line": {
              "color": "white"
             }
            },
            "type": "table"
           }
          ]
         },
         "layout": {
          "annotationdefaults": {
           "arrowcolor": "#2a3f5f",
           "arrowhead": 0,
           "arrowwidth": 1
          },
          "autotypenumbers": "strict",
          "coloraxis": {
           "colorbar": {
            "outlinewidth": 0,
            "ticks": ""
           }
          },
          "colorscale": {
           "diverging": [
            [
             0,
             "#8e0152"
            ],
            [
             0.1,
             "#c51b7d"
            ],
            [
             0.2,
             "#de77ae"
            ],
            [
             0.3,
             "#f1b6da"
            ],
            [
             0.4,
             "#fde0ef"
            ],
            [
             0.5,
             "#f7f7f7"
            ],
            [
             0.6,
             "#e6f5d0"
            ],
            [
             0.7,
             "#b8e186"
            ],
            [
             0.8,
             "#7fbc41"
            ],
            [
             0.9,
             "#4d9221"
            ],
            [
             1,
             "#276419"
            ]
           ],
           "sequential": [
            [
             0,
             "#0d0887"
            ],
            [
             0.1111111111111111,
             "#46039f"
            ],
            [
             0.2222222222222222,
             "#7201a8"
            ],
            [
             0.3333333333333333,
             "#9c179e"
            ],
            [
             0.4444444444444444,
             "#bd3786"
            ],
            [
             0.5555555555555556,
             "#d8576b"
            ],
            [
             0.6666666666666666,
             "#ed7953"
            ],
            [
             0.7777777777777778,
             "#fb9f3a"
            ],
            [
             0.8888888888888888,
             "#fdca26"
            ],
            [
             1,
             "#f0f921"
            ]
           ],
           "sequentialminus": [
            [
             0,
             "#0d0887"
            ],
            [
             0.1111111111111111,
             "#46039f"
            ],
            [
             0.2222222222222222,
             "#7201a8"
            ],
            [
             0.3333333333333333,
             "#9c179e"
            ],
            [
             0.4444444444444444,
             "#bd3786"
            ],
            [
             0.5555555555555556,
             "#d8576b"
            ],
            [
             0.6666666666666666,
             "#ed7953"
            ],
            [
             0.7777777777777778,
             "#fb9f3a"
            ],
            [
             0.8888888888888888,
             "#fdca26"
            ],
            [
             1,
             "#f0f921"
            ]
           ]
          },
          "colorway": [
           "#636efa",
           "#EF553B",
           "#00cc96",
           "#ab63fa",
           "#FFA15A",
           "#19d3f3",
           "#FF6692",
           "#B6E880",
           "#FF97FF",
           "#FECB52"
          ],
          "font": {
           "color": "#2a3f5f"
          },
          "geo": {
           "bgcolor": "white",
           "lakecolor": "white",
           "landcolor": "#E5ECF6",
           "showlakes": true,
           "showland": true,
           "subunitcolor": "white"
          },
          "hoverlabel": {
           "align": "left"
          },
          "hovermode": "closest",
          "mapbox": {
           "style": "light"
          },
          "paper_bgcolor": "white",
          "plot_bgcolor": "#E5ECF6",
          "polar": {
           "angularaxis": {
            "gridcolor": "white",
            "linecolor": "white",
            "ticks": ""
           },
           "bgcolor": "#E5ECF6",
           "radialaxis": {
            "gridcolor": "white",
            "linecolor": "white",
            "ticks": ""
           }
          },
          "scene": {
           "xaxis": {
            "backgroundcolor": "#E5ECF6",
            "gridcolor": "white",
            "gridwidth": 2,
            "linecolor": "white",
            "showbackground": true,
            "ticks": "",
            "zerolinecolor": "white"
           },
           "yaxis": {
            "backgroundcolor": "#E5ECF6",
            "gridcolor": "white",
            "gridwidth": 2,
            "linecolor": "white",
            "showbackground": true,
            "ticks": "",
            "zerolinecolor": "white"
           },
           "zaxis": {
            "backgroundcolor": "#E5ECF6",
            "gridcolor": "white",
            "gridwidth": 2,
            "linecolor": "white",
            "showbackground": true,
            "ticks": "",
            "zerolinecolor": "white"
           }
          },
          "shapedefaults": {
           "line": {
            "color": "#2a3f5f"
           }
          },
          "ternary": {
           "aaxis": {
            "gridcolor": "white",
            "linecolor": "white",
            "ticks": ""
           },
           "baxis": {
            "gridcolor": "white",
            "linecolor": "white",
            "ticks": ""
           },
           "bgcolor": "#E5ECF6",
           "caxis": {
            "gridcolor": "white",
            "linecolor": "white",
            "ticks": ""
           }
          },
          "title": {
           "x": 0.05
          },
          "xaxis": {
           "automargin": true,
           "gridcolor": "white",
           "linecolor": "white",
           "ticks": "",
           "title": {
            "standoff": 15
           },
           "zerolinecolor": "white",
           "zerolinewidth": 2
          },
          "yaxis": {
           "automargin": true,
           "gridcolor": "white",
           "linecolor": "white",
           "ticks": "",
           "title": {
            "standoff": 15
           },
           "zerolinecolor": "white",
           "zerolinewidth": 2
          }
         }
        },
        "title": {
         "font": {
          "color": "#4D5663"
         }
        },
        "xaxis": {
         "gridcolor": "#E1E5ED",
         "showgrid": true,
         "tickfont": {
          "color": "#4D5663"
         },
         "title": {
          "font": {
           "color": "#4D5663"
          },
          "text": ""
         },
         "zerolinecolor": "#E1E5ED"
        },
        "xaxis2": {
         "anchor": "y2",
         "gridcolor": "#E1E5ED",
         "showgrid": true,
         "showticklabels": false,
         "tickfont": {
          "color": "#4D5663"
         },
         "title": {
          "font": {
           "color": "#4D5663"
          },
          "text": ""
         },
         "zerolinecolor": "#E1E5ED"
        },
        "yaxis": {
         "domain": [
          0.3,
          1
         ],
         "gridcolor": "#E1E5ED",
         "showgrid": true,
         "tickfont": {
          "color": "#4D5663"
         },
         "title": {
          "font": {
           "color": "#4D5663"
          },
          "text": ""
         },
         "zerolinecolor": "#E1E5ED"
        },
        "yaxis2": {
         "domain": [
          0,
          0.25
         ],
         "gridcolor": "#E1E5ED",
         "showgrid": true,
         "tickfont": {
          "color": "#4D5663"
         },
         "title": {
          "font": {
           "color": "#4D5663"
          },
          "text": "Spread"
         },
         "zerolinecolor": "#E1E5ED"
        }
       }
      },
      "text/html": [
       "<div>                            <div id=\"1a4e2062-7701-4b83-8bfc-963cebb6413a\" class=\"plotly-graph-div\" style=\"height:525px; width:100%;\"></div>            <script type=\"text/javascript\">                require([\"plotly\"], function(Plotly) {                    window.PLOTLYENV=window.PLOTLYENV || {};\n",
       "                    window.PLOTLYENV.BASE_URL='https://plot.ly';                                    if (document.getElementById(\"1a4e2062-7701-4b83-8bfc-963cebb6413a\")) {                    Plotly.newPlot(                        \"1a4e2062-7701-4b83-8bfc-963cebb6413a\",                        [{\"line\":{\"color\":\"rgba(255, 153, 51, 1.0)\",\"dash\":\"solid\",\"shape\":\"linear\",\"width\":1.3},\"mode\":\"lines\",\"name\":\"A\",\"text\":\"\",\"x\":[0,1,2,3,4,5,6,7,8,9,10,11,12,13,14,15,16,17,18,19,20,21,22,23,24,25,26,27,28,29,30,31,32,33,34,35,36,37,38,39,40,41,42,43,44,45,46,47,48,49,50,51,52,53,54,55,56,57,58,59,60,61,62,63,64,65,66,67,68,69,70,71,72,73,74,75,76,77,78,79,80,81,82,83,84,85,86,87,88,89,90,91,92,93,94,95,96,97,98,99],\"y\":[-1.9155992047694723,-0.4481315159572726,-0.11667812727294494,-0.47405025229684344,0.5746676894222532,-1.5551821928115497,-1.072363124361193,1.2249086267193,-3.3367698414674267,-1.011489626579287,0.6314459569116476,0.08220392031662183,-1.491849155089903,-2.6826923465190182,-1.406142682152996,-0.09669026493158919,0.6255108134307167,-0.8998558810491614,-0.2756313164584835,0.3713126358915743,-0.14945511870764175,-2.7250214453982338,-0.497935347176919,-0.7794784042791113,-0.30309488487554737,-0.7033732528019522,0.07862498827643226,-0.49979720991996174,-0.6002810486693904,0.718931878030546,0.2590887953878619,0.9060597459809786,-0.4190053741867893,-0.674433060377967,0.10545055429225647,1.2703935062900036,0.08983878160980747,0.6570432262514,-1.0176071028493356,0.6749140899996501,0.08417298484397781,0.8001476730499851,-0.12399513898835102,0.6274206095826046,-1.318877425164554,0.8164515931433367,0.09393732573798273,1.1206004281742687,0.8579900755978948,0.14911973244187204,0.9711897159096959,0.15869343459827023,0.20449045179987363,-1.6562183779368844,-0.9608076241416532,1.7727570332597742,-0.4457864515536005,0.4733263459830899,-0.1111431812706696,-0.6308516353493814,-1.5083286013649613,-1.8184170618133393,-1.577160446581665,-1.3084496737397215,0.29394673420640693,-0.21034035618984062,0.22395410087307033,0.5071818648650146,-1.4180404163946694,-0.21388614142527063,-0.7728099669727144,0.45279731788305944,-1.176389429494858,1.537074281671399,-1.0673529889078999,-1.1894210145045987,-1.5454669283459765,0.30364289543227707,-0.2762977037815814,1.7831332501465116,0.9826029558353301,-1.002098401486566,-0.16731691773009688,1.176134221963469,0.3460648331901014,-0.32043219503556436,-0.3782163252372253,0.9571278359770741,-0.057274155370753116,0.32731766282935837,-0.30977457949724585,-0.9355114325341685,-1.8964276157738422,0.2929666305481281,-0.7261109260232375,-0.5620284230807836,0.29595542033167244,-1.6709671363176706,0.7262858567454336,-0.564607728302298],\"type\":\"scatter\"},{\"line\":{\"color\":\"rgba(55, 128, 191, 1.0)\",\"dash\":\"solid\",\"shape\":\"linear\",\"width\":1.3},\"mode\":\"lines\",\"name\":\"B\",\"text\":\"\",\"x\":[0,1,2,3,4,5,6,7,8,9,10,11,12,13,14,15,16,17,18,19,20,21,22,23,24,25,26,27,28,29,30,31,32,33,34,35,36,37,38,39,40,41,42,43,44,45,46,47,48,49,50,51,52,53,54,55,56,57,58,59,60,61,62,63,64,65,66,67,68,69,70,71,72,73,74,75,76,77,78,79,80,81,82,83,84,85,86,87,88,89,90,91,92,93,94,95,96,97,98,99],\"y\":[0.25012653811443325,-0.31263602491902226,0.46854191390985994,0.3495550634187599,1.2779608573542152,-0.7195686267733024,-0.05377556286345402,0.8860961885150416,-0.35659558561108556,-0.5412418799364572,-1.0538607706754788,-1.4357015266467925,-1.4440825388729484,-0.4601463702775817,1.0525558771197012,-0.6384012471936885,-0.3984075707720691,0.3217992513734411,0.717847534780858,0.14786313583922234,-0.08921894414927768,-0.026447486752192863,-0.41781749828547704,-0.4258553164011774,-0.691041627506832,0.2725451758149655,1.2146505715089757,-0.7164863916632876,0.39324350968810945,-0.30946916784496414,-0.27145136523819957,0.6679457848678415,-0.07142770435308705,0.704443166579191,2.157895083594788,0.6170696338034954,-0.13662952222954544,-0.290866965366531,-0.4155089124480595,-0.15309402200095784,1.5221394507416537,-1.6249467620767861,-0.6965471964753526,0.182517283224261,0.23350357359802568,1.1453466340351426,-0.3686827311467193,1.957928012194116,0.4071672052678087,0.58680361903923,-0.8828982087450967,0.4129260132199946,0.6441433598373917,0.33372085287296577,0.3114578540673428,0.30273197459055706,-0.0672794267265068,0.7311115271348104,-1.4610688565261025,-1.3620418033258774,-1.1749042013895534,0.2569253531988617,0.3132234789055193,-0.4939070459441881,-0.38233997444376466,-0.8341518456265357,-2.275739432967845,-1.5981719266949375,1.4764816496356954,1.2582757204570383,-0.4430532726331741,-0.21808790791840466,-0.2523685759128763,-0.600478802244115,0.15220587659129273,-1.6586124610802093,-1.3433717204993254,0.9523056125989408,-1.9154009199738649,-1.3386543561881108,-0.8149176443027241,0.6388800450354669,0.030844994128891724,-1.986446346965538,-0.22630015828997926,-0.27117120976532544,-1.176124215365589,0.4534877231166138,0.1678182902848415,0.5552876540147228,-0.00964539990285035,1.2041724538233955,0.024983048147564843,0.03429775948556624,1.346683258563046,0.9870398426730453,-0.5747651397935243,-1.8469381178596094,0.751357199127522,0.38951470541379307],\"type\":\"scatter\"},{\"connectgaps\":false,\"fill\":\"tozeroy\",\"line\":{\"color\":\"green\",\"dash\":\"solid\",\"shape\":\"linear\",\"width\":0.5},\"mode\":\"lines\",\"name\":\"Spread\",\"showlegend\":false,\"x\":[0,1,2,3,4,5,6,7,8,9,10,11,12,13,14,15,16,17,18,19,20,21,22,23,24,25,26,27,28,29,30,31,32,33,34,35,36,37,38,39,40,41,42,43,44,45,46,47,48,49,50,51,52,53,54,55,56,57,58,59,60,61,62,63,64,65,66,67,68,69,70,71,72,73,74,75,76,77,78,79,80,81,82,83,84,85,86,87,88,89,90,91,92,93,94,95,96,97,98,99],\"xaxis\":\"x2\",\"y\":[\"\",\"\",\"\",\"\",\"\",\"\",\"\",0.3388124382042583,\"\",\"\",1.6853067275871263,1.5179054469634143,\"\",\"\",\"\",0.5417109822620993,1.0239183842027857,\"\",\"\",0.22344950005235198,\"\",\"\",\"\",\"\",0.3879467426312846,\"\",\"\",0.2166891817433259,\"\",1.0284010458755102,0.5305401606260615,0.2381139611131371,\"\",\"\",\"\",0.6533238724865081,0.2264683038393529,0.947910191617931,\"\",0.828008112000608,\"\",2.425094435126771,0.5725520574870016,0.4449033263583436,\"\",\"\",0.46262005688470204,\"\",0.45082287033008606,\"\",1.8540879246547926,\"\",\"\",\"\",\"\",1.4700250586692172,\"\",\"\",1.349925675255433,0.731190167976496,\"\",\"\",\"\",\"\",0.6762867086501716,0.6238114894366951,2.499693533840915,2.105353791559952,\"\",\"\",\"\",0.6708852258014641,\"\",2.137553083915514,\"\",0.4691914465756106,\"\",\"\",1.6391032161922834,3.1217876063346224,1.7975206001380541,\"\",\"\",3.162580568929007,0.5723649914800807,\"\",0.7979078901283638,0.5036401128604603,\"\",\"\",\"\",\"\",\"\",0.25866887106256187,\"\",\"\",0.8707205601251967,0.1759709815419388,\"\",\"\"],\"yaxis\":\"y2\",\"type\":\"scatter\"},{\"connectgaps\":false,\"fill\":\"tozeroy\",\"line\":{\"color\":\"red\",\"dash\":\"solid\",\"shape\":\"linear\",\"width\":0.5},\"mode\":\"lines\",\"name\":\"Spread\",\"showlegend\":false,\"x\":[0,1,2,3,4,5,6,7,8,9,10,11,12,13,14,15,16,17,18,19,20,21,22,23,24,25,26,27,28,29,30,31,32,33,34,35,36,37,38,39,40,41,42,43,44,45,46,47,48,49,50,51,52,53,54,55,56,57,58,59,60,61,62,63,64,65,66,67,68,69,70,71,72,73,74,75,76,77,78,79,80,81,82,83,84,85,86,87,88,89,90,91,92,93,94,95,96,97,98,99],\"xaxis\":\"x2\",\"y\":[-2.1657257428839056,-0.13549549103825032,-0.5852200411828049,-0.8236053157156034,-0.703293167931962,-0.8356135660382473,-1.018587561497739,\"\",-2.9801742558563413,-0.47024774664282976,\"\",\"\",-0.04776661621695455,-2.2225459762414363,-2.4586985592726975,\"\",\"\",-1.2216551324226024,-0.9934788512393415,\"\",-0.06023617455836407,-2.698573958646041,-0.08011784889144197,-0.3536230878779339,\"\",-0.9759184286169177,-1.1360255832325434,\"\",-0.9935245583574999,\"\",\"\",\"\",-0.34757766983370225,-1.378876226957158,-2.0524445293025315,\"\",\"\",\"\",-0.6020981904012761,\"\",-1.4379664658976758,\"\",\"\",\"\",-1.5523809987625798,-0.3288950408918059,\"\",-0.8373275840198473,\"\",-0.4376838865973579,\"\",-0.2542325786217244,-0.43965290803751805,-1.9899392308098502,-1.272265478208996,\"\",-0.37850702482709375,-0.2577851811517205,\"\",\"\",-0.33342439997540785,-2.075342415012201,-1.8903839254871844,-0.8145426277955334,\"\",\"\",\"\",\"\",-2.8945220660303645,-1.472161861882309,-0.3297566943395403,\"\",-0.9240208535819817,\"\",-1.2195588654991927,\"\",-0.20209520784665114,-0.6486627171666637,\"\",\"\",\"\",-1.6409784465220327,-0.1981619118589886,\"\",\"\",-0.04926098527023892,\"\",\"\",-0.2250924456555946,-0.22796999118536443,-0.3001291795943955,-2.139683886357564,-1.921410663921407,\"\",-2.072794184586283,-1.5490682657538288,\"\",\"\",-0.025071342382088413,-0.9541224337160911],\"yaxis\":\"y2\",\"type\":\"scatter\"}],                        {\"hovermode\":\"x\",\"legend\":{\"bgcolor\":\"#F5F6F9\",\"font\":{\"color\":\"#4D5663\"}},\"paper_bgcolor\":\"#F5F6F9\",\"plot_bgcolor\":\"#F5F6F9\",\"template\":{\"data\":{\"barpolar\":[{\"marker\":{\"line\":{\"color\":\"#E5ECF6\",\"width\":0.5},\"pattern\":{\"fillmode\":\"overlay\",\"size\":10,\"solidity\":0.2}},\"type\":\"barpolar\"}],\"bar\":[{\"error_x\":{\"color\":\"#2a3f5f\"},\"error_y\":{\"color\":\"#2a3f5f\"},\"marker\":{\"line\":{\"color\":\"#E5ECF6\",\"width\":0.5},\"pattern\":{\"fillmode\":\"overlay\",\"size\":10,\"solidity\":0.2}},\"type\":\"bar\"}],\"carpet\":[{\"aaxis\":{\"endlinecolor\":\"#2a3f5f\",\"gridcolor\":\"white\",\"linecolor\":\"white\",\"minorgridcolor\":\"white\",\"startlinecolor\":\"#2a3f5f\"},\"baxis\":{\"endlinecolor\":\"#2a3f5f\",\"gridcolor\":\"white\",\"linecolor\":\"white\",\"minorgridcolor\":\"white\",\"startlinecolor\":\"#2a3f5f\"},\"type\":\"carpet\"}],\"choropleth\":[{\"colorbar\":{\"outlinewidth\":0,\"ticks\":\"\"},\"type\":\"choropleth\"}],\"contourcarpet\":[{\"colorbar\":{\"outlinewidth\":0,\"ticks\":\"\"},\"type\":\"contourcarpet\"}],\"contour\":[{\"colorbar\":{\"outlinewidth\":0,\"ticks\":\"\"},\"colorscale\":[[0.0,\"#0d0887\"],[0.1111111111111111,\"#46039f\"],[0.2222222222222222,\"#7201a8\"],[0.3333333333333333,\"#9c179e\"],[0.4444444444444444,\"#bd3786\"],[0.5555555555555556,\"#d8576b\"],[0.6666666666666666,\"#ed7953\"],[0.7777777777777778,\"#fb9f3a\"],[0.8888888888888888,\"#fdca26\"],[1.0,\"#f0f921\"]],\"type\":\"contour\"}],\"heatmapgl\":[{\"colorbar\":{\"outlinewidth\":0,\"ticks\":\"\"},\"colorscale\":[[0.0,\"#0d0887\"],[0.1111111111111111,\"#46039f\"],[0.2222222222222222,\"#7201a8\"],[0.3333333333333333,\"#9c179e\"],[0.4444444444444444,\"#bd3786\"],[0.5555555555555556,\"#d8576b\"],[0.6666666666666666,\"#ed7953\"],[0.7777777777777778,\"#fb9f3a\"],[0.8888888888888888,\"#fdca26\"],[1.0,\"#f0f921\"]],\"type\":\"heatmapgl\"}],\"heatmap\":[{\"colorbar\":{\"outlinewidth\":0,\"ticks\":\"\"},\"colorscale\":[[0.0,\"#0d0887\"],[0.1111111111111111,\"#46039f\"],[0.2222222222222222,\"#7201a8\"],[0.3333333333333333,\"#9c179e\"],[0.4444444444444444,\"#bd3786\"],[0.5555555555555556,\"#d8576b\"],[0.6666666666666666,\"#ed7953\"],[0.7777777777777778,\"#fb9f3a\"],[0.8888888888888888,\"#fdca26\"],[1.0,\"#f0f921\"]],\"type\":\"heatmap\"}],\"histogram2dcontour\":[{\"colorbar\":{\"outlinewidth\":0,\"ticks\":\"\"},\"colorscale\":[[0.0,\"#0d0887\"],[0.1111111111111111,\"#46039f\"],[0.2222222222222222,\"#7201a8\"],[0.3333333333333333,\"#9c179e\"],[0.4444444444444444,\"#bd3786\"],[0.5555555555555556,\"#d8576b\"],[0.6666666666666666,\"#ed7953\"],[0.7777777777777778,\"#fb9f3a\"],[0.8888888888888888,\"#fdca26\"],[1.0,\"#f0f921\"]],\"type\":\"histogram2dcontour\"}],\"histogram2d\":[{\"colorbar\":{\"outlinewidth\":0,\"ticks\":\"\"},\"colorscale\":[[0.0,\"#0d0887\"],[0.1111111111111111,\"#46039f\"],[0.2222222222222222,\"#7201a8\"],[0.3333333333333333,\"#9c179e\"],[0.4444444444444444,\"#bd3786\"],[0.5555555555555556,\"#d8576b\"],[0.6666666666666666,\"#ed7953\"],[0.7777777777777778,\"#fb9f3a\"],[0.8888888888888888,\"#fdca26\"],[1.0,\"#f0f921\"]],\"type\":\"histogram2d\"}],\"histogram\":[{\"marker\":{\"pattern\":{\"fillmode\":\"overlay\",\"size\":10,\"solidity\":0.2}},\"type\":\"histogram\"}],\"mesh3d\":[{\"colorbar\":{\"outlinewidth\":0,\"ticks\":\"\"},\"type\":\"mesh3d\"}],\"parcoords\":[{\"line\":{\"colorbar\":{\"outlinewidth\":0,\"ticks\":\"\"}},\"type\":\"parcoords\"}],\"pie\":[{\"automargin\":true,\"type\":\"pie\"}],\"scatter3d\":[{\"line\":{\"colorbar\":{\"outlinewidth\":0,\"ticks\":\"\"}},\"marker\":{\"colorbar\":{\"outlinewidth\":0,\"ticks\":\"\"}},\"type\":\"scatter3d\"}],\"scattercarpet\":[{\"marker\":{\"colorbar\":{\"outlinewidth\":0,\"ticks\":\"\"}},\"type\":\"scattercarpet\"}],\"scattergeo\":[{\"marker\":{\"colorbar\":{\"outlinewidth\":0,\"ticks\":\"\"}},\"type\":\"scattergeo\"}],\"scattergl\":[{\"marker\":{\"colorbar\":{\"outlinewidth\":0,\"ticks\":\"\"}},\"type\":\"scattergl\"}],\"scattermapbox\":[{\"marker\":{\"colorbar\":{\"outlinewidth\":0,\"ticks\":\"\"}},\"type\":\"scattermapbox\"}],\"scatterpolargl\":[{\"marker\":{\"colorbar\":{\"outlinewidth\":0,\"ticks\":\"\"}},\"type\":\"scatterpolargl\"}],\"scatterpolar\":[{\"marker\":{\"colorbar\":{\"outlinewidth\":0,\"ticks\":\"\"}},\"type\":\"scatterpolar\"}],\"scatter\":[{\"fillpattern\":{\"fillmode\":\"overlay\",\"size\":10,\"solidity\":0.2},\"type\":\"scatter\"}],\"scatterternary\":[{\"marker\":{\"colorbar\":{\"outlinewidth\":0,\"ticks\":\"\"}},\"type\":\"scatterternary\"}],\"surface\":[{\"colorbar\":{\"outlinewidth\":0,\"ticks\":\"\"},\"colorscale\":[[0.0,\"#0d0887\"],[0.1111111111111111,\"#46039f\"],[0.2222222222222222,\"#7201a8\"],[0.3333333333333333,\"#9c179e\"],[0.4444444444444444,\"#bd3786\"],[0.5555555555555556,\"#d8576b\"],[0.6666666666666666,\"#ed7953\"],[0.7777777777777778,\"#fb9f3a\"],[0.8888888888888888,\"#fdca26\"],[1.0,\"#f0f921\"]],\"type\":\"surface\"}],\"table\":[{\"cells\":{\"fill\":{\"color\":\"#EBF0F8\"},\"line\":{\"color\":\"white\"}},\"header\":{\"fill\":{\"color\":\"#C8D4E3\"},\"line\":{\"color\":\"white\"}},\"type\":\"table\"}]},\"layout\":{\"annotationdefaults\":{\"arrowcolor\":\"#2a3f5f\",\"arrowhead\":0,\"arrowwidth\":1},\"autotypenumbers\":\"strict\",\"coloraxis\":{\"colorbar\":{\"outlinewidth\":0,\"ticks\":\"\"}},\"colorscale\":{\"diverging\":[[0,\"#8e0152\"],[0.1,\"#c51b7d\"],[0.2,\"#de77ae\"],[0.3,\"#f1b6da\"],[0.4,\"#fde0ef\"],[0.5,\"#f7f7f7\"],[0.6,\"#e6f5d0\"],[0.7,\"#b8e186\"],[0.8,\"#7fbc41\"],[0.9,\"#4d9221\"],[1,\"#276419\"]],\"sequential\":[[0.0,\"#0d0887\"],[0.1111111111111111,\"#46039f\"],[0.2222222222222222,\"#7201a8\"],[0.3333333333333333,\"#9c179e\"],[0.4444444444444444,\"#bd3786\"],[0.5555555555555556,\"#d8576b\"],[0.6666666666666666,\"#ed7953\"],[0.7777777777777778,\"#fb9f3a\"],[0.8888888888888888,\"#fdca26\"],[1.0,\"#f0f921\"]],\"sequentialminus\":[[0.0,\"#0d0887\"],[0.1111111111111111,\"#46039f\"],[0.2222222222222222,\"#7201a8\"],[0.3333333333333333,\"#9c179e\"],[0.4444444444444444,\"#bd3786\"],[0.5555555555555556,\"#d8576b\"],[0.6666666666666666,\"#ed7953\"],[0.7777777777777778,\"#fb9f3a\"],[0.8888888888888888,\"#fdca26\"],[1.0,\"#f0f921\"]]},\"colorway\":[\"#636efa\",\"#EF553B\",\"#00cc96\",\"#ab63fa\",\"#FFA15A\",\"#19d3f3\",\"#FF6692\",\"#B6E880\",\"#FF97FF\",\"#FECB52\"],\"font\":{\"color\":\"#2a3f5f\"},\"geo\":{\"bgcolor\":\"white\",\"lakecolor\":\"white\",\"landcolor\":\"#E5ECF6\",\"showlakes\":true,\"showland\":true,\"subunitcolor\":\"white\"},\"hoverlabel\":{\"align\":\"left\"},\"hovermode\":\"closest\",\"mapbox\":{\"style\":\"light\"},\"paper_bgcolor\":\"white\",\"plot_bgcolor\":\"#E5ECF6\",\"polar\":{\"angularaxis\":{\"gridcolor\":\"white\",\"linecolor\":\"white\",\"ticks\":\"\"},\"bgcolor\":\"#E5ECF6\",\"radialaxis\":{\"gridcolor\":\"white\",\"linecolor\":\"white\",\"ticks\":\"\"}},\"scene\":{\"xaxis\":{\"backgroundcolor\":\"#E5ECF6\",\"gridcolor\":\"white\",\"gridwidth\":2,\"linecolor\":\"white\",\"showbackground\":true,\"ticks\":\"\",\"zerolinecolor\":\"white\"},\"yaxis\":{\"backgroundcolor\":\"#E5ECF6\",\"gridcolor\":\"white\",\"gridwidth\":2,\"linecolor\":\"white\",\"showbackground\":true,\"ticks\":\"\",\"zerolinecolor\":\"white\"},\"zaxis\":{\"backgroundcolor\":\"#E5ECF6\",\"gridcolor\":\"white\",\"gridwidth\":2,\"linecolor\":\"white\",\"showbackground\":true,\"ticks\":\"\",\"zerolinecolor\":\"white\"}},\"shapedefaults\":{\"line\":{\"color\":\"#2a3f5f\"}},\"ternary\":{\"aaxis\":{\"gridcolor\":\"white\",\"linecolor\":\"white\",\"ticks\":\"\"},\"baxis\":{\"gridcolor\":\"white\",\"linecolor\":\"white\",\"ticks\":\"\"},\"bgcolor\":\"#E5ECF6\",\"caxis\":{\"gridcolor\":\"white\",\"linecolor\":\"white\",\"ticks\":\"\"}},\"title\":{\"x\":0.05},\"xaxis\":{\"automargin\":true,\"gridcolor\":\"white\",\"linecolor\":\"white\",\"ticks\":\"\",\"title\":{\"standoff\":15},\"zerolinecolor\":\"white\",\"zerolinewidth\":2},\"yaxis\":{\"automargin\":true,\"gridcolor\":\"white\",\"linecolor\":\"white\",\"ticks\":\"\",\"title\":{\"standoff\":15},\"zerolinecolor\":\"white\",\"zerolinewidth\":2}}},\"title\":{\"font\":{\"color\":\"#4D5663\"}},\"xaxis\":{\"gridcolor\":\"#E1E5ED\",\"showgrid\":true,\"tickfont\":{\"color\":\"#4D5663\"},\"title\":{\"font\":{\"color\":\"#4D5663\"},\"text\":\"\"},\"zerolinecolor\":\"#E1E5ED\"},\"yaxis\":{\"domain\":[0.3,1],\"gridcolor\":\"#E1E5ED\",\"showgrid\":true,\"tickfont\":{\"color\":\"#4D5663\"},\"title\":{\"font\":{\"color\":\"#4D5663\"},\"text\":\"\"},\"zerolinecolor\":\"#E1E5ED\"},\"yaxis2\":{\"domain\":[0,0.25],\"gridcolor\":\"#E1E5ED\",\"showgrid\":true,\"tickfont\":{\"color\":\"#4D5663\"},\"title\":{\"font\":{\"color\":\"#4D5663\"},\"text\":\"Spread\"},\"zerolinecolor\":\"#E1E5ED\"},\"xaxis2\":{\"anchor\":\"y2\",\"gridcolor\":\"#E1E5ED\",\"showgrid\":true,\"showticklabels\":false,\"tickfont\":{\"color\":\"#4D5663\"},\"title\":{\"font\":{\"color\":\"#4D5663\"},\"text\":\"\"},\"zerolinecolor\":\"#E1E5ED\"}},                        {\"showLink\": true, \"linkText\": \"Export to plot.ly\", \"plotlyServerURL\": \"https://plot.ly\", \"responsive\": true}                    ).then(function(){\n",
       "                            \n",
       "var gd = document.getElementById('1a4e2062-7701-4b83-8bfc-963cebb6413a');\n",
       "var x = new MutationObserver(function (mutations, observer) {{\n",
       "        var display = window.getComputedStyle(gd).display;\n",
       "        if (!display || display === 'none') {{\n",
       "            console.log([gd, 'removed!']);\n",
       "            Plotly.purge(gd);\n",
       "            observer.disconnect();\n",
       "        }}\n",
       "}});\n",
       "\n",
       "// Listen for the removal of the full notebook cells\n",
       "var notebookContainer = gd.closest('#notebook-container');\n",
       "if (notebookContainer) {{\n",
       "    x.observe(notebookContainer, {childList: true});\n",
       "}}\n",
       "\n",
       "// Listen for the clearing of the current output cell\n",
       "var outputEl = gd.closest('.output');\n",
       "if (outputEl) {{\n",
       "    x.observe(outputEl, {childList: true});\n",
       "}}\n",
       "\n",
       "                        })                };                });            </script>        </div>"
      ]
     },
     "metadata": {},
     "output_type": "display_data"
    }
   ],
   "source": [
    "df[['A','B']].iplot(kind='spread') # Ignore Warning\n",
    "import warnings\n",
    "warnings.filterwarnings('ignore')"
   ]
  },
  {
   "cell_type": "code",
   "execution_count": 17,
   "metadata": {},
   "outputs": [
    {
     "data": {
      "application/vnd.plotly.v1+json": {
       "config": {
        "linkText": "Export to plot.ly",
        "plotlyServerURL": "https://plot.ly",
        "showLink": true
       },
       "data": [
        {
         "histfunc": "count",
         "histnorm": "",
         "marker": {
          "color": "rgba(255, 153, 51, 1.0)",
          "line": {
           "color": "#4D5663",
           "width": 1.3
          }
         },
         "name": "A",
         "nbinsx": 25,
         "opacity": 0.8,
         "orientation": "v",
         "type": "histogram",
         "x": [
          -1.9155992047694723,
          -0.4481315159572726,
          -0.11667812727294494,
          -0.47405025229684344,
          0.5746676894222532,
          -1.5551821928115497,
          -1.072363124361193,
          1.2249086267193,
          -3.3367698414674267,
          -1.011489626579287,
          0.6314459569116476,
          0.08220392031662183,
          -1.491849155089903,
          -2.6826923465190182,
          -1.406142682152996,
          -0.09669026493158919,
          0.6255108134307167,
          -0.8998558810491614,
          -0.2756313164584835,
          0.3713126358915743,
          -0.14945511870764175,
          -2.7250214453982338,
          -0.497935347176919,
          -0.7794784042791113,
          -0.30309488487554737,
          -0.7033732528019522,
          0.07862498827643226,
          -0.49979720991996174,
          -0.6002810486693904,
          0.718931878030546,
          0.2590887953878619,
          0.9060597459809786,
          -0.4190053741867893,
          -0.674433060377967,
          0.10545055429225647,
          1.2703935062900036,
          0.08983878160980747,
          0.6570432262514,
          -1.0176071028493356,
          0.6749140899996501,
          0.08417298484397781,
          0.8001476730499851,
          -0.12399513898835102,
          0.6274206095826046,
          -1.318877425164554,
          0.8164515931433367,
          0.09393732573798273,
          1.1206004281742687,
          0.8579900755978948,
          0.14911973244187204,
          0.9711897159096959,
          0.15869343459827023,
          0.20449045179987363,
          -1.6562183779368844,
          -0.9608076241416532,
          1.7727570332597742,
          -0.4457864515536005,
          0.4733263459830899,
          -0.1111431812706696,
          -0.6308516353493814,
          -1.5083286013649613,
          -1.8184170618133393,
          -1.577160446581665,
          -1.3084496737397215,
          0.29394673420640693,
          -0.21034035618984062,
          0.22395410087307033,
          0.5071818648650146,
          -1.4180404163946694,
          -0.21388614142527063,
          -0.7728099669727144,
          0.45279731788305944,
          -1.176389429494858,
          1.537074281671399,
          -1.0673529889078999,
          -1.1894210145045987,
          -1.5454669283459765,
          0.30364289543227707,
          -0.2762977037815814,
          1.7831332501465116,
          0.9826029558353301,
          -1.002098401486566,
          -0.16731691773009688,
          1.176134221963469,
          0.3460648331901014,
          -0.32043219503556436,
          -0.3782163252372253,
          0.9571278359770741,
          -0.057274155370753116,
          0.32731766282935837,
          -0.30977457949724585,
          -0.9355114325341685,
          -1.8964276157738422,
          0.2929666305481281,
          -0.7261109260232375,
          -0.5620284230807836,
          0.29595542033167244,
          -1.6709671363176706,
          0.7262858567454336,
          -0.564607728302298
         ]
        }
       ],
       "layout": {
        "barmode": "overlay",
        "legend": {
         "bgcolor": "#F5F6F9",
         "font": {
          "color": "#4D5663"
         }
        },
        "paper_bgcolor": "#F5F6F9",
        "plot_bgcolor": "#F5F6F9",
        "template": {
         "data": {
          "bar": [
           {
            "error_x": {
             "color": "#2a3f5f"
            },
            "error_y": {
             "color": "#2a3f5f"
            },
            "marker": {
             "line": {
              "color": "#E5ECF6",
              "width": 0.5
             },
             "pattern": {
              "fillmode": "overlay",
              "size": 10,
              "solidity": 0.2
             }
            },
            "type": "bar"
           }
          ],
          "barpolar": [
           {
            "marker": {
             "line": {
              "color": "#E5ECF6",
              "width": 0.5
             },
             "pattern": {
              "fillmode": "overlay",
              "size": 10,
              "solidity": 0.2
             }
            },
            "type": "barpolar"
           }
          ],
          "carpet": [
           {
            "aaxis": {
             "endlinecolor": "#2a3f5f",
             "gridcolor": "white",
             "linecolor": "white",
             "minorgridcolor": "white",
             "startlinecolor": "#2a3f5f"
            },
            "baxis": {
             "endlinecolor": "#2a3f5f",
             "gridcolor": "white",
             "linecolor": "white",
             "minorgridcolor": "white",
             "startlinecolor": "#2a3f5f"
            },
            "type": "carpet"
           }
          ],
          "choropleth": [
           {
            "colorbar": {
             "outlinewidth": 0,
             "ticks": ""
            },
            "type": "choropleth"
           }
          ],
          "contour": [
           {
            "colorbar": {
             "outlinewidth": 0,
             "ticks": ""
            },
            "colorscale": [
             [
              0,
              "#0d0887"
             ],
             [
              0.1111111111111111,
              "#46039f"
             ],
             [
              0.2222222222222222,
              "#7201a8"
             ],
             [
              0.3333333333333333,
              "#9c179e"
             ],
             [
              0.4444444444444444,
              "#bd3786"
             ],
             [
              0.5555555555555556,
              "#d8576b"
             ],
             [
              0.6666666666666666,
              "#ed7953"
             ],
             [
              0.7777777777777778,
              "#fb9f3a"
             ],
             [
              0.8888888888888888,
              "#fdca26"
             ],
             [
              1,
              "#f0f921"
             ]
            ],
            "type": "contour"
           }
          ],
          "contourcarpet": [
           {
            "colorbar": {
             "outlinewidth": 0,
             "ticks": ""
            },
            "type": "contourcarpet"
           }
          ],
          "heatmap": [
           {
            "colorbar": {
             "outlinewidth": 0,
             "ticks": ""
            },
            "colorscale": [
             [
              0,
              "#0d0887"
             ],
             [
              0.1111111111111111,
              "#46039f"
             ],
             [
              0.2222222222222222,
              "#7201a8"
             ],
             [
              0.3333333333333333,
              "#9c179e"
             ],
             [
              0.4444444444444444,
              "#bd3786"
             ],
             [
              0.5555555555555556,
              "#d8576b"
             ],
             [
              0.6666666666666666,
              "#ed7953"
             ],
             [
              0.7777777777777778,
              "#fb9f3a"
             ],
             [
              0.8888888888888888,
              "#fdca26"
             ],
             [
              1,
              "#f0f921"
             ]
            ],
            "type": "heatmap"
           }
          ],
          "heatmapgl": [
           {
            "colorbar": {
             "outlinewidth": 0,
             "ticks": ""
            },
            "colorscale": [
             [
              0,
              "#0d0887"
             ],
             [
              0.1111111111111111,
              "#46039f"
             ],
             [
              0.2222222222222222,
              "#7201a8"
             ],
             [
              0.3333333333333333,
              "#9c179e"
             ],
             [
              0.4444444444444444,
              "#bd3786"
             ],
             [
              0.5555555555555556,
              "#d8576b"
             ],
             [
              0.6666666666666666,
              "#ed7953"
             ],
             [
              0.7777777777777778,
              "#fb9f3a"
             ],
             [
              0.8888888888888888,
              "#fdca26"
             ],
             [
              1,
              "#f0f921"
             ]
            ],
            "type": "heatmapgl"
           }
          ],
          "histogram": [
           {
            "marker": {
             "pattern": {
              "fillmode": "overlay",
              "size": 10,
              "solidity": 0.2
             }
            },
            "type": "histogram"
           }
          ],
          "histogram2d": [
           {
            "colorbar": {
             "outlinewidth": 0,
             "ticks": ""
            },
            "colorscale": [
             [
              0,
              "#0d0887"
             ],
             [
              0.1111111111111111,
              "#46039f"
             ],
             [
              0.2222222222222222,
              "#7201a8"
             ],
             [
              0.3333333333333333,
              "#9c179e"
             ],
             [
              0.4444444444444444,
              "#bd3786"
             ],
             [
              0.5555555555555556,
              "#d8576b"
             ],
             [
              0.6666666666666666,
              "#ed7953"
             ],
             [
              0.7777777777777778,
              "#fb9f3a"
             ],
             [
              0.8888888888888888,
              "#fdca26"
             ],
             [
              1,
              "#f0f921"
             ]
            ],
            "type": "histogram2d"
           }
          ],
          "histogram2dcontour": [
           {
            "colorbar": {
             "outlinewidth": 0,
             "ticks": ""
            },
            "colorscale": [
             [
              0,
              "#0d0887"
             ],
             [
              0.1111111111111111,
              "#46039f"
             ],
             [
              0.2222222222222222,
              "#7201a8"
             ],
             [
              0.3333333333333333,
              "#9c179e"
             ],
             [
              0.4444444444444444,
              "#bd3786"
             ],
             [
              0.5555555555555556,
              "#d8576b"
             ],
             [
              0.6666666666666666,
              "#ed7953"
             ],
             [
              0.7777777777777778,
              "#fb9f3a"
             ],
             [
              0.8888888888888888,
              "#fdca26"
             ],
             [
              1,
              "#f0f921"
             ]
            ],
            "type": "histogram2dcontour"
           }
          ],
          "mesh3d": [
           {
            "colorbar": {
             "outlinewidth": 0,
             "ticks": ""
            },
            "type": "mesh3d"
           }
          ],
          "parcoords": [
           {
            "line": {
             "colorbar": {
              "outlinewidth": 0,
              "ticks": ""
             }
            },
            "type": "parcoords"
           }
          ],
          "pie": [
           {
            "automargin": true,
            "type": "pie"
           }
          ],
          "scatter": [
           {
            "fillpattern": {
             "fillmode": "overlay",
             "size": 10,
             "solidity": 0.2
            },
            "type": "scatter"
           }
          ],
          "scatter3d": [
           {
            "line": {
             "colorbar": {
              "outlinewidth": 0,
              "ticks": ""
             }
            },
            "marker": {
             "colorbar": {
              "outlinewidth": 0,
              "ticks": ""
             }
            },
            "type": "scatter3d"
           }
          ],
          "scattercarpet": [
           {
            "marker": {
             "colorbar": {
              "outlinewidth": 0,
              "ticks": ""
             }
            },
            "type": "scattercarpet"
           }
          ],
          "scattergeo": [
           {
            "marker": {
             "colorbar": {
              "outlinewidth": 0,
              "ticks": ""
             }
            },
            "type": "scattergeo"
           }
          ],
          "scattergl": [
           {
            "marker": {
             "colorbar": {
              "outlinewidth": 0,
              "ticks": ""
             }
            },
            "type": "scattergl"
           }
          ],
          "scattermapbox": [
           {
            "marker": {
             "colorbar": {
              "outlinewidth": 0,
              "ticks": ""
             }
            },
            "type": "scattermapbox"
           }
          ],
          "scatterpolar": [
           {
            "marker": {
             "colorbar": {
              "outlinewidth": 0,
              "ticks": ""
             }
            },
            "type": "scatterpolar"
           }
          ],
          "scatterpolargl": [
           {
            "marker": {
             "colorbar": {
              "outlinewidth": 0,
              "ticks": ""
             }
            },
            "type": "scatterpolargl"
           }
          ],
          "scatterternary": [
           {
            "marker": {
             "colorbar": {
              "outlinewidth": 0,
              "ticks": ""
             }
            },
            "type": "scatterternary"
           }
          ],
          "surface": [
           {
            "colorbar": {
             "outlinewidth": 0,
             "ticks": ""
            },
            "colorscale": [
             [
              0,
              "#0d0887"
             ],
             [
              0.1111111111111111,
              "#46039f"
             ],
             [
              0.2222222222222222,
              "#7201a8"
             ],
             [
              0.3333333333333333,
              "#9c179e"
             ],
             [
              0.4444444444444444,
              "#bd3786"
             ],
             [
              0.5555555555555556,
              "#d8576b"
             ],
             [
              0.6666666666666666,
              "#ed7953"
             ],
             [
              0.7777777777777778,
              "#fb9f3a"
             ],
             [
              0.8888888888888888,
              "#fdca26"
             ],
             [
              1,
              "#f0f921"
             ]
            ],
            "type": "surface"
           }
          ],
          "table": [
           {
            "cells": {
             "fill": {
              "color": "#EBF0F8"
             },
             "line": {
              "color": "white"
             }
            },
            "header": {
             "fill": {
              "color": "#C8D4E3"
             },
             "line": {
              "color": "white"
             }
            },
            "type": "table"
           }
          ]
         },
         "layout": {
          "annotationdefaults": {
           "arrowcolor": "#2a3f5f",
           "arrowhead": 0,
           "arrowwidth": 1
          },
          "autotypenumbers": "strict",
          "coloraxis": {
           "colorbar": {
            "outlinewidth": 0,
            "ticks": ""
           }
          },
          "colorscale": {
           "diverging": [
            [
             0,
             "#8e0152"
            ],
            [
             0.1,
             "#c51b7d"
            ],
            [
             0.2,
             "#de77ae"
            ],
            [
             0.3,
             "#f1b6da"
            ],
            [
             0.4,
             "#fde0ef"
            ],
            [
             0.5,
             "#f7f7f7"
            ],
            [
             0.6,
             "#e6f5d0"
            ],
            [
             0.7,
             "#b8e186"
            ],
            [
             0.8,
             "#7fbc41"
            ],
            [
             0.9,
             "#4d9221"
            ],
            [
             1,
             "#276419"
            ]
           ],
           "sequential": [
            [
             0,
             "#0d0887"
            ],
            [
             0.1111111111111111,
             "#46039f"
            ],
            [
             0.2222222222222222,
             "#7201a8"
            ],
            [
             0.3333333333333333,
             "#9c179e"
            ],
            [
             0.4444444444444444,
             "#bd3786"
            ],
            [
             0.5555555555555556,
             "#d8576b"
            ],
            [
             0.6666666666666666,
             "#ed7953"
            ],
            [
             0.7777777777777778,
             "#fb9f3a"
            ],
            [
             0.8888888888888888,
             "#fdca26"
            ],
            [
             1,
             "#f0f921"
            ]
           ],
           "sequentialminus": [
            [
             0,
             "#0d0887"
            ],
            [
             0.1111111111111111,
             "#46039f"
            ],
            [
             0.2222222222222222,
             "#7201a8"
            ],
            [
             0.3333333333333333,
             "#9c179e"
            ],
            [
             0.4444444444444444,
             "#bd3786"
            ],
            [
             0.5555555555555556,
             "#d8576b"
            ],
            [
             0.6666666666666666,
             "#ed7953"
            ],
            [
             0.7777777777777778,
             "#fb9f3a"
            ],
            [
             0.8888888888888888,
             "#fdca26"
            ],
            [
             1,
             "#f0f921"
            ]
           ]
          },
          "colorway": [
           "#636efa",
           "#EF553B",
           "#00cc96",
           "#ab63fa",
           "#FFA15A",
           "#19d3f3",
           "#FF6692",
           "#B6E880",
           "#FF97FF",
           "#FECB52"
          ],
          "font": {
           "color": "#2a3f5f"
          },
          "geo": {
           "bgcolor": "white",
           "lakecolor": "white",
           "landcolor": "#E5ECF6",
           "showlakes": true,
           "showland": true,
           "subunitcolor": "white"
          },
          "hoverlabel": {
           "align": "left"
          },
          "hovermode": "closest",
          "mapbox": {
           "style": "light"
          },
          "paper_bgcolor": "white",
          "plot_bgcolor": "#E5ECF6",
          "polar": {
           "angularaxis": {
            "gridcolor": "white",
            "linecolor": "white",
            "ticks": ""
           },
           "bgcolor": "#E5ECF6",
           "radialaxis": {
            "gridcolor": "white",
            "linecolor": "white",
            "ticks": ""
           }
          },
          "scene": {
           "xaxis": {
            "backgroundcolor": "#E5ECF6",
            "gridcolor": "white",
            "gridwidth": 2,
            "linecolor": "white",
            "showbackground": true,
            "ticks": "",
            "zerolinecolor": "white"
           },
           "yaxis": {
            "backgroundcolor": "#E5ECF6",
            "gridcolor": "white",
            "gridwidth": 2,
            "linecolor": "white",
            "showbackground": true,
            "ticks": "",
            "zerolinecolor": "white"
           },
           "zaxis": {
            "backgroundcolor": "#E5ECF6",
            "gridcolor": "white",
            "gridwidth": 2,
            "linecolor": "white",
            "showbackground": true,
            "ticks": "",
            "zerolinecolor": "white"
           }
          },
          "shapedefaults": {
           "line": {
            "color": "#2a3f5f"
           }
          },
          "ternary": {
           "aaxis": {
            "gridcolor": "white",
            "linecolor": "white",
            "ticks": ""
           },
           "baxis": {
            "gridcolor": "white",
            "linecolor": "white",
            "ticks": ""
           },
           "bgcolor": "#E5ECF6",
           "caxis": {
            "gridcolor": "white",
            "linecolor": "white",
            "ticks": ""
           }
          },
          "title": {
           "x": 0.05
          },
          "xaxis": {
           "automargin": true,
           "gridcolor": "white",
           "linecolor": "white",
           "ticks": "",
           "title": {
            "standoff": 15
           },
           "zerolinecolor": "white",
           "zerolinewidth": 2
          },
          "yaxis": {
           "automargin": true,
           "gridcolor": "white",
           "linecolor": "white",
           "ticks": "",
           "title": {
            "standoff": 15
           },
           "zerolinecolor": "white",
           "zerolinewidth": 2
          }
         }
        },
        "title": {
         "font": {
          "color": "#4D5663"
         }
        },
        "xaxis": {
         "gridcolor": "#E1E5ED",
         "showgrid": true,
         "tickfont": {
          "color": "#4D5663"
         },
         "title": {
          "font": {
           "color": "#4D5663"
          },
          "text": ""
         },
         "zerolinecolor": "#E1E5ED"
        },
        "yaxis": {
         "gridcolor": "#E1E5ED",
         "showgrid": true,
         "tickfont": {
          "color": "#4D5663"
         },
         "title": {
          "font": {
           "color": "#4D5663"
          },
          "text": ""
         },
         "zerolinecolor": "#E1E5ED"
        }
       }
      },
      "text/html": [
       "<div>                            <div id=\"7fd6c1f7-18c7-4026-9fdd-1b815486b033\" class=\"plotly-graph-div\" style=\"height:525px; width:100%;\"></div>            <script type=\"text/javascript\">                require([\"plotly\"], function(Plotly) {                    window.PLOTLYENV=window.PLOTLYENV || {};\n",
       "                    window.PLOTLYENV.BASE_URL='https://plot.ly';                                    if (document.getElementById(\"7fd6c1f7-18c7-4026-9fdd-1b815486b033\")) {                    Plotly.newPlot(                        \"7fd6c1f7-18c7-4026-9fdd-1b815486b033\",                        [{\"histfunc\":\"count\",\"histnorm\":\"\",\"marker\":{\"color\":\"rgba(255, 153, 51, 1.0)\",\"line\":{\"color\":\"#4D5663\",\"width\":1.3}},\"name\":\"A\",\"nbinsx\":25,\"opacity\":0.8,\"orientation\":\"v\",\"x\":[-1.9155992047694723,-0.4481315159572726,-0.11667812727294494,-0.47405025229684344,0.5746676894222532,-1.5551821928115497,-1.072363124361193,1.2249086267193,-3.3367698414674267,-1.011489626579287,0.6314459569116476,0.08220392031662183,-1.491849155089903,-2.6826923465190182,-1.406142682152996,-0.09669026493158919,0.6255108134307167,-0.8998558810491614,-0.2756313164584835,0.3713126358915743,-0.14945511870764175,-2.7250214453982338,-0.497935347176919,-0.7794784042791113,-0.30309488487554737,-0.7033732528019522,0.07862498827643226,-0.49979720991996174,-0.6002810486693904,0.718931878030546,0.2590887953878619,0.9060597459809786,-0.4190053741867893,-0.674433060377967,0.10545055429225647,1.2703935062900036,0.08983878160980747,0.6570432262514,-1.0176071028493356,0.6749140899996501,0.08417298484397781,0.8001476730499851,-0.12399513898835102,0.6274206095826046,-1.318877425164554,0.8164515931433367,0.09393732573798273,1.1206004281742687,0.8579900755978948,0.14911973244187204,0.9711897159096959,0.15869343459827023,0.20449045179987363,-1.6562183779368844,-0.9608076241416532,1.7727570332597742,-0.4457864515536005,0.4733263459830899,-0.1111431812706696,-0.6308516353493814,-1.5083286013649613,-1.8184170618133393,-1.577160446581665,-1.3084496737397215,0.29394673420640693,-0.21034035618984062,0.22395410087307033,0.5071818648650146,-1.4180404163946694,-0.21388614142527063,-0.7728099669727144,0.45279731788305944,-1.176389429494858,1.537074281671399,-1.0673529889078999,-1.1894210145045987,-1.5454669283459765,0.30364289543227707,-0.2762977037815814,1.7831332501465116,0.9826029558353301,-1.002098401486566,-0.16731691773009688,1.176134221963469,0.3460648331901014,-0.32043219503556436,-0.3782163252372253,0.9571278359770741,-0.057274155370753116,0.32731766282935837,-0.30977457949724585,-0.9355114325341685,-1.8964276157738422,0.2929666305481281,-0.7261109260232375,-0.5620284230807836,0.29595542033167244,-1.6709671363176706,0.7262858567454336,-0.564607728302298],\"type\":\"histogram\"}],                        {\"barmode\":\"overlay\",\"legend\":{\"bgcolor\":\"#F5F6F9\",\"font\":{\"color\":\"#4D5663\"}},\"paper_bgcolor\":\"#F5F6F9\",\"plot_bgcolor\":\"#F5F6F9\",\"template\":{\"data\":{\"barpolar\":[{\"marker\":{\"line\":{\"color\":\"#E5ECF6\",\"width\":0.5},\"pattern\":{\"fillmode\":\"overlay\",\"size\":10,\"solidity\":0.2}},\"type\":\"barpolar\"}],\"bar\":[{\"error_x\":{\"color\":\"#2a3f5f\"},\"error_y\":{\"color\":\"#2a3f5f\"},\"marker\":{\"line\":{\"color\":\"#E5ECF6\",\"width\":0.5},\"pattern\":{\"fillmode\":\"overlay\",\"size\":10,\"solidity\":0.2}},\"type\":\"bar\"}],\"carpet\":[{\"aaxis\":{\"endlinecolor\":\"#2a3f5f\",\"gridcolor\":\"white\",\"linecolor\":\"white\",\"minorgridcolor\":\"white\",\"startlinecolor\":\"#2a3f5f\"},\"baxis\":{\"endlinecolor\":\"#2a3f5f\",\"gridcolor\":\"white\",\"linecolor\":\"white\",\"minorgridcolor\":\"white\",\"startlinecolor\":\"#2a3f5f\"},\"type\":\"carpet\"}],\"choropleth\":[{\"colorbar\":{\"outlinewidth\":0,\"ticks\":\"\"},\"type\":\"choropleth\"}],\"contourcarpet\":[{\"colorbar\":{\"outlinewidth\":0,\"ticks\":\"\"},\"type\":\"contourcarpet\"}],\"contour\":[{\"colorbar\":{\"outlinewidth\":0,\"ticks\":\"\"},\"colorscale\":[[0.0,\"#0d0887\"],[0.1111111111111111,\"#46039f\"],[0.2222222222222222,\"#7201a8\"],[0.3333333333333333,\"#9c179e\"],[0.4444444444444444,\"#bd3786\"],[0.5555555555555556,\"#d8576b\"],[0.6666666666666666,\"#ed7953\"],[0.7777777777777778,\"#fb9f3a\"],[0.8888888888888888,\"#fdca26\"],[1.0,\"#f0f921\"]],\"type\":\"contour\"}],\"heatmapgl\":[{\"colorbar\":{\"outlinewidth\":0,\"ticks\":\"\"},\"colorscale\":[[0.0,\"#0d0887\"],[0.1111111111111111,\"#46039f\"],[0.2222222222222222,\"#7201a8\"],[0.3333333333333333,\"#9c179e\"],[0.4444444444444444,\"#bd3786\"],[0.5555555555555556,\"#d8576b\"],[0.6666666666666666,\"#ed7953\"],[0.7777777777777778,\"#fb9f3a\"],[0.8888888888888888,\"#fdca26\"],[1.0,\"#f0f921\"]],\"type\":\"heatmapgl\"}],\"heatmap\":[{\"colorbar\":{\"outlinewidth\":0,\"ticks\":\"\"},\"colorscale\":[[0.0,\"#0d0887\"],[0.1111111111111111,\"#46039f\"],[0.2222222222222222,\"#7201a8\"],[0.3333333333333333,\"#9c179e\"],[0.4444444444444444,\"#bd3786\"],[0.5555555555555556,\"#d8576b\"],[0.6666666666666666,\"#ed7953\"],[0.7777777777777778,\"#fb9f3a\"],[0.8888888888888888,\"#fdca26\"],[1.0,\"#f0f921\"]],\"type\":\"heatmap\"}],\"histogram2dcontour\":[{\"colorbar\":{\"outlinewidth\":0,\"ticks\":\"\"},\"colorscale\":[[0.0,\"#0d0887\"],[0.1111111111111111,\"#46039f\"],[0.2222222222222222,\"#7201a8\"],[0.3333333333333333,\"#9c179e\"],[0.4444444444444444,\"#bd3786\"],[0.5555555555555556,\"#d8576b\"],[0.6666666666666666,\"#ed7953\"],[0.7777777777777778,\"#fb9f3a\"],[0.8888888888888888,\"#fdca26\"],[1.0,\"#f0f921\"]],\"type\":\"histogram2dcontour\"}],\"histogram2d\":[{\"colorbar\":{\"outlinewidth\":0,\"ticks\":\"\"},\"colorscale\":[[0.0,\"#0d0887\"],[0.1111111111111111,\"#46039f\"],[0.2222222222222222,\"#7201a8\"],[0.3333333333333333,\"#9c179e\"],[0.4444444444444444,\"#bd3786\"],[0.5555555555555556,\"#d8576b\"],[0.6666666666666666,\"#ed7953\"],[0.7777777777777778,\"#fb9f3a\"],[0.8888888888888888,\"#fdca26\"],[1.0,\"#f0f921\"]],\"type\":\"histogram2d\"}],\"histogram\":[{\"marker\":{\"pattern\":{\"fillmode\":\"overlay\",\"size\":10,\"solidity\":0.2}},\"type\":\"histogram\"}],\"mesh3d\":[{\"colorbar\":{\"outlinewidth\":0,\"ticks\":\"\"},\"type\":\"mesh3d\"}],\"parcoords\":[{\"line\":{\"colorbar\":{\"outlinewidth\":0,\"ticks\":\"\"}},\"type\":\"parcoords\"}],\"pie\":[{\"automargin\":true,\"type\":\"pie\"}],\"scatter3d\":[{\"line\":{\"colorbar\":{\"outlinewidth\":0,\"ticks\":\"\"}},\"marker\":{\"colorbar\":{\"outlinewidth\":0,\"ticks\":\"\"}},\"type\":\"scatter3d\"}],\"scattercarpet\":[{\"marker\":{\"colorbar\":{\"outlinewidth\":0,\"ticks\":\"\"}},\"type\":\"scattercarpet\"}],\"scattergeo\":[{\"marker\":{\"colorbar\":{\"outlinewidth\":0,\"ticks\":\"\"}},\"type\":\"scattergeo\"}],\"scattergl\":[{\"marker\":{\"colorbar\":{\"outlinewidth\":0,\"ticks\":\"\"}},\"type\":\"scattergl\"}],\"scattermapbox\":[{\"marker\":{\"colorbar\":{\"outlinewidth\":0,\"ticks\":\"\"}},\"type\":\"scattermapbox\"}],\"scatterpolargl\":[{\"marker\":{\"colorbar\":{\"outlinewidth\":0,\"ticks\":\"\"}},\"type\":\"scatterpolargl\"}],\"scatterpolar\":[{\"marker\":{\"colorbar\":{\"outlinewidth\":0,\"ticks\":\"\"}},\"type\":\"scatterpolar\"}],\"scatter\":[{\"fillpattern\":{\"fillmode\":\"overlay\",\"size\":10,\"solidity\":0.2},\"type\":\"scatter\"}],\"scatterternary\":[{\"marker\":{\"colorbar\":{\"outlinewidth\":0,\"ticks\":\"\"}},\"type\":\"scatterternary\"}],\"surface\":[{\"colorbar\":{\"outlinewidth\":0,\"ticks\":\"\"},\"colorscale\":[[0.0,\"#0d0887\"],[0.1111111111111111,\"#46039f\"],[0.2222222222222222,\"#7201a8\"],[0.3333333333333333,\"#9c179e\"],[0.4444444444444444,\"#bd3786\"],[0.5555555555555556,\"#d8576b\"],[0.6666666666666666,\"#ed7953\"],[0.7777777777777778,\"#fb9f3a\"],[0.8888888888888888,\"#fdca26\"],[1.0,\"#f0f921\"]],\"type\":\"surface\"}],\"table\":[{\"cells\":{\"fill\":{\"color\":\"#EBF0F8\"},\"line\":{\"color\":\"white\"}},\"header\":{\"fill\":{\"color\":\"#C8D4E3\"},\"line\":{\"color\":\"white\"}},\"type\":\"table\"}]},\"layout\":{\"annotationdefaults\":{\"arrowcolor\":\"#2a3f5f\",\"arrowhead\":0,\"arrowwidth\":1},\"autotypenumbers\":\"strict\",\"coloraxis\":{\"colorbar\":{\"outlinewidth\":0,\"ticks\":\"\"}},\"colorscale\":{\"diverging\":[[0,\"#8e0152\"],[0.1,\"#c51b7d\"],[0.2,\"#de77ae\"],[0.3,\"#f1b6da\"],[0.4,\"#fde0ef\"],[0.5,\"#f7f7f7\"],[0.6,\"#e6f5d0\"],[0.7,\"#b8e186\"],[0.8,\"#7fbc41\"],[0.9,\"#4d9221\"],[1,\"#276419\"]],\"sequential\":[[0.0,\"#0d0887\"],[0.1111111111111111,\"#46039f\"],[0.2222222222222222,\"#7201a8\"],[0.3333333333333333,\"#9c179e\"],[0.4444444444444444,\"#bd3786\"],[0.5555555555555556,\"#d8576b\"],[0.6666666666666666,\"#ed7953\"],[0.7777777777777778,\"#fb9f3a\"],[0.8888888888888888,\"#fdca26\"],[1.0,\"#f0f921\"]],\"sequentialminus\":[[0.0,\"#0d0887\"],[0.1111111111111111,\"#46039f\"],[0.2222222222222222,\"#7201a8\"],[0.3333333333333333,\"#9c179e\"],[0.4444444444444444,\"#bd3786\"],[0.5555555555555556,\"#d8576b\"],[0.6666666666666666,\"#ed7953\"],[0.7777777777777778,\"#fb9f3a\"],[0.8888888888888888,\"#fdca26\"],[1.0,\"#f0f921\"]]},\"colorway\":[\"#636efa\",\"#EF553B\",\"#00cc96\",\"#ab63fa\",\"#FFA15A\",\"#19d3f3\",\"#FF6692\",\"#B6E880\",\"#FF97FF\",\"#FECB52\"],\"font\":{\"color\":\"#2a3f5f\"},\"geo\":{\"bgcolor\":\"white\",\"lakecolor\":\"white\",\"landcolor\":\"#E5ECF6\",\"showlakes\":true,\"showland\":true,\"subunitcolor\":\"white\"},\"hoverlabel\":{\"align\":\"left\"},\"hovermode\":\"closest\",\"mapbox\":{\"style\":\"light\"},\"paper_bgcolor\":\"white\",\"plot_bgcolor\":\"#E5ECF6\",\"polar\":{\"angularaxis\":{\"gridcolor\":\"white\",\"linecolor\":\"white\",\"ticks\":\"\"},\"bgcolor\":\"#E5ECF6\",\"radialaxis\":{\"gridcolor\":\"white\",\"linecolor\":\"white\",\"ticks\":\"\"}},\"scene\":{\"xaxis\":{\"backgroundcolor\":\"#E5ECF6\",\"gridcolor\":\"white\",\"gridwidth\":2,\"linecolor\":\"white\",\"showbackground\":true,\"ticks\":\"\",\"zerolinecolor\":\"white\"},\"yaxis\":{\"backgroundcolor\":\"#E5ECF6\",\"gridcolor\":\"white\",\"gridwidth\":2,\"linecolor\":\"white\",\"showbackground\":true,\"ticks\":\"\",\"zerolinecolor\":\"white\"},\"zaxis\":{\"backgroundcolor\":\"#E5ECF6\",\"gridcolor\":\"white\",\"gridwidth\":2,\"linecolor\":\"white\",\"showbackground\":true,\"ticks\":\"\",\"zerolinecolor\":\"white\"}},\"shapedefaults\":{\"line\":{\"color\":\"#2a3f5f\"}},\"ternary\":{\"aaxis\":{\"gridcolor\":\"white\",\"linecolor\":\"white\",\"ticks\":\"\"},\"baxis\":{\"gridcolor\":\"white\",\"linecolor\":\"white\",\"ticks\":\"\"},\"bgcolor\":\"#E5ECF6\",\"caxis\":{\"gridcolor\":\"white\",\"linecolor\":\"white\",\"ticks\":\"\"}},\"title\":{\"x\":0.05},\"xaxis\":{\"automargin\":true,\"gridcolor\":\"white\",\"linecolor\":\"white\",\"ticks\":\"\",\"title\":{\"standoff\":15},\"zerolinecolor\":\"white\",\"zerolinewidth\":2},\"yaxis\":{\"automargin\":true,\"gridcolor\":\"white\",\"linecolor\":\"white\",\"ticks\":\"\",\"title\":{\"standoff\":15},\"zerolinecolor\":\"white\",\"zerolinewidth\":2}}},\"title\":{\"font\":{\"color\":\"#4D5663\"}},\"xaxis\":{\"gridcolor\":\"#E1E5ED\",\"showgrid\":true,\"tickfont\":{\"color\":\"#4D5663\"},\"title\":{\"font\":{\"color\":\"#4D5663\"},\"text\":\"\"},\"zerolinecolor\":\"#E1E5ED\"},\"yaxis\":{\"gridcolor\":\"#E1E5ED\",\"showgrid\":true,\"tickfont\":{\"color\":\"#4D5663\"},\"title\":{\"font\":{\"color\":\"#4D5663\"},\"text\":\"\"},\"zerolinecolor\":\"#E1E5ED\"}},                        {\"showLink\": true, \"linkText\": \"Export to plot.ly\", \"plotlyServerURL\": \"https://plot.ly\", \"responsive\": true}                    ).then(function(){\n",
       "                            \n",
       "var gd = document.getElementById('7fd6c1f7-18c7-4026-9fdd-1b815486b033');\n",
       "var x = new MutationObserver(function (mutations, observer) {{\n",
       "        var display = window.getComputedStyle(gd).display;\n",
       "        if (!display || display === 'none') {{\n",
       "            console.log([gd, 'removed!']);\n",
       "            Plotly.purge(gd);\n",
       "            observer.disconnect();\n",
       "        }}\n",
       "}});\n",
       "\n",
       "// Listen for the removal of the full notebook cells\n",
       "var notebookContainer = gd.closest('#notebook-container');\n",
       "if (notebookContainer) {{\n",
       "    x.observe(notebookContainer, {childList: true});\n",
       "}}\n",
       "\n",
       "// Listen for the clearing of the current output cell\n",
       "var outputEl = gd.closest('.output');\n",
       "if (outputEl) {{\n",
       "    x.observe(outputEl, {childList: true});\n",
       "}}\n",
       "\n",
       "                        })                };                });            </script>        </div>"
      ]
     },
     "metadata": {},
     "output_type": "display_data"
    }
   ],
   "source": [
    "df['A'].iplot(kind='hist',bins=25)"
   ]
  },
  {
   "cell_type": "code",
   "execution_count": 18,
   "metadata": {},
   "outputs": [
    {
     "data": {
      "application/vnd.plotly.v1+json": {
       "config": {
        "linkText": "Export to plot.ly",
        "plotlyServerURL": "https://plot.ly",
        "showLink": true
       },
       "data": [
        {
         "marker": {
          "color": [
           "rgb(255, 153, 51)",
           "rgb(55, 128, 191)",
           "rgb(50, 171, 96)",
           "rgb(128, 0, 128)",
           "rgb(219, 64, 82)",
           "rgb(0, 128, 128)",
           "rgb(255, 255, 51)",
           "rgb(128, 128, 0)",
           "rgb(251, 128, 114)",
           "rgb(128, 177, 211)"
          ],
          "line": {
           "width": 1.3
          },
          "size": [
           44,
           57,
           63,
           40,
           41,
           76,
           37,
           49,
           78,
           72,
           49,
           53,
           58,
           27,
           63,
           71,
           45,
           63,
           73,
           30,
           67,
           45,
           42,
           24,
           89,
           28,
           53,
           12,
           46,
           67,
           73,
           66,
           38,
           32,
           48,
           52,
           61,
           67,
           20,
           35,
           63,
           39,
           15,
           38,
           73,
           17,
           66,
           52,
           50,
           22,
           55,
           112,
           47,
           50,
           51,
           73,
           58,
           63,
           57,
           62,
           57,
           58,
           57,
           51,
           66,
           33,
           43,
           12,
           58,
           32,
           35,
           27,
           37,
           42,
           49,
           60,
           22,
           47,
           44,
           29,
           24,
           53,
           39,
           32,
           53,
           43,
           66,
           45,
           82,
           13,
           48,
           47,
           24,
           60,
           63,
           101,
           15,
           20,
           49,
           55
          ],
          "symbol": "circle"
         },
         "mode": "markers",
         "text": "",
         "type": "scatter",
         "x": [
          -1.9155992047694723,
          -0.4481315159572726,
          -0.11667812727294494,
          -0.47405025229684344,
          0.5746676894222532,
          -1.5551821928115497,
          -1.072363124361193,
          1.2249086267193,
          -3.3367698414674267,
          -1.011489626579287,
          0.6314459569116476,
          0.08220392031662183,
          -1.491849155089903,
          -2.6826923465190182,
          -1.406142682152996,
          -0.09669026493158919,
          0.6255108134307167,
          -0.8998558810491614,
          -0.2756313164584835,
          0.3713126358915743,
          -0.14945511870764175,
          -2.7250214453982338,
          -0.497935347176919,
          -0.7794784042791113,
          -0.30309488487554737,
          -0.7033732528019522,
          0.07862498827643226,
          -0.49979720991996174,
          -0.6002810486693904,
          0.718931878030546,
          0.2590887953878619,
          0.9060597459809786,
          -0.4190053741867893,
          -0.674433060377967,
          0.10545055429225647,
          1.2703935062900036,
          0.08983878160980747,
          0.6570432262514,
          -1.0176071028493356,
          0.6749140899996501,
          0.08417298484397781,
          0.8001476730499851,
          -0.12399513898835102,
          0.6274206095826046,
          -1.318877425164554,
          0.8164515931433367,
          0.09393732573798273,
          1.1206004281742687,
          0.8579900755978948,
          0.14911973244187204,
          0.9711897159096959,
          0.15869343459827023,
          0.20449045179987363,
          -1.6562183779368844,
          -0.9608076241416532,
          1.7727570332597742,
          -0.4457864515536005,
          0.4733263459830899,
          -0.1111431812706696,
          -0.6308516353493814,
          -1.5083286013649613,
          -1.8184170618133393,
          -1.577160446581665,
          -1.3084496737397215,
          0.29394673420640693,
          -0.21034035618984062,
          0.22395410087307033,
          0.5071818648650146,
          -1.4180404163946694,
          -0.21388614142527063,
          -0.7728099669727144,
          0.45279731788305944,
          -1.176389429494858,
          1.537074281671399,
          -1.0673529889078999,
          -1.1894210145045987,
          -1.5454669283459765,
          0.30364289543227707,
          -0.2762977037815814,
          1.7831332501465116,
          0.9826029558353301,
          -1.002098401486566,
          -0.16731691773009688,
          1.176134221963469,
          0.3460648331901014,
          -0.32043219503556436,
          -0.3782163252372253,
          0.9571278359770741,
          -0.057274155370753116,
          0.32731766282935837,
          -0.30977457949724585,
          -0.9355114325341685,
          -1.8964276157738422,
          0.2929666305481281,
          -0.7261109260232375,
          -0.5620284230807836,
          0.29595542033167244,
          -1.6709671363176706,
          0.7262858567454336,
          -0.564607728302298
         ],
         "y": [
          0.25012653811443325,
          -0.31263602491902226,
          0.46854191390985994,
          0.3495550634187599,
          1.2779608573542152,
          -0.7195686267733024,
          -0.05377556286345402,
          0.8860961885150416,
          -0.35659558561108556,
          -0.5412418799364572,
          -1.0538607706754788,
          -1.4357015266467925,
          -1.4440825388729484,
          -0.4601463702775817,
          1.0525558771197012,
          -0.6384012471936885,
          -0.3984075707720691,
          0.3217992513734411,
          0.717847534780858,
          0.14786313583922234,
          -0.08921894414927768,
          -0.026447486752192863,
          -0.41781749828547704,
          -0.4258553164011774,
          -0.691041627506832,
          0.2725451758149655,
          1.2146505715089757,
          -0.7164863916632876,
          0.39324350968810945,
          -0.30946916784496414,
          -0.27145136523819957,
          0.6679457848678415,
          -0.07142770435308705,
          0.704443166579191,
          2.157895083594788,
          0.6170696338034954,
          -0.13662952222954544,
          -0.290866965366531,
          -0.4155089124480595,
          -0.15309402200095784,
          1.5221394507416537,
          -1.6249467620767861,
          -0.6965471964753526,
          0.182517283224261,
          0.23350357359802568,
          1.1453466340351426,
          -0.3686827311467193,
          1.957928012194116,
          0.4071672052678087,
          0.58680361903923,
          -0.8828982087450967,
          0.4129260132199946,
          0.6441433598373917,
          0.33372085287296577,
          0.3114578540673428,
          0.30273197459055706,
          -0.0672794267265068,
          0.7311115271348104,
          -1.4610688565261025,
          -1.3620418033258774,
          -1.1749042013895534,
          0.2569253531988617,
          0.3132234789055193,
          -0.4939070459441881,
          -0.38233997444376466,
          -0.8341518456265357,
          -2.275739432967845,
          -1.5981719266949375,
          1.4764816496356954,
          1.2582757204570383,
          -0.4430532726331741,
          -0.21808790791840466,
          -0.2523685759128763,
          -0.600478802244115,
          0.15220587659129273,
          -1.6586124610802093,
          -1.3433717204993254,
          0.9523056125989408,
          -1.9154009199738649,
          -1.3386543561881108,
          -0.8149176443027241,
          0.6388800450354669,
          0.030844994128891724,
          -1.986446346965538,
          -0.22630015828997926,
          -0.27117120976532544,
          -1.176124215365589,
          0.4534877231166138,
          0.1678182902848415,
          0.5552876540147228,
          -0.00964539990285035,
          1.2041724538233955,
          0.024983048147564843,
          0.03429775948556624,
          1.346683258563046,
          0.9870398426730453,
          -0.5747651397935243,
          -1.8469381178596094,
          0.751357199127522,
          0.38951470541379307
         ]
        }
       ],
       "layout": {
        "legend": {
         "bgcolor": "#F5F6F9",
         "font": {
          "color": "#4D5663"
         }
        },
        "paper_bgcolor": "#F5F6F9",
        "plot_bgcolor": "#F5F6F9",
        "template": {
         "data": {
          "bar": [
           {
            "error_x": {
             "color": "#2a3f5f"
            },
            "error_y": {
             "color": "#2a3f5f"
            },
            "marker": {
             "line": {
              "color": "#E5ECF6",
              "width": 0.5
             },
             "pattern": {
              "fillmode": "overlay",
              "size": 10,
              "solidity": 0.2
             }
            },
            "type": "bar"
           }
          ],
          "barpolar": [
           {
            "marker": {
             "line": {
              "color": "#E5ECF6",
              "width": 0.5
             },
             "pattern": {
              "fillmode": "overlay",
              "size": 10,
              "solidity": 0.2
             }
            },
            "type": "barpolar"
           }
          ],
          "carpet": [
           {
            "aaxis": {
             "endlinecolor": "#2a3f5f",
             "gridcolor": "white",
             "linecolor": "white",
             "minorgridcolor": "white",
             "startlinecolor": "#2a3f5f"
            },
            "baxis": {
             "endlinecolor": "#2a3f5f",
             "gridcolor": "white",
             "linecolor": "white",
             "minorgridcolor": "white",
             "startlinecolor": "#2a3f5f"
            },
            "type": "carpet"
           }
          ],
          "choropleth": [
           {
            "colorbar": {
             "outlinewidth": 0,
             "ticks": ""
            },
            "type": "choropleth"
           }
          ],
          "contour": [
           {
            "colorbar": {
             "outlinewidth": 0,
             "ticks": ""
            },
            "colorscale": [
             [
              0,
              "#0d0887"
             ],
             [
              0.1111111111111111,
              "#46039f"
             ],
             [
              0.2222222222222222,
              "#7201a8"
             ],
             [
              0.3333333333333333,
              "#9c179e"
             ],
             [
              0.4444444444444444,
              "#bd3786"
             ],
             [
              0.5555555555555556,
              "#d8576b"
             ],
             [
              0.6666666666666666,
              "#ed7953"
             ],
             [
              0.7777777777777778,
              "#fb9f3a"
             ],
             [
              0.8888888888888888,
              "#fdca26"
             ],
             [
              1,
              "#f0f921"
             ]
            ],
            "type": "contour"
           }
          ],
          "contourcarpet": [
           {
            "colorbar": {
             "outlinewidth": 0,
             "ticks": ""
            },
            "type": "contourcarpet"
           }
          ],
          "heatmap": [
           {
            "colorbar": {
             "outlinewidth": 0,
             "ticks": ""
            },
            "colorscale": [
             [
              0,
              "#0d0887"
             ],
             [
              0.1111111111111111,
              "#46039f"
             ],
             [
              0.2222222222222222,
              "#7201a8"
             ],
             [
              0.3333333333333333,
              "#9c179e"
             ],
             [
              0.4444444444444444,
              "#bd3786"
             ],
             [
              0.5555555555555556,
              "#d8576b"
             ],
             [
              0.6666666666666666,
              "#ed7953"
             ],
             [
              0.7777777777777778,
              "#fb9f3a"
             ],
             [
              0.8888888888888888,
              "#fdca26"
             ],
             [
              1,
              "#f0f921"
             ]
            ],
            "type": "heatmap"
           }
          ],
          "heatmapgl": [
           {
            "colorbar": {
             "outlinewidth": 0,
             "ticks": ""
            },
            "colorscale": [
             [
              0,
              "#0d0887"
             ],
             [
              0.1111111111111111,
              "#46039f"
             ],
             [
              0.2222222222222222,
              "#7201a8"
             ],
             [
              0.3333333333333333,
              "#9c179e"
             ],
             [
              0.4444444444444444,
              "#bd3786"
             ],
             [
              0.5555555555555556,
              "#d8576b"
             ],
             [
              0.6666666666666666,
              "#ed7953"
             ],
             [
              0.7777777777777778,
              "#fb9f3a"
             ],
             [
              0.8888888888888888,
              "#fdca26"
             ],
             [
              1,
              "#f0f921"
             ]
            ],
            "type": "heatmapgl"
           }
          ],
          "histogram": [
           {
            "marker": {
             "pattern": {
              "fillmode": "overlay",
              "size": 10,
              "solidity": 0.2
             }
            },
            "type": "histogram"
           }
          ],
          "histogram2d": [
           {
            "colorbar": {
             "outlinewidth": 0,
             "ticks": ""
            },
            "colorscale": [
             [
              0,
              "#0d0887"
             ],
             [
              0.1111111111111111,
              "#46039f"
             ],
             [
              0.2222222222222222,
              "#7201a8"
             ],
             [
              0.3333333333333333,
              "#9c179e"
             ],
             [
              0.4444444444444444,
              "#bd3786"
             ],
             [
              0.5555555555555556,
              "#d8576b"
             ],
             [
              0.6666666666666666,
              "#ed7953"
             ],
             [
              0.7777777777777778,
              "#fb9f3a"
             ],
             [
              0.8888888888888888,
              "#fdca26"
             ],
             [
              1,
              "#f0f921"
             ]
            ],
            "type": "histogram2d"
           }
          ],
          "histogram2dcontour": [
           {
            "colorbar": {
             "outlinewidth": 0,
             "ticks": ""
            },
            "colorscale": [
             [
              0,
              "#0d0887"
             ],
             [
              0.1111111111111111,
              "#46039f"
             ],
             [
              0.2222222222222222,
              "#7201a8"
             ],
             [
              0.3333333333333333,
              "#9c179e"
             ],
             [
              0.4444444444444444,
              "#bd3786"
             ],
             [
              0.5555555555555556,
              "#d8576b"
             ],
             [
              0.6666666666666666,
              "#ed7953"
             ],
             [
              0.7777777777777778,
              "#fb9f3a"
             ],
             [
              0.8888888888888888,
              "#fdca26"
             ],
             [
              1,
              "#f0f921"
             ]
            ],
            "type": "histogram2dcontour"
           }
          ],
          "mesh3d": [
           {
            "colorbar": {
             "outlinewidth": 0,
             "ticks": ""
            },
            "type": "mesh3d"
           }
          ],
          "parcoords": [
           {
            "line": {
             "colorbar": {
              "outlinewidth": 0,
              "ticks": ""
             }
            },
            "type": "parcoords"
           }
          ],
          "pie": [
           {
            "automargin": true,
            "type": "pie"
           }
          ],
          "scatter": [
           {
            "fillpattern": {
             "fillmode": "overlay",
             "size": 10,
             "solidity": 0.2
            },
            "type": "scatter"
           }
          ],
          "scatter3d": [
           {
            "line": {
             "colorbar": {
              "outlinewidth": 0,
              "ticks": ""
             }
            },
            "marker": {
             "colorbar": {
              "outlinewidth": 0,
              "ticks": ""
             }
            },
            "type": "scatter3d"
           }
          ],
          "scattercarpet": [
           {
            "marker": {
             "colorbar": {
              "outlinewidth": 0,
              "ticks": ""
             }
            },
            "type": "scattercarpet"
           }
          ],
          "scattergeo": [
           {
            "marker": {
             "colorbar": {
              "outlinewidth": 0,
              "ticks": ""
             }
            },
            "type": "scattergeo"
           }
          ],
          "scattergl": [
           {
            "marker": {
             "colorbar": {
              "outlinewidth": 0,
              "ticks": ""
             }
            },
            "type": "scattergl"
           }
          ],
          "scattermapbox": [
           {
            "marker": {
             "colorbar": {
              "outlinewidth": 0,
              "ticks": ""
             }
            },
            "type": "scattermapbox"
           }
          ],
          "scatterpolar": [
           {
            "marker": {
             "colorbar": {
              "outlinewidth": 0,
              "ticks": ""
             }
            },
            "type": "scatterpolar"
           }
          ],
          "scatterpolargl": [
           {
            "marker": {
             "colorbar": {
              "outlinewidth": 0,
              "ticks": ""
             }
            },
            "type": "scatterpolargl"
           }
          ],
          "scatterternary": [
           {
            "marker": {
             "colorbar": {
              "outlinewidth": 0,
              "ticks": ""
             }
            },
            "type": "scatterternary"
           }
          ],
          "surface": [
           {
            "colorbar": {
             "outlinewidth": 0,
             "ticks": ""
            },
            "colorscale": [
             [
              0,
              "#0d0887"
             ],
             [
              0.1111111111111111,
              "#46039f"
             ],
             [
              0.2222222222222222,
              "#7201a8"
             ],
             [
              0.3333333333333333,
              "#9c179e"
             ],
             [
              0.4444444444444444,
              "#bd3786"
             ],
             [
              0.5555555555555556,
              "#d8576b"
             ],
             [
              0.6666666666666666,
              "#ed7953"
             ],
             [
              0.7777777777777778,
              "#fb9f3a"
             ],
             [
              0.8888888888888888,
              "#fdca26"
             ],
             [
              1,
              "#f0f921"
             ]
            ],
            "type": "surface"
           }
          ],
          "table": [
           {
            "cells": {
             "fill": {
              "color": "#EBF0F8"
             },
             "line": {
              "color": "white"
             }
            },
            "header": {
             "fill": {
              "color": "#C8D4E3"
             },
             "line": {
              "color": "white"
             }
            },
            "type": "table"
           }
          ]
         },
         "layout": {
          "annotationdefaults": {
           "arrowcolor": "#2a3f5f",
           "arrowhead": 0,
           "arrowwidth": 1
          },
          "autotypenumbers": "strict",
          "coloraxis": {
           "colorbar": {
            "outlinewidth": 0,
            "ticks": ""
           }
          },
          "colorscale": {
           "diverging": [
            [
             0,
             "#8e0152"
            ],
            [
             0.1,
             "#c51b7d"
            ],
            [
             0.2,
             "#de77ae"
            ],
            [
             0.3,
             "#f1b6da"
            ],
            [
             0.4,
             "#fde0ef"
            ],
            [
             0.5,
             "#f7f7f7"
            ],
            [
             0.6,
             "#e6f5d0"
            ],
            [
             0.7,
             "#b8e186"
            ],
            [
             0.8,
             "#7fbc41"
            ],
            [
             0.9,
             "#4d9221"
            ],
            [
             1,
             "#276419"
            ]
           ],
           "sequential": [
            [
             0,
             "#0d0887"
            ],
            [
             0.1111111111111111,
             "#46039f"
            ],
            [
             0.2222222222222222,
             "#7201a8"
            ],
            [
             0.3333333333333333,
             "#9c179e"
            ],
            [
             0.4444444444444444,
             "#bd3786"
            ],
            [
             0.5555555555555556,
             "#d8576b"
            ],
            [
             0.6666666666666666,
             "#ed7953"
            ],
            [
             0.7777777777777778,
             "#fb9f3a"
            ],
            [
             0.8888888888888888,
             "#fdca26"
            ],
            [
             1,
             "#f0f921"
            ]
           ],
           "sequentialminus": [
            [
             0,
             "#0d0887"
            ],
            [
             0.1111111111111111,
             "#46039f"
            ],
            [
             0.2222222222222222,
             "#7201a8"
            ],
            [
             0.3333333333333333,
             "#9c179e"
            ],
            [
             0.4444444444444444,
             "#bd3786"
            ],
            [
             0.5555555555555556,
             "#d8576b"
            ],
            [
             0.6666666666666666,
             "#ed7953"
            ],
            [
             0.7777777777777778,
             "#fb9f3a"
            ],
            [
             0.8888888888888888,
             "#fdca26"
            ],
            [
             1,
             "#f0f921"
            ]
           ]
          },
          "colorway": [
           "#636efa",
           "#EF553B",
           "#00cc96",
           "#ab63fa",
           "#FFA15A",
           "#19d3f3",
           "#FF6692",
           "#B6E880",
           "#FF97FF",
           "#FECB52"
          ],
          "font": {
           "color": "#2a3f5f"
          },
          "geo": {
           "bgcolor": "white",
           "lakecolor": "white",
           "landcolor": "#E5ECF6",
           "showlakes": true,
           "showland": true,
           "subunitcolor": "white"
          },
          "hoverlabel": {
           "align": "left"
          },
          "hovermode": "closest",
          "mapbox": {
           "style": "light"
          },
          "paper_bgcolor": "white",
          "plot_bgcolor": "#E5ECF6",
          "polar": {
           "angularaxis": {
            "gridcolor": "white",
            "linecolor": "white",
            "ticks": ""
           },
           "bgcolor": "#E5ECF6",
           "radialaxis": {
            "gridcolor": "white",
            "linecolor": "white",
            "ticks": ""
           }
          },
          "scene": {
           "xaxis": {
            "backgroundcolor": "#E5ECF6",
            "gridcolor": "white",
            "gridwidth": 2,
            "linecolor": "white",
            "showbackground": true,
            "ticks": "",
            "zerolinecolor": "white"
           },
           "yaxis": {
            "backgroundcolor": "#E5ECF6",
            "gridcolor": "white",
            "gridwidth": 2,
            "linecolor": "white",
            "showbackground": true,
            "ticks": "",
            "zerolinecolor": "white"
           },
           "zaxis": {
            "backgroundcolor": "#E5ECF6",
            "gridcolor": "white",
            "gridwidth": 2,
            "linecolor": "white",
            "showbackground": true,
            "ticks": "",
            "zerolinecolor": "white"
           }
          },
          "shapedefaults": {
           "line": {
            "color": "#2a3f5f"
           }
          },
          "ternary": {
           "aaxis": {
            "gridcolor": "white",
            "linecolor": "white",
            "ticks": ""
           },
           "baxis": {
            "gridcolor": "white",
            "linecolor": "white",
            "ticks": ""
           },
           "bgcolor": "#E5ECF6",
           "caxis": {
            "gridcolor": "white",
            "linecolor": "white",
            "ticks": ""
           }
          },
          "title": {
           "x": 0.05
          },
          "xaxis": {
           "automargin": true,
           "gridcolor": "white",
           "linecolor": "white",
           "ticks": "",
           "title": {
            "standoff": 15
           },
           "zerolinecolor": "white",
           "zerolinewidth": 2
          },
          "yaxis": {
           "automargin": true,
           "gridcolor": "white",
           "linecolor": "white",
           "ticks": "",
           "title": {
            "standoff": 15
           },
           "zerolinecolor": "white",
           "zerolinewidth": 2
          }
         }
        },
        "title": {
         "font": {
          "color": "#4D5663"
         }
        },
        "xaxis": {
         "gridcolor": "#E1E5ED",
         "showgrid": true,
         "tickfont": {
          "color": "#4D5663"
         },
         "title": {
          "font": {
           "color": "#4D5663"
          },
          "text": ""
         },
         "zerolinecolor": "#E1E5ED"
        },
        "yaxis": {
         "gridcolor": "#E1E5ED",
         "showgrid": true,
         "tickfont": {
          "color": "#4D5663"
         },
         "title": {
          "font": {
           "color": "#4D5663"
          },
          "text": ""
         },
         "zerolinecolor": "#E1E5ED"
        }
       }
      },
      "text/html": [
       "<div>                            <div id=\"30caaf88-b2da-45ed-b91e-5d989bc3d084\" class=\"plotly-graph-div\" style=\"height:525px; width:100%;\"></div>            <script type=\"text/javascript\">                require([\"plotly\"], function(Plotly) {                    window.PLOTLYENV=window.PLOTLYENV || {};\n",
       "                    window.PLOTLYENV.BASE_URL='https://plot.ly';                                    if (document.getElementById(\"30caaf88-b2da-45ed-b91e-5d989bc3d084\")) {                    Plotly.newPlot(                        \"30caaf88-b2da-45ed-b91e-5d989bc3d084\",                        [{\"marker\":{\"color\":[\"rgb(255, 153, 51)\",\"rgb(55, 128, 191)\",\"rgb(50, 171, 96)\",\"rgb(128, 0, 128)\",\"rgb(219, 64, 82)\",\"rgb(0, 128, 128)\",\"rgb(255, 255, 51)\",\"rgb(128, 128, 0)\",\"rgb(251, 128, 114)\",\"rgb(128, 177, 211)\"],\"line\":{\"width\":1.3},\"size\":[44,57,63,40,41,76,37,49,78,72,49,53,58,27,63,71,45,63,73,30,67,45,42,24,89,28,53,12,46,67,73,66,38,32,48,52,61,67,20,35,63,39,15,38,73,17,66,52,50,22,55,112,47,50,51,73,58,63,57,62,57,58,57,51,66,33,43,12,58,32,35,27,37,42,49,60,22,47,44,29,24,53,39,32,53,43,66,45,82,13,48,47,24,60,63,101,15,20,49,55],\"symbol\":\"circle\"},\"mode\":\"markers\",\"text\":\"\",\"x\":[-1.9155992047694723,-0.4481315159572726,-0.11667812727294494,-0.47405025229684344,0.5746676894222532,-1.5551821928115497,-1.072363124361193,1.2249086267193,-3.3367698414674267,-1.011489626579287,0.6314459569116476,0.08220392031662183,-1.491849155089903,-2.6826923465190182,-1.406142682152996,-0.09669026493158919,0.6255108134307167,-0.8998558810491614,-0.2756313164584835,0.3713126358915743,-0.14945511870764175,-2.7250214453982338,-0.497935347176919,-0.7794784042791113,-0.30309488487554737,-0.7033732528019522,0.07862498827643226,-0.49979720991996174,-0.6002810486693904,0.718931878030546,0.2590887953878619,0.9060597459809786,-0.4190053741867893,-0.674433060377967,0.10545055429225647,1.2703935062900036,0.08983878160980747,0.6570432262514,-1.0176071028493356,0.6749140899996501,0.08417298484397781,0.8001476730499851,-0.12399513898835102,0.6274206095826046,-1.318877425164554,0.8164515931433367,0.09393732573798273,1.1206004281742687,0.8579900755978948,0.14911973244187204,0.9711897159096959,0.15869343459827023,0.20449045179987363,-1.6562183779368844,-0.9608076241416532,1.7727570332597742,-0.4457864515536005,0.4733263459830899,-0.1111431812706696,-0.6308516353493814,-1.5083286013649613,-1.8184170618133393,-1.577160446581665,-1.3084496737397215,0.29394673420640693,-0.21034035618984062,0.22395410087307033,0.5071818648650146,-1.4180404163946694,-0.21388614142527063,-0.7728099669727144,0.45279731788305944,-1.176389429494858,1.537074281671399,-1.0673529889078999,-1.1894210145045987,-1.5454669283459765,0.30364289543227707,-0.2762977037815814,1.7831332501465116,0.9826029558353301,-1.002098401486566,-0.16731691773009688,1.176134221963469,0.3460648331901014,-0.32043219503556436,-0.3782163252372253,0.9571278359770741,-0.057274155370753116,0.32731766282935837,-0.30977457949724585,-0.9355114325341685,-1.8964276157738422,0.2929666305481281,-0.7261109260232375,-0.5620284230807836,0.29595542033167244,-1.6709671363176706,0.7262858567454336,-0.564607728302298],\"y\":[0.25012653811443325,-0.31263602491902226,0.46854191390985994,0.3495550634187599,1.2779608573542152,-0.7195686267733024,-0.05377556286345402,0.8860961885150416,-0.35659558561108556,-0.5412418799364572,-1.0538607706754788,-1.4357015266467925,-1.4440825388729484,-0.4601463702775817,1.0525558771197012,-0.6384012471936885,-0.3984075707720691,0.3217992513734411,0.717847534780858,0.14786313583922234,-0.08921894414927768,-0.026447486752192863,-0.41781749828547704,-0.4258553164011774,-0.691041627506832,0.2725451758149655,1.2146505715089757,-0.7164863916632876,0.39324350968810945,-0.30946916784496414,-0.27145136523819957,0.6679457848678415,-0.07142770435308705,0.704443166579191,2.157895083594788,0.6170696338034954,-0.13662952222954544,-0.290866965366531,-0.4155089124480595,-0.15309402200095784,1.5221394507416537,-1.6249467620767861,-0.6965471964753526,0.182517283224261,0.23350357359802568,1.1453466340351426,-0.3686827311467193,1.957928012194116,0.4071672052678087,0.58680361903923,-0.8828982087450967,0.4129260132199946,0.6441433598373917,0.33372085287296577,0.3114578540673428,0.30273197459055706,-0.0672794267265068,0.7311115271348104,-1.4610688565261025,-1.3620418033258774,-1.1749042013895534,0.2569253531988617,0.3132234789055193,-0.4939070459441881,-0.38233997444376466,-0.8341518456265357,-2.275739432967845,-1.5981719266949375,1.4764816496356954,1.2582757204570383,-0.4430532726331741,-0.21808790791840466,-0.2523685759128763,-0.600478802244115,0.15220587659129273,-1.6586124610802093,-1.3433717204993254,0.9523056125989408,-1.9154009199738649,-1.3386543561881108,-0.8149176443027241,0.6388800450354669,0.030844994128891724,-1.986446346965538,-0.22630015828997926,-0.27117120976532544,-1.176124215365589,0.4534877231166138,0.1678182902848415,0.5552876540147228,-0.00964539990285035,1.2041724538233955,0.024983048147564843,0.03429775948556624,1.346683258563046,0.9870398426730453,-0.5747651397935243,-1.8469381178596094,0.751357199127522,0.38951470541379307],\"type\":\"scatter\"}],                        {\"legend\":{\"bgcolor\":\"#F5F6F9\",\"font\":{\"color\":\"#4D5663\"}},\"paper_bgcolor\":\"#F5F6F9\",\"plot_bgcolor\":\"#F5F6F9\",\"template\":{\"data\":{\"barpolar\":[{\"marker\":{\"line\":{\"color\":\"#E5ECF6\",\"width\":0.5},\"pattern\":{\"fillmode\":\"overlay\",\"size\":10,\"solidity\":0.2}},\"type\":\"barpolar\"}],\"bar\":[{\"error_x\":{\"color\":\"#2a3f5f\"},\"error_y\":{\"color\":\"#2a3f5f\"},\"marker\":{\"line\":{\"color\":\"#E5ECF6\",\"width\":0.5},\"pattern\":{\"fillmode\":\"overlay\",\"size\":10,\"solidity\":0.2}},\"type\":\"bar\"}],\"carpet\":[{\"aaxis\":{\"endlinecolor\":\"#2a3f5f\",\"gridcolor\":\"white\",\"linecolor\":\"white\",\"minorgridcolor\":\"white\",\"startlinecolor\":\"#2a3f5f\"},\"baxis\":{\"endlinecolor\":\"#2a3f5f\",\"gridcolor\":\"white\",\"linecolor\":\"white\",\"minorgridcolor\":\"white\",\"startlinecolor\":\"#2a3f5f\"},\"type\":\"carpet\"}],\"choropleth\":[{\"colorbar\":{\"outlinewidth\":0,\"ticks\":\"\"},\"type\":\"choropleth\"}],\"contourcarpet\":[{\"colorbar\":{\"outlinewidth\":0,\"ticks\":\"\"},\"type\":\"contourcarpet\"}],\"contour\":[{\"colorbar\":{\"outlinewidth\":0,\"ticks\":\"\"},\"colorscale\":[[0.0,\"#0d0887\"],[0.1111111111111111,\"#46039f\"],[0.2222222222222222,\"#7201a8\"],[0.3333333333333333,\"#9c179e\"],[0.4444444444444444,\"#bd3786\"],[0.5555555555555556,\"#d8576b\"],[0.6666666666666666,\"#ed7953\"],[0.7777777777777778,\"#fb9f3a\"],[0.8888888888888888,\"#fdca26\"],[1.0,\"#f0f921\"]],\"type\":\"contour\"}],\"heatmapgl\":[{\"colorbar\":{\"outlinewidth\":0,\"ticks\":\"\"},\"colorscale\":[[0.0,\"#0d0887\"],[0.1111111111111111,\"#46039f\"],[0.2222222222222222,\"#7201a8\"],[0.3333333333333333,\"#9c179e\"],[0.4444444444444444,\"#bd3786\"],[0.5555555555555556,\"#d8576b\"],[0.6666666666666666,\"#ed7953\"],[0.7777777777777778,\"#fb9f3a\"],[0.8888888888888888,\"#fdca26\"],[1.0,\"#f0f921\"]],\"type\":\"heatmapgl\"}],\"heatmap\":[{\"colorbar\":{\"outlinewidth\":0,\"ticks\":\"\"},\"colorscale\":[[0.0,\"#0d0887\"],[0.1111111111111111,\"#46039f\"],[0.2222222222222222,\"#7201a8\"],[0.3333333333333333,\"#9c179e\"],[0.4444444444444444,\"#bd3786\"],[0.5555555555555556,\"#d8576b\"],[0.6666666666666666,\"#ed7953\"],[0.7777777777777778,\"#fb9f3a\"],[0.8888888888888888,\"#fdca26\"],[1.0,\"#f0f921\"]],\"type\":\"heatmap\"}],\"histogram2dcontour\":[{\"colorbar\":{\"outlinewidth\":0,\"ticks\":\"\"},\"colorscale\":[[0.0,\"#0d0887\"],[0.1111111111111111,\"#46039f\"],[0.2222222222222222,\"#7201a8\"],[0.3333333333333333,\"#9c179e\"],[0.4444444444444444,\"#bd3786\"],[0.5555555555555556,\"#d8576b\"],[0.6666666666666666,\"#ed7953\"],[0.7777777777777778,\"#fb9f3a\"],[0.8888888888888888,\"#fdca26\"],[1.0,\"#f0f921\"]],\"type\":\"histogram2dcontour\"}],\"histogram2d\":[{\"colorbar\":{\"outlinewidth\":0,\"ticks\":\"\"},\"colorscale\":[[0.0,\"#0d0887\"],[0.1111111111111111,\"#46039f\"],[0.2222222222222222,\"#7201a8\"],[0.3333333333333333,\"#9c179e\"],[0.4444444444444444,\"#bd3786\"],[0.5555555555555556,\"#d8576b\"],[0.6666666666666666,\"#ed7953\"],[0.7777777777777778,\"#fb9f3a\"],[0.8888888888888888,\"#fdca26\"],[1.0,\"#f0f921\"]],\"type\":\"histogram2d\"}],\"histogram\":[{\"marker\":{\"pattern\":{\"fillmode\":\"overlay\",\"size\":10,\"solidity\":0.2}},\"type\":\"histogram\"}],\"mesh3d\":[{\"colorbar\":{\"outlinewidth\":0,\"ticks\":\"\"},\"type\":\"mesh3d\"}],\"parcoords\":[{\"line\":{\"colorbar\":{\"outlinewidth\":0,\"ticks\":\"\"}},\"type\":\"parcoords\"}],\"pie\":[{\"automargin\":true,\"type\":\"pie\"}],\"scatter3d\":[{\"line\":{\"colorbar\":{\"outlinewidth\":0,\"ticks\":\"\"}},\"marker\":{\"colorbar\":{\"outlinewidth\":0,\"ticks\":\"\"}},\"type\":\"scatter3d\"}],\"scattercarpet\":[{\"marker\":{\"colorbar\":{\"outlinewidth\":0,\"ticks\":\"\"}},\"type\":\"scattercarpet\"}],\"scattergeo\":[{\"marker\":{\"colorbar\":{\"outlinewidth\":0,\"ticks\":\"\"}},\"type\":\"scattergeo\"}],\"scattergl\":[{\"marker\":{\"colorbar\":{\"outlinewidth\":0,\"ticks\":\"\"}},\"type\":\"scattergl\"}],\"scattermapbox\":[{\"marker\":{\"colorbar\":{\"outlinewidth\":0,\"ticks\":\"\"}},\"type\":\"scattermapbox\"}],\"scatterpolargl\":[{\"marker\":{\"colorbar\":{\"outlinewidth\":0,\"ticks\":\"\"}},\"type\":\"scatterpolargl\"}],\"scatterpolar\":[{\"marker\":{\"colorbar\":{\"outlinewidth\":0,\"ticks\":\"\"}},\"type\":\"scatterpolar\"}],\"scatter\":[{\"fillpattern\":{\"fillmode\":\"overlay\",\"size\":10,\"solidity\":0.2},\"type\":\"scatter\"}],\"scatterternary\":[{\"marker\":{\"colorbar\":{\"outlinewidth\":0,\"ticks\":\"\"}},\"type\":\"scatterternary\"}],\"surface\":[{\"colorbar\":{\"outlinewidth\":0,\"ticks\":\"\"},\"colorscale\":[[0.0,\"#0d0887\"],[0.1111111111111111,\"#46039f\"],[0.2222222222222222,\"#7201a8\"],[0.3333333333333333,\"#9c179e\"],[0.4444444444444444,\"#bd3786\"],[0.5555555555555556,\"#d8576b\"],[0.6666666666666666,\"#ed7953\"],[0.7777777777777778,\"#fb9f3a\"],[0.8888888888888888,\"#fdca26\"],[1.0,\"#f0f921\"]],\"type\":\"surface\"}],\"table\":[{\"cells\":{\"fill\":{\"color\":\"#EBF0F8\"},\"line\":{\"color\":\"white\"}},\"header\":{\"fill\":{\"color\":\"#C8D4E3\"},\"line\":{\"color\":\"white\"}},\"type\":\"table\"}]},\"layout\":{\"annotationdefaults\":{\"arrowcolor\":\"#2a3f5f\",\"arrowhead\":0,\"arrowwidth\":1},\"autotypenumbers\":\"strict\",\"coloraxis\":{\"colorbar\":{\"outlinewidth\":0,\"ticks\":\"\"}},\"colorscale\":{\"diverging\":[[0,\"#8e0152\"],[0.1,\"#c51b7d\"],[0.2,\"#de77ae\"],[0.3,\"#f1b6da\"],[0.4,\"#fde0ef\"],[0.5,\"#f7f7f7\"],[0.6,\"#e6f5d0\"],[0.7,\"#b8e186\"],[0.8,\"#7fbc41\"],[0.9,\"#4d9221\"],[1,\"#276419\"]],\"sequential\":[[0.0,\"#0d0887\"],[0.1111111111111111,\"#46039f\"],[0.2222222222222222,\"#7201a8\"],[0.3333333333333333,\"#9c179e\"],[0.4444444444444444,\"#bd3786\"],[0.5555555555555556,\"#d8576b\"],[0.6666666666666666,\"#ed7953\"],[0.7777777777777778,\"#fb9f3a\"],[0.8888888888888888,\"#fdca26\"],[1.0,\"#f0f921\"]],\"sequentialminus\":[[0.0,\"#0d0887\"],[0.1111111111111111,\"#46039f\"],[0.2222222222222222,\"#7201a8\"],[0.3333333333333333,\"#9c179e\"],[0.4444444444444444,\"#bd3786\"],[0.5555555555555556,\"#d8576b\"],[0.6666666666666666,\"#ed7953\"],[0.7777777777777778,\"#fb9f3a\"],[0.8888888888888888,\"#fdca26\"],[1.0,\"#f0f921\"]]},\"colorway\":[\"#636efa\",\"#EF553B\",\"#00cc96\",\"#ab63fa\",\"#FFA15A\",\"#19d3f3\",\"#FF6692\",\"#B6E880\",\"#FF97FF\",\"#FECB52\"],\"font\":{\"color\":\"#2a3f5f\"},\"geo\":{\"bgcolor\":\"white\",\"lakecolor\":\"white\",\"landcolor\":\"#E5ECF6\",\"showlakes\":true,\"showland\":true,\"subunitcolor\":\"white\"},\"hoverlabel\":{\"align\":\"left\"},\"hovermode\":\"closest\",\"mapbox\":{\"style\":\"light\"},\"paper_bgcolor\":\"white\",\"plot_bgcolor\":\"#E5ECF6\",\"polar\":{\"angularaxis\":{\"gridcolor\":\"white\",\"linecolor\":\"white\",\"ticks\":\"\"},\"bgcolor\":\"#E5ECF6\",\"radialaxis\":{\"gridcolor\":\"white\",\"linecolor\":\"white\",\"ticks\":\"\"}},\"scene\":{\"xaxis\":{\"backgroundcolor\":\"#E5ECF6\",\"gridcolor\":\"white\",\"gridwidth\":2,\"linecolor\":\"white\",\"showbackground\":true,\"ticks\":\"\",\"zerolinecolor\":\"white\"},\"yaxis\":{\"backgroundcolor\":\"#E5ECF6\",\"gridcolor\":\"white\",\"gridwidth\":2,\"linecolor\":\"white\",\"showbackground\":true,\"ticks\":\"\",\"zerolinecolor\":\"white\"},\"zaxis\":{\"backgroundcolor\":\"#E5ECF6\",\"gridcolor\":\"white\",\"gridwidth\":2,\"linecolor\":\"white\",\"showbackground\":true,\"ticks\":\"\",\"zerolinecolor\":\"white\"}},\"shapedefaults\":{\"line\":{\"color\":\"#2a3f5f\"}},\"ternary\":{\"aaxis\":{\"gridcolor\":\"white\",\"linecolor\":\"white\",\"ticks\":\"\"},\"baxis\":{\"gridcolor\":\"white\",\"linecolor\":\"white\",\"ticks\":\"\"},\"bgcolor\":\"#E5ECF6\",\"caxis\":{\"gridcolor\":\"white\",\"linecolor\":\"white\",\"ticks\":\"\"}},\"title\":{\"x\":0.05},\"xaxis\":{\"automargin\":true,\"gridcolor\":\"white\",\"linecolor\":\"white\",\"ticks\":\"\",\"title\":{\"standoff\":15},\"zerolinecolor\":\"white\",\"zerolinewidth\":2},\"yaxis\":{\"automargin\":true,\"gridcolor\":\"white\",\"linecolor\":\"white\",\"ticks\":\"\",\"title\":{\"standoff\":15},\"zerolinecolor\":\"white\",\"zerolinewidth\":2}}},\"title\":{\"font\":{\"color\":\"#4D5663\"}},\"xaxis\":{\"gridcolor\":\"#E1E5ED\",\"showgrid\":true,\"tickfont\":{\"color\":\"#4D5663\"},\"title\":{\"font\":{\"color\":\"#4D5663\"},\"text\":\"\"},\"zerolinecolor\":\"#E1E5ED\"},\"yaxis\":{\"gridcolor\":\"#E1E5ED\",\"showgrid\":true,\"tickfont\":{\"color\":\"#4D5663\"},\"title\":{\"font\":{\"color\":\"#4D5663\"},\"text\":\"\"},\"zerolinecolor\":\"#E1E5ED\"}},                        {\"showLink\": true, \"linkText\": \"Export to plot.ly\", \"plotlyServerURL\": \"https://plot.ly\", \"responsive\": true}                    ).then(function(){\n",
       "                            \n",
       "var gd = document.getElementById('30caaf88-b2da-45ed-b91e-5d989bc3d084');\n",
       "var x = new MutationObserver(function (mutations, observer) {{\n",
       "        var display = window.getComputedStyle(gd).display;\n",
       "        if (!display || display === 'none') {{\n",
       "            console.log([gd, 'removed!']);\n",
       "            Plotly.purge(gd);\n",
       "            observer.disconnect();\n",
       "        }}\n",
       "}});\n",
       "\n",
       "// Listen for the removal of the full notebook cells\n",
       "var notebookContainer = gd.closest('#notebook-container');\n",
       "if (notebookContainer) {{\n",
       "    x.observe(notebookContainer, {childList: true});\n",
       "}}\n",
       "\n",
       "// Listen for the clearing of the current output cell\n",
       "var outputEl = gd.closest('.output');\n",
       "if (outputEl) {{\n",
       "    x.observe(outputEl, {childList: true});\n",
       "}}\n",
       "\n",
       "                        })                };                });            </script>        </div>"
      ]
     },
     "metadata": {},
     "output_type": "display_data"
    }
   ],
   "source": [
    "df.iplot(kind='bubble',x='A',y='B',size='C')"
   ]
  },
  {
   "cell_type": "code",
   "execution_count": 19,
   "metadata": {},
   "outputs": [
    {
     "data": {
      "application/vnd.plotly.v1+json": {
       "config": {
        "linkText": "Export to plot.ly",
        "plotlyServerURL": "https://plot.ly",
        "showLink": true
       },
       "data": [
        {
         "histfunc": "count",
         "histnorm": "",
         "marker": {
          "color": "rgba(255, 153, 51, 1.0)",
          "line": {
           "color": "#4D5663",
           "width": 1.3
          }
         },
         "name": "A",
         "nbinsx": 10,
         "opacity": 0.8,
         "orientation": "v",
         "type": "histogram",
         "x": [
          -1.9155992047694723,
          -0.4481315159572726,
          -0.11667812727294494,
          -0.47405025229684344,
          0.5746676894222532,
          -1.5551821928115497,
          -1.072363124361193,
          1.2249086267193,
          -3.3367698414674267,
          -1.011489626579287,
          0.6314459569116476,
          0.08220392031662183,
          -1.491849155089903,
          -2.6826923465190182,
          -1.406142682152996,
          -0.09669026493158919,
          0.6255108134307167,
          -0.8998558810491614,
          -0.2756313164584835,
          0.3713126358915743,
          -0.14945511870764175,
          -2.7250214453982338,
          -0.497935347176919,
          -0.7794784042791113,
          -0.30309488487554737,
          -0.7033732528019522,
          0.07862498827643226,
          -0.49979720991996174,
          -0.6002810486693904,
          0.718931878030546,
          0.2590887953878619,
          0.9060597459809786,
          -0.4190053741867893,
          -0.674433060377967,
          0.10545055429225647,
          1.2703935062900036,
          0.08983878160980747,
          0.6570432262514,
          -1.0176071028493356,
          0.6749140899996501,
          0.08417298484397781,
          0.8001476730499851,
          -0.12399513898835102,
          0.6274206095826046,
          -1.318877425164554,
          0.8164515931433367,
          0.09393732573798273,
          1.1206004281742687,
          0.8579900755978948,
          0.14911973244187204,
          0.9711897159096959,
          0.15869343459827023,
          0.20449045179987363,
          -1.6562183779368844,
          -0.9608076241416532,
          1.7727570332597742,
          -0.4457864515536005,
          0.4733263459830899,
          -0.1111431812706696,
          -0.6308516353493814,
          -1.5083286013649613,
          -1.8184170618133393,
          -1.577160446581665,
          -1.3084496737397215,
          0.29394673420640693,
          -0.21034035618984062,
          0.22395410087307033,
          0.5071818648650146,
          -1.4180404163946694,
          -0.21388614142527063,
          -0.7728099669727144,
          0.45279731788305944,
          -1.176389429494858,
          1.537074281671399,
          -1.0673529889078999,
          -1.1894210145045987,
          -1.5454669283459765,
          0.30364289543227707,
          -0.2762977037815814,
          1.7831332501465116,
          0.9826029558353301,
          -1.002098401486566,
          -0.16731691773009688,
          1.176134221963469,
          0.3460648331901014,
          -0.32043219503556436,
          -0.3782163252372253,
          0.9571278359770741,
          -0.057274155370753116,
          0.32731766282935837,
          -0.30977457949724585,
          -0.9355114325341685,
          -1.8964276157738422,
          0.2929666305481281,
          -0.7261109260232375,
          -0.5620284230807836,
          0.29595542033167244,
          -1.6709671363176706,
          0.7262858567454336,
          -0.564607728302298
         ],
         "xaxis": "x",
         "yaxis": "y"
        },
        {
         "line": {
          "color": "rgba(128, 128, 128, 1.0)",
          "dash": "solid",
          "shape": "linear",
          "width": 1.3
         },
         "marker": {
          "size": 2,
          "symbol": "circle"
         },
         "mode": "markers",
         "name": "A",
         "text": "",
         "type": "scatter",
         "x": [
          0.25012653811443325,
          -0.31263602491902226,
          0.46854191390985994,
          0.3495550634187599,
          1.2779608573542152,
          -0.7195686267733024,
          -0.05377556286345402,
          0.8860961885150416,
          -0.35659558561108556,
          -0.5412418799364572,
          -1.0538607706754788,
          -1.4357015266467925,
          -1.4440825388729484,
          -0.4601463702775817,
          1.0525558771197012,
          -0.6384012471936885,
          -0.3984075707720691,
          0.3217992513734411,
          0.717847534780858,
          0.14786313583922234,
          -0.08921894414927768,
          -0.026447486752192863,
          -0.41781749828547704,
          -0.4258553164011774,
          -0.691041627506832,
          0.2725451758149655,
          1.2146505715089757,
          -0.7164863916632876,
          0.39324350968810945,
          -0.30946916784496414,
          -0.27145136523819957,
          0.6679457848678415,
          -0.07142770435308705,
          0.704443166579191,
          2.157895083594788,
          0.6170696338034954,
          -0.13662952222954544,
          -0.290866965366531,
          -0.4155089124480595,
          -0.15309402200095784,
          1.5221394507416537,
          -1.6249467620767861,
          -0.6965471964753526,
          0.182517283224261,
          0.23350357359802568,
          1.1453466340351426,
          -0.3686827311467193,
          1.957928012194116,
          0.4071672052678087,
          0.58680361903923,
          -0.8828982087450967,
          0.4129260132199946,
          0.6441433598373917,
          0.33372085287296577,
          0.3114578540673428,
          0.30273197459055706,
          -0.0672794267265068,
          0.7311115271348104,
          -1.4610688565261025,
          -1.3620418033258774,
          -1.1749042013895534,
          0.2569253531988617,
          0.3132234789055193,
          -0.4939070459441881,
          -0.38233997444376466,
          -0.8341518456265357,
          -2.275739432967845,
          -1.5981719266949375,
          1.4764816496356954,
          1.2582757204570383,
          -0.4430532726331741,
          -0.21808790791840466,
          -0.2523685759128763,
          -0.600478802244115,
          0.15220587659129273,
          -1.6586124610802093,
          -1.3433717204993254,
          0.9523056125989408,
          -1.9154009199738649,
          -1.3386543561881108,
          -0.8149176443027241,
          0.6388800450354669,
          0.030844994128891724,
          -1.986446346965538,
          -0.22630015828997926,
          -0.27117120976532544,
          -1.176124215365589,
          0.4534877231166138,
          0.1678182902848415,
          0.5552876540147228,
          -0.00964539990285035,
          1.2041724538233955,
          0.024983048147564843,
          0.03429775948556624,
          1.346683258563046,
          0.9870398426730453,
          -0.5747651397935243,
          -1.8469381178596094,
          0.751357199127522,
          0.38951470541379307
         ],
         "xaxis": "x2",
         "y": [
          -1.9155992047694723,
          -0.4481315159572726,
          -0.11667812727294494,
          -0.47405025229684344,
          0.5746676894222532,
          -1.5551821928115497,
          -1.072363124361193,
          1.2249086267193,
          -3.3367698414674267,
          -1.011489626579287,
          0.6314459569116476,
          0.08220392031662183,
          -1.491849155089903,
          -2.6826923465190182,
          -1.406142682152996,
          -0.09669026493158919,
          0.6255108134307167,
          -0.8998558810491614,
          -0.2756313164584835,
          0.3713126358915743,
          -0.14945511870764175,
          -2.7250214453982338,
          -0.497935347176919,
          -0.7794784042791113,
          -0.30309488487554737,
          -0.7033732528019522,
          0.07862498827643226,
          -0.49979720991996174,
          -0.6002810486693904,
          0.718931878030546,
          0.2590887953878619,
          0.9060597459809786,
          -0.4190053741867893,
          -0.674433060377967,
          0.10545055429225647,
          1.2703935062900036,
          0.08983878160980747,
          0.6570432262514,
          -1.0176071028493356,
          0.6749140899996501,
          0.08417298484397781,
          0.8001476730499851,
          -0.12399513898835102,
          0.6274206095826046,
          -1.318877425164554,
          0.8164515931433367,
          0.09393732573798273,
          1.1206004281742687,
          0.8579900755978948,
          0.14911973244187204,
          0.9711897159096959,
          0.15869343459827023,
          0.20449045179987363,
          -1.6562183779368844,
          -0.9608076241416532,
          1.7727570332597742,
          -0.4457864515536005,
          0.4733263459830899,
          -0.1111431812706696,
          -0.6308516353493814,
          -1.5083286013649613,
          -1.8184170618133393,
          -1.577160446581665,
          -1.3084496737397215,
          0.29394673420640693,
          -0.21034035618984062,
          0.22395410087307033,
          0.5071818648650146,
          -1.4180404163946694,
          -0.21388614142527063,
          -0.7728099669727144,
          0.45279731788305944,
          -1.176389429494858,
          1.537074281671399,
          -1.0673529889078999,
          -1.1894210145045987,
          -1.5454669283459765,
          0.30364289543227707,
          -0.2762977037815814,
          1.7831332501465116,
          0.9826029558353301,
          -1.002098401486566,
          -0.16731691773009688,
          1.176134221963469,
          0.3460648331901014,
          -0.32043219503556436,
          -0.3782163252372253,
          0.9571278359770741,
          -0.057274155370753116,
          0.32731766282935837,
          -0.30977457949724585,
          -0.9355114325341685,
          -1.8964276157738422,
          0.2929666305481281,
          -0.7261109260232375,
          -0.5620284230807836,
          0.29595542033167244,
          -1.6709671363176706,
          0.7262858567454336,
          -0.564607728302298
         ],
         "yaxis": "y2"
        },
        {
         "line": {
          "color": "rgba(128, 128, 128, 1.0)",
          "dash": "solid",
          "shape": "linear",
          "width": 1.3
         },
         "marker": {
          "size": 2,
          "symbol": "circle"
         },
         "mode": "markers",
         "name": "A",
         "text": "",
         "type": "scatter",
         "x": [
          -0.33147941212230614,
          0.4030748389856743,
          0.775394702177516,
          -0.6034415754468376,
          -0.515548867017618,
          1.5761779599884451,
          -0.7910572237007015,
          -0.07598643557492382,
          1.6776710519354656,
          1.325248722840458,
          -0.057994098701497604,
          0.1797865482746144,
          0.514515206533345,
          -1.341690880163176,
          0.7736138888697905,
          1.2761533474012723,
          -0.2873814394453713,
          0.8159630337408869,
          1.4143203929103167,
          -1.1959217380546179,
          1.0605305881743308,
          -0.2871029678069003,
          -0.47650966749294815,
          -1.5322201238101008,
          2.3273156202072434,
          -1.3016443743900041,
          0.18146682359698219,
          -2.265041716343768,
          -0.23031719460426087,
          1.0036379076404183,
          1.39111353332184,
          0.9986221869201293,
          -0.6975563428250889,
          -1.0656541871381087,
          -0.13820505997914495,
          0.1411027855289363,
          0.6424293097490533,
          1.012356910815464,
          -1.8117231106561977,
          -0.8655847462795403,
          0.7837144577597044,
          -0.6580237608589773,
          -2.0656532408667228,
          -0.7041976382667674,
          1.4112389977992923,
          -1.99819086410293,
          1.002197302797664,
          0.10259668465654932,
          0.0010116918716799508,
          -1.6738788054683773,
          0.3309445727100791,
          3.7065199797729567,
          -0.19537551646281318,
          0.03037790496248001,
          0.09501392488427825,
          1.3646049958720576,
          0.4789596489217511,
          0.7960288598719361,
          0.41795718796210096,
          0.715138543589554,
          0.44157282341480664,
          0.46212335527427667,
          0.4394396173599501,
          0.069065620261416,
          0.9795147696875675,
          -0.9884646911340608,
          -0.3896075373137488,
          -2.302604044069634,
          0.4812428494324066,
          -1.0743371639752484,
          -0.901325591652145,
          -1.3955540299536509,
          -0.7722292126644033,
          -0.48005842284055805,
          -0.06660471875486865,
          0.5884452112326498,
          -1.6894909362213644,
          -0.16203994507754774,
          -0.35745126049456716,
          -1.2216405215156472,
          -1.5314375292682807,
          0.16666904289206597,
          -0.6639132343154985,
          -1.0723849645510015,
          0.19313545104162413,
          -0.39637930767477336,
          0.9666952656807792,
          -0.3020082486157058,
          1.9066392258088303,
          -2.2106799844692673,
          -0.09187692165825188,
          -0.18909933282272662,
          -1.5526563300765173,
          0.6310274126390918,
          0.7962748274453911,
          3.0613176149500934,
          -2.098248003547318,
          -1.8212990362024815,
          -0.06726072924822411,
          0.3044957245832294
         ],
         "xaxis": "x3",
         "y": [
          -1.9155992047694723,
          -0.4481315159572726,
          -0.11667812727294494,
          -0.47405025229684344,
          0.5746676894222532,
          -1.5551821928115497,
          -1.072363124361193,
          1.2249086267193,
          -3.3367698414674267,
          -1.011489626579287,
          0.6314459569116476,
          0.08220392031662183,
          -1.491849155089903,
          -2.6826923465190182,
          -1.406142682152996,
          -0.09669026493158919,
          0.6255108134307167,
          -0.8998558810491614,
          -0.2756313164584835,
          0.3713126358915743,
          -0.14945511870764175,
          -2.7250214453982338,
          -0.497935347176919,
          -0.7794784042791113,
          -0.30309488487554737,
          -0.7033732528019522,
          0.07862498827643226,
          -0.49979720991996174,
          -0.6002810486693904,
          0.718931878030546,
          0.2590887953878619,
          0.9060597459809786,
          -0.4190053741867893,
          -0.674433060377967,
          0.10545055429225647,
          1.2703935062900036,
          0.08983878160980747,
          0.6570432262514,
          -1.0176071028493356,
          0.6749140899996501,
          0.08417298484397781,
          0.8001476730499851,
          -0.12399513898835102,
          0.6274206095826046,
          -1.318877425164554,
          0.8164515931433367,
          0.09393732573798273,
          1.1206004281742687,
          0.8579900755978948,
          0.14911973244187204,
          0.9711897159096959,
          0.15869343459827023,
          0.20449045179987363,
          -1.6562183779368844,
          -0.9608076241416532,
          1.7727570332597742,
          -0.4457864515536005,
          0.4733263459830899,
          -0.1111431812706696,
          -0.6308516353493814,
          -1.5083286013649613,
          -1.8184170618133393,
          -1.577160446581665,
          -1.3084496737397215,
          0.29394673420640693,
          -0.21034035618984062,
          0.22395410087307033,
          0.5071818648650146,
          -1.4180404163946694,
          -0.21388614142527063,
          -0.7728099669727144,
          0.45279731788305944,
          -1.176389429494858,
          1.537074281671399,
          -1.0673529889078999,
          -1.1894210145045987,
          -1.5454669283459765,
          0.30364289543227707,
          -0.2762977037815814,
          1.7831332501465116,
          0.9826029558353301,
          -1.002098401486566,
          -0.16731691773009688,
          1.176134221963469,
          0.3460648331901014,
          -0.32043219503556436,
          -0.3782163252372253,
          0.9571278359770741,
          -0.057274155370753116,
          0.32731766282935837,
          -0.30977457949724585,
          -0.9355114325341685,
          -1.8964276157738422,
          0.2929666305481281,
          -0.7261109260232375,
          -0.5620284230807836,
          0.29595542033167244,
          -1.6709671363176706,
          0.7262858567454336,
          -0.564607728302298
         ],
         "yaxis": "y3"
        },
        {
         "line": {
          "color": "rgba(128, 128, 128, 1.0)",
          "dash": "solid",
          "shape": "linear",
          "width": 1.3
         },
         "marker": {
          "size": 2,
          "symbol": "circle"
         },
         "mode": "markers",
         "name": "A",
         "text": "",
         "type": "scatter",
         "x": [
          0.9930434223630643,
          -0.5185944171985121,
          0.12625668626889675,
          1.4126287501903794,
          -0.4921417495462758,
          -0.5103664470584897,
          -1.1908203707069451,
          0.04023821016681215,
          -0.13947666253542734,
          0.8868781252910879,
          -1.6371569022893278,
          0.7672435204882054,
          0.6169553575989898,
          1.3329917928265773,
          -0.7665638783382027,
          -0.08123583532764496,
          -0.32864850216455593,
          -0.029361561163987148,
          0.6399435184431522,
          -1.8633894015617534,
          -0.15400435668524395,
          0.6264413708591936,
          -0.6329021971365782,
          0.358736207272916,
          -0.7284128090386145,
          -0.26492527185638926,
          1.1696315706744203,
          0.34784394112845773,
          -1.6357683954704856,
          -2.2217094786651264,
          0.35909219044296037,
          -1.6103043352563573,
          0.5154940607552029,
          -1.0337034512745022,
          -0.5200214578592136,
          -0.5410133095509277,
          0.11565363484436865,
          -1.1689675937280577,
          -0.06743860667609816,
          0.8093101336485461,
          2.2759957457438387,
          1.630917558792805,
          -0.8679712037280137,
          -0.05101251089912307,
          -1.860017791349555,
          0.9246439226006556,
          0.7656419764489286,
          -1.0172384600075741,
          0.07302717803805786,
          0.358441466502234,
          0.37444771313545494,
          1.1880055833311223,
          1.0923860205997888,
          0.7037031652652141,
          -1.417668561379097,
          2.8345850950566707,
          1.029274652519448,
          0.39385699755084097,
          -1.0040261687326846,
          -0.23643129269215768,
          1.678181820866815,
          -0.6972407986458042,
          0.3009890287331359,
          0.4574685093787016,
          0.3937636188502432,
          -1.2005561380897674,
          0.8234987906280484,
          0.6519985416617249,
          1.4010954582169186,
          0.9000817296184049,
          0.9056196239785779,
          -0.1925110523641491,
          -0.2397258822912278,
          1.524354050219484,
          0.7111398702461121,
          -0.590158347508297,
          -0.22651938157426366,
          -0.3590382922775907,
          -1.1433500094981577,
          0.13947063075046293,
          1.1870112738414629,
          0.315517739666811,
          -0.20814383151220558,
          0.7927519220506773,
          -0.29663485225690894,
          0.33126294483647645,
          0.5201888558820525,
          1.3281684355453012,
          1.2160740263768117,
          -0.5964855723830482,
          0.9560523724277572,
          0.3961241033062341,
          0.6977353087784073,
          2.043350934958954,
          0.2122349045877803,
          0.9063572709159615,
          -0.191869442749806,
          -1.0131325421167754,
          -0.2643773463361861,
          0.38858293445015457
         ],
         "xaxis": "x4",
         "y": [
          -1.9155992047694723,
          -0.4481315159572726,
          -0.11667812727294494,
          -0.47405025229684344,
          0.5746676894222532,
          -1.5551821928115497,
          -1.072363124361193,
          1.2249086267193,
          -3.3367698414674267,
          -1.011489626579287,
          0.6314459569116476,
          0.08220392031662183,
          -1.491849155089903,
          -2.6826923465190182,
          -1.406142682152996,
          -0.09669026493158919,
          0.6255108134307167,
          -0.8998558810491614,
          -0.2756313164584835,
          0.3713126358915743,
          -0.14945511870764175,
          -2.7250214453982338,
          -0.497935347176919,
          -0.7794784042791113,
          -0.30309488487554737,
          -0.7033732528019522,
          0.07862498827643226,
          -0.49979720991996174,
          -0.6002810486693904,
          0.718931878030546,
          0.2590887953878619,
          0.9060597459809786,
          -0.4190053741867893,
          -0.674433060377967,
          0.10545055429225647,
          1.2703935062900036,
          0.08983878160980747,
          0.6570432262514,
          -1.0176071028493356,
          0.6749140899996501,
          0.08417298484397781,
          0.8001476730499851,
          -0.12399513898835102,
          0.6274206095826046,
          -1.318877425164554,
          0.8164515931433367,
          0.09393732573798273,
          1.1206004281742687,
          0.8579900755978948,
          0.14911973244187204,
          0.9711897159096959,
          0.15869343459827023,
          0.20449045179987363,
          -1.6562183779368844,
          -0.9608076241416532,
          1.7727570332597742,
          -0.4457864515536005,
          0.4733263459830899,
          -0.1111431812706696,
          -0.6308516353493814,
          -1.5083286013649613,
          -1.8184170618133393,
          -1.577160446581665,
          -1.3084496737397215,
          0.29394673420640693,
          -0.21034035618984062,
          0.22395410087307033,
          0.5071818648650146,
          -1.4180404163946694,
          -0.21388614142527063,
          -0.7728099669727144,
          0.45279731788305944,
          -1.176389429494858,
          1.537074281671399,
          -1.0673529889078999,
          -1.1894210145045987,
          -1.5454669283459765,
          0.30364289543227707,
          -0.2762977037815814,
          1.7831332501465116,
          0.9826029558353301,
          -1.002098401486566,
          -0.16731691773009688,
          1.176134221963469,
          0.3460648331901014,
          -0.32043219503556436,
          -0.3782163252372253,
          0.9571278359770741,
          -0.057274155370753116,
          0.32731766282935837,
          -0.30977457949724585,
          -0.9355114325341685,
          -1.8964276157738422,
          0.2929666305481281,
          -0.7261109260232375,
          -0.5620284230807836,
          0.29595542033167244,
          -1.6709671363176706,
          0.7262858567454336,
          -0.564607728302298
         ],
         "yaxis": "y4"
        },
        {
         "line": {
          "color": "rgba(128, 128, 128, 1.0)",
          "dash": "solid",
          "shape": "linear",
          "width": 1.3
         },
         "marker": {
          "size": 2,
          "symbol": "circle"
         },
         "mode": "markers",
         "name": "B",
         "text": "",
         "type": "scatter",
         "x": [
          -1.9155992047694723,
          -0.4481315159572726,
          -0.11667812727294494,
          -0.47405025229684344,
          0.5746676894222532,
          -1.5551821928115497,
          -1.072363124361193,
          1.2249086267193,
          -3.3367698414674267,
          -1.011489626579287,
          0.6314459569116476,
          0.08220392031662183,
          -1.491849155089903,
          -2.6826923465190182,
          -1.406142682152996,
          -0.09669026493158919,
          0.6255108134307167,
          -0.8998558810491614,
          -0.2756313164584835,
          0.3713126358915743,
          -0.14945511870764175,
          -2.7250214453982338,
          -0.497935347176919,
          -0.7794784042791113,
          -0.30309488487554737,
          -0.7033732528019522,
          0.07862498827643226,
          -0.49979720991996174,
          -0.6002810486693904,
          0.718931878030546,
          0.2590887953878619,
          0.9060597459809786,
          -0.4190053741867893,
          -0.674433060377967,
          0.10545055429225647,
          1.2703935062900036,
          0.08983878160980747,
          0.6570432262514,
          -1.0176071028493356,
          0.6749140899996501,
          0.08417298484397781,
          0.8001476730499851,
          -0.12399513898835102,
          0.6274206095826046,
          -1.318877425164554,
          0.8164515931433367,
          0.09393732573798273,
          1.1206004281742687,
          0.8579900755978948,
          0.14911973244187204,
          0.9711897159096959,
          0.15869343459827023,
          0.20449045179987363,
          -1.6562183779368844,
          -0.9608076241416532,
          1.7727570332597742,
          -0.4457864515536005,
          0.4733263459830899,
          -0.1111431812706696,
          -0.6308516353493814,
          -1.5083286013649613,
          -1.8184170618133393,
          -1.577160446581665,
          -1.3084496737397215,
          0.29394673420640693,
          -0.21034035618984062,
          0.22395410087307033,
          0.5071818648650146,
          -1.4180404163946694,
          -0.21388614142527063,
          -0.7728099669727144,
          0.45279731788305944,
          -1.176389429494858,
          1.537074281671399,
          -1.0673529889078999,
          -1.1894210145045987,
          -1.5454669283459765,
          0.30364289543227707,
          -0.2762977037815814,
          1.7831332501465116,
          0.9826029558353301,
          -1.002098401486566,
          -0.16731691773009688,
          1.176134221963469,
          0.3460648331901014,
          -0.32043219503556436,
          -0.3782163252372253,
          0.9571278359770741,
          -0.057274155370753116,
          0.32731766282935837,
          -0.30977457949724585,
          -0.9355114325341685,
          -1.8964276157738422,
          0.2929666305481281,
          -0.7261109260232375,
          -0.5620284230807836,
          0.29595542033167244,
          -1.6709671363176706,
          0.7262858567454336,
          -0.564607728302298
         ],
         "xaxis": "x5",
         "y": [
          0.25012653811443325,
          -0.31263602491902226,
          0.46854191390985994,
          0.3495550634187599,
          1.2779608573542152,
          -0.7195686267733024,
          -0.05377556286345402,
          0.8860961885150416,
          -0.35659558561108556,
          -0.5412418799364572,
          -1.0538607706754788,
          -1.4357015266467925,
          -1.4440825388729484,
          -0.4601463702775817,
          1.0525558771197012,
          -0.6384012471936885,
          -0.3984075707720691,
          0.3217992513734411,
          0.717847534780858,
          0.14786313583922234,
          -0.08921894414927768,
          -0.026447486752192863,
          -0.41781749828547704,
          -0.4258553164011774,
          -0.691041627506832,
          0.2725451758149655,
          1.2146505715089757,
          -0.7164863916632876,
          0.39324350968810945,
          -0.30946916784496414,
          -0.27145136523819957,
          0.6679457848678415,
          -0.07142770435308705,
          0.704443166579191,
          2.157895083594788,
          0.6170696338034954,
          -0.13662952222954544,
          -0.290866965366531,
          -0.4155089124480595,
          -0.15309402200095784,
          1.5221394507416537,
          -1.6249467620767861,
          -0.6965471964753526,
          0.182517283224261,
          0.23350357359802568,
          1.1453466340351426,
          -0.3686827311467193,
          1.957928012194116,
          0.4071672052678087,
          0.58680361903923,
          -0.8828982087450967,
          0.4129260132199946,
          0.6441433598373917,
          0.33372085287296577,
          0.3114578540673428,
          0.30273197459055706,
          -0.0672794267265068,
          0.7311115271348104,
          -1.4610688565261025,
          -1.3620418033258774,
          -1.1749042013895534,
          0.2569253531988617,
          0.3132234789055193,
          -0.4939070459441881,
          -0.38233997444376466,
          -0.8341518456265357,
          -2.275739432967845,
          -1.5981719266949375,
          1.4764816496356954,
          1.2582757204570383,
          -0.4430532726331741,
          -0.21808790791840466,
          -0.2523685759128763,
          -0.600478802244115,
          0.15220587659129273,
          -1.6586124610802093,
          -1.3433717204993254,
          0.9523056125989408,
          -1.9154009199738649,
          -1.3386543561881108,
          -0.8149176443027241,
          0.6388800450354669,
          0.030844994128891724,
          -1.986446346965538,
          -0.22630015828997926,
          -0.27117120976532544,
          -1.176124215365589,
          0.4534877231166138,
          0.1678182902848415,
          0.5552876540147228,
          -0.00964539990285035,
          1.2041724538233955,
          0.024983048147564843,
          0.03429775948556624,
          1.346683258563046,
          0.9870398426730453,
          -0.5747651397935243,
          -1.8469381178596094,
          0.751357199127522,
          0.38951470541379307
         ],
         "yaxis": "y5"
        },
        {
         "histfunc": "count",
         "histnorm": "",
         "marker": {
          "color": "rgba(55, 128, 191, 1.0)",
          "line": {
           "color": "#4D5663",
           "width": 1.3
          }
         },
         "name": "B",
         "nbinsx": 10,
         "opacity": 0.8,
         "orientation": "v",
         "type": "histogram",
         "x": [
          0.25012653811443325,
          -0.31263602491902226,
          0.46854191390985994,
          0.3495550634187599,
          1.2779608573542152,
          -0.7195686267733024,
          -0.05377556286345402,
          0.8860961885150416,
          -0.35659558561108556,
          -0.5412418799364572,
          -1.0538607706754788,
          -1.4357015266467925,
          -1.4440825388729484,
          -0.4601463702775817,
          1.0525558771197012,
          -0.6384012471936885,
          -0.3984075707720691,
          0.3217992513734411,
          0.717847534780858,
          0.14786313583922234,
          -0.08921894414927768,
          -0.026447486752192863,
          -0.41781749828547704,
          -0.4258553164011774,
          -0.691041627506832,
          0.2725451758149655,
          1.2146505715089757,
          -0.7164863916632876,
          0.39324350968810945,
          -0.30946916784496414,
          -0.27145136523819957,
          0.6679457848678415,
          -0.07142770435308705,
          0.704443166579191,
          2.157895083594788,
          0.6170696338034954,
          -0.13662952222954544,
          -0.290866965366531,
          -0.4155089124480595,
          -0.15309402200095784,
          1.5221394507416537,
          -1.6249467620767861,
          -0.6965471964753526,
          0.182517283224261,
          0.23350357359802568,
          1.1453466340351426,
          -0.3686827311467193,
          1.957928012194116,
          0.4071672052678087,
          0.58680361903923,
          -0.8828982087450967,
          0.4129260132199946,
          0.6441433598373917,
          0.33372085287296577,
          0.3114578540673428,
          0.30273197459055706,
          -0.0672794267265068,
          0.7311115271348104,
          -1.4610688565261025,
          -1.3620418033258774,
          -1.1749042013895534,
          0.2569253531988617,
          0.3132234789055193,
          -0.4939070459441881,
          -0.38233997444376466,
          -0.8341518456265357,
          -2.275739432967845,
          -1.5981719266949375,
          1.4764816496356954,
          1.2582757204570383,
          -0.4430532726331741,
          -0.21808790791840466,
          -0.2523685759128763,
          -0.600478802244115,
          0.15220587659129273,
          -1.6586124610802093,
          -1.3433717204993254,
          0.9523056125989408,
          -1.9154009199738649,
          -1.3386543561881108,
          -0.8149176443027241,
          0.6388800450354669,
          0.030844994128891724,
          -1.986446346965538,
          -0.22630015828997926,
          -0.27117120976532544,
          -1.176124215365589,
          0.4534877231166138,
          0.1678182902848415,
          0.5552876540147228,
          -0.00964539990285035,
          1.2041724538233955,
          0.024983048147564843,
          0.03429775948556624,
          1.346683258563046,
          0.9870398426730453,
          -0.5747651397935243,
          -1.8469381178596094,
          0.751357199127522,
          0.38951470541379307
         ],
         "xaxis": "x6",
         "yaxis": "y6"
        },
        {
         "line": {
          "color": "rgba(128, 128, 128, 1.0)",
          "dash": "solid",
          "shape": "linear",
          "width": 1.3
         },
         "marker": {
          "size": 2,
          "symbol": "circle"
         },
         "mode": "markers",
         "name": "B",
         "text": "",
         "type": "scatter",
         "x": [
          -0.33147941212230614,
          0.4030748389856743,
          0.775394702177516,
          -0.6034415754468376,
          -0.515548867017618,
          1.5761779599884451,
          -0.7910572237007015,
          -0.07598643557492382,
          1.6776710519354656,
          1.325248722840458,
          -0.057994098701497604,
          0.1797865482746144,
          0.514515206533345,
          -1.341690880163176,
          0.7736138888697905,
          1.2761533474012723,
          -0.2873814394453713,
          0.8159630337408869,
          1.4143203929103167,
          -1.1959217380546179,
          1.0605305881743308,
          -0.2871029678069003,
          -0.47650966749294815,
          -1.5322201238101008,
          2.3273156202072434,
          -1.3016443743900041,
          0.18146682359698219,
          -2.265041716343768,
          -0.23031719460426087,
          1.0036379076404183,
          1.39111353332184,
          0.9986221869201293,
          -0.6975563428250889,
          -1.0656541871381087,
          -0.13820505997914495,
          0.1411027855289363,
          0.6424293097490533,
          1.012356910815464,
          -1.8117231106561977,
          -0.8655847462795403,
          0.7837144577597044,
          -0.6580237608589773,
          -2.0656532408667228,
          -0.7041976382667674,
          1.4112389977992923,
          -1.99819086410293,
          1.002197302797664,
          0.10259668465654932,
          0.0010116918716799508,
          -1.6738788054683773,
          0.3309445727100791,
          3.7065199797729567,
          -0.19537551646281318,
          0.03037790496248001,
          0.09501392488427825,
          1.3646049958720576,
          0.4789596489217511,
          0.7960288598719361,
          0.41795718796210096,
          0.715138543589554,
          0.44157282341480664,
          0.46212335527427667,
          0.4394396173599501,
          0.069065620261416,
          0.9795147696875675,
          -0.9884646911340608,
          -0.3896075373137488,
          -2.302604044069634,
          0.4812428494324066,
          -1.0743371639752484,
          -0.901325591652145,
          -1.3955540299536509,
          -0.7722292126644033,
          -0.48005842284055805,
          -0.06660471875486865,
          0.5884452112326498,
          -1.6894909362213644,
          -0.16203994507754774,
          -0.35745126049456716,
          -1.2216405215156472,
          -1.5314375292682807,
          0.16666904289206597,
          -0.6639132343154985,
          -1.0723849645510015,
          0.19313545104162413,
          -0.39637930767477336,
          0.9666952656807792,
          -0.3020082486157058,
          1.9066392258088303,
          -2.2106799844692673,
          -0.09187692165825188,
          -0.18909933282272662,
          -1.5526563300765173,
          0.6310274126390918,
          0.7962748274453911,
          3.0613176149500934,
          -2.098248003547318,
          -1.8212990362024815,
          -0.06726072924822411,
          0.3044957245832294
         ],
         "xaxis": "x7",
         "y": [
          0.25012653811443325,
          -0.31263602491902226,
          0.46854191390985994,
          0.3495550634187599,
          1.2779608573542152,
          -0.7195686267733024,
          -0.05377556286345402,
          0.8860961885150416,
          -0.35659558561108556,
          -0.5412418799364572,
          -1.0538607706754788,
          -1.4357015266467925,
          -1.4440825388729484,
          -0.4601463702775817,
          1.0525558771197012,
          -0.6384012471936885,
          -0.3984075707720691,
          0.3217992513734411,
          0.717847534780858,
          0.14786313583922234,
          -0.08921894414927768,
          -0.026447486752192863,
          -0.41781749828547704,
          -0.4258553164011774,
          -0.691041627506832,
          0.2725451758149655,
          1.2146505715089757,
          -0.7164863916632876,
          0.39324350968810945,
          -0.30946916784496414,
          -0.27145136523819957,
          0.6679457848678415,
          -0.07142770435308705,
          0.704443166579191,
          2.157895083594788,
          0.6170696338034954,
          -0.13662952222954544,
          -0.290866965366531,
          -0.4155089124480595,
          -0.15309402200095784,
          1.5221394507416537,
          -1.6249467620767861,
          -0.6965471964753526,
          0.182517283224261,
          0.23350357359802568,
          1.1453466340351426,
          -0.3686827311467193,
          1.957928012194116,
          0.4071672052678087,
          0.58680361903923,
          -0.8828982087450967,
          0.4129260132199946,
          0.6441433598373917,
          0.33372085287296577,
          0.3114578540673428,
          0.30273197459055706,
          -0.0672794267265068,
          0.7311115271348104,
          -1.4610688565261025,
          -1.3620418033258774,
          -1.1749042013895534,
          0.2569253531988617,
          0.3132234789055193,
          -0.4939070459441881,
          -0.38233997444376466,
          -0.8341518456265357,
          -2.275739432967845,
          -1.5981719266949375,
          1.4764816496356954,
          1.2582757204570383,
          -0.4430532726331741,
          -0.21808790791840466,
          -0.2523685759128763,
          -0.600478802244115,
          0.15220587659129273,
          -1.6586124610802093,
          -1.3433717204993254,
          0.9523056125989408,
          -1.9154009199738649,
          -1.3386543561881108,
          -0.8149176443027241,
          0.6388800450354669,
          0.030844994128891724,
          -1.986446346965538,
          -0.22630015828997926,
          -0.27117120976532544,
          -1.176124215365589,
          0.4534877231166138,
          0.1678182902848415,
          0.5552876540147228,
          -0.00964539990285035,
          1.2041724538233955,
          0.024983048147564843,
          0.03429775948556624,
          1.346683258563046,
          0.9870398426730453,
          -0.5747651397935243,
          -1.8469381178596094,
          0.751357199127522,
          0.38951470541379307
         ],
         "yaxis": "y7"
        },
        {
         "line": {
          "color": "rgba(128, 128, 128, 1.0)",
          "dash": "solid",
          "shape": "linear",
          "width": 1.3
         },
         "marker": {
          "size": 2,
          "symbol": "circle"
         },
         "mode": "markers",
         "name": "B",
         "text": "",
         "type": "scatter",
         "x": [
          0.9930434223630643,
          -0.5185944171985121,
          0.12625668626889675,
          1.4126287501903794,
          -0.4921417495462758,
          -0.5103664470584897,
          -1.1908203707069451,
          0.04023821016681215,
          -0.13947666253542734,
          0.8868781252910879,
          -1.6371569022893278,
          0.7672435204882054,
          0.6169553575989898,
          1.3329917928265773,
          -0.7665638783382027,
          -0.08123583532764496,
          -0.32864850216455593,
          -0.029361561163987148,
          0.6399435184431522,
          -1.8633894015617534,
          -0.15400435668524395,
          0.6264413708591936,
          -0.6329021971365782,
          0.358736207272916,
          -0.7284128090386145,
          -0.26492527185638926,
          1.1696315706744203,
          0.34784394112845773,
          -1.6357683954704856,
          -2.2217094786651264,
          0.35909219044296037,
          -1.6103043352563573,
          0.5154940607552029,
          -1.0337034512745022,
          -0.5200214578592136,
          -0.5410133095509277,
          0.11565363484436865,
          -1.1689675937280577,
          -0.06743860667609816,
          0.8093101336485461,
          2.2759957457438387,
          1.630917558792805,
          -0.8679712037280137,
          -0.05101251089912307,
          -1.860017791349555,
          0.9246439226006556,
          0.7656419764489286,
          -1.0172384600075741,
          0.07302717803805786,
          0.358441466502234,
          0.37444771313545494,
          1.1880055833311223,
          1.0923860205997888,
          0.7037031652652141,
          -1.417668561379097,
          2.8345850950566707,
          1.029274652519448,
          0.39385699755084097,
          -1.0040261687326846,
          -0.23643129269215768,
          1.678181820866815,
          -0.6972407986458042,
          0.3009890287331359,
          0.4574685093787016,
          0.3937636188502432,
          -1.2005561380897674,
          0.8234987906280484,
          0.6519985416617249,
          1.4010954582169186,
          0.9000817296184049,
          0.9056196239785779,
          -0.1925110523641491,
          -0.2397258822912278,
          1.524354050219484,
          0.7111398702461121,
          -0.590158347508297,
          -0.22651938157426366,
          -0.3590382922775907,
          -1.1433500094981577,
          0.13947063075046293,
          1.1870112738414629,
          0.315517739666811,
          -0.20814383151220558,
          0.7927519220506773,
          -0.29663485225690894,
          0.33126294483647645,
          0.5201888558820525,
          1.3281684355453012,
          1.2160740263768117,
          -0.5964855723830482,
          0.9560523724277572,
          0.3961241033062341,
          0.6977353087784073,
          2.043350934958954,
          0.2122349045877803,
          0.9063572709159615,
          -0.191869442749806,
          -1.0131325421167754,
          -0.2643773463361861,
          0.38858293445015457
         ],
         "xaxis": "x8",
         "y": [
          0.25012653811443325,
          -0.31263602491902226,
          0.46854191390985994,
          0.3495550634187599,
          1.2779608573542152,
          -0.7195686267733024,
          -0.05377556286345402,
          0.8860961885150416,
          -0.35659558561108556,
          -0.5412418799364572,
          -1.0538607706754788,
          -1.4357015266467925,
          -1.4440825388729484,
          -0.4601463702775817,
          1.0525558771197012,
          -0.6384012471936885,
          -0.3984075707720691,
          0.3217992513734411,
          0.717847534780858,
          0.14786313583922234,
          -0.08921894414927768,
          -0.026447486752192863,
          -0.41781749828547704,
          -0.4258553164011774,
          -0.691041627506832,
          0.2725451758149655,
          1.2146505715089757,
          -0.7164863916632876,
          0.39324350968810945,
          -0.30946916784496414,
          -0.27145136523819957,
          0.6679457848678415,
          -0.07142770435308705,
          0.704443166579191,
          2.157895083594788,
          0.6170696338034954,
          -0.13662952222954544,
          -0.290866965366531,
          -0.4155089124480595,
          -0.15309402200095784,
          1.5221394507416537,
          -1.6249467620767861,
          -0.6965471964753526,
          0.182517283224261,
          0.23350357359802568,
          1.1453466340351426,
          -0.3686827311467193,
          1.957928012194116,
          0.4071672052678087,
          0.58680361903923,
          -0.8828982087450967,
          0.4129260132199946,
          0.6441433598373917,
          0.33372085287296577,
          0.3114578540673428,
          0.30273197459055706,
          -0.0672794267265068,
          0.7311115271348104,
          -1.4610688565261025,
          -1.3620418033258774,
          -1.1749042013895534,
          0.2569253531988617,
          0.3132234789055193,
          -0.4939070459441881,
          -0.38233997444376466,
          -0.8341518456265357,
          -2.275739432967845,
          -1.5981719266949375,
          1.4764816496356954,
          1.2582757204570383,
          -0.4430532726331741,
          -0.21808790791840466,
          -0.2523685759128763,
          -0.600478802244115,
          0.15220587659129273,
          -1.6586124610802093,
          -1.3433717204993254,
          0.9523056125989408,
          -1.9154009199738649,
          -1.3386543561881108,
          -0.8149176443027241,
          0.6388800450354669,
          0.030844994128891724,
          -1.986446346965538,
          -0.22630015828997926,
          -0.27117120976532544,
          -1.176124215365589,
          0.4534877231166138,
          0.1678182902848415,
          0.5552876540147228,
          -0.00964539990285035,
          1.2041724538233955,
          0.024983048147564843,
          0.03429775948556624,
          1.346683258563046,
          0.9870398426730453,
          -0.5747651397935243,
          -1.8469381178596094,
          0.751357199127522,
          0.38951470541379307
         ],
         "yaxis": "y8"
        },
        {
         "line": {
          "color": "rgba(128, 128, 128, 1.0)",
          "dash": "solid",
          "shape": "linear",
          "width": 1.3
         },
         "marker": {
          "size": 2,
          "symbol": "circle"
         },
         "mode": "markers",
         "name": "C",
         "text": "",
         "type": "scatter",
         "x": [
          -1.9155992047694723,
          -0.4481315159572726,
          -0.11667812727294494,
          -0.47405025229684344,
          0.5746676894222532,
          -1.5551821928115497,
          -1.072363124361193,
          1.2249086267193,
          -3.3367698414674267,
          -1.011489626579287,
          0.6314459569116476,
          0.08220392031662183,
          -1.491849155089903,
          -2.6826923465190182,
          -1.406142682152996,
          -0.09669026493158919,
          0.6255108134307167,
          -0.8998558810491614,
          -0.2756313164584835,
          0.3713126358915743,
          -0.14945511870764175,
          -2.7250214453982338,
          -0.497935347176919,
          -0.7794784042791113,
          -0.30309488487554737,
          -0.7033732528019522,
          0.07862498827643226,
          -0.49979720991996174,
          -0.6002810486693904,
          0.718931878030546,
          0.2590887953878619,
          0.9060597459809786,
          -0.4190053741867893,
          -0.674433060377967,
          0.10545055429225647,
          1.2703935062900036,
          0.08983878160980747,
          0.6570432262514,
          -1.0176071028493356,
          0.6749140899996501,
          0.08417298484397781,
          0.8001476730499851,
          -0.12399513898835102,
          0.6274206095826046,
          -1.318877425164554,
          0.8164515931433367,
          0.09393732573798273,
          1.1206004281742687,
          0.8579900755978948,
          0.14911973244187204,
          0.9711897159096959,
          0.15869343459827023,
          0.20449045179987363,
          -1.6562183779368844,
          -0.9608076241416532,
          1.7727570332597742,
          -0.4457864515536005,
          0.4733263459830899,
          -0.1111431812706696,
          -0.6308516353493814,
          -1.5083286013649613,
          -1.8184170618133393,
          -1.577160446581665,
          -1.3084496737397215,
          0.29394673420640693,
          -0.21034035618984062,
          0.22395410087307033,
          0.5071818648650146,
          -1.4180404163946694,
          -0.21388614142527063,
          -0.7728099669727144,
          0.45279731788305944,
          -1.176389429494858,
          1.537074281671399,
          -1.0673529889078999,
          -1.1894210145045987,
          -1.5454669283459765,
          0.30364289543227707,
          -0.2762977037815814,
          1.7831332501465116,
          0.9826029558353301,
          -1.002098401486566,
          -0.16731691773009688,
          1.176134221963469,
          0.3460648331901014,
          -0.32043219503556436,
          -0.3782163252372253,
          0.9571278359770741,
          -0.057274155370753116,
          0.32731766282935837,
          -0.30977457949724585,
          -0.9355114325341685,
          -1.8964276157738422,
          0.2929666305481281,
          -0.7261109260232375,
          -0.5620284230807836,
          0.29595542033167244,
          -1.6709671363176706,
          0.7262858567454336,
          -0.564607728302298
         ],
         "xaxis": "x9",
         "y": [
          -0.33147941212230614,
          0.4030748389856743,
          0.775394702177516,
          -0.6034415754468376,
          -0.515548867017618,
          1.5761779599884451,
          -0.7910572237007015,
          -0.07598643557492382,
          1.6776710519354656,
          1.325248722840458,
          -0.057994098701497604,
          0.1797865482746144,
          0.514515206533345,
          -1.341690880163176,
          0.7736138888697905,
          1.2761533474012723,
          -0.2873814394453713,
          0.8159630337408869,
          1.4143203929103167,
          -1.1959217380546179,
          1.0605305881743308,
          -0.2871029678069003,
          -0.47650966749294815,
          -1.5322201238101008,
          2.3273156202072434,
          -1.3016443743900041,
          0.18146682359698219,
          -2.265041716343768,
          -0.23031719460426087,
          1.0036379076404183,
          1.39111353332184,
          0.9986221869201293,
          -0.6975563428250889,
          -1.0656541871381087,
          -0.13820505997914495,
          0.1411027855289363,
          0.6424293097490533,
          1.012356910815464,
          -1.8117231106561977,
          -0.8655847462795403,
          0.7837144577597044,
          -0.6580237608589773,
          -2.0656532408667228,
          -0.7041976382667674,
          1.4112389977992923,
          -1.99819086410293,
          1.002197302797664,
          0.10259668465654932,
          0.0010116918716799508,
          -1.6738788054683773,
          0.3309445727100791,
          3.7065199797729567,
          -0.19537551646281318,
          0.03037790496248001,
          0.09501392488427825,
          1.3646049958720576,
          0.4789596489217511,
          0.7960288598719361,
          0.41795718796210096,
          0.715138543589554,
          0.44157282341480664,
          0.46212335527427667,
          0.4394396173599501,
          0.069065620261416,
          0.9795147696875675,
          -0.9884646911340608,
          -0.3896075373137488,
          -2.302604044069634,
          0.4812428494324066,
          -1.0743371639752484,
          -0.901325591652145,
          -1.3955540299536509,
          -0.7722292126644033,
          -0.48005842284055805,
          -0.06660471875486865,
          0.5884452112326498,
          -1.6894909362213644,
          -0.16203994507754774,
          -0.35745126049456716,
          -1.2216405215156472,
          -1.5314375292682807,
          0.16666904289206597,
          -0.6639132343154985,
          -1.0723849645510015,
          0.19313545104162413,
          -0.39637930767477336,
          0.9666952656807792,
          -0.3020082486157058,
          1.9066392258088303,
          -2.2106799844692673,
          -0.09187692165825188,
          -0.18909933282272662,
          -1.5526563300765173,
          0.6310274126390918,
          0.7962748274453911,
          3.0613176149500934,
          -2.098248003547318,
          -1.8212990362024815,
          -0.06726072924822411,
          0.3044957245832294
         ],
         "yaxis": "y9"
        },
        {
         "line": {
          "color": "rgba(128, 128, 128, 1.0)",
          "dash": "solid",
          "shape": "linear",
          "width": 1.3
         },
         "marker": {
          "size": 2,
          "symbol": "circle"
         },
         "mode": "markers",
         "name": "C",
         "text": "",
         "type": "scatter",
         "x": [
          0.25012653811443325,
          -0.31263602491902226,
          0.46854191390985994,
          0.3495550634187599,
          1.2779608573542152,
          -0.7195686267733024,
          -0.05377556286345402,
          0.8860961885150416,
          -0.35659558561108556,
          -0.5412418799364572,
          -1.0538607706754788,
          -1.4357015266467925,
          -1.4440825388729484,
          -0.4601463702775817,
          1.0525558771197012,
          -0.6384012471936885,
          -0.3984075707720691,
          0.3217992513734411,
          0.717847534780858,
          0.14786313583922234,
          -0.08921894414927768,
          -0.026447486752192863,
          -0.41781749828547704,
          -0.4258553164011774,
          -0.691041627506832,
          0.2725451758149655,
          1.2146505715089757,
          -0.7164863916632876,
          0.39324350968810945,
          -0.30946916784496414,
          -0.27145136523819957,
          0.6679457848678415,
          -0.07142770435308705,
          0.704443166579191,
          2.157895083594788,
          0.6170696338034954,
          -0.13662952222954544,
          -0.290866965366531,
          -0.4155089124480595,
          -0.15309402200095784,
          1.5221394507416537,
          -1.6249467620767861,
          -0.6965471964753526,
          0.182517283224261,
          0.23350357359802568,
          1.1453466340351426,
          -0.3686827311467193,
          1.957928012194116,
          0.4071672052678087,
          0.58680361903923,
          -0.8828982087450967,
          0.4129260132199946,
          0.6441433598373917,
          0.33372085287296577,
          0.3114578540673428,
          0.30273197459055706,
          -0.0672794267265068,
          0.7311115271348104,
          -1.4610688565261025,
          -1.3620418033258774,
          -1.1749042013895534,
          0.2569253531988617,
          0.3132234789055193,
          -0.4939070459441881,
          -0.38233997444376466,
          -0.8341518456265357,
          -2.275739432967845,
          -1.5981719266949375,
          1.4764816496356954,
          1.2582757204570383,
          -0.4430532726331741,
          -0.21808790791840466,
          -0.2523685759128763,
          -0.600478802244115,
          0.15220587659129273,
          -1.6586124610802093,
          -1.3433717204993254,
          0.9523056125989408,
          -1.9154009199738649,
          -1.3386543561881108,
          -0.8149176443027241,
          0.6388800450354669,
          0.030844994128891724,
          -1.986446346965538,
          -0.22630015828997926,
          -0.27117120976532544,
          -1.176124215365589,
          0.4534877231166138,
          0.1678182902848415,
          0.5552876540147228,
          -0.00964539990285035,
          1.2041724538233955,
          0.024983048147564843,
          0.03429775948556624,
          1.346683258563046,
          0.9870398426730453,
          -0.5747651397935243,
          -1.8469381178596094,
          0.751357199127522,
          0.38951470541379307
         ],
         "xaxis": "x10",
         "y": [
          -0.33147941212230614,
          0.4030748389856743,
          0.775394702177516,
          -0.6034415754468376,
          -0.515548867017618,
          1.5761779599884451,
          -0.7910572237007015,
          -0.07598643557492382,
          1.6776710519354656,
          1.325248722840458,
          -0.057994098701497604,
          0.1797865482746144,
          0.514515206533345,
          -1.341690880163176,
          0.7736138888697905,
          1.2761533474012723,
          -0.2873814394453713,
          0.8159630337408869,
          1.4143203929103167,
          -1.1959217380546179,
          1.0605305881743308,
          -0.2871029678069003,
          -0.47650966749294815,
          -1.5322201238101008,
          2.3273156202072434,
          -1.3016443743900041,
          0.18146682359698219,
          -2.265041716343768,
          -0.23031719460426087,
          1.0036379076404183,
          1.39111353332184,
          0.9986221869201293,
          -0.6975563428250889,
          -1.0656541871381087,
          -0.13820505997914495,
          0.1411027855289363,
          0.6424293097490533,
          1.012356910815464,
          -1.8117231106561977,
          -0.8655847462795403,
          0.7837144577597044,
          -0.6580237608589773,
          -2.0656532408667228,
          -0.7041976382667674,
          1.4112389977992923,
          -1.99819086410293,
          1.002197302797664,
          0.10259668465654932,
          0.0010116918716799508,
          -1.6738788054683773,
          0.3309445727100791,
          3.7065199797729567,
          -0.19537551646281318,
          0.03037790496248001,
          0.09501392488427825,
          1.3646049958720576,
          0.4789596489217511,
          0.7960288598719361,
          0.41795718796210096,
          0.715138543589554,
          0.44157282341480664,
          0.46212335527427667,
          0.4394396173599501,
          0.069065620261416,
          0.9795147696875675,
          -0.9884646911340608,
          -0.3896075373137488,
          -2.302604044069634,
          0.4812428494324066,
          -1.0743371639752484,
          -0.901325591652145,
          -1.3955540299536509,
          -0.7722292126644033,
          -0.48005842284055805,
          -0.06660471875486865,
          0.5884452112326498,
          -1.6894909362213644,
          -0.16203994507754774,
          -0.35745126049456716,
          -1.2216405215156472,
          -1.5314375292682807,
          0.16666904289206597,
          -0.6639132343154985,
          -1.0723849645510015,
          0.19313545104162413,
          -0.39637930767477336,
          0.9666952656807792,
          -0.3020082486157058,
          1.9066392258088303,
          -2.2106799844692673,
          -0.09187692165825188,
          -0.18909933282272662,
          -1.5526563300765173,
          0.6310274126390918,
          0.7962748274453911,
          3.0613176149500934,
          -2.098248003547318,
          -1.8212990362024815,
          -0.06726072924822411,
          0.3044957245832294
         ],
         "yaxis": "y10"
        },
        {
         "histfunc": "count",
         "histnorm": "",
         "marker": {
          "color": "rgba(50, 171, 96, 1.0)",
          "line": {
           "color": "#4D5663",
           "width": 1.3
          }
         },
         "name": "C",
         "nbinsx": 10,
         "opacity": 0.8,
         "orientation": "v",
         "type": "histogram",
         "x": [
          -0.33147941212230614,
          0.4030748389856743,
          0.775394702177516,
          -0.6034415754468376,
          -0.515548867017618,
          1.5761779599884451,
          -0.7910572237007015,
          -0.07598643557492382,
          1.6776710519354656,
          1.325248722840458,
          -0.057994098701497604,
          0.1797865482746144,
          0.514515206533345,
          -1.341690880163176,
          0.7736138888697905,
          1.2761533474012723,
          -0.2873814394453713,
          0.8159630337408869,
          1.4143203929103167,
          -1.1959217380546179,
          1.0605305881743308,
          -0.2871029678069003,
          -0.47650966749294815,
          -1.5322201238101008,
          2.3273156202072434,
          -1.3016443743900041,
          0.18146682359698219,
          -2.265041716343768,
          -0.23031719460426087,
          1.0036379076404183,
          1.39111353332184,
          0.9986221869201293,
          -0.6975563428250889,
          -1.0656541871381087,
          -0.13820505997914495,
          0.1411027855289363,
          0.6424293097490533,
          1.012356910815464,
          -1.8117231106561977,
          -0.8655847462795403,
          0.7837144577597044,
          -0.6580237608589773,
          -2.0656532408667228,
          -0.7041976382667674,
          1.4112389977992923,
          -1.99819086410293,
          1.002197302797664,
          0.10259668465654932,
          0.0010116918716799508,
          -1.6738788054683773,
          0.3309445727100791,
          3.7065199797729567,
          -0.19537551646281318,
          0.03037790496248001,
          0.09501392488427825,
          1.3646049958720576,
          0.4789596489217511,
          0.7960288598719361,
          0.41795718796210096,
          0.715138543589554,
          0.44157282341480664,
          0.46212335527427667,
          0.4394396173599501,
          0.069065620261416,
          0.9795147696875675,
          -0.9884646911340608,
          -0.3896075373137488,
          -2.302604044069634,
          0.4812428494324066,
          -1.0743371639752484,
          -0.901325591652145,
          -1.3955540299536509,
          -0.7722292126644033,
          -0.48005842284055805,
          -0.06660471875486865,
          0.5884452112326498,
          -1.6894909362213644,
          -0.16203994507754774,
          -0.35745126049456716,
          -1.2216405215156472,
          -1.5314375292682807,
          0.16666904289206597,
          -0.6639132343154985,
          -1.0723849645510015,
          0.19313545104162413,
          -0.39637930767477336,
          0.9666952656807792,
          -0.3020082486157058,
          1.9066392258088303,
          -2.2106799844692673,
          -0.09187692165825188,
          -0.18909933282272662,
          -1.5526563300765173,
          0.6310274126390918,
          0.7962748274453911,
          3.0613176149500934,
          -2.098248003547318,
          -1.8212990362024815,
          -0.06726072924822411,
          0.3044957245832294
         ],
         "xaxis": "x11",
         "yaxis": "y11"
        },
        {
         "line": {
          "color": "rgba(128, 128, 128, 1.0)",
          "dash": "solid",
          "shape": "linear",
          "width": 1.3
         },
         "marker": {
          "size": 2,
          "symbol": "circle"
         },
         "mode": "markers",
         "name": "C",
         "text": "",
         "type": "scatter",
         "x": [
          0.9930434223630643,
          -0.5185944171985121,
          0.12625668626889675,
          1.4126287501903794,
          -0.4921417495462758,
          -0.5103664470584897,
          -1.1908203707069451,
          0.04023821016681215,
          -0.13947666253542734,
          0.8868781252910879,
          -1.6371569022893278,
          0.7672435204882054,
          0.6169553575989898,
          1.3329917928265773,
          -0.7665638783382027,
          -0.08123583532764496,
          -0.32864850216455593,
          -0.029361561163987148,
          0.6399435184431522,
          -1.8633894015617534,
          -0.15400435668524395,
          0.6264413708591936,
          -0.6329021971365782,
          0.358736207272916,
          -0.7284128090386145,
          -0.26492527185638926,
          1.1696315706744203,
          0.34784394112845773,
          -1.6357683954704856,
          -2.2217094786651264,
          0.35909219044296037,
          -1.6103043352563573,
          0.5154940607552029,
          -1.0337034512745022,
          -0.5200214578592136,
          -0.5410133095509277,
          0.11565363484436865,
          -1.1689675937280577,
          -0.06743860667609816,
          0.8093101336485461,
          2.2759957457438387,
          1.630917558792805,
          -0.8679712037280137,
          -0.05101251089912307,
          -1.860017791349555,
          0.9246439226006556,
          0.7656419764489286,
          -1.0172384600075741,
          0.07302717803805786,
          0.358441466502234,
          0.37444771313545494,
          1.1880055833311223,
          1.0923860205997888,
          0.7037031652652141,
          -1.417668561379097,
          2.8345850950566707,
          1.029274652519448,
          0.39385699755084097,
          -1.0040261687326846,
          -0.23643129269215768,
          1.678181820866815,
          -0.6972407986458042,
          0.3009890287331359,
          0.4574685093787016,
          0.3937636188502432,
          -1.2005561380897674,
          0.8234987906280484,
          0.6519985416617249,
          1.4010954582169186,
          0.9000817296184049,
          0.9056196239785779,
          -0.1925110523641491,
          -0.2397258822912278,
          1.524354050219484,
          0.7111398702461121,
          -0.590158347508297,
          -0.22651938157426366,
          -0.3590382922775907,
          -1.1433500094981577,
          0.13947063075046293,
          1.1870112738414629,
          0.315517739666811,
          -0.20814383151220558,
          0.7927519220506773,
          -0.29663485225690894,
          0.33126294483647645,
          0.5201888558820525,
          1.3281684355453012,
          1.2160740263768117,
          -0.5964855723830482,
          0.9560523724277572,
          0.3961241033062341,
          0.6977353087784073,
          2.043350934958954,
          0.2122349045877803,
          0.9063572709159615,
          -0.191869442749806,
          -1.0131325421167754,
          -0.2643773463361861,
          0.38858293445015457
         ],
         "xaxis": "x12",
         "y": [
          -0.33147941212230614,
          0.4030748389856743,
          0.775394702177516,
          -0.6034415754468376,
          -0.515548867017618,
          1.5761779599884451,
          -0.7910572237007015,
          -0.07598643557492382,
          1.6776710519354656,
          1.325248722840458,
          -0.057994098701497604,
          0.1797865482746144,
          0.514515206533345,
          -1.341690880163176,
          0.7736138888697905,
          1.2761533474012723,
          -0.2873814394453713,
          0.8159630337408869,
          1.4143203929103167,
          -1.1959217380546179,
          1.0605305881743308,
          -0.2871029678069003,
          -0.47650966749294815,
          -1.5322201238101008,
          2.3273156202072434,
          -1.3016443743900041,
          0.18146682359698219,
          -2.265041716343768,
          -0.23031719460426087,
          1.0036379076404183,
          1.39111353332184,
          0.9986221869201293,
          -0.6975563428250889,
          -1.0656541871381087,
          -0.13820505997914495,
          0.1411027855289363,
          0.6424293097490533,
          1.012356910815464,
          -1.8117231106561977,
          -0.8655847462795403,
          0.7837144577597044,
          -0.6580237608589773,
          -2.0656532408667228,
          -0.7041976382667674,
          1.4112389977992923,
          -1.99819086410293,
          1.002197302797664,
          0.10259668465654932,
          0.0010116918716799508,
          -1.6738788054683773,
          0.3309445727100791,
          3.7065199797729567,
          -0.19537551646281318,
          0.03037790496248001,
          0.09501392488427825,
          1.3646049958720576,
          0.4789596489217511,
          0.7960288598719361,
          0.41795718796210096,
          0.715138543589554,
          0.44157282341480664,
          0.46212335527427667,
          0.4394396173599501,
          0.069065620261416,
          0.9795147696875675,
          -0.9884646911340608,
          -0.3896075373137488,
          -2.302604044069634,
          0.4812428494324066,
          -1.0743371639752484,
          -0.901325591652145,
          -1.3955540299536509,
          -0.7722292126644033,
          -0.48005842284055805,
          -0.06660471875486865,
          0.5884452112326498,
          -1.6894909362213644,
          -0.16203994507754774,
          -0.35745126049456716,
          -1.2216405215156472,
          -1.5314375292682807,
          0.16666904289206597,
          -0.6639132343154985,
          -1.0723849645510015,
          0.19313545104162413,
          -0.39637930767477336,
          0.9666952656807792,
          -0.3020082486157058,
          1.9066392258088303,
          -2.2106799844692673,
          -0.09187692165825188,
          -0.18909933282272662,
          -1.5526563300765173,
          0.6310274126390918,
          0.7962748274453911,
          3.0613176149500934,
          -2.098248003547318,
          -1.8212990362024815,
          -0.06726072924822411,
          0.3044957245832294
         ],
         "yaxis": "y12"
        },
        {
         "line": {
          "color": "rgba(128, 128, 128, 1.0)",
          "dash": "solid",
          "shape": "linear",
          "width": 1.3
         },
         "marker": {
          "size": 2,
          "symbol": "circle"
         },
         "mode": "markers",
         "name": "D",
         "text": "",
         "type": "scatter",
         "x": [
          -1.9155992047694723,
          -0.4481315159572726,
          -0.11667812727294494,
          -0.47405025229684344,
          0.5746676894222532,
          -1.5551821928115497,
          -1.072363124361193,
          1.2249086267193,
          -3.3367698414674267,
          -1.011489626579287,
          0.6314459569116476,
          0.08220392031662183,
          -1.491849155089903,
          -2.6826923465190182,
          -1.406142682152996,
          -0.09669026493158919,
          0.6255108134307167,
          -0.8998558810491614,
          -0.2756313164584835,
          0.3713126358915743,
          -0.14945511870764175,
          -2.7250214453982338,
          -0.497935347176919,
          -0.7794784042791113,
          -0.30309488487554737,
          -0.7033732528019522,
          0.07862498827643226,
          -0.49979720991996174,
          -0.6002810486693904,
          0.718931878030546,
          0.2590887953878619,
          0.9060597459809786,
          -0.4190053741867893,
          -0.674433060377967,
          0.10545055429225647,
          1.2703935062900036,
          0.08983878160980747,
          0.6570432262514,
          -1.0176071028493356,
          0.6749140899996501,
          0.08417298484397781,
          0.8001476730499851,
          -0.12399513898835102,
          0.6274206095826046,
          -1.318877425164554,
          0.8164515931433367,
          0.09393732573798273,
          1.1206004281742687,
          0.8579900755978948,
          0.14911973244187204,
          0.9711897159096959,
          0.15869343459827023,
          0.20449045179987363,
          -1.6562183779368844,
          -0.9608076241416532,
          1.7727570332597742,
          -0.4457864515536005,
          0.4733263459830899,
          -0.1111431812706696,
          -0.6308516353493814,
          -1.5083286013649613,
          -1.8184170618133393,
          -1.577160446581665,
          -1.3084496737397215,
          0.29394673420640693,
          -0.21034035618984062,
          0.22395410087307033,
          0.5071818648650146,
          -1.4180404163946694,
          -0.21388614142527063,
          -0.7728099669727144,
          0.45279731788305944,
          -1.176389429494858,
          1.537074281671399,
          -1.0673529889078999,
          -1.1894210145045987,
          -1.5454669283459765,
          0.30364289543227707,
          -0.2762977037815814,
          1.7831332501465116,
          0.9826029558353301,
          -1.002098401486566,
          -0.16731691773009688,
          1.176134221963469,
          0.3460648331901014,
          -0.32043219503556436,
          -0.3782163252372253,
          0.9571278359770741,
          -0.057274155370753116,
          0.32731766282935837,
          -0.30977457949724585,
          -0.9355114325341685,
          -1.8964276157738422,
          0.2929666305481281,
          -0.7261109260232375,
          -0.5620284230807836,
          0.29595542033167244,
          -1.6709671363176706,
          0.7262858567454336,
          -0.564607728302298
         ],
         "xaxis": "x13",
         "y": [
          0.9930434223630643,
          -0.5185944171985121,
          0.12625668626889675,
          1.4126287501903794,
          -0.4921417495462758,
          -0.5103664470584897,
          -1.1908203707069451,
          0.04023821016681215,
          -0.13947666253542734,
          0.8868781252910879,
          -1.6371569022893278,
          0.7672435204882054,
          0.6169553575989898,
          1.3329917928265773,
          -0.7665638783382027,
          -0.08123583532764496,
          -0.32864850216455593,
          -0.029361561163987148,
          0.6399435184431522,
          -1.8633894015617534,
          -0.15400435668524395,
          0.6264413708591936,
          -0.6329021971365782,
          0.358736207272916,
          -0.7284128090386145,
          -0.26492527185638926,
          1.1696315706744203,
          0.34784394112845773,
          -1.6357683954704856,
          -2.2217094786651264,
          0.35909219044296037,
          -1.6103043352563573,
          0.5154940607552029,
          -1.0337034512745022,
          -0.5200214578592136,
          -0.5410133095509277,
          0.11565363484436865,
          -1.1689675937280577,
          -0.06743860667609816,
          0.8093101336485461,
          2.2759957457438387,
          1.630917558792805,
          -0.8679712037280137,
          -0.05101251089912307,
          -1.860017791349555,
          0.9246439226006556,
          0.7656419764489286,
          -1.0172384600075741,
          0.07302717803805786,
          0.358441466502234,
          0.37444771313545494,
          1.1880055833311223,
          1.0923860205997888,
          0.7037031652652141,
          -1.417668561379097,
          2.8345850950566707,
          1.029274652519448,
          0.39385699755084097,
          -1.0040261687326846,
          -0.23643129269215768,
          1.678181820866815,
          -0.6972407986458042,
          0.3009890287331359,
          0.4574685093787016,
          0.3937636188502432,
          -1.2005561380897674,
          0.8234987906280484,
          0.6519985416617249,
          1.4010954582169186,
          0.9000817296184049,
          0.9056196239785779,
          -0.1925110523641491,
          -0.2397258822912278,
          1.524354050219484,
          0.7111398702461121,
          -0.590158347508297,
          -0.22651938157426366,
          -0.3590382922775907,
          -1.1433500094981577,
          0.13947063075046293,
          1.1870112738414629,
          0.315517739666811,
          -0.20814383151220558,
          0.7927519220506773,
          -0.29663485225690894,
          0.33126294483647645,
          0.5201888558820525,
          1.3281684355453012,
          1.2160740263768117,
          -0.5964855723830482,
          0.9560523724277572,
          0.3961241033062341,
          0.6977353087784073,
          2.043350934958954,
          0.2122349045877803,
          0.9063572709159615,
          -0.191869442749806,
          -1.0131325421167754,
          -0.2643773463361861,
          0.38858293445015457
         ],
         "yaxis": "y13"
        },
        {
         "line": {
          "color": "rgba(128, 128, 128, 1.0)",
          "dash": "solid",
          "shape": "linear",
          "width": 1.3
         },
         "marker": {
          "size": 2,
          "symbol": "circle"
         },
         "mode": "markers",
         "name": "D",
         "text": "",
         "type": "scatter",
         "x": [
          0.25012653811443325,
          -0.31263602491902226,
          0.46854191390985994,
          0.3495550634187599,
          1.2779608573542152,
          -0.7195686267733024,
          -0.05377556286345402,
          0.8860961885150416,
          -0.35659558561108556,
          -0.5412418799364572,
          -1.0538607706754788,
          -1.4357015266467925,
          -1.4440825388729484,
          -0.4601463702775817,
          1.0525558771197012,
          -0.6384012471936885,
          -0.3984075707720691,
          0.3217992513734411,
          0.717847534780858,
          0.14786313583922234,
          -0.08921894414927768,
          -0.026447486752192863,
          -0.41781749828547704,
          -0.4258553164011774,
          -0.691041627506832,
          0.2725451758149655,
          1.2146505715089757,
          -0.7164863916632876,
          0.39324350968810945,
          -0.30946916784496414,
          -0.27145136523819957,
          0.6679457848678415,
          -0.07142770435308705,
          0.704443166579191,
          2.157895083594788,
          0.6170696338034954,
          -0.13662952222954544,
          -0.290866965366531,
          -0.4155089124480595,
          -0.15309402200095784,
          1.5221394507416537,
          -1.6249467620767861,
          -0.6965471964753526,
          0.182517283224261,
          0.23350357359802568,
          1.1453466340351426,
          -0.3686827311467193,
          1.957928012194116,
          0.4071672052678087,
          0.58680361903923,
          -0.8828982087450967,
          0.4129260132199946,
          0.6441433598373917,
          0.33372085287296577,
          0.3114578540673428,
          0.30273197459055706,
          -0.0672794267265068,
          0.7311115271348104,
          -1.4610688565261025,
          -1.3620418033258774,
          -1.1749042013895534,
          0.2569253531988617,
          0.3132234789055193,
          -0.4939070459441881,
          -0.38233997444376466,
          -0.8341518456265357,
          -2.275739432967845,
          -1.5981719266949375,
          1.4764816496356954,
          1.2582757204570383,
          -0.4430532726331741,
          -0.21808790791840466,
          -0.2523685759128763,
          -0.600478802244115,
          0.15220587659129273,
          -1.6586124610802093,
          -1.3433717204993254,
          0.9523056125989408,
          -1.9154009199738649,
          -1.3386543561881108,
          -0.8149176443027241,
          0.6388800450354669,
          0.030844994128891724,
          -1.986446346965538,
          -0.22630015828997926,
          -0.27117120976532544,
          -1.176124215365589,
          0.4534877231166138,
          0.1678182902848415,
          0.5552876540147228,
          -0.00964539990285035,
          1.2041724538233955,
          0.024983048147564843,
          0.03429775948556624,
          1.346683258563046,
          0.9870398426730453,
          -0.5747651397935243,
          -1.8469381178596094,
          0.751357199127522,
          0.38951470541379307
         ],
         "xaxis": "x14",
         "y": [
          0.9930434223630643,
          -0.5185944171985121,
          0.12625668626889675,
          1.4126287501903794,
          -0.4921417495462758,
          -0.5103664470584897,
          -1.1908203707069451,
          0.04023821016681215,
          -0.13947666253542734,
          0.8868781252910879,
          -1.6371569022893278,
          0.7672435204882054,
          0.6169553575989898,
          1.3329917928265773,
          -0.7665638783382027,
          -0.08123583532764496,
          -0.32864850216455593,
          -0.029361561163987148,
          0.6399435184431522,
          -1.8633894015617534,
          -0.15400435668524395,
          0.6264413708591936,
          -0.6329021971365782,
          0.358736207272916,
          -0.7284128090386145,
          -0.26492527185638926,
          1.1696315706744203,
          0.34784394112845773,
          -1.6357683954704856,
          -2.2217094786651264,
          0.35909219044296037,
          -1.6103043352563573,
          0.5154940607552029,
          -1.0337034512745022,
          -0.5200214578592136,
          -0.5410133095509277,
          0.11565363484436865,
          -1.1689675937280577,
          -0.06743860667609816,
          0.8093101336485461,
          2.2759957457438387,
          1.630917558792805,
          -0.8679712037280137,
          -0.05101251089912307,
          -1.860017791349555,
          0.9246439226006556,
          0.7656419764489286,
          -1.0172384600075741,
          0.07302717803805786,
          0.358441466502234,
          0.37444771313545494,
          1.1880055833311223,
          1.0923860205997888,
          0.7037031652652141,
          -1.417668561379097,
          2.8345850950566707,
          1.029274652519448,
          0.39385699755084097,
          -1.0040261687326846,
          -0.23643129269215768,
          1.678181820866815,
          -0.6972407986458042,
          0.3009890287331359,
          0.4574685093787016,
          0.3937636188502432,
          -1.2005561380897674,
          0.8234987906280484,
          0.6519985416617249,
          1.4010954582169186,
          0.9000817296184049,
          0.9056196239785779,
          -0.1925110523641491,
          -0.2397258822912278,
          1.524354050219484,
          0.7111398702461121,
          -0.590158347508297,
          -0.22651938157426366,
          -0.3590382922775907,
          -1.1433500094981577,
          0.13947063075046293,
          1.1870112738414629,
          0.315517739666811,
          -0.20814383151220558,
          0.7927519220506773,
          -0.29663485225690894,
          0.33126294483647645,
          0.5201888558820525,
          1.3281684355453012,
          1.2160740263768117,
          -0.5964855723830482,
          0.9560523724277572,
          0.3961241033062341,
          0.6977353087784073,
          2.043350934958954,
          0.2122349045877803,
          0.9063572709159615,
          -0.191869442749806,
          -1.0131325421167754,
          -0.2643773463361861,
          0.38858293445015457
         ],
         "yaxis": "y14"
        },
        {
         "line": {
          "color": "rgba(128, 128, 128, 1.0)",
          "dash": "solid",
          "shape": "linear",
          "width": 1.3
         },
         "marker": {
          "size": 2,
          "symbol": "circle"
         },
         "mode": "markers",
         "name": "D",
         "text": "",
         "type": "scatter",
         "x": [
          -0.33147941212230614,
          0.4030748389856743,
          0.775394702177516,
          -0.6034415754468376,
          -0.515548867017618,
          1.5761779599884451,
          -0.7910572237007015,
          -0.07598643557492382,
          1.6776710519354656,
          1.325248722840458,
          -0.057994098701497604,
          0.1797865482746144,
          0.514515206533345,
          -1.341690880163176,
          0.7736138888697905,
          1.2761533474012723,
          -0.2873814394453713,
          0.8159630337408869,
          1.4143203929103167,
          -1.1959217380546179,
          1.0605305881743308,
          -0.2871029678069003,
          -0.47650966749294815,
          -1.5322201238101008,
          2.3273156202072434,
          -1.3016443743900041,
          0.18146682359698219,
          -2.265041716343768,
          -0.23031719460426087,
          1.0036379076404183,
          1.39111353332184,
          0.9986221869201293,
          -0.6975563428250889,
          -1.0656541871381087,
          -0.13820505997914495,
          0.1411027855289363,
          0.6424293097490533,
          1.012356910815464,
          -1.8117231106561977,
          -0.8655847462795403,
          0.7837144577597044,
          -0.6580237608589773,
          -2.0656532408667228,
          -0.7041976382667674,
          1.4112389977992923,
          -1.99819086410293,
          1.002197302797664,
          0.10259668465654932,
          0.0010116918716799508,
          -1.6738788054683773,
          0.3309445727100791,
          3.7065199797729567,
          -0.19537551646281318,
          0.03037790496248001,
          0.09501392488427825,
          1.3646049958720576,
          0.4789596489217511,
          0.7960288598719361,
          0.41795718796210096,
          0.715138543589554,
          0.44157282341480664,
          0.46212335527427667,
          0.4394396173599501,
          0.069065620261416,
          0.9795147696875675,
          -0.9884646911340608,
          -0.3896075373137488,
          -2.302604044069634,
          0.4812428494324066,
          -1.0743371639752484,
          -0.901325591652145,
          -1.3955540299536509,
          -0.7722292126644033,
          -0.48005842284055805,
          -0.06660471875486865,
          0.5884452112326498,
          -1.6894909362213644,
          -0.16203994507754774,
          -0.35745126049456716,
          -1.2216405215156472,
          -1.5314375292682807,
          0.16666904289206597,
          -0.6639132343154985,
          -1.0723849645510015,
          0.19313545104162413,
          -0.39637930767477336,
          0.9666952656807792,
          -0.3020082486157058,
          1.9066392258088303,
          -2.2106799844692673,
          -0.09187692165825188,
          -0.18909933282272662,
          -1.5526563300765173,
          0.6310274126390918,
          0.7962748274453911,
          3.0613176149500934,
          -2.098248003547318,
          -1.8212990362024815,
          -0.06726072924822411,
          0.3044957245832294
         ],
         "xaxis": "x15",
         "y": [
          0.9930434223630643,
          -0.5185944171985121,
          0.12625668626889675,
          1.4126287501903794,
          -0.4921417495462758,
          -0.5103664470584897,
          -1.1908203707069451,
          0.04023821016681215,
          -0.13947666253542734,
          0.8868781252910879,
          -1.6371569022893278,
          0.7672435204882054,
          0.6169553575989898,
          1.3329917928265773,
          -0.7665638783382027,
          -0.08123583532764496,
          -0.32864850216455593,
          -0.029361561163987148,
          0.6399435184431522,
          -1.8633894015617534,
          -0.15400435668524395,
          0.6264413708591936,
          -0.6329021971365782,
          0.358736207272916,
          -0.7284128090386145,
          -0.26492527185638926,
          1.1696315706744203,
          0.34784394112845773,
          -1.6357683954704856,
          -2.2217094786651264,
          0.35909219044296037,
          -1.6103043352563573,
          0.5154940607552029,
          -1.0337034512745022,
          -0.5200214578592136,
          -0.5410133095509277,
          0.11565363484436865,
          -1.1689675937280577,
          -0.06743860667609816,
          0.8093101336485461,
          2.2759957457438387,
          1.630917558792805,
          -0.8679712037280137,
          -0.05101251089912307,
          -1.860017791349555,
          0.9246439226006556,
          0.7656419764489286,
          -1.0172384600075741,
          0.07302717803805786,
          0.358441466502234,
          0.37444771313545494,
          1.1880055833311223,
          1.0923860205997888,
          0.7037031652652141,
          -1.417668561379097,
          2.8345850950566707,
          1.029274652519448,
          0.39385699755084097,
          -1.0040261687326846,
          -0.23643129269215768,
          1.678181820866815,
          -0.6972407986458042,
          0.3009890287331359,
          0.4574685093787016,
          0.3937636188502432,
          -1.2005561380897674,
          0.8234987906280484,
          0.6519985416617249,
          1.4010954582169186,
          0.9000817296184049,
          0.9056196239785779,
          -0.1925110523641491,
          -0.2397258822912278,
          1.524354050219484,
          0.7111398702461121,
          -0.590158347508297,
          -0.22651938157426366,
          -0.3590382922775907,
          -1.1433500094981577,
          0.13947063075046293,
          1.1870112738414629,
          0.315517739666811,
          -0.20814383151220558,
          0.7927519220506773,
          -0.29663485225690894,
          0.33126294483647645,
          0.5201888558820525,
          1.3281684355453012,
          1.2160740263768117,
          -0.5964855723830482,
          0.9560523724277572,
          0.3961241033062341,
          0.6977353087784073,
          2.043350934958954,
          0.2122349045877803,
          0.9063572709159615,
          -0.191869442749806,
          -1.0131325421167754,
          -0.2643773463361861,
          0.38858293445015457
         ],
         "yaxis": "y15"
        },
        {
         "histfunc": "count",
         "histnorm": "",
         "marker": {
          "color": "rgba(128, 0, 128, 1.0)",
          "line": {
           "color": "#4D5663",
           "width": 1.3
          }
         },
         "name": "D",
         "nbinsx": 10,
         "opacity": 0.8,
         "orientation": "v",
         "type": "histogram",
         "x": [
          0.9930434223630643,
          -0.5185944171985121,
          0.12625668626889675,
          1.4126287501903794,
          -0.4921417495462758,
          -0.5103664470584897,
          -1.1908203707069451,
          0.04023821016681215,
          -0.13947666253542734,
          0.8868781252910879,
          -1.6371569022893278,
          0.7672435204882054,
          0.6169553575989898,
          1.3329917928265773,
          -0.7665638783382027,
          -0.08123583532764496,
          -0.32864850216455593,
          -0.029361561163987148,
          0.6399435184431522,
          -1.8633894015617534,
          -0.15400435668524395,
          0.6264413708591936,
          -0.6329021971365782,
          0.358736207272916,
          -0.7284128090386145,
          -0.26492527185638926,
          1.1696315706744203,
          0.34784394112845773,
          -1.6357683954704856,
          -2.2217094786651264,
          0.35909219044296037,
          -1.6103043352563573,
          0.5154940607552029,
          -1.0337034512745022,
          -0.5200214578592136,
          -0.5410133095509277,
          0.11565363484436865,
          -1.1689675937280577,
          -0.06743860667609816,
          0.8093101336485461,
          2.2759957457438387,
          1.630917558792805,
          -0.8679712037280137,
          -0.05101251089912307,
          -1.860017791349555,
          0.9246439226006556,
          0.7656419764489286,
          -1.0172384600075741,
          0.07302717803805786,
          0.358441466502234,
          0.37444771313545494,
          1.1880055833311223,
          1.0923860205997888,
          0.7037031652652141,
          -1.417668561379097,
          2.8345850950566707,
          1.029274652519448,
          0.39385699755084097,
          -1.0040261687326846,
          -0.23643129269215768,
          1.678181820866815,
          -0.6972407986458042,
          0.3009890287331359,
          0.4574685093787016,
          0.3937636188502432,
          -1.2005561380897674,
          0.8234987906280484,
          0.6519985416617249,
          1.4010954582169186,
          0.9000817296184049,
          0.9056196239785779,
          -0.1925110523641491,
          -0.2397258822912278,
          1.524354050219484,
          0.7111398702461121,
          -0.590158347508297,
          -0.22651938157426366,
          -0.3590382922775907,
          -1.1433500094981577,
          0.13947063075046293,
          1.1870112738414629,
          0.315517739666811,
          -0.20814383151220558,
          0.7927519220506773,
          -0.29663485225690894,
          0.33126294483647645,
          0.5201888558820525,
          1.3281684355453012,
          1.2160740263768117,
          -0.5964855723830482,
          0.9560523724277572,
          0.3961241033062341,
          0.6977353087784073,
          2.043350934958954,
          0.2122349045877803,
          0.9063572709159615,
          -0.191869442749806,
          -1.0131325421167754,
          -0.2643773463361861,
          0.38858293445015457
         ],
         "xaxis": "x16",
         "yaxis": "y16"
        }
       ],
       "layout": {
        "bargap": 0.02,
        "legend": {
         "bgcolor": "#F5F6F9",
         "font": {
          "color": "#4D5663"
         }
        },
        "paper_bgcolor": "#F5F6F9",
        "plot_bgcolor": "#F5F6F9",
        "showlegend": false,
        "template": {
         "data": {
          "bar": [
           {
            "error_x": {
             "color": "#2a3f5f"
            },
            "error_y": {
             "color": "#2a3f5f"
            },
            "marker": {
             "line": {
              "color": "#E5ECF6",
              "width": 0.5
             },
             "pattern": {
              "fillmode": "overlay",
              "size": 10,
              "solidity": 0.2
             }
            },
            "type": "bar"
           }
          ],
          "barpolar": [
           {
            "marker": {
             "line": {
              "color": "#E5ECF6",
              "width": 0.5
             },
             "pattern": {
              "fillmode": "overlay",
              "size": 10,
              "solidity": 0.2
             }
            },
            "type": "barpolar"
           }
          ],
          "carpet": [
           {
            "aaxis": {
             "endlinecolor": "#2a3f5f",
             "gridcolor": "white",
             "linecolor": "white",
             "minorgridcolor": "white",
             "startlinecolor": "#2a3f5f"
            },
            "baxis": {
             "endlinecolor": "#2a3f5f",
             "gridcolor": "white",
             "linecolor": "white",
             "minorgridcolor": "white",
             "startlinecolor": "#2a3f5f"
            },
            "type": "carpet"
           }
          ],
          "choropleth": [
           {
            "colorbar": {
             "outlinewidth": 0,
             "ticks": ""
            },
            "type": "choropleth"
           }
          ],
          "contour": [
           {
            "colorbar": {
             "outlinewidth": 0,
             "ticks": ""
            },
            "colorscale": [
             [
              0,
              "#0d0887"
             ],
             [
              0.1111111111111111,
              "#46039f"
             ],
             [
              0.2222222222222222,
              "#7201a8"
             ],
             [
              0.3333333333333333,
              "#9c179e"
             ],
             [
              0.4444444444444444,
              "#bd3786"
             ],
             [
              0.5555555555555556,
              "#d8576b"
             ],
             [
              0.6666666666666666,
              "#ed7953"
             ],
             [
              0.7777777777777778,
              "#fb9f3a"
             ],
             [
              0.8888888888888888,
              "#fdca26"
             ],
             [
              1,
              "#f0f921"
             ]
            ],
            "type": "contour"
           }
          ],
          "contourcarpet": [
           {
            "colorbar": {
             "outlinewidth": 0,
             "ticks": ""
            },
            "type": "contourcarpet"
           }
          ],
          "heatmap": [
           {
            "colorbar": {
             "outlinewidth": 0,
             "ticks": ""
            },
            "colorscale": [
             [
              0,
              "#0d0887"
             ],
             [
              0.1111111111111111,
              "#46039f"
             ],
             [
              0.2222222222222222,
              "#7201a8"
             ],
             [
              0.3333333333333333,
              "#9c179e"
             ],
             [
              0.4444444444444444,
              "#bd3786"
             ],
             [
              0.5555555555555556,
              "#d8576b"
             ],
             [
              0.6666666666666666,
              "#ed7953"
             ],
             [
              0.7777777777777778,
              "#fb9f3a"
             ],
             [
              0.8888888888888888,
              "#fdca26"
             ],
             [
              1,
              "#f0f921"
             ]
            ],
            "type": "heatmap"
           }
          ],
          "heatmapgl": [
           {
            "colorbar": {
             "outlinewidth": 0,
             "ticks": ""
            },
            "colorscale": [
             [
              0,
              "#0d0887"
             ],
             [
              0.1111111111111111,
              "#46039f"
             ],
             [
              0.2222222222222222,
              "#7201a8"
             ],
             [
              0.3333333333333333,
              "#9c179e"
             ],
             [
              0.4444444444444444,
              "#bd3786"
             ],
             [
              0.5555555555555556,
              "#d8576b"
             ],
             [
              0.6666666666666666,
              "#ed7953"
             ],
             [
              0.7777777777777778,
              "#fb9f3a"
             ],
             [
              0.8888888888888888,
              "#fdca26"
             ],
             [
              1,
              "#f0f921"
             ]
            ],
            "type": "heatmapgl"
           }
          ],
          "histogram": [
           {
            "marker": {
             "pattern": {
              "fillmode": "overlay",
              "size": 10,
              "solidity": 0.2
             }
            },
            "type": "histogram"
           }
          ],
          "histogram2d": [
           {
            "colorbar": {
             "outlinewidth": 0,
             "ticks": ""
            },
            "colorscale": [
             [
              0,
              "#0d0887"
             ],
             [
              0.1111111111111111,
              "#46039f"
             ],
             [
              0.2222222222222222,
              "#7201a8"
             ],
             [
              0.3333333333333333,
              "#9c179e"
             ],
             [
              0.4444444444444444,
              "#bd3786"
             ],
             [
              0.5555555555555556,
              "#d8576b"
             ],
             [
              0.6666666666666666,
              "#ed7953"
             ],
             [
              0.7777777777777778,
              "#fb9f3a"
             ],
             [
              0.8888888888888888,
              "#fdca26"
             ],
             [
              1,
              "#f0f921"
             ]
            ],
            "type": "histogram2d"
           }
          ],
          "histogram2dcontour": [
           {
            "colorbar": {
             "outlinewidth": 0,
             "ticks": ""
            },
            "colorscale": [
             [
              0,
              "#0d0887"
             ],
             [
              0.1111111111111111,
              "#46039f"
             ],
             [
              0.2222222222222222,
              "#7201a8"
             ],
             [
              0.3333333333333333,
              "#9c179e"
             ],
             [
              0.4444444444444444,
              "#bd3786"
             ],
             [
              0.5555555555555556,
              "#d8576b"
             ],
             [
              0.6666666666666666,
              "#ed7953"
             ],
             [
              0.7777777777777778,
              "#fb9f3a"
             ],
             [
              0.8888888888888888,
              "#fdca26"
             ],
             [
              1,
              "#f0f921"
             ]
            ],
            "type": "histogram2dcontour"
           }
          ],
          "mesh3d": [
           {
            "colorbar": {
             "outlinewidth": 0,
             "ticks": ""
            },
            "type": "mesh3d"
           }
          ],
          "parcoords": [
           {
            "line": {
             "colorbar": {
              "outlinewidth": 0,
              "ticks": ""
             }
            },
            "type": "parcoords"
           }
          ],
          "pie": [
           {
            "automargin": true,
            "type": "pie"
           }
          ],
          "scatter": [
           {
            "fillpattern": {
             "fillmode": "overlay",
             "size": 10,
             "solidity": 0.2
            },
            "type": "scatter"
           }
          ],
          "scatter3d": [
           {
            "line": {
             "colorbar": {
              "outlinewidth": 0,
              "ticks": ""
             }
            },
            "marker": {
             "colorbar": {
              "outlinewidth": 0,
              "ticks": ""
             }
            },
            "type": "scatter3d"
           }
          ],
          "scattercarpet": [
           {
            "marker": {
             "colorbar": {
              "outlinewidth": 0,
              "ticks": ""
             }
            },
            "type": "scattercarpet"
           }
          ],
          "scattergeo": [
           {
            "marker": {
             "colorbar": {
              "outlinewidth": 0,
              "ticks": ""
             }
            },
            "type": "scattergeo"
           }
          ],
          "scattergl": [
           {
            "marker": {
             "colorbar": {
              "outlinewidth": 0,
              "ticks": ""
             }
            },
            "type": "scattergl"
           }
          ],
          "scattermapbox": [
           {
            "marker": {
             "colorbar": {
              "outlinewidth": 0,
              "ticks": ""
             }
            },
            "type": "scattermapbox"
           }
          ],
          "scatterpolar": [
           {
            "marker": {
             "colorbar": {
              "outlinewidth": 0,
              "ticks": ""
             }
            },
            "type": "scatterpolar"
           }
          ],
          "scatterpolargl": [
           {
            "marker": {
             "colorbar": {
              "outlinewidth": 0,
              "ticks": ""
             }
            },
            "type": "scatterpolargl"
           }
          ],
          "scatterternary": [
           {
            "marker": {
             "colorbar": {
              "outlinewidth": 0,
              "ticks": ""
             }
            },
            "type": "scatterternary"
           }
          ],
          "surface": [
           {
            "colorbar": {
             "outlinewidth": 0,
             "ticks": ""
            },
            "colorscale": [
             [
              0,
              "#0d0887"
             ],
             [
              0.1111111111111111,
              "#46039f"
             ],
             [
              0.2222222222222222,
              "#7201a8"
             ],
             [
              0.3333333333333333,
              "#9c179e"
             ],
             [
              0.4444444444444444,
              "#bd3786"
             ],
             [
              0.5555555555555556,
              "#d8576b"
             ],
             [
              0.6666666666666666,
              "#ed7953"
             ],
             [
              0.7777777777777778,
              "#fb9f3a"
             ],
             [
              0.8888888888888888,
              "#fdca26"
             ],
             [
              1,
              "#f0f921"
             ]
            ],
            "type": "surface"
           }
          ],
          "table": [
           {
            "cells": {
             "fill": {
              "color": "#EBF0F8"
             },
             "line": {
              "color": "white"
             }
            },
            "header": {
             "fill": {
              "color": "#C8D4E3"
             },
             "line": {
              "color": "white"
             }
            },
            "type": "table"
           }
          ]
         },
         "layout": {
          "annotationdefaults": {
           "arrowcolor": "#2a3f5f",
           "arrowhead": 0,
           "arrowwidth": 1
          },
          "autotypenumbers": "strict",
          "coloraxis": {
           "colorbar": {
            "outlinewidth": 0,
            "ticks": ""
           }
          },
          "colorscale": {
           "diverging": [
            [
             0,
             "#8e0152"
            ],
            [
             0.1,
             "#c51b7d"
            ],
            [
             0.2,
             "#de77ae"
            ],
            [
             0.3,
             "#f1b6da"
            ],
            [
             0.4,
             "#fde0ef"
            ],
            [
             0.5,
             "#f7f7f7"
            ],
            [
             0.6,
             "#e6f5d0"
            ],
            [
             0.7,
             "#b8e186"
            ],
            [
             0.8,
             "#7fbc41"
            ],
            [
             0.9,
             "#4d9221"
            ],
            [
             1,
             "#276419"
            ]
           ],
           "sequential": [
            [
             0,
             "#0d0887"
            ],
            [
             0.1111111111111111,
             "#46039f"
            ],
            [
             0.2222222222222222,
             "#7201a8"
            ],
            [
             0.3333333333333333,
             "#9c179e"
            ],
            [
             0.4444444444444444,
             "#bd3786"
            ],
            [
             0.5555555555555556,
             "#d8576b"
            ],
            [
             0.6666666666666666,
             "#ed7953"
            ],
            [
             0.7777777777777778,
             "#fb9f3a"
            ],
            [
             0.8888888888888888,
             "#fdca26"
            ],
            [
             1,
             "#f0f921"
            ]
           ],
           "sequentialminus": [
            [
             0,
             "#0d0887"
            ],
            [
             0.1111111111111111,
             "#46039f"
            ],
            [
             0.2222222222222222,
             "#7201a8"
            ],
            [
             0.3333333333333333,
             "#9c179e"
            ],
            [
             0.4444444444444444,
             "#bd3786"
            ],
            [
             0.5555555555555556,
             "#d8576b"
            ],
            [
             0.6666666666666666,
             "#ed7953"
            ],
            [
             0.7777777777777778,
             "#fb9f3a"
            ],
            [
             0.8888888888888888,
             "#fdca26"
            ],
            [
             1,
             "#f0f921"
            ]
           ]
          },
          "colorway": [
           "#636efa",
           "#EF553B",
           "#00cc96",
           "#ab63fa",
           "#FFA15A",
           "#19d3f3",
           "#FF6692",
           "#B6E880",
           "#FF97FF",
           "#FECB52"
          ],
          "font": {
           "color": "#2a3f5f"
          },
          "geo": {
           "bgcolor": "white",
           "lakecolor": "white",
           "landcolor": "#E5ECF6",
           "showlakes": true,
           "showland": true,
           "subunitcolor": "white"
          },
          "hoverlabel": {
           "align": "left"
          },
          "hovermode": "closest",
          "mapbox": {
           "style": "light"
          },
          "paper_bgcolor": "white",
          "plot_bgcolor": "#E5ECF6",
          "polar": {
           "angularaxis": {
            "gridcolor": "white",
            "linecolor": "white",
            "ticks": ""
           },
           "bgcolor": "#E5ECF6",
           "radialaxis": {
            "gridcolor": "white",
            "linecolor": "white",
            "ticks": ""
           }
          },
          "scene": {
           "xaxis": {
            "backgroundcolor": "#E5ECF6",
            "gridcolor": "white",
            "gridwidth": 2,
            "linecolor": "white",
            "showbackground": true,
            "ticks": "",
            "zerolinecolor": "white"
           },
           "yaxis": {
            "backgroundcolor": "#E5ECF6",
            "gridcolor": "white",
            "gridwidth": 2,
            "linecolor": "white",
            "showbackground": true,
            "ticks": "",
            "zerolinecolor": "white"
           },
           "zaxis": {
            "backgroundcolor": "#E5ECF6",
            "gridcolor": "white",
            "gridwidth": 2,
            "linecolor": "white",
            "showbackground": true,
            "ticks": "",
            "zerolinecolor": "white"
           }
          },
          "shapedefaults": {
           "line": {
            "color": "#2a3f5f"
           }
          },
          "ternary": {
           "aaxis": {
            "gridcolor": "white",
            "linecolor": "white",
            "ticks": ""
           },
           "baxis": {
            "gridcolor": "white",
            "linecolor": "white",
            "ticks": ""
           },
           "bgcolor": "#E5ECF6",
           "caxis": {
            "gridcolor": "white",
            "linecolor": "white",
            "ticks": ""
           }
          },
          "title": {
           "x": 0.05
          },
          "xaxis": {
           "automargin": true,
           "gridcolor": "white",
           "linecolor": "white",
           "ticks": "",
           "title": {
            "standoff": 15
           },
           "zerolinecolor": "white",
           "zerolinewidth": 2
          },
          "yaxis": {
           "automargin": true,
           "gridcolor": "white",
           "linecolor": "white",
           "ticks": "",
           "title": {
            "standoff": 15
           },
           "zerolinecolor": "white",
           "zerolinewidth": 2
          }
         }
        },
        "title": {
         "font": {
          "color": "#4D5663"
         }
        },
        "xaxis": {
         "anchor": "y",
         "domain": [
          0,
          0.2125
         ],
         "gridcolor": "#E1E5ED",
         "showgrid": false,
         "tickfont": {
          "color": "#4D5663"
         },
         "title": {
          "font": {
           "color": "#4D5663"
          },
          "text": ""
         },
         "zerolinecolor": "#E1E5ED"
        },
        "xaxis10": {
         "anchor": "y10",
         "domain": [
          0.2625,
          0.475
         ],
         "gridcolor": "#E1E5ED",
         "showgrid": false,
         "tickfont": {
          "color": "#4D5663"
         },
         "title": {
          "font": {
           "color": "#4D5663"
          },
          "text": ""
         },
         "zerolinecolor": "#E1E5ED"
        },
        "xaxis11": {
         "anchor": "y11",
         "domain": [
          0.525,
          0.7375
         ],
         "gridcolor": "#E1E5ED",
         "showgrid": false,
         "tickfont": {
          "color": "#4D5663"
         },
         "title": {
          "font": {
           "color": "#4D5663"
          },
          "text": ""
         },
         "zerolinecolor": "#E1E5ED"
        },
        "xaxis12": {
         "anchor": "y12",
         "domain": [
          0.7875,
          1
         ],
         "gridcolor": "#E1E5ED",
         "showgrid": false,
         "tickfont": {
          "color": "#4D5663"
         },
         "title": {
          "font": {
           "color": "#4D5663"
          },
          "text": ""
         },
         "zerolinecolor": "#E1E5ED"
        },
        "xaxis13": {
         "anchor": "y13",
         "domain": [
          0,
          0.2125
         ],
         "gridcolor": "#E1E5ED",
         "showgrid": false,
         "tickfont": {
          "color": "#4D5663"
         },
         "title": {
          "font": {
           "color": "#4D5663"
          },
          "text": ""
         },
         "zerolinecolor": "#E1E5ED"
        },
        "xaxis14": {
         "anchor": "y14",
         "domain": [
          0.2625,
          0.475
         ],
         "gridcolor": "#E1E5ED",
         "showgrid": false,
         "tickfont": {
          "color": "#4D5663"
         },
         "title": {
          "font": {
           "color": "#4D5663"
          },
          "text": ""
         },
         "zerolinecolor": "#E1E5ED"
        },
        "xaxis15": {
         "anchor": "y15",
         "domain": [
          0.525,
          0.7375
         ],
         "gridcolor": "#E1E5ED",
         "showgrid": false,
         "tickfont": {
          "color": "#4D5663"
         },
         "title": {
          "font": {
           "color": "#4D5663"
          },
          "text": ""
         },
         "zerolinecolor": "#E1E5ED"
        },
        "xaxis16": {
         "anchor": "y16",
         "domain": [
          0.7875,
          1
         ],
         "gridcolor": "#E1E5ED",
         "showgrid": false,
         "tickfont": {
          "color": "#4D5663"
         },
         "title": {
          "font": {
           "color": "#4D5663"
          },
          "text": ""
         },
         "zerolinecolor": "#E1E5ED"
        },
        "xaxis2": {
         "anchor": "y2",
         "domain": [
          0.2625,
          0.475
         ],
         "gridcolor": "#E1E5ED",
         "showgrid": false,
         "tickfont": {
          "color": "#4D5663"
         },
         "title": {
          "font": {
           "color": "#4D5663"
          },
          "text": ""
         },
         "zerolinecolor": "#E1E5ED"
        },
        "xaxis3": {
         "anchor": "y3",
         "domain": [
          0.525,
          0.7375
         ],
         "gridcolor": "#E1E5ED",
         "showgrid": false,
         "tickfont": {
          "color": "#4D5663"
         },
         "title": {
          "font": {
           "color": "#4D5663"
          },
          "text": ""
         },
         "zerolinecolor": "#E1E5ED"
        },
        "xaxis4": {
         "anchor": "y4",
         "domain": [
          0.7875,
          1
         ],
         "gridcolor": "#E1E5ED",
         "showgrid": false,
         "tickfont": {
          "color": "#4D5663"
         },
         "title": {
          "font": {
           "color": "#4D5663"
          },
          "text": ""
         },
         "zerolinecolor": "#E1E5ED"
        },
        "xaxis5": {
         "anchor": "y5",
         "domain": [
          0,
          0.2125
         ],
         "gridcolor": "#E1E5ED",
         "showgrid": false,
         "tickfont": {
          "color": "#4D5663"
         },
         "title": {
          "font": {
           "color": "#4D5663"
          },
          "text": ""
         },
         "zerolinecolor": "#E1E5ED"
        },
        "xaxis6": {
         "anchor": "y6",
         "domain": [
          0.2625,
          0.475
         ],
         "gridcolor": "#E1E5ED",
         "showgrid": false,
         "tickfont": {
          "color": "#4D5663"
         },
         "title": {
          "font": {
           "color": "#4D5663"
          },
          "text": ""
         },
         "zerolinecolor": "#E1E5ED"
        },
        "xaxis7": {
         "anchor": "y7",
         "domain": [
          0.525,
          0.7375
         ],
         "gridcolor": "#E1E5ED",
         "showgrid": false,
         "tickfont": {
          "color": "#4D5663"
         },
         "title": {
          "font": {
           "color": "#4D5663"
          },
          "text": ""
         },
         "zerolinecolor": "#E1E5ED"
        },
        "xaxis8": {
         "anchor": "y8",
         "domain": [
          0.7875,
          1
         ],
         "gridcolor": "#E1E5ED",
         "showgrid": false,
         "tickfont": {
          "color": "#4D5663"
         },
         "title": {
          "font": {
           "color": "#4D5663"
          },
          "text": ""
         },
         "zerolinecolor": "#E1E5ED"
        },
        "xaxis9": {
         "anchor": "y9",
         "domain": [
          0,
          0.2125
         ],
         "gridcolor": "#E1E5ED",
         "showgrid": false,
         "tickfont": {
          "color": "#4D5663"
         },
         "title": {
          "font": {
           "color": "#4D5663"
          },
          "text": ""
         },
         "zerolinecolor": "#E1E5ED"
        },
        "yaxis": {
         "anchor": "x",
         "domain": [
          0.8025,
          1
         ],
         "gridcolor": "#E1E5ED",
         "showgrid": false,
         "tickfont": {
          "color": "#4D5663"
         },
         "title": {
          "font": {
           "color": "#4D5663"
          },
          "text": ""
         },
         "zerolinecolor": "#E1E5ED"
        },
        "yaxis10": {
         "anchor": "x10",
         "domain": [
          0.2675,
          0.465
         ],
         "gridcolor": "#E1E5ED",
         "showgrid": false,
         "tickfont": {
          "color": "#4D5663"
         },
         "title": {
          "font": {
           "color": "#4D5663"
          },
          "text": ""
         },
         "zerolinecolor": "#E1E5ED"
        },
        "yaxis11": {
         "anchor": "x11",
         "domain": [
          0.2675,
          0.465
         ],
         "gridcolor": "#E1E5ED",
         "showgrid": false,
         "tickfont": {
          "color": "#4D5663"
         },
         "title": {
          "font": {
           "color": "#4D5663"
          },
          "text": ""
         },
         "zerolinecolor": "#E1E5ED"
        },
        "yaxis12": {
         "anchor": "x12",
         "domain": [
          0.2675,
          0.465
         ],
         "gridcolor": "#E1E5ED",
         "showgrid": false,
         "tickfont": {
          "color": "#4D5663"
         },
         "title": {
          "font": {
           "color": "#4D5663"
          },
          "text": ""
         },
         "zerolinecolor": "#E1E5ED"
        },
        "yaxis13": {
         "anchor": "x13",
         "domain": [
          0,
          0.1975
         ],
         "gridcolor": "#E1E5ED",
         "showgrid": false,
         "tickfont": {
          "color": "#4D5663"
         },
         "title": {
          "font": {
           "color": "#4D5663"
          },
          "text": ""
         },
         "zerolinecolor": "#E1E5ED"
        },
        "yaxis14": {
         "anchor": "x14",
         "domain": [
          0,
          0.1975
         ],
         "gridcolor": "#E1E5ED",
         "showgrid": false,
         "tickfont": {
          "color": "#4D5663"
         },
         "title": {
          "font": {
           "color": "#4D5663"
          },
          "text": ""
         },
         "zerolinecolor": "#E1E5ED"
        },
        "yaxis15": {
         "anchor": "x15",
         "domain": [
          0,
          0.1975
         ],
         "gridcolor": "#E1E5ED",
         "showgrid": false,
         "tickfont": {
          "color": "#4D5663"
         },
         "title": {
          "font": {
           "color": "#4D5663"
          },
          "text": ""
         },
         "zerolinecolor": "#E1E5ED"
        },
        "yaxis16": {
         "anchor": "x16",
         "domain": [
          0,
          0.1975
         ],
         "gridcolor": "#E1E5ED",
         "showgrid": false,
         "tickfont": {
          "color": "#4D5663"
         },
         "title": {
          "font": {
           "color": "#4D5663"
          },
          "text": ""
         },
         "zerolinecolor": "#E1E5ED"
        },
        "yaxis2": {
         "anchor": "x2",
         "domain": [
          0.8025,
          1
         ],
         "gridcolor": "#E1E5ED",
         "showgrid": false,
         "tickfont": {
          "color": "#4D5663"
         },
         "title": {
          "font": {
           "color": "#4D5663"
          },
          "text": ""
         },
         "zerolinecolor": "#E1E5ED"
        },
        "yaxis3": {
         "anchor": "x3",
         "domain": [
          0.8025,
          1
         ],
         "gridcolor": "#E1E5ED",
         "showgrid": false,
         "tickfont": {
          "color": "#4D5663"
         },
         "title": {
          "font": {
           "color": "#4D5663"
          },
          "text": ""
         },
         "zerolinecolor": "#E1E5ED"
        },
        "yaxis4": {
         "anchor": "x4",
         "domain": [
          0.8025,
          1
         ],
         "gridcolor": "#E1E5ED",
         "showgrid": false,
         "tickfont": {
          "color": "#4D5663"
         },
         "title": {
          "font": {
           "color": "#4D5663"
          },
          "text": ""
         },
         "zerolinecolor": "#E1E5ED"
        },
        "yaxis5": {
         "anchor": "x5",
         "domain": [
          0.535,
          0.7325
         ],
         "gridcolor": "#E1E5ED",
         "showgrid": false,
         "tickfont": {
          "color": "#4D5663"
         },
         "title": {
          "font": {
           "color": "#4D5663"
          },
          "text": ""
         },
         "zerolinecolor": "#E1E5ED"
        },
        "yaxis6": {
         "anchor": "x6",
         "domain": [
          0.535,
          0.7325
         ],
         "gridcolor": "#E1E5ED",
         "showgrid": false,
         "tickfont": {
          "color": "#4D5663"
         },
         "title": {
          "font": {
           "color": "#4D5663"
          },
          "text": ""
         },
         "zerolinecolor": "#E1E5ED"
        },
        "yaxis7": {
         "anchor": "x7",
         "domain": [
          0.535,
          0.7325
         ],
         "gridcolor": "#E1E5ED",
         "showgrid": false,
         "tickfont": {
          "color": "#4D5663"
         },
         "title": {
          "font": {
           "color": "#4D5663"
          },
          "text": ""
         },
         "zerolinecolor": "#E1E5ED"
        },
        "yaxis8": {
         "anchor": "x8",
         "domain": [
          0.535,
          0.7325
         ],
         "gridcolor": "#E1E5ED",
         "showgrid": false,
         "tickfont": {
          "color": "#4D5663"
         },
         "title": {
          "font": {
           "color": "#4D5663"
          },
          "text": ""
         },
         "zerolinecolor": "#E1E5ED"
        },
        "yaxis9": {
         "anchor": "x9",
         "domain": [
          0.2675,
          0.465
         ],
         "gridcolor": "#E1E5ED",
         "showgrid": false,
         "tickfont": {
          "color": "#4D5663"
         },
         "title": {
          "font": {
           "color": "#4D5663"
          },
          "text": ""
         },
         "zerolinecolor": "#E1E5ED"
        }
       }
      },
      "text/html": [
       "<div>                            <div id=\"a74d03da-ff28-4681-ab3a-40949953cb6c\" class=\"plotly-graph-div\" style=\"height:525px; width:100%;\"></div>            <script type=\"text/javascript\">                require([\"plotly\"], function(Plotly) {                    window.PLOTLYENV=window.PLOTLYENV || {};\n",
       "                    window.PLOTLYENV.BASE_URL='https://plot.ly';                                    if (document.getElementById(\"a74d03da-ff28-4681-ab3a-40949953cb6c\")) {                    Plotly.newPlot(                        \"a74d03da-ff28-4681-ab3a-40949953cb6c\",                        [{\"histfunc\":\"count\",\"histnorm\":\"\",\"marker\":{\"color\":\"rgba(255, 153, 51, 1.0)\",\"line\":{\"color\":\"#4D5663\",\"width\":1.3}},\"name\":\"A\",\"nbinsx\":10,\"opacity\":0.8,\"orientation\":\"v\",\"x\":[-1.9155992047694723,-0.4481315159572726,-0.11667812727294494,-0.47405025229684344,0.5746676894222532,-1.5551821928115497,-1.072363124361193,1.2249086267193,-3.3367698414674267,-1.011489626579287,0.6314459569116476,0.08220392031662183,-1.491849155089903,-2.6826923465190182,-1.406142682152996,-0.09669026493158919,0.6255108134307167,-0.8998558810491614,-0.2756313164584835,0.3713126358915743,-0.14945511870764175,-2.7250214453982338,-0.497935347176919,-0.7794784042791113,-0.30309488487554737,-0.7033732528019522,0.07862498827643226,-0.49979720991996174,-0.6002810486693904,0.718931878030546,0.2590887953878619,0.9060597459809786,-0.4190053741867893,-0.674433060377967,0.10545055429225647,1.2703935062900036,0.08983878160980747,0.6570432262514,-1.0176071028493356,0.6749140899996501,0.08417298484397781,0.8001476730499851,-0.12399513898835102,0.6274206095826046,-1.318877425164554,0.8164515931433367,0.09393732573798273,1.1206004281742687,0.8579900755978948,0.14911973244187204,0.9711897159096959,0.15869343459827023,0.20449045179987363,-1.6562183779368844,-0.9608076241416532,1.7727570332597742,-0.4457864515536005,0.4733263459830899,-0.1111431812706696,-0.6308516353493814,-1.5083286013649613,-1.8184170618133393,-1.577160446581665,-1.3084496737397215,0.29394673420640693,-0.21034035618984062,0.22395410087307033,0.5071818648650146,-1.4180404163946694,-0.21388614142527063,-0.7728099669727144,0.45279731788305944,-1.176389429494858,1.537074281671399,-1.0673529889078999,-1.1894210145045987,-1.5454669283459765,0.30364289543227707,-0.2762977037815814,1.7831332501465116,0.9826029558353301,-1.002098401486566,-0.16731691773009688,1.176134221963469,0.3460648331901014,-0.32043219503556436,-0.3782163252372253,0.9571278359770741,-0.057274155370753116,0.32731766282935837,-0.30977457949724585,-0.9355114325341685,-1.8964276157738422,0.2929666305481281,-0.7261109260232375,-0.5620284230807836,0.29595542033167244,-1.6709671363176706,0.7262858567454336,-0.564607728302298],\"xaxis\":\"x\",\"yaxis\":\"y\",\"type\":\"histogram\"},{\"line\":{\"color\":\"rgba(128, 128, 128, 1.0)\",\"dash\":\"solid\",\"shape\":\"linear\",\"width\":1.3},\"marker\":{\"size\":2,\"symbol\":\"circle\"},\"mode\":\"markers\",\"name\":\"A\",\"text\":\"\",\"x\":[0.25012653811443325,-0.31263602491902226,0.46854191390985994,0.3495550634187599,1.2779608573542152,-0.7195686267733024,-0.05377556286345402,0.8860961885150416,-0.35659558561108556,-0.5412418799364572,-1.0538607706754788,-1.4357015266467925,-1.4440825388729484,-0.4601463702775817,1.0525558771197012,-0.6384012471936885,-0.3984075707720691,0.3217992513734411,0.717847534780858,0.14786313583922234,-0.08921894414927768,-0.026447486752192863,-0.41781749828547704,-0.4258553164011774,-0.691041627506832,0.2725451758149655,1.2146505715089757,-0.7164863916632876,0.39324350968810945,-0.30946916784496414,-0.27145136523819957,0.6679457848678415,-0.07142770435308705,0.704443166579191,2.157895083594788,0.6170696338034954,-0.13662952222954544,-0.290866965366531,-0.4155089124480595,-0.15309402200095784,1.5221394507416537,-1.6249467620767861,-0.6965471964753526,0.182517283224261,0.23350357359802568,1.1453466340351426,-0.3686827311467193,1.957928012194116,0.4071672052678087,0.58680361903923,-0.8828982087450967,0.4129260132199946,0.6441433598373917,0.33372085287296577,0.3114578540673428,0.30273197459055706,-0.0672794267265068,0.7311115271348104,-1.4610688565261025,-1.3620418033258774,-1.1749042013895534,0.2569253531988617,0.3132234789055193,-0.4939070459441881,-0.38233997444376466,-0.8341518456265357,-2.275739432967845,-1.5981719266949375,1.4764816496356954,1.2582757204570383,-0.4430532726331741,-0.21808790791840466,-0.2523685759128763,-0.600478802244115,0.15220587659129273,-1.6586124610802093,-1.3433717204993254,0.9523056125989408,-1.9154009199738649,-1.3386543561881108,-0.8149176443027241,0.6388800450354669,0.030844994128891724,-1.986446346965538,-0.22630015828997926,-0.27117120976532544,-1.176124215365589,0.4534877231166138,0.1678182902848415,0.5552876540147228,-0.00964539990285035,1.2041724538233955,0.024983048147564843,0.03429775948556624,1.346683258563046,0.9870398426730453,-0.5747651397935243,-1.8469381178596094,0.751357199127522,0.38951470541379307],\"xaxis\":\"x2\",\"y\":[-1.9155992047694723,-0.4481315159572726,-0.11667812727294494,-0.47405025229684344,0.5746676894222532,-1.5551821928115497,-1.072363124361193,1.2249086267193,-3.3367698414674267,-1.011489626579287,0.6314459569116476,0.08220392031662183,-1.491849155089903,-2.6826923465190182,-1.406142682152996,-0.09669026493158919,0.6255108134307167,-0.8998558810491614,-0.2756313164584835,0.3713126358915743,-0.14945511870764175,-2.7250214453982338,-0.497935347176919,-0.7794784042791113,-0.30309488487554737,-0.7033732528019522,0.07862498827643226,-0.49979720991996174,-0.6002810486693904,0.718931878030546,0.2590887953878619,0.9060597459809786,-0.4190053741867893,-0.674433060377967,0.10545055429225647,1.2703935062900036,0.08983878160980747,0.6570432262514,-1.0176071028493356,0.6749140899996501,0.08417298484397781,0.8001476730499851,-0.12399513898835102,0.6274206095826046,-1.318877425164554,0.8164515931433367,0.09393732573798273,1.1206004281742687,0.8579900755978948,0.14911973244187204,0.9711897159096959,0.15869343459827023,0.20449045179987363,-1.6562183779368844,-0.9608076241416532,1.7727570332597742,-0.4457864515536005,0.4733263459830899,-0.1111431812706696,-0.6308516353493814,-1.5083286013649613,-1.8184170618133393,-1.577160446581665,-1.3084496737397215,0.29394673420640693,-0.21034035618984062,0.22395410087307033,0.5071818648650146,-1.4180404163946694,-0.21388614142527063,-0.7728099669727144,0.45279731788305944,-1.176389429494858,1.537074281671399,-1.0673529889078999,-1.1894210145045987,-1.5454669283459765,0.30364289543227707,-0.2762977037815814,1.7831332501465116,0.9826029558353301,-1.002098401486566,-0.16731691773009688,1.176134221963469,0.3460648331901014,-0.32043219503556436,-0.3782163252372253,0.9571278359770741,-0.057274155370753116,0.32731766282935837,-0.30977457949724585,-0.9355114325341685,-1.8964276157738422,0.2929666305481281,-0.7261109260232375,-0.5620284230807836,0.29595542033167244,-1.6709671363176706,0.7262858567454336,-0.564607728302298],\"yaxis\":\"y2\",\"type\":\"scatter\"},{\"line\":{\"color\":\"rgba(128, 128, 128, 1.0)\",\"dash\":\"solid\",\"shape\":\"linear\",\"width\":1.3},\"marker\":{\"size\":2,\"symbol\":\"circle\"},\"mode\":\"markers\",\"name\":\"A\",\"text\":\"\",\"x\":[-0.33147941212230614,0.4030748389856743,0.775394702177516,-0.6034415754468376,-0.515548867017618,1.5761779599884451,-0.7910572237007015,-0.07598643557492382,1.6776710519354656,1.325248722840458,-0.057994098701497604,0.1797865482746144,0.514515206533345,-1.341690880163176,0.7736138888697905,1.2761533474012723,-0.2873814394453713,0.8159630337408869,1.4143203929103167,-1.1959217380546179,1.0605305881743308,-0.2871029678069003,-0.47650966749294815,-1.5322201238101008,2.3273156202072434,-1.3016443743900041,0.18146682359698219,-2.265041716343768,-0.23031719460426087,1.0036379076404183,1.39111353332184,0.9986221869201293,-0.6975563428250889,-1.0656541871381087,-0.13820505997914495,0.1411027855289363,0.6424293097490533,1.012356910815464,-1.8117231106561977,-0.8655847462795403,0.7837144577597044,-0.6580237608589773,-2.0656532408667228,-0.7041976382667674,1.4112389977992923,-1.99819086410293,1.002197302797664,0.10259668465654932,0.0010116918716799508,-1.6738788054683773,0.3309445727100791,3.7065199797729567,-0.19537551646281318,0.03037790496248001,0.09501392488427825,1.3646049958720576,0.4789596489217511,0.7960288598719361,0.41795718796210096,0.715138543589554,0.44157282341480664,0.46212335527427667,0.4394396173599501,0.069065620261416,0.9795147696875675,-0.9884646911340608,-0.3896075373137488,-2.302604044069634,0.4812428494324066,-1.0743371639752484,-0.901325591652145,-1.3955540299536509,-0.7722292126644033,-0.48005842284055805,-0.06660471875486865,0.5884452112326498,-1.6894909362213644,-0.16203994507754774,-0.35745126049456716,-1.2216405215156472,-1.5314375292682807,0.16666904289206597,-0.6639132343154985,-1.0723849645510015,0.19313545104162413,-0.39637930767477336,0.9666952656807792,-0.3020082486157058,1.9066392258088303,-2.2106799844692673,-0.09187692165825188,-0.18909933282272662,-1.5526563300765173,0.6310274126390918,0.7962748274453911,3.0613176149500934,-2.098248003547318,-1.8212990362024815,-0.06726072924822411,0.3044957245832294],\"xaxis\":\"x3\",\"y\":[-1.9155992047694723,-0.4481315159572726,-0.11667812727294494,-0.47405025229684344,0.5746676894222532,-1.5551821928115497,-1.072363124361193,1.2249086267193,-3.3367698414674267,-1.011489626579287,0.6314459569116476,0.08220392031662183,-1.491849155089903,-2.6826923465190182,-1.406142682152996,-0.09669026493158919,0.6255108134307167,-0.8998558810491614,-0.2756313164584835,0.3713126358915743,-0.14945511870764175,-2.7250214453982338,-0.497935347176919,-0.7794784042791113,-0.30309488487554737,-0.7033732528019522,0.07862498827643226,-0.49979720991996174,-0.6002810486693904,0.718931878030546,0.2590887953878619,0.9060597459809786,-0.4190053741867893,-0.674433060377967,0.10545055429225647,1.2703935062900036,0.08983878160980747,0.6570432262514,-1.0176071028493356,0.6749140899996501,0.08417298484397781,0.8001476730499851,-0.12399513898835102,0.6274206095826046,-1.318877425164554,0.8164515931433367,0.09393732573798273,1.1206004281742687,0.8579900755978948,0.14911973244187204,0.9711897159096959,0.15869343459827023,0.20449045179987363,-1.6562183779368844,-0.9608076241416532,1.7727570332597742,-0.4457864515536005,0.4733263459830899,-0.1111431812706696,-0.6308516353493814,-1.5083286013649613,-1.8184170618133393,-1.577160446581665,-1.3084496737397215,0.29394673420640693,-0.21034035618984062,0.22395410087307033,0.5071818648650146,-1.4180404163946694,-0.21388614142527063,-0.7728099669727144,0.45279731788305944,-1.176389429494858,1.537074281671399,-1.0673529889078999,-1.1894210145045987,-1.5454669283459765,0.30364289543227707,-0.2762977037815814,1.7831332501465116,0.9826029558353301,-1.002098401486566,-0.16731691773009688,1.176134221963469,0.3460648331901014,-0.32043219503556436,-0.3782163252372253,0.9571278359770741,-0.057274155370753116,0.32731766282935837,-0.30977457949724585,-0.9355114325341685,-1.8964276157738422,0.2929666305481281,-0.7261109260232375,-0.5620284230807836,0.29595542033167244,-1.6709671363176706,0.7262858567454336,-0.564607728302298],\"yaxis\":\"y3\",\"type\":\"scatter\"},{\"line\":{\"color\":\"rgba(128, 128, 128, 1.0)\",\"dash\":\"solid\",\"shape\":\"linear\",\"width\":1.3},\"marker\":{\"size\":2,\"symbol\":\"circle\"},\"mode\":\"markers\",\"name\":\"A\",\"text\":\"\",\"x\":[0.9930434223630643,-0.5185944171985121,0.12625668626889675,1.4126287501903794,-0.4921417495462758,-0.5103664470584897,-1.1908203707069451,0.04023821016681215,-0.13947666253542734,0.8868781252910879,-1.6371569022893278,0.7672435204882054,0.6169553575989898,1.3329917928265773,-0.7665638783382027,-0.08123583532764496,-0.32864850216455593,-0.029361561163987148,0.6399435184431522,-1.8633894015617534,-0.15400435668524395,0.6264413708591936,-0.6329021971365782,0.358736207272916,-0.7284128090386145,-0.26492527185638926,1.1696315706744203,0.34784394112845773,-1.6357683954704856,-2.2217094786651264,0.35909219044296037,-1.6103043352563573,0.5154940607552029,-1.0337034512745022,-0.5200214578592136,-0.5410133095509277,0.11565363484436865,-1.1689675937280577,-0.06743860667609816,0.8093101336485461,2.2759957457438387,1.630917558792805,-0.8679712037280137,-0.05101251089912307,-1.860017791349555,0.9246439226006556,0.7656419764489286,-1.0172384600075741,0.07302717803805786,0.358441466502234,0.37444771313545494,1.1880055833311223,1.0923860205997888,0.7037031652652141,-1.417668561379097,2.8345850950566707,1.029274652519448,0.39385699755084097,-1.0040261687326846,-0.23643129269215768,1.678181820866815,-0.6972407986458042,0.3009890287331359,0.4574685093787016,0.3937636188502432,-1.2005561380897674,0.8234987906280484,0.6519985416617249,1.4010954582169186,0.9000817296184049,0.9056196239785779,-0.1925110523641491,-0.2397258822912278,1.524354050219484,0.7111398702461121,-0.590158347508297,-0.22651938157426366,-0.3590382922775907,-1.1433500094981577,0.13947063075046293,1.1870112738414629,0.315517739666811,-0.20814383151220558,0.7927519220506773,-0.29663485225690894,0.33126294483647645,0.5201888558820525,1.3281684355453012,1.2160740263768117,-0.5964855723830482,0.9560523724277572,0.3961241033062341,0.6977353087784073,2.043350934958954,0.2122349045877803,0.9063572709159615,-0.191869442749806,-1.0131325421167754,-0.2643773463361861,0.38858293445015457],\"xaxis\":\"x4\",\"y\":[-1.9155992047694723,-0.4481315159572726,-0.11667812727294494,-0.47405025229684344,0.5746676894222532,-1.5551821928115497,-1.072363124361193,1.2249086267193,-3.3367698414674267,-1.011489626579287,0.6314459569116476,0.08220392031662183,-1.491849155089903,-2.6826923465190182,-1.406142682152996,-0.09669026493158919,0.6255108134307167,-0.8998558810491614,-0.2756313164584835,0.3713126358915743,-0.14945511870764175,-2.7250214453982338,-0.497935347176919,-0.7794784042791113,-0.30309488487554737,-0.7033732528019522,0.07862498827643226,-0.49979720991996174,-0.6002810486693904,0.718931878030546,0.2590887953878619,0.9060597459809786,-0.4190053741867893,-0.674433060377967,0.10545055429225647,1.2703935062900036,0.08983878160980747,0.6570432262514,-1.0176071028493356,0.6749140899996501,0.08417298484397781,0.8001476730499851,-0.12399513898835102,0.6274206095826046,-1.318877425164554,0.8164515931433367,0.09393732573798273,1.1206004281742687,0.8579900755978948,0.14911973244187204,0.9711897159096959,0.15869343459827023,0.20449045179987363,-1.6562183779368844,-0.9608076241416532,1.7727570332597742,-0.4457864515536005,0.4733263459830899,-0.1111431812706696,-0.6308516353493814,-1.5083286013649613,-1.8184170618133393,-1.577160446581665,-1.3084496737397215,0.29394673420640693,-0.21034035618984062,0.22395410087307033,0.5071818648650146,-1.4180404163946694,-0.21388614142527063,-0.7728099669727144,0.45279731788305944,-1.176389429494858,1.537074281671399,-1.0673529889078999,-1.1894210145045987,-1.5454669283459765,0.30364289543227707,-0.2762977037815814,1.7831332501465116,0.9826029558353301,-1.002098401486566,-0.16731691773009688,1.176134221963469,0.3460648331901014,-0.32043219503556436,-0.3782163252372253,0.9571278359770741,-0.057274155370753116,0.32731766282935837,-0.30977457949724585,-0.9355114325341685,-1.8964276157738422,0.2929666305481281,-0.7261109260232375,-0.5620284230807836,0.29595542033167244,-1.6709671363176706,0.7262858567454336,-0.564607728302298],\"yaxis\":\"y4\",\"type\":\"scatter\"},{\"line\":{\"color\":\"rgba(128, 128, 128, 1.0)\",\"dash\":\"solid\",\"shape\":\"linear\",\"width\":1.3},\"marker\":{\"size\":2,\"symbol\":\"circle\"},\"mode\":\"markers\",\"name\":\"B\",\"text\":\"\",\"x\":[-1.9155992047694723,-0.4481315159572726,-0.11667812727294494,-0.47405025229684344,0.5746676894222532,-1.5551821928115497,-1.072363124361193,1.2249086267193,-3.3367698414674267,-1.011489626579287,0.6314459569116476,0.08220392031662183,-1.491849155089903,-2.6826923465190182,-1.406142682152996,-0.09669026493158919,0.6255108134307167,-0.8998558810491614,-0.2756313164584835,0.3713126358915743,-0.14945511870764175,-2.7250214453982338,-0.497935347176919,-0.7794784042791113,-0.30309488487554737,-0.7033732528019522,0.07862498827643226,-0.49979720991996174,-0.6002810486693904,0.718931878030546,0.2590887953878619,0.9060597459809786,-0.4190053741867893,-0.674433060377967,0.10545055429225647,1.2703935062900036,0.08983878160980747,0.6570432262514,-1.0176071028493356,0.6749140899996501,0.08417298484397781,0.8001476730499851,-0.12399513898835102,0.6274206095826046,-1.318877425164554,0.8164515931433367,0.09393732573798273,1.1206004281742687,0.8579900755978948,0.14911973244187204,0.9711897159096959,0.15869343459827023,0.20449045179987363,-1.6562183779368844,-0.9608076241416532,1.7727570332597742,-0.4457864515536005,0.4733263459830899,-0.1111431812706696,-0.6308516353493814,-1.5083286013649613,-1.8184170618133393,-1.577160446581665,-1.3084496737397215,0.29394673420640693,-0.21034035618984062,0.22395410087307033,0.5071818648650146,-1.4180404163946694,-0.21388614142527063,-0.7728099669727144,0.45279731788305944,-1.176389429494858,1.537074281671399,-1.0673529889078999,-1.1894210145045987,-1.5454669283459765,0.30364289543227707,-0.2762977037815814,1.7831332501465116,0.9826029558353301,-1.002098401486566,-0.16731691773009688,1.176134221963469,0.3460648331901014,-0.32043219503556436,-0.3782163252372253,0.9571278359770741,-0.057274155370753116,0.32731766282935837,-0.30977457949724585,-0.9355114325341685,-1.8964276157738422,0.2929666305481281,-0.7261109260232375,-0.5620284230807836,0.29595542033167244,-1.6709671363176706,0.7262858567454336,-0.564607728302298],\"xaxis\":\"x5\",\"y\":[0.25012653811443325,-0.31263602491902226,0.46854191390985994,0.3495550634187599,1.2779608573542152,-0.7195686267733024,-0.05377556286345402,0.8860961885150416,-0.35659558561108556,-0.5412418799364572,-1.0538607706754788,-1.4357015266467925,-1.4440825388729484,-0.4601463702775817,1.0525558771197012,-0.6384012471936885,-0.3984075707720691,0.3217992513734411,0.717847534780858,0.14786313583922234,-0.08921894414927768,-0.026447486752192863,-0.41781749828547704,-0.4258553164011774,-0.691041627506832,0.2725451758149655,1.2146505715089757,-0.7164863916632876,0.39324350968810945,-0.30946916784496414,-0.27145136523819957,0.6679457848678415,-0.07142770435308705,0.704443166579191,2.157895083594788,0.6170696338034954,-0.13662952222954544,-0.290866965366531,-0.4155089124480595,-0.15309402200095784,1.5221394507416537,-1.6249467620767861,-0.6965471964753526,0.182517283224261,0.23350357359802568,1.1453466340351426,-0.3686827311467193,1.957928012194116,0.4071672052678087,0.58680361903923,-0.8828982087450967,0.4129260132199946,0.6441433598373917,0.33372085287296577,0.3114578540673428,0.30273197459055706,-0.0672794267265068,0.7311115271348104,-1.4610688565261025,-1.3620418033258774,-1.1749042013895534,0.2569253531988617,0.3132234789055193,-0.4939070459441881,-0.38233997444376466,-0.8341518456265357,-2.275739432967845,-1.5981719266949375,1.4764816496356954,1.2582757204570383,-0.4430532726331741,-0.21808790791840466,-0.2523685759128763,-0.600478802244115,0.15220587659129273,-1.6586124610802093,-1.3433717204993254,0.9523056125989408,-1.9154009199738649,-1.3386543561881108,-0.8149176443027241,0.6388800450354669,0.030844994128891724,-1.986446346965538,-0.22630015828997926,-0.27117120976532544,-1.176124215365589,0.4534877231166138,0.1678182902848415,0.5552876540147228,-0.00964539990285035,1.2041724538233955,0.024983048147564843,0.03429775948556624,1.346683258563046,0.9870398426730453,-0.5747651397935243,-1.8469381178596094,0.751357199127522,0.38951470541379307],\"yaxis\":\"y5\",\"type\":\"scatter\"},{\"histfunc\":\"count\",\"histnorm\":\"\",\"marker\":{\"color\":\"rgba(55, 128, 191, 1.0)\",\"line\":{\"color\":\"#4D5663\",\"width\":1.3}},\"name\":\"B\",\"nbinsx\":10,\"opacity\":0.8,\"orientation\":\"v\",\"x\":[0.25012653811443325,-0.31263602491902226,0.46854191390985994,0.3495550634187599,1.2779608573542152,-0.7195686267733024,-0.05377556286345402,0.8860961885150416,-0.35659558561108556,-0.5412418799364572,-1.0538607706754788,-1.4357015266467925,-1.4440825388729484,-0.4601463702775817,1.0525558771197012,-0.6384012471936885,-0.3984075707720691,0.3217992513734411,0.717847534780858,0.14786313583922234,-0.08921894414927768,-0.026447486752192863,-0.41781749828547704,-0.4258553164011774,-0.691041627506832,0.2725451758149655,1.2146505715089757,-0.7164863916632876,0.39324350968810945,-0.30946916784496414,-0.27145136523819957,0.6679457848678415,-0.07142770435308705,0.704443166579191,2.157895083594788,0.6170696338034954,-0.13662952222954544,-0.290866965366531,-0.4155089124480595,-0.15309402200095784,1.5221394507416537,-1.6249467620767861,-0.6965471964753526,0.182517283224261,0.23350357359802568,1.1453466340351426,-0.3686827311467193,1.957928012194116,0.4071672052678087,0.58680361903923,-0.8828982087450967,0.4129260132199946,0.6441433598373917,0.33372085287296577,0.3114578540673428,0.30273197459055706,-0.0672794267265068,0.7311115271348104,-1.4610688565261025,-1.3620418033258774,-1.1749042013895534,0.2569253531988617,0.3132234789055193,-0.4939070459441881,-0.38233997444376466,-0.8341518456265357,-2.275739432967845,-1.5981719266949375,1.4764816496356954,1.2582757204570383,-0.4430532726331741,-0.21808790791840466,-0.2523685759128763,-0.600478802244115,0.15220587659129273,-1.6586124610802093,-1.3433717204993254,0.9523056125989408,-1.9154009199738649,-1.3386543561881108,-0.8149176443027241,0.6388800450354669,0.030844994128891724,-1.986446346965538,-0.22630015828997926,-0.27117120976532544,-1.176124215365589,0.4534877231166138,0.1678182902848415,0.5552876540147228,-0.00964539990285035,1.2041724538233955,0.024983048147564843,0.03429775948556624,1.346683258563046,0.9870398426730453,-0.5747651397935243,-1.8469381178596094,0.751357199127522,0.38951470541379307],\"xaxis\":\"x6\",\"yaxis\":\"y6\",\"type\":\"histogram\"},{\"line\":{\"color\":\"rgba(128, 128, 128, 1.0)\",\"dash\":\"solid\",\"shape\":\"linear\",\"width\":1.3},\"marker\":{\"size\":2,\"symbol\":\"circle\"},\"mode\":\"markers\",\"name\":\"B\",\"text\":\"\",\"x\":[-0.33147941212230614,0.4030748389856743,0.775394702177516,-0.6034415754468376,-0.515548867017618,1.5761779599884451,-0.7910572237007015,-0.07598643557492382,1.6776710519354656,1.325248722840458,-0.057994098701497604,0.1797865482746144,0.514515206533345,-1.341690880163176,0.7736138888697905,1.2761533474012723,-0.2873814394453713,0.8159630337408869,1.4143203929103167,-1.1959217380546179,1.0605305881743308,-0.2871029678069003,-0.47650966749294815,-1.5322201238101008,2.3273156202072434,-1.3016443743900041,0.18146682359698219,-2.265041716343768,-0.23031719460426087,1.0036379076404183,1.39111353332184,0.9986221869201293,-0.6975563428250889,-1.0656541871381087,-0.13820505997914495,0.1411027855289363,0.6424293097490533,1.012356910815464,-1.8117231106561977,-0.8655847462795403,0.7837144577597044,-0.6580237608589773,-2.0656532408667228,-0.7041976382667674,1.4112389977992923,-1.99819086410293,1.002197302797664,0.10259668465654932,0.0010116918716799508,-1.6738788054683773,0.3309445727100791,3.7065199797729567,-0.19537551646281318,0.03037790496248001,0.09501392488427825,1.3646049958720576,0.4789596489217511,0.7960288598719361,0.41795718796210096,0.715138543589554,0.44157282341480664,0.46212335527427667,0.4394396173599501,0.069065620261416,0.9795147696875675,-0.9884646911340608,-0.3896075373137488,-2.302604044069634,0.4812428494324066,-1.0743371639752484,-0.901325591652145,-1.3955540299536509,-0.7722292126644033,-0.48005842284055805,-0.06660471875486865,0.5884452112326498,-1.6894909362213644,-0.16203994507754774,-0.35745126049456716,-1.2216405215156472,-1.5314375292682807,0.16666904289206597,-0.6639132343154985,-1.0723849645510015,0.19313545104162413,-0.39637930767477336,0.9666952656807792,-0.3020082486157058,1.9066392258088303,-2.2106799844692673,-0.09187692165825188,-0.18909933282272662,-1.5526563300765173,0.6310274126390918,0.7962748274453911,3.0613176149500934,-2.098248003547318,-1.8212990362024815,-0.06726072924822411,0.3044957245832294],\"xaxis\":\"x7\",\"y\":[0.25012653811443325,-0.31263602491902226,0.46854191390985994,0.3495550634187599,1.2779608573542152,-0.7195686267733024,-0.05377556286345402,0.8860961885150416,-0.35659558561108556,-0.5412418799364572,-1.0538607706754788,-1.4357015266467925,-1.4440825388729484,-0.4601463702775817,1.0525558771197012,-0.6384012471936885,-0.3984075707720691,0.3217992513734411,0.717847534780858,0.14786313583922234,-0.08921894414927768,-0.026447486752192863,-0.41781749828547704,-0.4258553164011774,-0.691041627506832,0.2725451758149655,1.2146505715089757,-0.7164863916632876,0.39324350968810945,-0.30946916784496414,-0.27145136523819957,0.6679457848678415,-0.07142770435308705,0.704443166579191,2.157895083594788,0.6170696338034954,-0.13662952222954544,-0.290866965366531,-0.4155089124480595,-0.15309402200095784,1.5221394507416537,-1.6249467620767861,-0.6965471964753526,0.182517283224261,0.23350357359802568,1.1453466340351426,-0.3686827311467193,1.957928012194116,0.4071672052678087,0.58680361903923,-0.8828982087450967,0.4129260132199946,0.6441433598373917,0.33372085287296577,0.3114578540673428,0.30273197459055706,-0.0672794267265068,0.7311115271348104,-1.4610688565261025,-1.3620418033258774,-1.1749042013895534,0.2569253531988617,0.3132234789055193,-0.4939070459441881,-0.38233997444376466,-0.8341518456265357,-2.275739432967845,-1.5981719266949375,1.4764816496356954,1.2582757204570383,-0.4430532726331741,-0.21808790791840466,-0.2523685759128763,-0.600478802244115,0.15220587659129273,-1.6586124610802093,-1.3433717204993254,0.9523056125989408,-1.9154009199738649,-1.3386543561881108,-0.8149176443027241,0.6388800450354669,0.030844994128891724,-1.986446346965538,-0.22630015828997926,-0.27117120976532544,-1.176124215365589,0.4534877231166138,0.1678182902848415,0.5552876540147228,-0.00964539990285035,1.2041724538233955,0.024983048147564843,0.03429775948556624,1.346683258563046,0.9870398426730453,-0.5747651397935243,-1.8469381178596094,0.751357199127522,0.38951470541379307],\"yaxis\":\"y7\",\"type\":\"scatter\"},{\"line\":{\"color\":\"rgba(128, 128, 128, 1.0)\",\"dash\":\"solid\",\"shape\":\"linear\",\"width\":1.3},\"marker\":{\"size\":2,\"symbol\":\"circle\"},\"mode\":\"markers\",\"name\":\"B\",\"text\":\"\",\"x\":[0.9930434223630643,-0.5185944171985121,0.12625668626889675,1.4126287501903794,-0.4921417495462758,-0.5103664470584897,-1.1908203707069451,0.04023821016681215,-0.13947666253542734,0.8868781252910879,-1.6371569022893278,0.7672435204882054,0.6169553575989898,1.3329917928265773,-0.7665638783382027,-0.08123583532764496,-0.32864850216455593,-0.029361561163987148,0.6399435184431522,-1.8633894015617534,-0.15400435668524395,0.6264413708591936,-0.6329021971365782,0.358736207272916,-0.7284128090386145,-0.26492527185638926,1.1696315706744203,0.34784394112845773,-1.6357683954704856,-2.2217094786651264,0.35909219044296037,-1.6103043352563573,0.5154940607552029,-1.0337034512745022,-0.5200214578592136,-0.5410133095509277,0.11565363484436865,-1.1689675937280577,-0.06743860667609816,0.8093101336485461,2.2759957457438387,1.630917558792805,-0.8679712037280137,-0.05101251089912307,-1.860017791349555,0.9246439226006556,0.7656419764489286,-1.0172384600075741,0.07302717803805786,0.358441466502234,0.37444771313545494,1.1880055833311223,1.0923860205997888,0.7037031652652141,-1.417668561379097,2.8345850950566707,1.029274652519448,0.39385699755084097,-1.0040261687326846,-0.23643129269215768,1.678181820866815,-0.6972407986458042,0.3009890287331359,0.4574685093787016,0.3937636188502432,-1.2005561380897674,0.8234987906280484,0.6519985416617249,1.4010954582169186,0.9000817296184049,0.9056196239785779,-0.1925110523641491,-0.2397258822912278,1.524354050219484,0.7111398702461121,-0.590158347508297,-0.22651938157426366,-0.3590382922775907,-1.1433500094981577,0.13947063075046293,1.1870112738414629,0.315517739666811,-0.20814383151220558,0.7927519220506773,-0.29663485225690894,0.33126294483647645,0.5201888558820525,1.3281684355453012,1.2160740263768117,-0.5964855723830482,0.9560523724277572,0.3961241033062341,0.6977353087784073,2.043350934958954,0.2122349045877803,0.9063572709159615,-0.191869442749806,-1.0131325421167754,-0.2643773463361861,0.38858293445015457],\"xaxis\":\"x8\",\"y\":[0.25012653811443325,-0.31263602491902226,0.46854191390985994,0.3495550634187599,1.2779608573542152,-0.7195686267733024,-0.05377556286345402,0.8860961885150416,-0.35659558561108556,-0.5412418799364572,-1.0538607706754788,-1.4357015266467925,-1.4440825388729484,-0.4601463702775817,1.0525558771197012,-0.6384012471936885,-0.3984075707720691,0.3217992513734411,0.717847534780858,0.14786313583922234,-0.08921894414927768,-0.026447486752192863,-0.41781749828547704,-0.4258553164011774,-0.691041627506832,0.2725451758149655,1.2146505715089757,-0.7164863916632876,0.39324350968810945,-0.30946916784496414,-0.27145136523819957,0.6679457848678415,-0.07142770435308705,0.704443166579191,2.157895083594788,0.6170696338034954,-0.13662952222954544,-0.290866965366531,-0.4155089124480595,-0.15309402200095784,1.5221394507416537,-1.6249467620767861,-0.6965471964753526,0.182517283224261,0.23350357359802568,1.1453466340351426,-0.3686827311467193,1.957928012194116,0.4071672052678087,0.58680361903923,-0.8828982087450967,0.4129260132199946,0.6441433598373917,0.33372085287296577,0.3114578540673428,0.30273197459055706,-0.0672794267265068,0.7311115271348104,-1.4610688565261025,-1.3620418033258774,-1.1749042013895534,0.2569253531988617,0.3132234789055193,-0.4939070459441881,-0.38233997444376466,-0.8341518456265357,-2.275739432967845,-1.5981719266949375,1.4764816496356954,1.2582757204570383,-0.4430532726331741,-0.21808790791840466,-0.2523685759128763,-0.600478802244115,0.15220587659129273,-1.6586124610802093,-1.3433717204993254,0.9523056125989408,-1.9154009199738649,-1.3386543561881108,-0.8149176443027241,0.6388800450354669,0.030844994128891724,-1.986446346965538,-0.22630015828997926,-0.27117120976532544,-1.176124215365589,0.4534877231166138,0.1678182902848415,0.5552876540147228,-0.00964539990285035,1.2041724538233955,0.024983048147564843,0.03429775948556624,1.346683258563046,0.9870398426730453,-0.5747651397935243,-1.8469381178596094,0.751357199127522,0.38951470541379307],\"yaxis\":\"y8\",\"type\":\"scatter\"},{\"line\":{\"color\":\"rgba(128, 128, 128, 1.0)\",\"dash\":\"solid\",\"shape\":\"linear\",\"width\":1.3},\"marker\":{\"size\":2,\"symbol\":\"circle\"},\"mode\":\"markers\",\"name\":\"C\",\"text\":\"\",\"x\":[-1.9155992047694723,-0.4481315159572726,-0.11667812727294494,-0.47405025229684344,0.5746676894222532,-1.5551821928115497,-1.072363124361193,1.2249086267193,-3.3367698414674267,-1.011489626579287,0.6314459569116476,0.08220392031662183,-1.491849155089903,-2.6826923465190182,-1.406142682152996,-0.09669026493158919,0.6255108134307167,-0.8998558810491614,-0.2756313164584835,0.3713126358915743,-0.14945511870764175,-2.7250214453982338,-0.497935347176919,-0.7794784042791113,-0.30309488487554737,-0.7033732528019522,0.07862498827643226,-0.49979720991996174,-0.6002810486693904,0.718931878030546,0.2590887953878619,0.9060597459809786,-0.4190053741867893,-0.674433060377967,0.10545055429225647,1.2703935062900036,0.08983878160980747,0.6570432262514,-1.0176071028493356,0.6749140899996501,0.08417298484397781,0.8001476730499851,-0.12399513898835102,0.6274206095826046,-1.318877425164554,0.8164515931433367,0.09393732573798273,1.1206004281742687,0.8579900755978948,0.14911973244187204,0.9711897159096959,0.15869343459827023,0.20449045179987363,-1.6562183779368844,-0.9608076241416532,1.7727570332597742,-0.4457864515536005,0.4733263459830899,-0.1111431812706696,-0.6308516353493814,-1.5083286013649613,-1.8184170618133393,-1.577160446581665,-1.3084496737397215,0.29394673420640693,-0.21034035618984062,0.22395410087307033,0.5071818648650146,-1.4180404163946694,-0.21388614142527063,-0.7728099669727144,0.45279731788305944,-1.176389429494858,1.537074281671399,-1.0673529889078999,-1.1894210145045987,-1.5454669283459765,0.30364289543227707,-0.2762977037815814,1.7831332501465116,0.9826029558353301,-1.002098401486566,-0.16731691773009688,1.176134221963469,0.3460648331901014,-0.32043219503556436,-0.3782163252372253,0.9571278359770741,-0.057274155370753116,0.32731766282935837,-0.30977457949724585,-0.9355114325341685,-1.8964276157738422,0.2929666305481281,-0.7261109260232375,-0.5620284230807836,0.29595542033167244,-1.6709671363176706,0.7262858567454336,-0.564607728302298],\"xaxis\":\"x9\",\"y\":[-0.33147941212230614,0.4030748389856743,0.775394702177516,-0.6034415754468376,-0.515548867017618,1.5761779599884451,-0.7910572237007015,-0.07598643557492382,1.6776710519354656,1.325248722840458,-0.057994098701497604,0.1797865482746144,0.514515206533345,-1.341690880163176,0.7736138888697905,1.2761533474012723,-0.2873814394453713,0.8159630337408869,1.4143203929103167,-1.1959217380546179,1.0605305881743308,-0.2871029678069003,-0.47650966749294815,-1.5322201238101008,2.3273156202072434,-1.3016443743900041,0.18146682359698219,-2.265041716343768,-0.23031719460426087,1.0036379076404183,1.39111353332184,0.9986221869201293,-0.6975563428250889,-1.0656541871381087,-0.13820505997914495,0.1411027855289363,0.6424293097490533,1.012356910815464,-1.8117231106561977,-0.8655847462795403,0.7837144577597044,-0.6580237608589773,-2.0656532408667228,-0.7041976382667674,1.4112389977992923,-1.99819086410293,1.002197302797664,0.10259668465654932,0.0010116918716799508,-1.6738788054683773,0.3309445727100791,3.7065199797729567,-0.19537551646281318,0.03037790496248001,0.09501392488427825,1.3646049958720576,0.4789596489217511,0.7960288598719361,0.41795718796210096,0.715138543589554,0.44157282341480664,0.46212335527427667,0.4394396173599501,0.069065620261416,0.9795147696875675,-0.9884646911340608,-0.3896075373137488,-2.302604044069634,0.4812428494324066,-1.0743371639752484,-0.901325591652145,-1.3955540299536509,-0.7722292126644033,-0.48005842284055805,-0.06660471875486865,0.5884452112326498,-1.6894909362213644,-0.16203994507754774,-0.35745126049456716,-1.2216405215156472,-1.5314375292682807,0.16666904289206597,-0.6639132343154985,-1.0723849645510015,0.19313545104162413,-0.39637930767477336,0.9666952656807792,-0.3020082486157058,1.9066392258088303,-2.2106799844692673,-0.09187692165825188,-0.18909933282272662,-1.5526563300765173,0.6310274126390918,0.7962748274453911,3.0613176149500934,-2.098248003547318,-1.8212990362024815,-0.06726072924822411,0.3044957245832294],\"yaxis\":\"y9\",\"type\":\"scatter\"},{\"line\":{\"color\":\"rgba(128, 128, 128, 1.0)\",\"dash\":\"solid\",\"shape\":\"linear\",\"width\":1.3},\"marker\":{\"size\":2,\"symbol\":\"circle\"},\"mode\":\"markers\",\"name\":\"C\",\"text\":\"\",\"x\":[0.25012653811443325,-0.31263602491902226,0.46854191390985994,0.3495550634187599,1.2779608573542152,-0.7195686267733024,-0.05377556286345402,0.8860961885150416,-0.35659558561108556,-0.5412418799364572,-1.0538607706754788,-1.4357015266467925,-1.4440825388729484,-0.4601463702775817,1.0525558771197012,-0.6384012471936885,-0.3984075707720691,0.3217992513734411,0.717847534780858,0.14786313583922234,-0.08921894414927768,-0.026447486752192863,-0.41781749828547704,-0.4258553164011774,-0.691041627506832,0.2725451758149655,1.2146505715089757,-0.7164863916632876,0.39324350968810945,-0.30946916784496414,-0.27145136523819957,0.6679457848678415,-0.07142770435308705,0.704443166579191,2.157895083594788,0.6170696338034954,-0.13662952222954544,-0.290866965366531,-0.4155089124480595,-0.15309402200095784,1.5221394507416537,-1.6249467620767861,-0.6965471964753526,0.182517283224261,0.23350357359802568,1.1453466340351426,-0.3686827311467193,1.957928012194116,0.4071672052678087,0.58680361903923,-0.8828982087450967,0.4129260132199946,0.6441433598373917,0.33372085287296577,0.3114578540673428,0.30273197459055706,-0.0672794267265068,0.7311115271348104,-1.4610688565261025,-1.3620418033258774,-1.1749042013895534,0.2569253531988617,0.3132234789055193,-0.4939070459441881,-0.38233997444376466,-0.8341518456265357,-2.275739432967845,-1.5981719266949375,1.4764816496356954,1.2582757204570383,-0.4430532726331741,-0.21808790791840466,-0.2523685759128763,-0.600478802244115,0.15220587659129273,-1.6586124610802093,-1.3433717204993254,0.9523056125989408,-1.9154009199738649,-1.3386543561881108,-0.8149176443027241,0.6388800450354669,0.030844994128891724,-1.986446346965538,-0.22630015828997926,-0.27117120976532544,-1.176124215365589,0.4534877231166138,0.1678182902848415,0.5552876540147228,-0.00964539990285035,1.2041724538233955,0.024983048147564843,0.03429775948556624,1.346683258563046,0.9870398426730453,-0.5747651397935243,-1.8469381178596094,0.751357199127522,0.38951470541379307],\"xaxis\":\"x10\",\"y\":[-0.33147941212230614,0.4030748389856743,0.775394702177516,-0.6034415754468376,-0.515548867017618,1.5761779599884451,-0.7910572237007015,-0.07598643557492382,1.6776710519354656,1.325248722840458,-0.057994098701497604,0.1797865482746144,0.514515206533345,-1.341690880163176,0.7736138888697905,1.2761533474012723,-0.2873814394453713,0.8159630337408869,1.4143203929103167,-1.1959217380546179,1.0605305881743308,-0.2871029678069003,-0.47650966749294815,-1.5322201238101008,2.3273156202072434,-1.3016443743900041,0.18146682359698219,-2.265041716343768,-0.23031719460426087,1.0036379076404183,1.39111353332184,0.9986221869201293,-0.6975563428250889,-1.0656541871381087,-0.13820505997914495,0.1411027855289363,0.6424293097490533,1.012356910815464,-1.8117231106561977,-0.8655847462795403,0.7837144577597044,-0.6580237608589773,-2.0656532408667228,-0.7041976382667674,1.4112389977992923,-1.99819086410293,1.002197302797664,0.10259668465654932,0.0010116918716799508,-1.6738788054683773,0.3309445727100791,3.7065199797729567,-0.19537551646281318,0.03037790496248001,0.09501392488427825,1.3646049958720576,0.4789596489217511,0.7960288598719361,0.41795718796210096,0.715138543589554,0.44157282341480664,0.46212335527427667,0.4394396173599501,0.069065620261416,0.9795147696875675,-0.9884646911340608,-0.3896075373137488,-2.302604044069634,0.4812428494324066,-1.0743371639752484,-0.901325591652145,-1.3955540299536509,-0.7722292126644033,-0.48005842284055805,-0.06660471875486865,0.5884452112326498,-1.6894909362213644,-0.16203994507754774,-0.35745126049456716,-1.2216405215156472,-1.5314375292682807,0.16666904289206597,-0.6639132343154985,-1.0723849645510015,0.19313545104162413,-0.39637930767477336,0.9666952656807792,-0.3020082486157058,1.9066392258088303,-2.2106799844692673,-0.09187692165825188,-0.18909933282272662,-1.5526563300765173,0.6310274126390918,0.7962748274453911,3.0613176149500934,-2.098248003547318,-1.8212990362024815,-0.06726072924822411,0.3044957245832294],\"yaxis\":\"y10\",\"type\":\"scatter\"},{\"histfunc\":\"count\",\"histnorm\":\"\",\"marker\":{\"color\":\"rgba(50, 171, 96, 1.0)\",\"line\":{\"color\":\"#4D5663\",\"width\":1.3}},\"name\":\"C\",\"nbinsx\":10,\"opacity\":0.8,\"orientation\":\"v\",\"x\":[-0.33147941212230614,0.4030748389856743,0.775394702177516,-0.6034415754468376,-0.515548867017618,1.5761779599884451,-0.7910572237007015,-0.07598643557492382,1.6776710519354656,1.325248722840458,-0.057994098701497604,0.1797865482746144,0.514515206533345,-1.341690880163176,0.7736138888697905,1.2761533474012723,-0.2873814394453713,0.8159630337408869,1.4143203929103167,-1.1959217380546179,1.0605305881743308,-0.2871029678069003,-0.47650966749294815,-1.5322201238101008,2.3273156202072434,-1.3016443743900041,0.18146682359698219,-2.265041716343768,-0.23031719460426087,1.0036379076404183,1.39111353332184,0.9986221869201293,-0.6975563428250889,-1.0656541871381087,-0.13820505997914495,0.1411027855289363,0.6424293097490533,1.012356910815464,-1.8117231106561977,-0.8655847462795403,0.7837144577597044,-0.6580237608589773,-2.0656532408667228,-0.7041976382667674,1.4112389977992923,-1.99819086410293,1.002197302797664,0.10259668465654932,0.0010116918716799508,-1.6738788054683773,0.3309445727100791,3.7065199797729567,-0.19537551646281318,0.03037790496248001,0.09501392488427825,1.3646049958720576,0.4789596489217511,0.7960288598719361,0.41795718796210096,0.715138543589554,0.44157282341480664,0.46212335527427667,0.4394396173599501,0.069065620261416,0.9795147696875675,-0.9884646911340608,-0.3896075373137488,-2.302604044069634,0.4812428494324066,-1.0743371639752484,-0.901325591652145,-1.3955540299536509,-0.7722292126644033,-0.48005842284055805,-0.06660471875486865,0.5884452112326498,-1.6894909362213644,-0.16203994507754774,-0.35745126049456716,-1.2216405215156472,-1.5314375292682807,0.16666904289206597,-0.6639132343154985,-1.0723849645510015,0.19313545104162413,-0.39637930767477336,0.9666952656807792,-0.3020082486157058,1.9066392258088303,-2.2106799844692673,-0.09187692165825188,-0.18909933282272662,-1.5526563300765173,0.6310274126390918,0.7962748274453911,3.0613176149500934,-2.098248003547318,-1.8212990362024815,-0.06726072924822411,0.3044957245832294],\"xaxis\":\"x11\",\"yaxis\":\"y11\",\"type\":\"histogram\"},{\"line\":{\"color\":\"rgba(128, 128, 128, 1.0)\",\"dash\":\"solid\",\"shape\":\"linear\",\"width\":1.3},\"marker\":{\"size\":2,\"symbol\":\"circle\"},\"mode\":\"markers\",\"name\":\"C\",\"text\":\"\",\"x\":[0.9930434223630643,-0.5185944171985121,0.12625668626889675,1.4126287501903794,-0.4921417495462758,-0.5103664470584897,-1.1908203707069451,0.04023821016681215,-0.13947666253542734,0.8868781252910879,-1.6371569022893278,0.7672435204882054,0.6169553575989898,1.3329917928265773,-0.7665638783382027,-0.08123583532764496,-0.32864850216455593,-0.029361561163987148,0.6399435184431522,-1.8633894015617534,-0.15400435668524395,0.6264413708591936,-0.6329021971365782,0.358736207272916,-0.7284128090386145,-0.26492527185638926,1.1696315706744203,0.34784394112845773,-1.6357683954704856,-2.2217094786651264,0.35909219044296037,-1.6103043352563573,0.5154940607552029,-1.0337034512745022,-0.5200214578592136,-0.5410133095509277,0.11565363484436865,-1.1689675937280577,-0.06743860667609816,0.8093101336485461,2.2759957457438387,1.630917558792805,-0.8679712037280137,-0.05101251089912307,-1.860017791349555,0.9246439226006556,0.7656419764489286,-1.0172384600075741,0.07302717803805786,0.358441466502234,0.37444771313545494,1.1880055833311223,1.0923860205997888,0.7037031652652141,-1.417668561379097,2.8345850950566707,1.029274652519448,0.39385699755084097,-1.0040261687326846,-0.23643129269215768,1.678181820866815,-0.6972407986458042,0.3009890287331359,0.4574685093787016,0.3937636188502432,-1.2005561380897674,0.8234987906280484,0.6519985416617249,1.4010954582169186,0.9000817296184049,0.9056196239785779,-0.1925110523641491,-0.2397258822912278,1.524354050219484,0.7111398702461121,-0.590158347508297,-0.22651938157426366,-0.3590382922775907,-1.1433500094981577,0.13947063075046293,1.1870112738414629,0.315517739666811,-0.20814383151220558,0.7927519220506773,-0.29663485225690894,0.33126294483647645,0.5201888558820525,1.3281684355453012,1.2160740263768117,-0.5964855723830482,0.9560523724277572,0.3961241033062341,0.6977353087784073,2.043350934958954,0.2122349045877803,0.9063572709159615,-0.191869442749806,-1.0131325421167754,-0.2643773463361861,0.38858293445015457],\"xaxis\":\"x12\",\"y\":[-0.33147941212230614,0.4030748389856743,0.775394702177516,-0.6034415754468376,-0.515548867017618,1.5761779599884451,-0.7910572237007015,-0.07598643557492382,1.6776710519354656,1.325248722840458,-0.057994098701497604,0.1797865482746144,0.514515206533345,-1.341690880163176,0.7736138888697905,1.2761533474012723,-0.2873814394453713,0.8159630337408869,1.4143203929103167,-1.1959217380546179,1.0605305881743308,-0.2871029678069003,-0.47650966749294815,-1.5322201238101008,2.3273156202072434,-1.3016443743900041,0.18146682359698219,-2.265041716343768,-0.23031719460426087,1.0036379076404183,1.39111353332184,0.9986221869201293,-0.6975563428250889,-1.0656541871381087,-0.13820505997914495,0.1411027855289363,0.6424293097490533,1.012356910815464,-1.8117231106561977,-0.8655847462795403,0.7837144577597044,-0.6580237608589773,-2.0656532408667228,-0.7041976382667674,1.4112389977992923,-1.99819086410293,1.002197302797664,0.10259668465654932,0.0010116918716799508,-1.6738788054683773,0.3309445727100791,3.7065199797729567,-0.19537551646281318,0.03037790496248001,0.09501392488427825,1.3646049958720576,0.4789596489217511,0.7960288598719361,0.41795718796210096,0.715138543589554,0.44157282341480664,0.46212335527427667,0.4394396173599501,0.069065620261416,0.9795147696875675,-0.9884646911340608,-0.3896075373137488,-2.302604044069634,0.4812428494324066,-1.0743371639752484,-0.901325591652145,-1.3955540299536509,-0.7722292126644033,-0.48005842284055805,-0.06660471875486865,0.5884452112326498,-1.6894909362213644,-0.16203994507754774,-0.35745126049456716,-1.2216405215156472,-1.5314375292682807,0.16666904289206597,-0.6639132343154985,-1.0723849645510015,0.19313545104162413,-0.39637930767477336,0.9666952656807792,-0.3020082486157058,1.9066392258088303,-2.2106799844692673,-0.09187692165825188,-0.18909933282272662,-1.5526563300765173,0.6310274126390918,0.7962748274453911,3.0613176149500934,-2.098248003547318,-1.8212990362024815,-0.06726072924822411,0.3044957245832294],\"yaxis\":\"y12\",\"type\":\"scatter\"},{\"line\":{\"color\":\"rgba(128, 128, 128, 1.0)\",\"dash\":\"solid\",\"shape\":\"linear\",\"width\":1.3},\"marker\":{\"size\":2,\"symbol\":\"circle\"},\"mode\":\"markers\",\"name\":\"D\",\"text\":\"\",\"x\":[-1.9155992047694723,-0.4481315159572726,-0.11667812727294494,-0.47405025229684344,0.5746676894222532,-1.5551821928115497,-1.072363124361193,1.2249086267193,-3.3367698414674267,-1.011489626579287,0.6314459569116476,0.08220392031662183,-1.491849155089903,-2.6826923465190182,-1.406142682152996,-0.09669026493158919,0.6255108134307167,-0.8998558810491614,-0.2756313164584835,0.3713126358915743,-0.14945511870764175,-2.7250214453982338,-0.497935347176919,-0.7794784042791113,-0.30309488487554737,-0.7033732528019522,0.07862498827643226,-0.49979720991996174,-0.6002810486693904,0.718931878030546,0.2590887953878619,0.9060597459809786,-0.4190053741867893,-0.674433060377967,0.10545055429225647,1.2703935062900036,0.08983878160980747,0.6570432262514,-1.0176071028493356,0.6749140899996501,0.08417298484397781,0.8001476730499851,-0.12399513898835102,0.6274206095826046,-1.318877425164554,0.8164515931433367,0.09393732573798273,1.1206004281742687,0.8579900755978948,0.14911973244187204,0.9711897159096959,0.15869343459827023,0.20449045179987363,-1.6562183779368844,-0.9608076241416532,1.7727570332597742,-0.4457864515536005,0.4733263459830899,-0.1111431812706696,-0.6308516353493814,-1.5083286013649613,-1.8184170618133393,-1.577160446581665,-1.3084496737397215,0.29394673420640693,-0.21034035618984062,0.22395410087307033,0.5071818648650146,-1.4180404163946694,-0.21388614142527063,-0.7728099669727144,0.45279731788305944,-1.176389429494858,1.537074281671399,-1.0673529889078999,-1.1894210145045987,-1.5454669283459765,0.30364289543227707,-0.2762977037815814,1.7831332501465116,0.9826029558353301,-1.002098401486566,-0.16731691773009688,1.176134221963469,0.3460648331901014,-0.32043219503556436,-0.3782163252372253,0.9571278359770741,-0.057274155370753116,0.32731766282935837,-0.30977457949724585,-0.9355114325341685,-1.8964276157738422,0.2929666305481281,-0.7261109260232375,-0.5620284230807836,0.29595542033167244,-1.6709671363176706,0.7262858567454336,-0.564607728302298],\"xaxis\":\"x13\",\"y\":[0.9930434223630643,-0.5185944171985121,0.12625668626889675,1.4126287501903794,-0.4921417495462758,-0.5103664470584897,-1.1908203707069451,0.04023821016681215,-0.13947666253542734,0.8868781252910879,-1.6371569022893278,0.7672435204882054,0.6169553575989898,1.3329917928265773,-0.7665638783382027,-0.08123583532764496,-0.32864850216455593,-0.029361561163987148,0.6399435184431522,-1.8633894015617534,-0.15400435668524395,0.6264413708591936,-0.6329021971365782,0.358736207272916,-0.7284128090386145,-0.26492527185638926,1.1696315706744203,0.34784394112845773,-1.6357683954704856,-2.2217094786651264,0.35909219044296037,-1.6103043352563573,0.5154940607552029,-1.0337034512745022,-0.5200214578592136,-0.5410133095509277,0.11565363484436865,-1.1689675937280577,-0.06743860667609816,0.8093101336485461,2.2759957457438387,1.630917558792805,-0.8679712037280137,-0.05101251089912307,-1.860017791349555,0.9246439226006556,0.7656419764489286,-1.0172384600075741,0.07302717803805786,0.358441466502234,0.37444771313545494,1.1880055833311223,1.0923860205997888,0.7037031652652141,-1.417668561379097,2.8345850950566707,1.029274652519448,0.39385699755084097,-1.0040261687326846,-0.23643129269215768,1.678181820866815,-0.6972407986458042,0.3009890287331359,0.4574685093787016,0.3937636188502432,-1.2005561380897674,0.8234987906280484,0.6519985416617249,1.4010954582169186,0.9000817296184049,0.9056196239785779,-0.1925110523641491,-0.2397258822912278,1.524354050219484,0.7111398702461121,-0.590158347508297,-0.22651938157426366,-0.3590382922775907,-1.1433500094981577,0.13947063075046293,1.1870112738414629,0.315517739666811,-0.20814383151220558,0.7927519220506773,-0.29663485225690894,0.33126294483647645,0.5201888558820525,1.3281684355453012,1.2160740263768117,-0.5964855723830482,0.9560523724277572,0.3961241033062341,0.6977353087784073,2.043350934958954,0.2122349045877803,0.9063572709159615,-0.191869442749806,-1.0131325421167754,-0.2643773463361861,0.38858293445015457],\"yaxis\":\"y13\",\"type\":\"scatter\"},{\"line\":{\"color\":\"rgba(128, 128, 128, 1.0)\",\"dash\":\"solid\",\"shape\":\"linear\",\"width\":1.3},\"marker\":{\"size\":2,\"symbol\":\"circle\"},\"mode\":\"markers\",\"name\":\"D\",\"text\":\"\",\"x\":[0.25012653811443325,-0.31263602491902226,0.46854191390985994,0.3495550634187599,1.2779608573542152,-0.7195686267733024,-0.05377556286345402,0.8860961885150416,-0.35659558561108556,-0.5412418799364572,-1.0538607706754788,-1.4357015266467925,-1.4440825388729484,-0.4601463702775817,1.0525558771197012,-0.6384012471936885,-0.3984075707720691,0.3217992513734411,0.717847534780858,0.14786313583922234,-0.08921894414927768,-0.026447486752192863,-0.41781749828547704,-0.4258553164011774,-0.691041627506832,0.2725451758149655,1.2146505715089757,-0.7164863916632876,0.39324350968810945,-0.30946916784496414,-0.27145136523819957,0.6679457848678415,-0.07142770435308705,0.704443166579191,2.157895083594788,0.6170696338034954,-0.13662952222954544,-0.290866965366531,-0.4155089124480595,-0.15309402200095784,1.5221394507416537,-1.6249467620767861,-0.6965471964753526,0.182517283224261,0.23350357359802568,1.1453466340351426,-0.3686827311467193,1.957928012194116,0.4071672052678087,0.58680361903923,-0.8828982087450967,0.4129260132199946,0.6441433598373917,0.33372085287296577,0.3114578540673428,0.30273197459055706,-0.0672794267265068,0.7311115271348104,-1.4610688565261025,-1.3620418033258774,-1.1749042013895534,0.2569253531988617,0.3132234789055193,-0.4939070459441881,-0.38233997444376466,-0.8341518456265357,-2.275739432967845,-1.5981719266949375,1.4764816496356954,1.2582757204570383,-0.4430532726331741,-0.21808790791840466,-0.2523685759128763,-0.600478802244115,0.15220587659129273,-1.6586124610802093,-1.3433717204993254,0.9523056125989408,-1.9154009199738649,-1.3386543561881108,-0.8149176443027241,0.6388800450354669,0.030844994128891724,-1.986446346965538,-0.22630015828997926,-0.27117120976532544,-1.176124215365589,0.4534877231166138,0.1678182902848415,0.5552876540147228,-0.00964539990285035,1.2041724538233955,0.024983048147564843,0.03429775948556624,1.346683258563046,0.9870398426730453,-0.5747651397935243,-1.8469381178596094,0.751357199127522,0.38951470541379307],\"xaxis\":\"x14\",\"y\":[0.9930434223630643,-0.5185944171985121,0.12625668626889675,1.4126287501903794,-0.4921417495462758,-0.5103664470584897,-1.1908203707069451,0.04023821016681215,-0.13947666253542734,0.8868781252910879,-1.6371569022893278,0.7672435204882054,0.6169553575989898,1.3329917928265773,-0.7665638783382027,-0.08123583532764496,-0.32864850216455593,-0.029361561163987148,0.6399435184431522,-1.8633894015617534,-0.15400435668524395,0.6264413708591936,-0.6329021971365782,0.358736207272916,-0.7284128090386145,-0.26492527185638926,1.1696315706744203,0.34784394112845773,-1.6357683954704856,-2.2217094786651264,0.35909219044296037,-1.6103043352563573,0.5154940607552029,-1.0337034512745022,-0.5200214578592136,-0.5410133095509277,0.11565363484436865,-1.1689675937280577,-0.06743860667609816,0.8093101336485461,2.2759957457438387,1.630917558792805,-0.8679712037280137,-0.05101251089912307,-1.860017791349555,0.9246439226006556,0.7656419764489286,-1.0172384600075741,0.07302717803805786,0.358441466502234,0.37444771313545494,1.1880055833311223,1.0923860205997888,0.7037031652652141,-1.417668561379097,2.8345850950566707,1.029274652519448,0.39385699755084097,-1.0040261687326846,-0.23643129269215768,1.678181820866815,-0.6972407986458042,0.3009890287331359,0.4574685093787016,0.3937636188502432,-1.2005561380897674,0.8234987906280484,0.6519985416617249,1.4010954582169186,0.9000817296184049,0.9056196239785779,-0.1925110523641491,-0.2397258822912278,1.524354050219484,0.7111398702461121,-0.590158347508297,-0.22651938157426366,-0.3590382922775907,-1.1433500094981577,0.13947063075046293,1.1870112738414629,0.315517739666811,-0.20814383151220558,0.7927519220506773,-0.29663485225690894,0.33126294483647645,0.5201888558820525,1.3281684355453012,1.2160740263768117,-0.5964855723830482,0.9560523724277572,0.3961241033062341,0.6977353087784073,2.043350934958954,0.2122349045877803,0.9063572709159615,-0.191869442749806,-1.0131325421167754,-0.2643773463361861,0.38858293445015457],\"yaxis\":\"y14\",\"type\":\"scatter\"},{\"line\":{\"color\":\"rgba(128, 128, 128, 1.0)\",\"dash\":\"solid\",\"shape\":\"linear\",\"width\":1.3},\"marker\":{\"size\":2,\"symbol\":\"circle\"},\"mode\":\"markers\",\"name\":\"D\",\"text\":\"\",\"x\":[-0.33147941212230614,0.4030748389856743,0.775394702177516,-0.6034415754468376,-0.515548867017618,1.5761779599884451,-0.7910572237007015,-0.07598643557492382,1.6776710519354656,1.325248722840458,-0.057994098701497604,0.1797865482746144,0.514515206533345,-1.341690880163176,0.7736138888697905,1.2761533474012723,-0.2873814394453713,0.8159630337408869,1.4143203929103167,-1.1959217380546179,1.0605305881743308,-0.2871029678069003,-0.47650966749294815,-1.5322201238101008,2.3273156202072434,-1.3016443743900041,0.18146682359698219,-2.265041716343768,-0.23031719460426087,1.0036379076404183,1.39111353332184,0.9986221869201293,-0.6975563428250889,-1.0656541871381087,-0.13820505997914495,0.1411027855289363,0.6424293097490533,1.012356910815464,-1.8117231106561977,-0.8655847462795403,0.7837144577597044,-0.6580237608589773,-2.0656532408667228,-0.7041976382667674,1.4112389977992923,-1.99819086410293,1.002197302797664,0.10259668465654932,0.0010116918716799508,-1.6738788054683773,0.3309445727100791,3.7065199797729567,-0.19537551646281318,0.03037790496248001,0.09501392488427825,1.3646049958720576,0.4789596489217511,0.7960288598719361,0.41795718796210096,0.715138543589554,0.44157282341480664,0.46212335527427667,0.4394396173599501,0.069065620261416,0.9795147696875675,-0.9884646911340608,-0.3896075373137488,-2.302604044069634,0.4812428494324066,-1.0743371639752484,-0.901325591652145,-1.3955540299536509,-0.7722292126644033,-0.48005842284055805,-0.06660471875486865,0.5884452112326498,-1.6894909362213644,-0.16203994507754774,-0.35745126049456716,-1.2216405215156472,-1.5314375292682807,0.16666904289206597,-0.6639132343154985,-1.0723849645510015,0.19313545104162413,-0.39637930767477336,0.9666952656807792,-0.3020082486157058,1.9066392258088303,-2.2106799844692673,-0.09187692165825188,-0.18909933282272662,-1.5526563300765173,0.6310274126390918,0.7962748274453911,3.0613176149500934,-2.098248003547318,-1.8212990362024815,-0.06726072924822411,0.3044957245832294],\"xaxis\":\"x15\",\"y\":[0.9930434223630643,-0.5185944171985121,0.12625668626889675,1.4126287501903794,-0.4921417495462758,-0.5103664470584897,-1.1908203707069451,0.04023821016681215,-0.13947666253542734,0.8868781252910879,-1.6371569022893278,0.7672435204882054,0.6169553575989898,1.3329917928265773,-0.7665638783382027,-0.08123583532764496,-0.32864850216455593,-0.029361561163987148,0.6399435184431522,-1.8633894015617534,-0.15400435668524395,0.6264413708591936,-0.6329021971365782,0.358736207272916,-0.7284128090386145,-0.26492527185638926,1.1696315706744203,0.34784394112845773,-1.6357683954704856,-2.2217094786651264,0.35909219044296037,-1.6103043352563573,0.5154940607552029,-1.0337034512745022,-0.5200214578592136,-0.5410133095509277,0.11565363484436865,-1.1689675937280577,-0.06743860667609816,0.8093101336485461,2.2759957457438387,1.630917558792805,-0.8679712037280137,-0.05101251089912307,-1.860017791349555,0.9246439226006556,0.7656419764489286,-1.0172384600075741,0.07302717803805786,0.358441466502234,0.37444771313545494,1.1880055833311223,1.0923860205997888,0.7037031652652141,-1.417668561379097,2.8345850950566707,1.029274652519448,0.39385699755084097,-1.0040261687326846,-0.23643129269215768,1.678181820866815,-0.6972407986458042,0.3009890287331359,0.4574685093787016,0.3937636188502432,-1.2005561380897674,0.8234987906280484,0.6519985416617249,1.4010954582169186,0.9000817296184049,0.9056196239785779,-0.1925110523641491,-0.2397258822912278,1.524354050219484,0.7111398702461121,-0.590158347508297,-0.22651938157426366,-0.3590382922775907,-1.1433500094981577,0.13947063075046293,1.1870112738414629,0.315517739666811,-0.20814383151220558,0.7927519220506773,-0.29663485225690894,0.33126294483647645,0.5201888558820525,1.3281684355453012,1.2160740263768117,-0.5964855723830482,0.9560523724277572,0.3961241033062341,0.6977353087784073,2.043350934958954,0.2122349045877803,0.9063572709159615,-0.191869442749806,-1.0131325421167754,-0.2643773463361861,0.38858293445015457],\"yaxis\":\"y15\",\"type\":\"scatter\"},{\"histfunc\":\"count\",\"histnorm\":\"\",\"marker\":{\"color\":\"rgba(128, 0, 128, 1.0)\",\"line\":{\"color\":\"#4D5663\",\"width\":1.3}},\"name\":\"D\",\"nbinsx\":10,\"opacity\":0.8,\"orientation\":\"v\",\"x\":[0.9930434223630643,-0.5185944171985121,0.12625668626889675,1.4126287501903794,-0.4921417495462758,-0.5103664470584897,-1.1908203707069451,0.04023821016681215,-0.13947666253542734,0.8868781252910879,-1.6371569022893278,0.7672435204882054,0.6169553575989898,1.3329917928265773,-0.7665638783382027,-0.08123583532764496,-0.32864850216455593,-0.029361561163987148,0.6399435184431522,-1.8633894015617534,-0.15400435668524395,0.6264413708591936,-0.6329021971365782,0.358736207272916,-0.7284128090386145,-0.26492527185638926,1.1696315706744203,0.34784394112845773,-1.6357683954704856,-2.2217094786651264,0.35909219044296037,-1.6103043352563573,0.5154940607552029,-1.0337034512745022,-0.5200214578592136,-0.5410133095509277,0.11565363484436865,-1.1689675937280577,-0.06743860667609816,0.8093101336485461,2.2759957457438387,1.630917558792805,-0.8679712037280137,-0.05101251089912307,-1.860017791349555,0.9246439226006556,0.7656419764489286,-1.0172384600075741,0.07302717803805786,0.358441466502234,0.37444771313545494,1.1880055833311223,1.0923860205997888,0.7037031652652141,-1.417668561379097,2.8345850950566707,1.029274652519448,0.39385699755084097,-1.0040261687326846,-0.23643129269215768,1.678181820866815,-0.6972407986458042,0.3009890287331359,0.4574685093787016,0.3937636188502432,-1.2005561380897674,0.8234987906280484,0.6519985416617249,1.4010954582169186,0.9000817296184049,0.9056196239785779,-0.1925110523641491,-0.2397258822912278,1.524354050219484,0.7111398702461121,-0.590158347508297,-0.22651938157426366,-0.3590382922775907,-1.1433500094981577,0.13947063075046293,1.1870112738414629,0.315517739666811,-0.20814383151220558,0.7927519220506773,-0.29663485225690894,0.33126294483647645,0.5201888558820525,1.3281684355453012,1.2160740263768117,-0.5964855723830482,0.9560523724277572,0.3961241033062341,0.6977353087784073,2.043350934958954,0.2122349045877803,0.9063572709159615,-0.191869442749806,-1.0131325421167754,-0.2643773463361861,0.38858293445015457],\"xaxis\":\"x16\",\"yaxis\":\"y16\",\"type\":\"histogram\"}],                        {\"bargap\":0.02,\"legend\":{\"bgcolor\":\"#F5F6F9\",\"font\":{\"color\":\"#4D5663\"}},\"paper_bgcolor\":\"#F5F6F9\",\"plot_bgcolor\":\"#F5F6F9\",\"showlegend\":false,\"template\":{\"data\":{\"barpolar\":[{\"marker\":{\"line\":{\"color\":\"#E5ECF6\",\"width\":0.5},\"pattern\":{\"fillmode\":\"overlay\",\"size\":10,\"solidity\":0.2}},\"type\":\"barpolar\"}],\"bar\":[{\"error_x\":{\"color\":\"#2a3f5f\"},\"error_y\":{\"color\":\"#2a3f5f\"},\"marker\":{\"line\":{\"color\":\"#E5ECF6\",\"width\":0.5},\"pattern\":{\"fillmode\":\"overlay\",\"size\":10,\"solidity\":0.2}},\"type\":\"bar\"}],\"carpet\":[{\"aaxis\":{\"endlinecolor\":\"#2a3f5f\",\"gridcolor\":\"white\",\"linecolor\":\"white\",\"minorgridcolor\":\"white\",\"startlinecolor\":\"#2a3f5f\"},\"baxis\":{\"endlinecolor\":\"#2a3f5f\",\"gridcolor\":\"white\",\"linecolor\":\"white\",\"minorgridcolor\":\"white\",\"startlinecolor\":\"#2a3f5f\"},\"type\":\"carpet\"}],\"choropleth\":[{\"colorbar\":{\"outlinewidth\":0,\"ticks\":\"\"},\"type\":\"choropleth\"}],\"contourcarpet\":[{\"colorbar\":{\"outlinewidth\":0,\"ticks\":\"\"},\"type\":\"contourcarpet\"}],\"contour\":[{\"colorbar\":{\"outlinewidth\":0,\"ticks\":\"\"},\"colorscale\":[[0.0,\"#0d0887\"],[0.1111111111111111,\"#46039f\"],[0.2222222222222222,\"#7201a8\"],[0.3333333333333333,\"#9c179e\"],[0.4444444444444444,\"#bd3786\"],[0.5555555555555556,\"#d8576b\"],[0.6666666666666666,\"#ed7953\"],[0.7777777777777778,\"#fb9f3a\"],[0.8888888888888888,\"#fdca26\"],[1.0,\"#f0f921\"]],\"type\":\"contour\"}],\"heatmapgl\":[{\"colorbar\":{\"outlinewidth\":0,\"ticks\":\"\"},\"colorscale\":[[0.0,\"#0d0887\"],[0.1111111111111111,\"#46039f\"],[0.2222222222222222,\"#7201a8\"],[0.3333333333333333,\"#9c179e\"],[0.4444444444444444,\"#bd3786\"],[0.5555555555555556,\"#d8576b\"],[0.6666666666666666,\"#ed7953\"],[0.7777777777777778,\"#fb9f3a\"],[0.8888888888888888,\"#fdca26\"],[1.0,\"#f0f921\"]],\"type\":\"heatmapgl\"}],\"heatmap\":[{\"colorbar\":{\"outlinewidth\":0,\"ticks\":\"\"},\"colorscale\":[[0.0,\"#0d0887\"],[0.1111111111111111,\"#46039f\"],[0.2222222222222222,\"#7201a8\"],[0.3333333333333333,\"#9c179e\"],[0.4444444444444444,\"#bd3786\"],[0.5555555555555556,\"#d8576b\"],[0.6666666666666666,\"#ed7953\"],[0.7777777777777778,\"#fb9f3a\"],[0.8888888888888888,\"#fdca26\"],[1.0,\"#f0f921\"]],\"type\":\"heatmap\"}],\"histogram2dcontour\":[{\"colorbar\":{\"outlinewidth\":0,\"ticks\":\"\"},\"colorscale\":[[0.0,\"#0d0887\"],[0.1111111111111111,\"#46039f\"],[0.2222222222222222,\"#7201a8\"],[0.3333333333333333,\"#9c179e\"],[0.4444444444444444,\"#bd3786\"],[0.5555555555555556,\"#d8576b\"],[0.6666666666666666,\"#ed7953\"],[0.7777777777777778,\"#fb9f3a\"],[0.8888888888888888,\"#fdca26\"],[1.0,\"#f0f921\"]],\"type\":\"histogram2dcontour\"}],\"histogram2d\":[{\"colorbar\":{\"outlinewidth\":0,\"ticks\":\"\"},\"colorscale\":[[0.0,\"#0d0887\"],[0.1111111111111111,\"#46039f\"],[0.2222222222222222,\"#7201a8\"],[0.3333333333333333,\"#9c179e\"],[0.4444444444444444,\"#bd3786\"],[0.5555555555555556,\"#d8576b\"],[0.6666666666666666,\"#ed7953\"],[0.7777777777777778,\"#fb9f3a\"],[0.8888888888888888,\"#fdca26\"],[1.0,\"#f0f921\"]],\"type\":\"histogram2d\"}],\"histogram\":[{\"marker\":{\"pattern\":{\"fillmode\":\"overlay\",\"size\":10,\"solidity\":0.2}},\"type\":\"histogram\"}],\"mesh3d\":[{\"colorbar\":{\"outlinewidth\":0,\"ticks\":\"\"},\"type\":\"mesh3d\"}],\"parcoords\":[{\"line\":{\"colorbar\":{\"outlinewidth\":0,\"ticks\":\"\"}},\"type\":\"parcoords\"}],\"pie\":[{\"automargin\":true,\"type\":\"pie\"}],\"scatter3d\":[{\"line\":{\"colorbar\":{\"outlinewidth\":0,\"ticks\":\"\"}},\"marker\":{\"colorbar\":{\"outlinewidth\":0,\"ticks\":\"\"}},\"type\":\"scatter3d\"}],\"scattercarpet\":[{\"marker\":{\"colorbar\":{\"outlinewidth\":0,\"ticks\":\"\"}},\"type\":\"scattercarpet\"}],\"scattergeo\":[{\"marker\":{\"colorbar\":{\"outlinewidth\":0,\"ticks\":\"\"}},\"type\":\"scattergeo\"}],\"scattergl\":[{\"marker\":{\"colorbar\":{\"outlinewidth\":0,\"ticks\":\"\"}},\"type\":\"scattergl\"}],\"scattermapbox\":[{\"marker\":{\"colorbar\":{\"outlinewidth\":0,\"ticks\":\"\"}},\"type\":\"scattermapbox\"}],\"scatterpolargl\":[{\"marker\":{\"colorbar\":{\"outlinewidth\":0,\"ticks\":\"\"}},\"type\":\"scatterpolargl\"}],\"scatterpolar\":[{\"marker\":{\"colorbar\":{\"outlinewidth\":0,\"ticks\":\"\"}},\"type\":\"scatterpolar\"}],\"scatter\":[{\"fillpattern\":{\"fillmode\":\"overlay\",\"size\":10,\"solidity\":0.2},\"type\":\"scatter\"}],\"scatterternary\":[{\"marker\":{\"colorbar\":{\"outlinewidth\":0,\"ticks\":\"\"}},\"type\":\"scatterternary\"}],\"surface\":[{\"colorbar\":{\"outlinewidth\":0,\"ticks\":\"\"},\"colorscale\":[[0.0,\"#0d0887\"],[0.1111111111111111,\"#46039f\"],[0.2222222222222222,\"#7201a8\"],[0.3333333333333333,\"#9c179e\"],[0.4444444444444444,\"#bd3786\"],[0.5555555555555556,\"#d8576b\"],[0.6666666666666666,\"#ed7953\"],[0.7777777777777778,\"#fb9f3a\"],[0.8888888888888888,\"#fdca26\"],[1.0,\"#f0f921\"]],\"type\":\"surface\"}],\"table\":[{\"cells\":{\"fill\":{\"color\":\"#EBF0F8\"},\"line\":{\"color\":\"white\"}},\"header\":{\"fill\":{\"color\":\"#C8D4E3\"},\"line\":{\"color\":\"white\"}},\"type\":\"table\"}]},\"layout\":{\"annotationdefaults\":{\"arrowcolor\":\"#2a3f5f\",\"arrowhead\":0,\"arrowwidth\":1},\"autotypenumbers\":\"strict\",\"coloraxis\":{\"colorbar\":{\"outlinewidth\":0,\"ticks\":\"\"}},\"colorscale\":{\"diverging\":[[0,\"#8e0152\"],[0.1,\"#c51b7d\"],[0.2,\"#de77ae\"],[0.3,\"#f1b6da\"],[0.4,\"#fde0ef\"],[0.5,\"#f7f7f7\"],[0.6,\"#e6f5d0\"],[0.7,\"#b8e186\"],[0.8,\"#7fbc41\"],[0.9,\"#4d9221\"],[1,\"#276419\"]],\"sequential\":[[0.0,\"#0d0887\"],[0.1111111111111111,\"#46039f\"],[0.2222222222222222,\"#7201a8\"],[0.3333333333333333,\"#9c179e\"],[0.4444444444444444,\"#bd3786\"],[0.5555555555555556,\"#d8576b\"],[0.6666666666666666,\"#ed7953\"],[0.7777777777777778,\"#fb9f3a\"],[0.8888888888888888,\"#fdca26\"],[1.0,\"#f0f921\"]],\"sequentialminus\":[[0.0,\"#0d0887\"],[0.1111111111111111,\"#46039f\"],[0.2222222222222222,\"#7201a8\"],[0.3333333333333333,\"#9c179e\"],[0.4444444444444444,\"#bd3786\"],[0.5555555555555556,\"#d8576b\"],[0.6666666666666666,\"#ed7953\"],[0.7777777777777778,\"#fb9f3a\"],[0.8888888888888888,\"#fdca26\"],[1.0,\"#f0f921\"]]},\"colorway\":[\"#636efa\",\"#EF553B\",\"#00cc96\",\"#ab63fa\",\"#FFA15A\",\"#19d3f3\",\"#FF6692\",\"#B6E880\",\"#FF97FF\",\"#FECB52\"],\"font\":{\"color\":\"#2a3f5f\"},\"geo\":{\"bgcolor\":\"white\",\"lakecolor\":\"white\",\"landcolor\":\"#E5ECF6\",\"showlakes\":true,\"showland\":true,\"subunitcolor\":\"white\"},\"hoverlabel\":{\"align\":\"left\"},\"hovermode\":\"closest\",\"mapbox\":{\"style\":\"light\"},\"paper_bgcolor\":\"white\",\"plot_bgcolor\":\"#E5ECF6\",\"polar\":{\"angularaxis\":{\"gridcolor\":\"white\",\"linecolor\":\"white\",\"ticks\":\"\"},\"bgcolor\":\"#E5ECF6\",\"radialaxis\":{\"gridcolor\":\"white\",\"linecolor\":\"white\",\"ticks\":\"\"}},\"scene\":{\"xaxis\":{\"backgroundcolor\":\"#E5ECF6\",\"gridcolor\":\"white\",\"gridwidth\":2,\"linecolor\":\"white\",\"showbackground\":true,\"ticks\":\"\",\"zerolinecolor\":\"white\"},\"yaxis\":{\"backgroundcolor\":\"#E5ECF6\",\"gridcolor\":\"white\",\"gridwidth\":2,\"linecolor\":\"white\",\"showbackground\":true,\"ticks\":\"\",\"zerolinecolor\":\"white\"},\"zaxis\":{\"backgroundcolor\":\"#E5ECF6\",\"gridcolor\":\"white\",\"gridwidth\":2,\"linecolor\":\"white\",\"showbackground\":true,\"ticks\":\"\",\"zerolinecolor\":\"white\"}},\"shapedefaults\":{\"line\":{\"color\":\"#2a3f5f\"}},\"ternary\":{\"aaxis\":{\"gridcolor\":\"white\",\"linecolor\":\"white\",\"ticks\":\"\"},\"baxis\":{\"gridcolor\":\"white\",\"linecolor\":\"white\",\"ticks\":\"\"},\"bgcolor\":\"#E5ECF6\",\"caxis\":{\"gridcolor\":\"white\",\"linecolor\":\"white\",\"ticks\":\"\"}},\"title\":{\"x\":0.05},\"xaxis\":{\"automargin\":true,\"gridcolor\":\"white\",\"linecolor\":\"white\",\"ticks\":\"\",\"title\":{\"standoff\":15},\"zerolinecolor\":\"white\",\"zerolinewidth\":2},\"yaxis\":{\"automargin\":true,\"gridcolor\":\"white\",\"linecolor\":\"white\",\"ticks\":\"\",\"title\":{\"standoff\":15},\"zerolinecolor\":\"white\",\"zerolinewidth\":2}}},\"title\":{\"font\":{\"color\":\"#4D5663\"}},\"xaxis\":{\"anchor\":\"y\",\"domain\":[0.0,0.2125],\"gridcolor\":\"#E1E5ED\",\"showgrid\":false,\"tickfont\":{\"color\":\"#4D5663\"},\"title\":{\"font\":{\"color\":\"#4D5663\"},\"text\":\"\"},\"zerolinecolor\":\"#E1E5ED\"},\"yaxis\":{\"anchor\":\"x\",\"domain\":[0.8025,1.0],\"gridcolor\":\"#E1E5ED\",\"showgrid\":false,\"tickfont\":{\"color\":\"#4D5663\"},\"title\":{\"font\":{\"color\":\"#4D5663\"},\"text\":\"\"},\"zerolinecolor\":\"#E1E5ED\"},\"xaxis2\":{\"anchor\":\"y2\",\"domain\":[0.2625,0.475],\"gridcolor\":\"#E1E5ED\",\"showgrid\":false,\"tickfont\":{\"color\":\"#4D5663\"},\"title\":{\"font\":{\"color\":\"#4D5663\"},\"text\":\"\"},\"zerolinecolor\":\"#E1E5ED\"},\"yaxis2\":{\"anchor\":\"x2\",\"domain\":[0.8025,1.0],\"gridcolor\":\"#E1E5ED\",\"showgrid\":false,\"tickfont\":{\"color\":\"#4D5663\"},\"title\":{\"font\":{\"color\":\"#4D5663\"},\"text\":\"\"},\"zerolinecolor\":\"#E1E5ED\"},\"xaxis3\":{\"anchor\":\"y3\",\"domain\":[0.525,0.7375],\"gridcolor\":\"#E1E5ED\",\"showgrid\":false,\"tickfont\":{\"color\":\"#4D5663\"},\"title\":{\"font\":{\"color\":\"#4D5663\"},\"text\":\"\"},\"zerolinecolor\":\"#E1E5ED\"},\"yaxis3\":{\"anchor\":\"x3\",\"domain\":[0.8025,1.0],\"gridcolor\":\"#E1E5ED\",\"showgrid\":false,\"tickfont\":{\"color\":\"#4D5663\"},\"title\":{\"font\":{\"color\":\"#4D5663\"},\"text\":\"\"},\"zerolinecolor\":\"#E1E5ED\"},\"xaxis4\":{\"anchor\":\"y4\",\"domain\":[0.7875,1.0],\"gridcolor\":\"#E1E5ED\",\"showgrid\":false,\"tickfont\":{\"color\":\"#4D5663\"},\"title\":{\"font\":{\"color\":\"#4D5663\"},\"text\":\"\"},\"zerolinecolor\":\"#E1E5ED\"},\"yaxis4\":{\"anchor\":\"x4\",\"domain\":[0.8025,1.0],\"gridcolor\":\"#E1E5ED\",\"showgrid\":false,\"tickfont\":{\"color\":\"#4D5663\"},\"title\":{\"font\":{\"color\":\"#4D5663\"},\"text\":\"\"},\"zerolinecolor\":\"#E1E5ED\"},\"xaxis5\":{\"anchor\":\"y5\",\"domain\":[0.0,0.2125],\"gridcolor\":\"#E1E5ED\",\"showgrid\":false,\"tickfont\":{\"color\":\"#4D5663\"},\"title\":{\"font\":{\"color\":\"#4D5663\"},\"text\":\"\"},\"zerolinecolor\":\"#E1E5ED\"},\"yaxis5\":{\"anchor\":\"x5\",\"domain\":[0.535,0.7325],\"gridcolor\":\"#E1E5ED\",\"showgrid\":false,\"tickfont\":{\"color\":\"#4D5663\"},\"title\":{\"font\":{\"color\":\"#4D5663\"},\"text\":\"\"},\"zerolinecolor\":\"#E1E5ED\"},\"xaxis6\":{\"anchor\":\"y6\",\"domain\":[0.2625,0.475],\"gridcolor\":\"#E1E5ED\",\"showgrid\":false,\"tickfont\":{\"color\":\"#4D5663\"},\"title\":{\"font\":{\"color\":\"#4D5663\"},\"text\":\"\"},\"zerolinecolor\":\"#E1E5ED\"},\"yaxis6\":{\"anchor\":\"x6\",\"domain\":[0.535,0.7325],\"gridcolor\":\"#E1E5ED\",\"showgrid\":false,\"tickfont\":{\"color\":\"#4D5663\"},\"title\":{\"font\":{\"color\":\"#4D5663\"},\"text\":\"\"},\"zerolinecolor\":\"#E1E5ED\"},\"xaxis7\":{\"anchor\":\"y7\",\"domain\":[0.525,0.7375],\"gridcolor\":\"#E1E5ED\",\"showgrid\":false,\"tickfont\":{\"color\":\"#4D5663\"},\"title\":{\"font\":{\"color\":\"#4D5663\"},\"text\":\"\"},\"zerolinecolor\":\"#E1E5ED\"},\"yaxis7\":{\"anchor\":\"x7\",\"domain\":[0.535,0.7325],\"gridcolor\":\"#E1E5ED\",\"showgrid\":false,\"tickfont\":{\"color\":\"#4D5663\"},\"title\":{\"font\":{\"color\":\"#4D5663\"},\"text\":\"\"},\"zerolinecolor\":\"#E1E5ED\"},\"xaxis8\":{\"anchor\":\"y8\",\"domain\":[0.7875,1.0],\"gridcolor\":\"#E1E5ED\",\"showgrid\":false,\"tickfont\":{\"color\":\"#4D5663\"},\"title\":{\"font\":{\"color\":\"#4D5663\"},\"text\":\"\"},\"zerolinecolor\":\"#E1E5ED\"},\"yaxis8\":{\"anchor\":\"x8\",\"domain\":[0.535,0.7325],\"gridcolor\":\"#E1E5ED\",\"showgrid\":false,\"tickfont\":{\"color\":\"#4D5663\"},\"title\":{\"font\":{\"color\":\"#4D5663\"},\"text\":\"\"},\"zerolinecolor\":\"#E1E5ED\"},\"xaxis9\":{\"anchor\":\"y9\",\"domain\":[0.0,0.2125],\"gridcolor\":\"#E1E5ED\",\"showgrid\":false,\"tickfont\":{\"color\":\"#4D5663\"},\"title\":{\"font\":{\"color\":\"#4D5663\"},\"text\":\"\"},\"zerolinecolor\":\"#E1E5ED\"},\"yaxis9\":{\"anchor\":\"x9\",\"domain\":[0.2675,0.465],\"gridcolor\":\"#E1E5ED\",\"showgrid\":false,\"tickfont\":{\"color\":\"#4D5663\"},\"title\":{\"font\":{\"color\":\"#4D5663\"},\"text\":\"\"},\"zerolinecolor\":\"#E1E5ED\"},\"xaxis10\":{\"anchor\":\"y10\",\"domain\":[0.2625,0.475],\"gridcolor\":\"#E1E5ED\",\"showgrid\":false,\"tickfont\":{\"color\":\"#4D5663\"},\"title\":{\"font\":{\"color\":\"#4D5663\"},\"text\":\"\"},\"zerolinecolor\":\"#E1E5ED\"},\"yaxis10\":{\"anchor\":\"x10\",\"domain\":[0.2675,0.465],\"gridcolor\":\"#E1E5ED\",\"showgrid\":false,\"tickfont\":{\"color\":\"#4D5663\"},\"title\":{\"font\":{\"color\":\"#4D5663\"},\"text\":\"\"},\"zerolinecolor\":\"#E1E5ED\"},\"xaxis11\":{\"anchor\":\"y11\",\"domain\":[0.525,0.7375],\"gridcolor\":\"#E1E5ED\",\"showgrid\":false,\"tickfont\":{\"color\":\"#4D5663\"},\"title\":{\"font\":{\"color\":\"#4D5663\"},\"text\":\"\"},\"zerolinecolor\":\"#E1E5ED\"},\"yaxis11\":{\"anchor\":\"x11\",\"domain\":[0.2675,0.465],\"gridcolor\":\"#E1E5ED\",\"showgrid\":false,\"tickfont\":{\"color\":\"#4D5663\"},\"title\":{\"font\":{\"color\":\"#4D5663\"},\"text\":\"\"},\"zerolinecolor\":\"#E1E5ED\"},\"xaxis12\":{\"anchor\":\"y12\",\"domain\":[0.7875,1.0],\"gridcolor\":\"#E1E5ED\",\"showgrid\":false,\"tickfont\":{\"color\":\"#4D5663\"},\"title\":{\"font\":{\"color\":\"#4D5663\"},\"text\":\"\"},\"zerolinecolor\":\"#E1E5ED\"},\"yaxis12\":{\"anchor\":\"x12\",\"domain\":[0.2675,0.465],\"gridcolor\":\"#E1E5ED\",\"showgrid\":false,\"tickfont\":{\"color\":\"#4D5663\"},\"title\":{\"font\":{\"color\":\"#4D5663\"},\"text\":\"\"},\"zerolinecolor\":\"#E1E5ED\"},\"xaxis13\":{\"anchor\":\"y13\",\"domain\":[0.0,0.2125],\"gridcolor\":\"#E1E5ED\",\"showgrid\":false,\"tickfont\":{\"color\":\"#4D5663\"},\"title\":{\"font\":{\"color\":\"#4D5663\"},\"text\":\"\"},\"zerolinecolor\":\"#E1E5ED\"},\"yaxis13\":{\"anchor\":\"x13\",\"domain\":[0.0,0.1975],\"gridcolor\":\"#E1E5ED\",\"showgrid\":false,\"tickfont\":{\"color\":\"#4D5663\"},\"title\":{\"font\":{\"color\":\"#4D5663\"},\"text\":\"\"},\"zerolinecolor\":\"#E1E5ED\"},\"xaxis14\":{\"anchor\":\"y14\",\"domain\":[0.2625,0.475],\"gridcolor\":\"#E1E5ED\",\"showgrid\":false,\"tickfont\":{\"color\":\"#4D5663\"},\"title\":{\"font\":{\"color\":\"#4D5663\"},\"text\":\"\"},\"zerolinecolor\":\"#E1E5ED\"},\"yaxis14\":{\"anchor\":\"x14\",\"domain\":[0.0,0.1975],\"gridcolor\":\"#E1E5ED\",\"showgrid\":false,\"tickfont\":{\"color\":\"#4D5663\"},\"title\":{\"font\":{\"color\":\"#4D5663\"},\"text\":\"\"},\"zerolinecolor\":\"#E1E5ED\"},\"xaxis15\":{\"anchor\":\"y15\",\"domain\":[0.525,0.7375],\"gridcolor\":\"#E1E5ED\",\"showgrid\":false,\"tickfont\":{\"color\":\"#4D5663\"},\"title\":{\"font\":{\"color\":\"#4D5663\"},\"text\":\"\"},\"zerolinecolor\":\"#E1E5ED\"},\"yaxis15\":{\"anchor\":\"x15\",\"domain\":[0.0,0.1975],\"gridcolor\":\"#E1E5ED\",\"showgrid\":false,\"tickfont\":{\"color\":\"#4D5663\"},\"title\":{\"font\":{\"color\":\"#4D5663\"},\"text\":\"\"},\"zerolinecolor\":\"#E1E5ED\"},\"xaxis16\":{\"anchor\":\"y16\",\"domain\":[0.7875,1.0],\"gridcolor\":\"#E1E5ED\",\"showgrid\":false,\"tickfont\":{\"color\":\"#4D5663\"},\"title\":{\"font\":{\"color\":\"#4D5663\"},\"text\":\"\"},\"zerolinecolor\":\"#E1E5ED\"},\"yaxis16\":{\"anchor\":\"x16\",\"domain\":[0.0,0.1975],\"gridcolor\":\"#E1E5ED\",\"showgrid\":false,\"tickfont\":{\"color\":\"#4D5663\"},\"title\":{\"font\":{\"color\":\"#4D5663\"},\"text\":\"\"},\"zerolinecolor\":\"#E1E5ED\"}},                        {\"showLink\": true, \"linkText\": \"Export to plot.ly\", \"plotlyServerURL\": \"https://plot.ly\", \"responsive\": true}                    ).then(function(){\n",
       "                            \n",
       "var gd = document.getElementById('a74d03da-ff28-4681-ab3a-40949953cb6c');\n",
       "var x = new MutationObserver(function (mutations, observer) {{\n",
       "        var display = window.getComputedStyle(gd).display;\n",
       "        if (!display || display === 'none') {{\n",
       "            console.log([gd, 'removed!']);\n",
       "            Plotly.purge(gd);\n",
       "            observer.disconnect();\n",
       "        }}\n",
       "}});\n",
       "\n",
       "// Listen for the removal of the full notebook cells\n",
       "var notebookContainer = gd.closest('#notebook-container');\n",
       "if (notebookContainer) {{\n",
       "    x.observe(notebookContainer, {childList: true});\n",
       "}}\n",
       "\n",
       "// Listen for the clearing of the current output cell\n",
       "var outputEl = gd.closest('.output');\n",
       "if (outputEl) {{\n",
       "    x.observe(outputEl, {childList: true});\n",
       "}}\n",
       "\n",
       "                        })                };                });            </script>        </div>"
      ]
     },
     "metadata": {},
     "output_type": "display_data"
    }
   ],
   "source": [
    "df.scatter_matrix()"
   ]
  }
 ],
 "metadata": {
  "kernelspec": {
   "display_name": "Python 3",
   "language": "python",
   "name": "python3"
  },
  "language_info": {
   "codemirror_mode": {
    "name": "ipython",
    "version": 3
   },
   "file_extension": ".py",
   "mimetype": "text/x-python",
   "name": "python",
   "nbconvert_exporter": "python",
   "pygments_lexer": "ipython3",
   "version": "3.9.0"
  },
  "vscode": {
   "interpreter": {
    "hash": "e7420c16fed80ca44bc7227413fb390036ba73eba4a8216c7e659bd6f2f9b1f1"
   }
  }
 },
 "nbformat": 4,
 "nbformat_minor": 1
}
